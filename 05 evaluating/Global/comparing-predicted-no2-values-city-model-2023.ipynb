{
 "cells": [
  {
   "cell_type": "code",
   "execution_count": 1,
   "id": "c0f37328",
   "metadata": {
    "_cell_guid": "b1076dfc-b9ad-4769-8c92-a6c4dae69d19",
    "_uuid": "8f2839f25d086af736a60e9eeb907d3b93b6e0e5",
    "execution": {
     "iopub.execute_input": "2023-01-28T14:50:06.694718Z",
     "iopub.status.busy": "2023-01-28T14:50:06.694246Z",
     "iopub.status.idle": "2023-01-28T14:50:06.724810Z",
     "shell.execute_reply": "2023-01-28T14:50:06.724046Z"
    },
    "papermill": {
     "duration": 0.039287,
     "end_time": "2023-01-28T14:50:06.726913",
     "exception": false,
     "start_time": "2023-01-28T14:50:06.687626",
     "status": "completed"
    },
    "tags": []
   },
   "outputs": [
    {
     "name": "stdout",
     "output_type": "stream",
     "text": [
      "/kaggle/input/predicting-no2-all-models-amsterdam/Predicting NO2-AllModelsAmsterdam100_xy.csv\n",
      "/kaggle/input/predictedno2bayreuth-2023/PredictedNO2_BayreuthSquare.csv\n",
      "/kaggle/input/predictedno2utrecht-2023/PredictedNO2_UtrechtSquare.csv\n",
      "/kaggle/input/predictedno2hamburg-2023/PredictedNO2_HamburgSquare.csv\n"
     ]
    }
   ],
   "source": [
    "# This Python 3 environment comes with many helpful analytics libraries installed\n",
    "# It is defined by the kaggle/python Docker image: https://github.com/kaggle/docker-python\n",
    "# For example, here's several helpful packages to load\n",
    "\n",
    "import numpy as np # linear algebra\n",
    "import pandas as pd # data processing, CSV file I/O (e.g. pd.read_csv)\n",
    "\n",
    "# Input data files are available in the read-only \"../input/\" directory\n",
    "# For example, running this (by clicking run or pressing Shift+Enter) will list all files under the input directory\n",
    "\n",
    "import os\n",
    "for dirname, _, filenames in os.walk('/kaggle/input'):\n",
    "    for filename in filenames:\n",
    "        print(os.path.join(dirname, filename))\n",
    "\n",
    "# You can write up to 20GB to the current directory (/kaggle/working/) that gets preserved as output when you create a version using \"Save & Run All\" \n",
    "# You can also write temporary files to /kaggle/temp/, but they won't be saved outside of the current session"
   ]
  },
  {
   "cell_type": "code",
   "execution_count": 2,
   "id": "cd5cf9de",
   "metadata": {
    "execution": {
     "iopub.execute_input": "2023-01-28T14:50:06.737835Z",
     "iopub.status.busy": "2023-01-28T14:50:06.736684Z",
     "iopub.status.idle": "2023-01-28T14:50:07.556370Z",
     "shell.execute_reply": "2023-01-28T14:50:07.555282Z"
    },
    "papermill": {
     "duration": 0.827695,
     "end_time": "2023-01-28T14:50:07.558996",
     "exception": false,
     "start_time": "2023-01-28T14:50:06.731301",
     "status": "completed"
    },
    "tags": []
   },
   "outputs": [],
   "source": [
    "Amsterdam = pd.read_csv(r'../input/predicting-no2-all-models-amsterdam/Predicting NO2-AllModelsAmsterdam100_xy.csv', sep=',')\n",
    "Hamburg = pd.read_csv(r'/kaggle/input/predictedno2hamburg-2023/PredictedNO2_HamburgSquare.csv', sep = ';')\n",
    "Bayreuth = pd.read_csv(r'/kaggle/input/predictedno2bayreuth-2023/PredictedNO2_BayreuthSquare.csv', sep=';')\n",
    "Utrecht = pd.read_csv(r'/kaggle/input/predictedno2utrecht-2023/PredictedNO2_UtrechtSquare.csv', sep=';')"
   ]
  },
  {
   "cell_type": "code",
   "execution_count": 3,
   "id": "eb441472",
   "metadata": {
    "execution": {
     "iopub.execute_input": "2023-01-28T14:50:07.569077Z",
     "iopub.status.busy": "2023-01-28T14:50:07.568652Z",
     "iopub.status.idle": "2023-01-28T14:50:07.600902Z",
     "shell.execute_reply": "2023-01-28T14:50:07.599833Z"
    },
    "papermill": {
     "duration": 0.040791,
     "end_time": "2023-01-28T14:50:07.604059",
     "exception": false,
     "start_time": "2023-01-28T14:50:07.563268",
     "status": "completed"
    },
    "tags": []
   },
   "outputs": [
    {
     "data": {
      "text/html": [
       "<div>\n",
       "<style scoped>\n",
       "    .dataframe tbody tr th:only-of-type {\n",
       "        vertical-align: middle;\n",
       "    }\n",
       "\n",
       "    .dataframe tbody tr th {\n",
       "        vertical-align: top;\n",
       "    }\n",
       "\n",
       "    .dataframe thead th {\n",
       "        text-align: right;\n",
       "    }\n",
       "</style>\n",
       "<table border=\"1\" class=\"dataframe\">\n",
       "  <thead>\n",
       "    <tr style=\"text-align: right;\">\n",
       "      <th></th>\n",
       "      <th>Unnamed: 0</th>\n",
       "      <th>nightlight_450</th>\n",
       "      <th>nightlight_3150</th>\n",
       "      <th>population_1000</th>\n",
       "      <th>population_3000</th>\n",
       "      <th>road_class_2_25</th>\n",
       "      <th>road_class_3_3000</th>\n",
       "      <th>road_class_3_300</th>\n",
       "      <th>trop_mean_filt</th>\n",
       "      <th>BldDen100</th>\n",
       "      <th>NDVI</th>\n",
       "      <th>trafBuf25</th>\n",
       "      <th>trafBuf50</th>\n",
       "      <th>Longitude</th>\n",
       "      <th>Latitude</th>\n",
       "      <th>predicted_NO2_RF</th>\n",
       "      <th>predicted_NO2_LASSO</th>\n",
       "      <th>predicted_NO2_RIDGE</th>\n",
       "      <th>predicted_NO2_LightGBM</th>\n",
       "      <th>predicted_NO2_XGBoost</th>\n",
       "    </tr>\n",
       "  </thead>\n",
       "  <tbody>\n",
       "    <tr>\n",
       "      <th>0</th>\n",
       "      <td>0</td>\n",
       "      <td>35.940372</td>\n",
       "      <td>22.422291</td>\n",
       "      <td>3617.017578</td>\n",
       "      <td>12366.87500</td>\n",
       "      <td>0.0</td>\n",
       "      <td>68492.17969</td>\n",
       "      <td>2938.124756</td>\n",
       "      <td>0.000078</td>\n",
       "      <td>0.469889</td>\n",
       "      <td>3526</td>\n",
       "      <td>0.0</td>\n",
       "      <td>0.0</td>\n",
       "      <td>4.623443</td>\n",
       "      <td>52.200544</td>\n",
       "      <td>20.242203</td>\n",
       "      <td>20.213005</td>\n",
       "      <td>21.428299</td>\n",
       "      <td>19.633580</td>\n",
       "      <td>18.117218</td>\n",
       "    </tr>\n",
       "    <tr>\n",
       "      <th>1</th>\n",
       "      <td>1</td>\n",
       "      <td>35.940372</td>\n",
       "      <td>22.422291</td>\n",
       "      <td>3617.017578</td>\n",
       "      <td>12366.87500</td>\n",
       "      <td>0.0</td>\n",
       "      <td>68074.17969</td>\n",
       "      <td>3049.754639</td>\n",
       "      <td>0.000078</td>\n",
       "      <td>0.678183</td>\n",
       "      <td>3526</td>\n",
       "      <td>0.0</td>\n",
       "      <td>0.0</td>\n",
       "      <td>4.624902</td>\n",
       "      <td>52.200598</td>\n",
       "      <td>20.251307</td>\n",
       "      <td>20.666314</td>\n",
       "      <td>22.162748</td>\n",
       "      <td>19.809809</td>\n",
       "      <td>18.043394</td>\n",
       "    </tr>\n",
       "    <tr>\n",
       "      <th>2</th>\n",
       "      <td>2</td>\n",
       "      <td>35.940372</td>\n",
       "      <td>22.422291</td>\n",
       "      <td>3661.374756</td>\n",
       "      <td>12369.04102</td>\n",
       "      <td>0.0</td>\n",
       "      <td>68264.24219</td>\n",
       "      <td>3246.867920</td>\n",
       "      <td>0.000078</td>\n",
       "      <td>0.817256</td>\n",
       "      <td>3526</td>\n",
       "      <td>0.0</td>\n",
       "      <td>0.0</td>\n",
       "      <td>4.626361</td>\n",
       "      <td>52.200652</td>\n",
       "      <td>20.307211</td>\n",
       "      <td>21.114060</td>\n",
       "      <td>22.754499</td>\n",
       "      <td>20.789909</td>\n",
       "      <td>19.293121</td>\n",
       "    </tr>\n",
       "    <tr>\n",
       "      <th>3</th>\n",
       "      <td>3</td>\n",
       "      <td>35.940372</td>\n",
       "      <td>22.422291</td>\n",
       "      <td>3671.354492</td>\n",
       "      <td>12369.52832</td>\n",
       "      <td>0.0</td>\n",
       "      <td>69195.90625</td>\n",
       "      <td>3974.607422</td>\n",
       "      <td>0.000078</td>\n",
       "      <td>0.817167</td>\n",
       "      <td>3526</td>\n",
       "      <td>0.0</td>\n",
       "      <td>0.0</td>\n",
       "      <td>4.627820</td>\n",
       "      <td>52.200707</td>\n",
       "      <td>20.522166</td>\n",
       "      <td>21.986886</td>\n",
       "      <td>23.299931</td>\n",
       "      <td>22.195651</td>\n",
       "      <td>18.969490</td>\n",
       "    </tr>\n",
       "    <tr>\n",
       "      <th>4</th>\n",
       "      <td>4</td>\n",
       "      <td>19.918125</td>\n",
       "      <td>22.502562</td>\n",
       "      <td>3671.354492</td>\n",
       "      <td>12369.52832</td>\n",
       "      <td>0.0</td>\n",
       "      <td>70203.03125</td>\n",
       "      <td>4186.303223</td>\n",
       "      <td>0.000078</td>\n",
       "      <td>0.806396</td>\n",
       "      <td>3519</td>\n",
       "      <td>0.0</td>\n",
       "      <td>0.0</td>\n",
       "      <td>4.629279</td>\n",
       "      <td>52.200761</td>\n",
       "      <td>20.437377</td>\n",
       "      <td>21.205409</td>\n",
       "      <td>22.406520</td>\n",
       "      <td>22.844288</td>\n",
       "      <td>19.061409</td>\n",
       "    </tr>\n",
       "  </tbody>\n",
       "</table>\n",
       "</div>"
      ],
      "text/plain": [
       "   Unnamed: 0  nightlight_450  nightlight_3150  population_1000  \\\n",
       "0           0       35.940372        22.422291      3617.017578   \n",
       "1           1       35.940372        22.422291      3617.017578   \n",
       "2           2       35.940372        22.422291      3661.374756   \n",
       "3           3       35.940372        22.422291      3671.354492   \n",
       "4           4       19.918125        22.502562      3671.354492   \n",
       "\n",
       "   population_3000  road_class_2_25  road_class_3_3000  road_class_3_300  \\\n",
       "0      12366.87500              0.0        68492.17969       2938.124756   \n",
       "1      12366.87500              0.0        68074.17969       3049.754639   \n",
       "2      12369.04102              0.0        68264.24219       3246.867920   \n",
       "3      12369.52832              0.0        69195.90625       3974.607422   \n",
       "4      12369.52832              0.0        70203.03125       4186.303223   \n",
       "\n",
       "   trop_mean_filt  BldDen100  NDVI  trafBuf25  trafBuf50  Longitude  \\\n",
       "0        0.000078   0.469889  3526        0.0        0.0   4.623443   \n",
       "1        0.000078   0.678183  3526        0.0        0.0   4.624902   \n",
       "2        0.000078   0.817256  3526        0.0        0.0   4.626361   \n",
       "3        0.000078   0.817167  3526        0.0        0.0   4.627820   \n",
       "4        0.000078   0.806396  3519        0.0        0.0   4.629279   \n",
       "\n",
       "    Latitude  predicted_NO2_RF  predicted_NO2_LASSO  predicted_NO2_RIDGE  \\\n",
       "0  52.200544         20.242203            20.213005            21.428299   \n",
       "1  52.200598         20.251307            20.666314            22.162748   \n",
       "2  52.200652         20.307211            21.114060            22.754499   \n",
       "3  52.200707         20.522166            21.986886            23.299931   \n",
       "4  52.200761         20.437377            21.205409            22.406520   \n",
       "\n",
       "   predicted_NO2_LightGBM  predicted_NO2_XGBoost  \n",
       "0               19.633580              18.117218  \n",
       "1               19.809809              18.043394  \n",
       "2               20.789909              19.293121  \n",
       "3               22.195651              18.969490  \n",
       "4               22.844288              19.061409  "
      ]
     },
     "execution_count": 3,
     "metadata": {},
     "output_type": "execute_result"
    }
   ],
   "source": [
    "Amsterdam.head()"
   ]
  },
  {
   "cell_type": "code",
   "execution_count": 4,
   "id": "f135b556",
   "metadata": {
    "execution": {
     "iopub.execute_input": "2023-01-28T14:50:07.615156Z",
     "iopub.status.busy": "2023-01-28T14:50:07.614753Z",
     "iopub.status.idle": "2023-01-28T14:50:07.626494Z",
     "shell.execute_reply": "2023-01-28T14:50:07.625015Z"
    },
    "papermill": {
     "duration": 0.019278,
     "end_time": "2023-01-28T14:50:07.628545",
     "exception": false,
     "start_time": "2023-01-28T14:50:07.609267",
     "status": "completed"
    },
    "tags": []
   },
   "outputs": [
    {
     "data": {
      "text/html": [
       "<div>\n",
       "<style scoped>\n",
       "    .dataframe tbody tr th:only-of-type {\n",
       "        vertical-align: middle;\n",
       "    }\n",
       "\n",
       "    .dataframe tbody tr th {\n",
       "        vertical-align: top;\n",
       "    }\n",
       "\n",
       "    .dataframe thead th {\n",
       "        text-align: right;\n",
       "    }\n",
       "</style>\n",
       "<table border=\"1\" class=\"dataframe\">\n",
       "  <thead>\n",
       "    <tr style=\"text-align: right;\">\n",
       "      <th></th>\n",
       "      <th>predicted_NO2_RF</th>\n",
       "      <th>predicted_NO2_LASSO</th>\n",
       "      <th>predicted_NO2_RIDGE</th>\n",
       "      <th>predicted_NO2_LightGBM</th>\n",
       "      <th>predicted_NO2_XGBoost</th>\n",
       "    </tr>\n",
       "  </thead>\n",
       "  <tbody>\n",
       "    <tr>\n",
       "      <th>0</th>\n",
       "      <td>10.753509</td>\n",
       "      <td>13.075421</td>\n",
       "      <td>11.810458</td>\n",
       "      <td>8.543606</td>\n",
       "      <td>8.359164</td>\n",
       "    </tr>\n",
       "    <tr>\n",
       "      <th>1</th>\n",
       "      <td>11.361687</td>\n",
       "      <td>14.725188</td>\n",
       "      <td>14.112172</td>\n",
       "      <td>9.986432</td>\n",
       "      <td>11.511805</td>\n",
       "    </tr>\n",
       "    <tr>\n",
       "      <th>2</th>\n",
       "      <td>12.722103</td>\n",
       "      <td>15.571753</td>\n",
       "      <td>15.069877</td>\n",
       "      <td>13.382312</td>\n",
       "      <td>13.742922</td>\n",
       "    </tr>\n",
       "    <tr>\n",
       "      <th>3</th>\n",
       "      <td>12.426766</td>\n",
       "      <td>15.523418</td>\n",
       "      <td>14.683643</td>\n",
       "      <td>13.442220</td>\n",
       "      <td>14.784616</td>\n",
       "    </tr>\n",
       "    <tr>\n",
       "      <th>4</th>\n",
       "      <td>11.767294</td>\n",
       "      <td>13.242730</td>\n",
       "      <td>12.248009</td>\n",
       "      <td>11.582613</td>\n",
       "      <td>13.170686</td>\n",
       "    </tr>\n",
       "  </tbody>\n",
       "</table>\n",
       "</div>"
      ],
      "text/plain": [
       "   predicted_NO2_RF  predicted_NO2_LASSO  predicted_NO2_RIDGE  \\\n",
       "0         10.753509            13.075421            11.810458   \n",
       "1         11.361687            14.725188            14.112172   \n",
       "2         12.722103            15.571753            15.069877   \n",
       "3         12.426766            15.523418            14.683643   \n",
       "4         11.767294            13.242730            12.248009   \n",
       "\n",
       "   predicted_NO2_LightGBM  predicted_NO2_XGBoost  \n",
       "0                8.543606               8.359164  \n",
       "1                9.986432              11.511805  \n",
       "2               13.382312              13.742922  \n",
       "3               13.442220              14.784616  \n",
       "4               11.582613              13.170686  "
      ]
     },
     "execution_count": 4,
     "metadata": {},
     "output_type": "execute_result"
    }
   ],
   "source": [
    "Bayreuth.head()"
   ]
  },
  {
   "cell_type": "markdown",
   "id": "27a15534",
   "metadata": {
    "papermill": {
     "duration": 0.00464,
     "end_time": "2023-01-28T14:50:07.638455",
     "exception": false,
     "start_time": "2023-01-28T14:50:07.633815",
     "status": "completed"
    },
    "tags": []
   },
   "source": [
    "## Rename column for unique identifier, per city"
   ]
  },
  {
   "cell_type": "code",
   "execution_count": 5,
   "id": "3d469850",
   "metadata": {
    "execution": {
     "iopub.execute_input": "2023-01-28T14:50:07.649553Z",
     "iopub.status.busy": "2023-01-28T14:50:07.649172Z",
     "iopub.status.idle": "2023-01-28T14:50:07.665613Z",
     "shell.execute_reply": "2023-01-28T14:50:07.664670Z"
    },
    "papermill": {
     "duration": 0.024978,
     "end_time": "2023-01-28T14:50:07.668086",
     "exception": false,
     "start_time": "2023-01-28T14:50:07.643108",
     "status": "completed"
    },
    "tags": []
   },
   "outputs": [],
   "source": [
    "Amsterdam = Amsterdam.rename(columns ={\"Unnamed: 0\": \"FID\"  })\n",
    "Bayreuth = Bayreuth.rename(columns ={\"Unnamed: 0\": \"FID\"  })\n",
    "Hamburg = Hamburg.rename(columns ={\"Unnamed: 0\": \"FID\"  })\n",
    "Utrecht = Utrecht.rename(columns ={\"Unnamed: 0\": \"FID\"  })"
   ]
  },
  {
   "cell_type": "code",
   "execution_count": 6,
   "id": "746b2569",
   "metadata": {
    "execution": {
     "iopub.execute_input": "2023-01-28T14:50:07.680179Z",
     "iopub.status.busy": "2023-01-28T14:50:07.678915Z",
     "iopub.status.idle": "2023-01-28T14:50:08.720995Z",
     "shell.execute_reply": "2023-01-28T14:50:08.719566Z"
    },
    "papermill": {
     "duration": 1.050702,
     "end_time": "2023-01-28T14:50:08.723678",
     "exception": false,
     "start_time": "2023-01-28T14:50:07.672976",
     "status": "completed"
    },
    "tags": []
   },
   "outputs": [],
   "source": [
    "import matplotlib.pyplot as plt\n",
    "import seaborn as sns"
   ]
  },
  {
   "cell_type": "code",
   "execution_count": 7,
   "id": "11fb5eb7",
   "metadata": {
    "execution": {
     "iopub.execute_input": "2023-01-28T14:50:08.734699Z",
     "iopub.status.busy": "2023-01-28T14:50:08.734315Z",
     "iopub.status.idle": "2023-01-28T14:50:08.740651Z",
     "shell.execute_reply": "2023-01-28T14:50:08.739814Z"
    },
    "papermill": {
     "duration": 0.014675,
     "end_time": "2023-01-28T14:50:08.743181",
     "exception": false,
     "start_time": "2023-01-28T14:50:08.728506",
     "status": "completed"
    },
    "tags": []
   },
   "outputs": [
    {
     "data": {
      "text/plain": [
       "Index(['FID', 'nightlight_450', 'nightlight_3150', 'population_1000',\n",
       "       'population_3000', 'road_class_2_25', 'road_class_3_3000',\n",
       "       'road_class_3_300', 'trop_mean_filt', 'BldDen100', 'NDVI', 'trafBuf25',\n",
       "       'trafBuf50', 'Longitude', 'Latitude', 'predicted_NO2_RF',\n",
       "       'predicted_NO2_LASSO', 'predicted_NO2_RIDGE', 'predicted_NO2_LightGBM',\n",
       "       'predicted_NO2_XGBoost'],\n",
       "      dtype='object')"
      ]
     },
     "execution_count": 7,
     "metadata": {},
     "output_type": "execute_result"
    }
   ],
   "source": [
    "Amsterdam.columns"
   ]
  },
  {
   "cell_type": "code",
   "execution_count": 8,
   "id": "27e487df",
   "metadata": {
    "execution": {
     "iopub.execute_input": "2023-01-28T14:50:08.754697Z",
     "iopub.status.busy": "2023-01-28T14:50:08.754317Z",
     "iopub.status.idle": "2023-01-28T14:50:08.760720Z",
     "shell.execute_reply": "2023-01-28T14:50:08.759837Z"
    },
    "papermill": {
     "duration": 0.014319,
     "end_time": "2023-01-28T14:50:08.762523",
     "exception": false,
     "start_time": "2023-01-28T14:50:08.748204",
     "status": "completed"
    },
    "tags": []
   },
   "outputs": [
    {
     "data": {
      "text/plain": [
       "Index(['predicted_NO2_RF', 'predicted_NO2_LASSO', 'predicted_NO2_RIDGE',\n",
       "       'predicted_NO2_LightGBM', 'predicted_NO2_XGBoost'],\n",
       "      dtype='object')"
      ]
     },
     "execution_count": 8,
     "metadata": {},
     "output_type": "execute_result"
    }
   ],
   "source": [
    "Hamburg.columns"
   ]
  },
  {
   "cell_type": "markdown",
   "id": "0c5c53a7",
   "metadata": {
    "papermill": {
     "duration": 0.004557,
     "end_time": "2023-01-28T14:50:08.772095",
     "exception": false,
     "start_time": "2023-01-28T14:50:08.767538",
     "status": "completed"
    },
    "tags": []
   },
   "source": [
    "### assigning an indicator like Location to distinguish your three sets of data"
   ]
  },
  {
   "cell_type": "code",
   "execution_count": 9,
   "id": "feb58dbd",
   "metadata": {
    "execution": {
     "iopub.execute_input": "2023-01-28T14:50:08.784107Z",
     "iopub.status.busy": "2023-01-28T14:50:08.783706Z",
     "iopub.status.idle": "2023-01-28T14:50:08.802000Z",
     "shell.execute_reply": "2023-01-28T14:50:08.801211Z"
    },
    "papermill": {
     "duration": 0.027316,
     "end_time": "2023-01-28T14:50:08.804228",
     "exception": false,
     "start_time": "2023-01-28T14:50:08.776912",
     "status": "completed"
    },
    "tags": []
   },
   "outputs": [],
   "source": [
    "Amsterdam = Amsterdam[['predicted_NO2_RF', 'predicted_NO2_LightGBM',\n",
    "       'predicted_NO2_XGBoost', 'predicted_NO2_RIDGE',\n",
    "       'predicted_NO2_LASSO']].assign(location='Amsterdam')\n",
    "\n",
    "Bayreuth = Bayreuth[['predicted_NO2_RF', 'predicted_NO2_LightGBM',\n",
    "       'predicted_NO2_XGBoost', 'predicted_NO2_RIDGE',\n",
    "       'predicted_NO2_LASSO']].assign(location='Bayreuth')\n",
    "\n",
    "Hamburg = Hamburg[['predicted_NO2_RF', 'predicted_NO2_LightGBM',\n",
    "       'predicted_NO2_XGBoost', 'predicted_NO2_RIDGE',\n",
    "       'predicted_NO2_LASSO']].assign(location='Hamburg')\n",
    "\n",
    "Utrecht = Utrecht[['predicted_NO2_RF', 'predicted_NO2_LightGBM',\n",
    "       'predicted_NO2_XGBoost', 'predicted_NO2_RIDGE',\n",
    "       'predicted_NO2_LASSO']].assign(location='Utrecht')\n"
   ]
  },
  {
   "cell_type": "code",
   "execution_count": 10,
   "id": "d720ef1c",
   "metadata": {
    "execution": {
     "iopub.execute_input": "2023-01-28T14:50:08.816549Z",
     "iopub.status.busy": "2023-01-28T14:50:08.816044Z",
     "iopub.status.idle": "2023-01-28T14:50:08.821131Z",
     "shell.execute_reply": "2023-01-28T14:50:08.820362Z"
    },
    "papermill": {
     "duration": 0.014352,
     "end_time": "2023-01-28T14:50:08.824086",
     "exception": false,
     "start_time": "2023-01-28T14:50:08.809734",
     "status": "completed"
    },
    "tags": []
   },
   "outputs": [
    {
     "data": {
      "text/plain": [
       "Index(['predicted_NO2_RF', 'predicted_NO2_LightGBM', 'predicted_NO2_XGBoost',\n",
       "       'predicted_NO2_RIDGE', 'predicted_NO2_LASSO', 'location'],\n",
       "      dtype='object')"
      ]
     },
     "execution_count": 10,
     "metadata": {},
     "output_type": "execute_result"
    }
   ],
   "source": [
    "Amsterdam.columns"
   ]
  },
  {
   "cell_type": "markdown",
   "id": "e46f88f6",
   "metadata": {
    "papermill": {
     "duration": 0.005477,
     "end_time": "2023-01-28T14:50:08.834744",
     "exception": false,
     "start_time": "2023-01-28T14:50:08.829267",
     "status": "completed"
    },
    "tags": []
   },
   "source": [
    "## convert multiple columns into one per city"
   ]
  },
  {
   "cell_type": "code",
   "execution_count": 11,
   "id": "39ed1b5a",
   "metadata": {
    "execution": {
     "iopub.execute_input": "2023-01-28T14:50:08.848372Z",
     "iopub.status.busy": "2023-01-28T14:50:08.847730Z",
     "iopub.status.idle": "2023-01-28T14:50:08.856338Z",
     "shell.execute_reply": "2023-01-28T14:50:08.855260Z"
    },
    "papermill": {
     "duration": 0.018376,
     "end_time": "2023-01-28T14:50:08.858902",
     "exception": false,
     "start_time": "2023-01-28T14:50:08.840526",
     "status": "completed"
    },
    "tags": []
   },
   "outputs": [],
   "source": [
    "cities = pd.concat([Amsterdam, Bayreuth, Hamburg, Utrecht])"
   ]
  },
  {
   "cell_type": "code",
   "execution_count": 12,
   "id": "58024fa8",
   "metadata": {
    "execution": {
     "iopub.execute_input": "2023-01-28T14:50:08.871742Z",
     "iopub.status.busy": "2023-01-28T14:50:08.871196Z",
     "iopub.status.idle": "2023-01-28T14:50:08.928138Z",
     "shell.execute_reply": "2023-01-28T14:50:08.926672Z"
    },
    "papermill": {
     "duration": 0.066771,
     "end_time": "2023-01-28T14:50:08.930898",
     "exception": false,
     "start_time": "2023-01-28T14:50:08.864127",
     "status": "completed"
    },
    "tags": []
   },
   "outputs": [],
   "source": [
    "cities_melt = pd.melt(cities, id_vars=['location'], var_name=['Model'])"
   ]
  },
  {
   "cell_type": "code",
   "execution_count": 13,
   "id": "c02e1cfd",
   "metadata": {
    "execution": {
     "iopub.execute_input": "2023-01-28T14:50:08.942831Z",
     "iopub.status.busy": "2023-01-28T14:50:08.942393Z",
     "iopub.status.idle": "2023-01-28T14:50:08.952647Z",
     "shell.execute_reply": "2023-01-28T14:50:08.950840Z"
    },
    "papermill": {
     "duration": 0.018948,
     "end_time": "2023-01-28T14:50:08.955053",
     "exception": false,
     "start_time": "2023-01-28T14:50:08.936105",
     "status": "completed"
    },
    "tags": []
   },
   "outputs": [
    {
     "name": "stdout",
     "output_type": "stream",
     "text": [
      "          location                Model      value\n",
      "0        Amsterdam     predicted_NO2_RF  20.242203\n",
      "1        Amsterdam     predicted_NO2_RF  20.251307\n",
      "2        Amsterdam     predicted_NO2_RF  20.307211\n",
      "3        Amsterdam     predicted_NO2_RF  20.522166\n",
      "4        Amsterdam     predicted_NO2_RF  20.437377\n",
      "...            ...                  ...        ...\n",
      "1389020    Utrecht  predicted_NO2_LASSO  11.458487\n",
      "1389021    Utrecht  predicted_NO2_LASSO  11.586470\n",
      "1389022    Utrecht  predicted_NO2_LASSO  11.616399\n",
      "1389023    Utrecht  predicted_NO2_LASSO  10.807627\n",
      "1389024    Utrecht  predicted_NO2_LASSO  11.075286\n",
      "\n",
      "[1389025 rows x 3 columns]\n"
     ]
    }
   ],
   "source": [
    "print(cities_melt)"
   ]
  },
  {
   "cell_type": "code",
   "execution_count": 14,
   "id": "d0858181",
   "metadata": {
    "execution": {
     "iopub.execute_input": "2023-01-28T14:50:08.967459Z",
     "iopub.status.busy": "2023-01-28T14:50:08.966990Z",
     "iopub.status.idle": "2023-01-28T14:50:11.312343Z",
     "shell.execute_reply": "2023-01-28T14:50:11.310710Z"
    },
    "papermill": {
     "duration": 2.355204,
     "end_time": "2023-01-28T14:50:11.315380",
     "exception": false,
     "start_time": "2023-01-28T14:50:08.960176",
     "status": "completed"
    },
    "tags": []
   },
   "outputs": [
    {
     "data": {
      "image/png": "[encoded data removed]",
      "text/plain": [
       "<Figure size 842.4x595.44 with 1 Axes>"
      ]
     },
     "metadata": {},
     "output_type": "display_data"
    }
   ],
   "source": [
    "sns.set(rc={'figure.figsize':(11.7,8.27)})\n",
    "\n",
    "#define font\n",
    "plt.rcParams[\"font.family\"] = \"serif\"\n",
    "\n",
    "Model_colors=[\"darkred\",\"indianred\",\"lightcoral\",\"steelblue\",\"lightskyblue\"]\n",
    "ax = sns.boxplot(x=\"location\", y=\"value\", hue=\"Model\", data=cities_melt, palette=Model_colors)    \n",
    "\n",
    "plt.savefig('Distribution predicted NO2 per model', bbox_inches='tight',\n",
    "           facecolor=(1, 1, 1))\n",
    "\n",
    "plt.show()"
   ]
  }
 ],
 "metadata": {
  "kernelspec": {
   "display_name": "Python 3",
   "language": "python",
   "name": "python3"
  },
  "language_info": {
   "codemirror_mode": {
    "name": "ipython",
    "version": 3
   },
   "file_extension": ".py",
   "mimetype": "text/x-python",
   "name": "python",
   "nbconvert_exporter": "python",
   "pygments_lexer": "ipython3",
   "version": "3.7.12"
  },
  "papermill": {
   "default_parameters": {},
   "duration": 14.564155,
   "end_time": "2023-01-28T14:50:12.042305",
   "environment_variables": {},
   "exception": null,
   "input_path": "__notebook__.ipynb",
   "output_path": "__notebook__.ipynb",
   "parameters": {},
   "start_time": "2023-01-28T14:49:57.478150",
   "version": "2.3.4"
  }
 },
 "nbformat": 4,
 "nbformat_minor": 5
}
