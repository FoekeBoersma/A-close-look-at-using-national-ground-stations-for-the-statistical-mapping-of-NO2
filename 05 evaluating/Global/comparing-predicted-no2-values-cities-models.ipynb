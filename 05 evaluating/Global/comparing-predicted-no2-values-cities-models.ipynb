{
 "cells": [
  {
   "cell_type": "code",
   "execution_count": 1,
   "id": "9bcbc2e7",
   "metadata": {
    "_cell_guid": "b1076dfc-b9ad-4769-8c92-a6c4dae69d19",
    "_uuid": "8f2839f25d086af736a60e9eeb907d3b93b6e0e5",
    "execution": {
     "iopub.execute_input": "2022-07-25T12:34:35.414581Z",
     "iopub.status.busy": "2022-07-25T12:34:35.414127Z",
     "iopub.status.idle": "2022-07-25T12:34:35.450418Z",
     "shell.execute_reply": "2022-07-25T12:34:35.449371Z"
    },
    "papermill": {
     "duration": 0.046739,
     "end_time": "2022-07-25T12:34:35.453200",
     "exception": false,
     "start_time": "2022-07-25T12:34:35.406461",
     "status": "completed"
    },
    "tags": []
   },
   "outputs": [
    {
     "name": "stdout",
     "output_type": "stream",
     "text": [
      "/kaggle/input/predicting-no2-all-models-bayreuth/Predicting NO2-AllModelsBayreuth100_xy.csv\n",
      "/kaggle/input/predicting-no2-all-models-utrecht/Predicting NO2-AllModelsUtrecht100_xy.csv\n",
      "/kaggle/input/predicting-no2-all-models-amsterdam/Predicting NO2-AllModelsAmsterdam100_xy.csv\n",
      "/kaggle/input/predicting-no2-all-models-hh/Predicting NO2-AllModelsHamburg100_xy.csv\n"
     ]
    }
   ],
   "source": [
    "# This Python 3 environment comes with many helpful analytics libraries installed\n",
    "# It is defined by the kaggle/python Docker image: https://github.com/kaggle/docker-python\n",
    "# For example, here's several helpful packages to load\n",
    "\n",
    "import numpy as np # linear algebra\n",
    "import pandas as pd # data processing, CSV file I/O (e.g. pd.read_csv)\n",
    "\n",
    "# Input data files are available in the read-only \"../input/\" directory\n",
    "# For example, running this (by clicking run or pressing Shift+Enter) will list all files under the input directory\n",
    "\n",
    "import os\n",
    "for dirname, _, filenames in os.walk('/kaggle/input'):\n",
    "    for filename in filenames:\n",
    "        print(os.path.join(dirname, filename))\n",
    "\n",
    "# You can write up to 20GB to the current directory (/kaggle/working/) that gets preserved as output when you create a version using \"Save & Run All\" \n",
    "# You can also write temporary files to /kaggle/temp/, but they won't be saved outside of the current session"
   ]
  },
  {
   "cell_type": "code",
   "execution_count": 2,
   "id": "8b5efdc0",
   "metadata": {
    "execution": {
     "iopub.execute_input": "2022-07-25T12:34:35.465333Z",
     "iopub.status.busy": "2022-07-25T12:34:35.464619Z",
     "iopub.status.idle": "2022-07-25T12:34:38.920371Z",
     "shell.execute_reply": "2022-07-25T12:34:38.919147Z"
    },
    "papermill": {
     "duration": 3.464876,
     "end_time": "2022-07-25T12:34:38.923163",
     "exception": false,
     "start_time": "2022-07-25T12:34:35.458287",
     "status": "completed"
    },
    "tags": []
   },
   "outputs": [],
   "source": [
    "Amsterdam = pd.read_csv(r'../input/predicting-no2-all-models-amsterdam/Predicting NO2-AllModelsAmsterdam100_xy.csv', sep=',')\n",
    "Hamburg = pd.read_csv(r'../input/predicting-no2-all-models-hh/Predicting NO2-AllModelsHamburg100_xy.csv', sep = ',')\n",
    "Bayreuth = pd.read_csv(r'../input/predicting-no2-all-models-bayreuth/Predicting NO2-AllModelsBayreuth100_xy.csv', sep=',')\n",
    "Utrecht = pd.read_csv(r'../input/predicting-no2-all-models-utrecht/Predicting NO2-AllModelsUtrecht100_xy.csv', sep=',')"
   ]
  },
  {
   "cell_type": "code",
   "execution_count": 3,
   "id": "261c8879",
   "metadata": {
    "execution": {
     "iopub.execute_input": "2022-07-25T12:34:38.935413Z",
     "iopub.status.busy": "2022-07-25T12:34:38.934686Z",
     "iopub.status.idle": "2022-07-25T12:34:38.970217Z",
     "shell.execute_reply": "2022-07-25T12:34:38.969010Z"
    },
    "papermill": {
     "duration": 0.044232,
     "end_time": "2022-07-25T12:34:38.972690",
     "exception": false,
     "start_time": "2022-07-25T12:34:38.928458",
     "status": "completed"
    },
    "tags": []
   },
   "outputs": [
    {
     "data": {
      "text/html": [
       "<div>\n",
       "<style scoped>\n",
       "    .dataframe tbody tr th:only-of-type {\n",
       "        vertical-align: middle;\n",
       "    }\n",
       "\n",
       "    .dataframe tbody tr th {\n",
       "        vertical-align: top;\n",
       "    }\n",
       "\n",
       "    .dataframe thead th {\n",
       "        text-align: right;\n",
       "    }\n",
       "</style>\n",
       "<table border=\"1\" class=\"dataframe\">\n",
       "  <thead>\n",
       "    <tr style=\"text-align: right;\">\n",
       "      <th></th>\n",
       "      <th>Unnamed: 0</th>\n",
       "      <th>nightlight_450</th>\n",
       "      <th>nightlight_3150</th>\n",
       "      <th>population_1000</th>\n",
       "      <th>population_3000</th>\n",
       "      <th>road_class_2_25</th>\n",
       "      <th>road_class_3_3000</th>\n",
       "      <th>road_class_3_300</th>\n",
       "      <th>trop_mean_filt</th>\n",
       "      <th>BldDen100</th>\n",
       "      <th>NDVI</th>\n",
       "      <th>trafBuf25</th>\n",
       "      <th>trafBuf50</th>\n",
       "      <th>Longitude</th>\n",
       "      <th>Latitude</th>\n",
       "      <th>predicted_NO2_RF</th>\n",
       "      <th>predicted_NO2_LASSO</th>\n",
       "      <th>predicted_NO2_RIDGE</th>\n",
       "      <th>predicted_NO2_LightGBM</th>\n",
       "      <th>predicted_NO2_XGBoost</th>\n",
       "    </tr>\n",
       "  </thead>\n",
       "  <tbody>\n",
       "    <tr>\n",
       "      <th>0</th>\n",
       "      <td>0</td>\n",
       "      <td>35.940372</td>\n",
       "      <td>22.422291</td>\n",
       "      <td>3617.017578</td>\n",
       "      <td>12366.87500</td>\n",
       "      <td>0.0</td>\n",
       "      <td>68492.17969</td>\n",
       "      <td>2938.124756</td>\n",
       "      <td>0.000078</td>\n",
       "      <td>0.469889</td>\n",
       "      <td>3526</td>\n",
       "      <td>0.0</td>\n",
       "      <td>0.0</td>\n",
       "      <td>4.623443</td>\n",
       "      <td>52.200544</td>\n",
       "      <td>20.242203</td>\n",
       "      <td>20.213005</td>\n",
       "      <td>21.428299</td>\n",
       "      <td>19.633580</td>\n",
       "      <td>18.117218</td>\n",
       "    </tr>\n",
       "    <tr>\n",
       "      <th>1</th>\n",
       "      <td>1</td>\n",
       "      <td>35.940372</td>\n",
       "      <td>22.422291</td>\n",
       "      <td>3617.017578</td>\n",
       "      <td>12366.87500</td>\n",
       "      <td>0.0</td>\n",
       "      <td>68074.17969</td>\n",
       "      <td>3049.754639</td>\n",
       "      <td>0.000078</td>\n",
       "      <td>0.678183</td>\n",
       "      <td>3526</td>\n",
       "      <td>0.0</td>\n",
       "      <td>0.0</td>\n",
       "      <td>4.624902</td>\n",
       "      <td>52.200598</td>\n",
       "      <td>20.251307</td>\n",
       "      <td>20.666314</td>\n",
       "      <td>22.162748</td>\n",
       "      <td>19.809809</td>\n",
       "      <td>18.043394</td>\n",
       "    </tr>\n",
       "    <tr>\n",
       "      <th>2</th>\n",
       "      <td>2</td>\n",
       "      <td>35.940372</td>\n",
       "      <td>22.422291</td>\n",
       "      <td>3661.374756</td>\n",
       "      <td>12369.04102</td>\n",
       "      <td>0.0</td>\n",
       "      <td>68264.24219</td>\n",
       "      <td>3246.867920</td>\n",
       "      <td>0.000078</td>\n",
       "      <td>0.817256</td>\n",
       "      <td>3526</td>\n",
       "      <td>0.0</td>\n",
       "      <td>0.0</td>\n",
       "      <td>4.626361</td>\n",
       "      <td>52.200652</td>\n",
       "      <td>20.307211</td>\n",
       "      <td>21.114060</td>\n",
       "      <td>22.754499</td>\n",
       "      <td>20.789909</td>\n",
       "      <td>19.293121</td>\n",
       "    </tr>\n",
       "    <tr>\n",
       "      <th>3</th>\n",
       "      <td>3</td>\n",
       "      <td>35.940372</td>\n",
       "      <td>22.422291</td>\n",
       "      <td>3671.354492</td>\n",
       "      <td>12369.52832</td>\n",
       "      <td>0.0</td>\n",
       "      <td>69195.90625</td>\n",
       "      <td>3974.607422</td>\n",
       "      <td>0.000078</td>\n",
       "      <td>0.817167</td>\n",
       "      <td>3526</td>\n",
       "      <td>0.0</td>\n",
       "      <td>0.0</td>\n",
       "      <td>4.627820</td>\n",
       "      <td>52.200707</td>\n",
       "      <td>20.522166</td>\n",
       "      <td>21.986886</td>\n",
       "      <td>23.299931</td>\n",
       "      <td>22.195651</td>\n",
       "      <td>18.969490</td>\n",
       "    </tr>\n",
       "    <tr>\n",
       "      <th>4</th>\n",
       "      <td>4</td>\n",
       "      <td>19.918125</td>\n",
       "      <td>22.502562</td>\n",
       "      <td>3671.354492</td>\n",
       "      <td>12369.52832</td>\n",
       "      <td>0.0</td>\n",
       "      <td>70203.03125</td>\n",
       "      <td>4186.303223</td>\n",
       "      <td>0.000078</td>\n",
       "      <td>0.806396</td>\n",
       "      <td>3519</td>\n",
       "      <td>0.0</td>\n",
       "      <td>0.0</td>\n",
       "      <td>4.629279</td>\n",
       "      <td>52.200761</td>\n",
       "      <td>20.437377</td>\n",
       "      <td>21.205409</td>\n",
       "      <td>22.406520</td>\n",
       "      <td>22.844288</td>\n",
       "      <td>19.061409</td>\n",
       "    </tr>\n",
       "  </tbody>\n",
       "</table>\n",
       "</div>"
      ],
      "text/plain": [
       "   Unnamed: 0  nightlight_450  nightlight_3150  population_1000  \\\n",
       "0           0       35.940372        22.422291      3617.017578   \n",
       "1           1       35.940372        22.422291      3617.017578   \n",
       "2           2       35.940372        22.422291      3661.374756   \n",
       "3           3       35.940372        22.422291      3671.354492   \n",
       "4           4       19.918125        22.502562      3671.354492   \n",
       "\n",
       "   population_3000  road_class_2_25  road_class_3_3000  road_class_3_300  \\\n",
       "0      12366.87500              0.0        68492.17969       2938.124756   \n",
       "1      12366.87500              0.0        68074.17969       3049.754639   \n",
       "2      12369.04102              0.0        68264.24219       3246.867920   \n",
       "3      12369.52832              0.0        69195.90625       3974.607422   \n",
       "4      12369.52832              0.0        70203.03125       4186.303223   \n",
       "\n",
       "   trop_mean_filt  BldDen100  NDVI  trafBuf25  trafBuf50  Longitude  \\\n",
       "0        0.000078   0.469889  3526        0.0        0.0   4.623443   \n",
       "1        0.000078   0.678183  3526        0.0        0.0   4.624902   \n",
       "2        0.000078   0.817256  3526        0.0        0.0   4.626361   \n",
       "3        0.000078   0.817167  3526        0.0        0.0   4.627820   \n",
       "4        0.000078   0.806396  3519        0.0        0.0   4.629279   \n",
       "\n",
       "    Latitude  predicted_NO2_RF  predicted_NO2_LASSO  predicted_NO2_RIDGE  \\\n",
       "0  52.200544         20.242203            20.213005            21.428299   \n",
       "1  52.200598         20.251307            20.666314            22.162748   \n",
       "2  52.200652         20.307211            21.114060            22.754499   \n",
       "3  52.200707         20.522166            21.986886            23.299931   \n",
       "4  52.200761         20.437377            21.205409            22.406520   \n",
       "\n",
       "   predicted_NO2_LightGBM  predicted_NO2_XGBoost  \n",
       "0               19.633580              18.117218  \n",
       "1               19.809809              18.043394  \n",
       "2               20.789909              19.293121  \n",
       "3               22.195651              18.969490  \n",
       "4               22.844288              19.061409  "
      ]
     },
     "execution_count": 3,
     "metadata": {},
     "output_type": "execute_result"
    }
   ],
   "source": [
    "Amsterdam.head()"
   ]
  },
  {
   "cell_type": "markdown",
   "id": "d16cdbcc",
   "metadata": {
    "papermill": {
     "duration": 0.004899,
     "end_time": "2022-07-25T12:34:38.982807",
     "exception": false,
     "start_time": "2022-07-25T12:34:38.977908",
     "status": "completed"
    },
    "tags": []
   },
   "source": [
    "## Rename column for unique identifier, per city"
   ]
  },
  {
   "cell_type": "code",
   "execution_count": 4,
   "id": "f0b5f1c8",
   "metadata": {
    "execution": {
     "iopub.execute_input": "2022-07-25T12:34:38.994698Z",
     "iopub.status.busy": "2022-07-25T12:34:38.994259Z",
     "iopub.status.idle": "2022-07-25T12:34:39.039568Z",
     "shell.execute_reply": "2022-07-25T12:34:39.038215Z"
    },
    "papermill": {
     "duration": 0.054571,
     "end_time": "2022-07-25T12:34:39.042512",
     "exception": false,
     "start_time": "2022-07-25T12:34:38.987941",
     "status": "completed"
    },
    "tags": []
   },
   "outputs": [],
   "source": [
    "Amsterdam = Amsterdam.rename(columns ={\"Unnamed: 0\": \"FID\"  })\n",
    "Bayreuth = Bayreuth.rename(columns ={\"Unnamed: 0\": \"FID\"  })\n",
    "Hamburg = Hamburg.rename(columns ={\"Unnamed: 0\": \"FID\"  })\n",
    "Utrecht = Utrecht.rename(columns ={\"Unnamed: 0\": \"FID\"  })"
   ]
  },
  {
   "cell_type": "code",
   "execution_count": 5,
   "id": "b47b39b0",
   "metadata": {
    "execution": {
     "iopub.execute_input": "2022-07-25T12:34:39.055572Z",
     "iopub.status.busy": "2022-07-25T12:34:39.054888Z",
     "iopub.status.idle": "2022-07-25T12:34:40.202630Z",
     "shell.execute_reply": "2022-07-25T12:34:40.201397Z"
    },
    "papermill": {
     "duration": 1.157615,
     "end_time": "2022-07-25T12:34:40.205553",
     "exception": false,
     "start_time": "2022-07-25T12:34:39.047938",
     "status": "completed"
    },
    "tags": []
   },
   "outputs": [],
   "source": [
    "import matplotlib.pyplot as plt\n",
    "import seaborn as sns"
   ]
  },
  {
   "cell_type": "code",
   "execution_count": 6,
   "id": "ba975b6c",
   "metadata": {
    "execution": {
     "iopub.execute_input": "2022-07-25T12:34:40.218787Z",
     "iopub.status.busy": "2022-07-25T12:34:40.217716Z",
     "iopub.status.idle": "2022-07-25T12:34:40.227715Z",
     "shell.execute_reply": "2022-07-25T12:34:40.226556Z"
    },
    "papermill": {
     "duration": 0.019319,
     "end_time": "2022-07-25T12:34:40.230415",
     "exception": false,
     "start_time": "2022-07-25T12:34:40.211096",
     "status": "completed"
    },
    "tags": []
   },
   "outputs": [
    {
     "data": {
      "text/plain": [
       "Index(['FID', 'nightlight_450', 'nightlight_3150', 'population_1000',\n",
       "       'population_3000', 'road_class_2_25', 'road_class_3_3000',\n",
       "       'road_class_3_300', 'trop_mean_filt', 'BldDen100', 'NDVI', 'trafBuf25',\n",
       "       'trafBuf50', 'Longitude', 'Latitude', 'predicted_NO2_RF',\n",
       "       'predicted_NO2_LASSO', 'predicted_NO2_RIDGE', 'predicted_NO2_LightGBM',\n",
       "       'predicted_NO2_XGBoost'],\n",
       "      dtype='object')"
      ]
     },
     "execution_count": 6,
     "metadata": {},
     "output_type": "execute_result"
    }
   ],
   "source": [
    "Amsterdam.columns"
   ]
  },
  {
   "cell_type": "markdown",
   "id": "fcc9d471",
   "metadata": {
    "papermill": {
     "duration": 0.004877,
     "end_time": "2022-07-25T12:34:40.240494",
     "exception": false,
     "start_time": "2022-07-25T12:34:40.235617",
     "status": "completed"
    },
    "tags": []
   },
   "source": [
    "### assigning an indicator like Location to distinguish your three sets of data"
   ]
  },
  {
   "cell_type": "code",
   "execution_count": 7,
   "id": "53f00c02",
   "metadata": {
    "execution": {
     "iopub.execute_input": "2022-07-25T12:34:40.252290Z",
     "iopub.status.busy": "2022-07-25T12:34:40.251917Z",
     "iopub.status.idle": "2022-07-25T12:34:40.282941Z",
     "shell.execute_reply": "2022-07-25T12:34:40.281795Z"
    },
    "papermill": {
     "duration": 0.040108,
     "end_time": "2022-07-25T12:34:40.285648",
     "exception": false,
     "start_time": "2022-07-25T12:34:40.245540",
     "status": "completed"
    },
    "tags": []
   },
   "outputs": [],
   "source": [
    "Amsterdam = Amsterdam[['predicted_NO2_RF', 'predicted_NO2_LightGBM',\n",
    "       'predicted_NO2_XGBoost', 'predicted_NO2_RIDGE',\n",
    "       'predicted_NO2_LASSO']].assign(location='Amsterdam')\n",
    "\n",
    "Bayreuth = Bayreuth[['predicted_NO2_RF', 'predicted_NO2_LightGBM',\n",
    "       'predicted_NO2_XGBoost', 'predicted_NO2_RIDGE',\n",
    "       'predicted_NO2_LASSO']].assign(location='Bayreuth')\n",
    "\n",
    "Hamburg = Hamburg[['predicted_NO2_RF', 'predicted_NO2_LightGBM',\n",
    "       'predicted_NO2_XGBoost', 'predicted_NO2_RIDGE',\n",
    "       'predicted_NO2_LASSO']].assign(location='Hamburg')\n",
    "\n",
    "Utrecht = Utrecht[['predicted_NO2_RF', 'predicted_NO2_LightGBM',\n",
    "       'predicted_NO2_XGBoost', 'predicted_NO2_RIDGE',\n",
    "       'predicted_NO2_LASSO']].assign(location='Utrecht')\n"
   ]
  },
  {
   "cell_type": "code",
   "execution_count": 8,
   "id": "107ced83",
   "metadata": {
    "execution": {
     "iopub.execute_input": "2022-07-25T12:34:40.298183Z",
     "iopub.status.busy": "2022-07-25T12:34:40.297761Z",
     "iopub.status.idle": "2022-07-25T12:34:40.305381Z",
     "shell.execute_reply": "2022-07-25T12:34:40.304113Z"
    },
    "papermill": {
     "duration": 0.016735,
     "end_time": "2022-07-25T12:34:40.307732",
     "exception": false,
     "start_time": "2022-07-25T12:34:40.290997",
     "status": "completed"
    },
    "tags": []
   },
   "outputs": [
    {
     "data": {
      "text/plain": [
       "Index(['predicted_NO2_RF', 'predicted_NO2_LightGBM', 'predicted_NO2_XGBoost',\n",
       "       'predicted_NO2_RIDGE', 'predicted_NO2_LASSO', 'location'],\n",
       "      dtype='object')"
      ]
     },
     "execution_count": 8,
     "metadata": {},
     "output_type": "execute_result"
    }
   ],
   "source": [
    "Amsterdam.columns"
   ]
  },
  {
   "cell_type": "markdown",
   "id": "4c7b8fcd",
   "metadata": {
    "papermill": {
     "duration": 0.005313,
     "end_time": "2022-07-25T12:34:40.318443",
     "exception": false,
     "start_time": "2022-07-25T12:34:40.313130",
     "status": "completed"
    },
    "tags": []
   },
   "source": [
    "## convert multiple columns into one per city"
   ]
  },
  {
   "cell_type": "code",
   "execution_count": 9,
   "id": "693771c6",
   "metadata": {
    "execution": {
     "iopub.execute_input": "2022-07-25T12:34:40.330882Z",
     "iopub.status.busy": "2022-07-25T12:34:40.330475Z",
     "iopub.status.idle": "2022-07-25T12:34:40.348781Z",
     "shell.execute_reply": "2022-07-25T12:34:40.347536Z"
    },
    "papermill": {
     "duration": 0.027962,
     "end_time": "2022-07-25T12:34:40.351772",
     "exception": false,
     "start_time": "2022-07-25T12:34:40.323810",
     "status": "completed"
    },
    "tags": []
   },
   "outputs": [],
   "source": [
    "cities = pd.concat([Amsterdam, Bayreuth, Hamburg, Utrecht])"
   ]
  },
  {
   "cell_type": "code",
   "execution_count": 10,
   "id": "4701c2a5",
   "metadata": {
    "execution": {
     "iopub.execute_input": "2022-07-25T12:34:40.364986Z",
     "iopub.status.busy": "2022-07-25T12:34:40.364164Z",
     "iopub.status.idle": "2022-07-25T12:34:40.517904Z",
     "shell.execute_reply": "2022-07-25T12:34:40.516720Z"
    },
    "papermill": {
     "duration": 0.163267,
     "end_time": "2022-07-25T12:34:40.520628",
     "exception": false,
     "start_time": "2022-07-25T12:34:40.357361",
     "status": "completed"
    },
    "tags": []
   },
   "outputs": [],
   "source": [
    "cities_melt = pd.melt(cities, id_vars=['location'], var_name=['Model'])"
   ]
  },
  {
   "cell_type": "code",
   "execution_count": 11,
   "id": "004aca95",
   "metadata": {
    "execution": {
     "iopub.execute_input": "2022-07-25T12:34:40.534236Z",
     "iopub.status.busy": "2022-07-25T12:34:40.533504Z",
     "iopub.status.idle": "2022-07-25T12:34:40.543811Z",
     "shell.execute_reply": "2022-07-25T12:34:40.542597Z"
    },
    "papermill": {
     "duration": 0.019771,
     "end_time": "2022-07-25T12:34:40.545895",
     "exception": false,
     "start_time": "2022-07-25T12:34:40.526124",
     "status": "completed"
    },
    "tags": []
   },
   "outputs": [
    {
     "name": "stdout",
     "output_type": "stream",
     "text": [
      "          location                Model      value\n",
      "0        Amsterdam     predicted_NO2_RF  20.242203\n",
      "1        Amsterdam     predicted_NO2_RF  20.251307\n",
      "2        Amsterdam     predicted_NO2_RF  20.307211\n",
      "3        Amsterdam     predicted_NO2_RF  20.522166\n",
      "4        Amsterdam     predicted_NO2_RF  20.437377\n",
      "...            ...                  ...        ...\n",
      "3120225    Utrecht  predicted_NO2_LASSO  12.762625\n",
      "3120226    Utrecht  predicted_NO2_LASSO  12.498795\n",
      "3120227    Utrecht  predicted_NO2_LASSO  12.743409\n",
      "3120228    Utrecht  predicted_NO2_LASSO  13.456484\n",
      "3120229    Utrecht  predicted_NO2_LASSO  13.324369\n",
      "\n",
      "[3120230 rows x 3 columns]\n"
     ]
    }
   ],
   "source": [
    "print(cities_melt)"
   ]
  },
  {
   "cell_type": "code",
   "execution_count": 12,
   "id": "625ff89c",
   "metadata": {
    "execution": {
     "iopub.execute_input": "2022-07-25T12:34:40.558718Z",
     "iopub.status.busy": "2022-07-25T12:34:40.557931Z",
     "iopub.status.idle": "2022-07-25T12:34:49.056774Z",
     "shell.execute_reply": "2022-07-25T12:34:49.055548Z"
    },
    "papermill": {
     "duration": 8.507987,
     "end_time": "2022-07-25T12:34:49.059296",
     "exception": false,
     "start_time": "2022-07-25T12:34:40.551309",
     "status": "completed"
    },
    "tags": []
   },
   "outputs": [
    {
     "data": {
      "image/png": "[encoded data removed]",
      "text/plain": [
       "<Figure size 842.4x595.44 with 1 Axes>"
      ]
     },
     "metadata": {},
     "output_type": "display_data"
    }
   ],
   "source": [
    "sns.set(rc={'figure.figsize':(11.7,8.27)})\n",
    "\n",
    "#define font\n",
    "plt.rcParams[\"font.family\"] = \"serif\"\n",
    "\n",
    "Model_colors=[\"darkred\",\"indianred\",\"lightcoral\",\"steelblue\",\"lightskyblue\"]\n",
    "ax = sns.boxplot(x=\"location\", y=\"value\", hue=\"Model\", data=cities_melt, palette=Model_colors)    \n",
    "\n",
    "plt.savefig('Distribution predicted NO2 per model', bbox_inches='tight',\n",
    "           facecolor=(1, 1, 1))\n",
    "\n",
    "plt.show()"
   ]
  }
 ],
 "metadata": {
  "kernelspec": {
   "display_name": "Python 3",
   "language": "python",
   "name": "python3"
  },
  "language_info": {
   "codemirror_mode": {
    "name": "ipython",
    "version": 3
   },
   "file_extension": ".py",
   "mimetype": "text/x-python",
   "name": "python",
   "nbconvert_exporter": "python",
   "pygments_lexer": "ipython3",
   "version": "3.7.12"
  },
  "papermill": {
   "default_parameters": {},
   "duration": 24.742278,
   "end_time": "2022-07-25T12:34:49.888327",
   "environment_variables": {},
   "exception": null,
   "input_path": "__notebook__.ipynb",
   "output_path": "__notebook__.ipynb",
   "parameters": {},
   "start_time": "2022-07-25T12:34:25.146049",
   "version": "2.3.4"
  }
 },
 "nbformat": 4,
 "nbformat_minor": 5
}
