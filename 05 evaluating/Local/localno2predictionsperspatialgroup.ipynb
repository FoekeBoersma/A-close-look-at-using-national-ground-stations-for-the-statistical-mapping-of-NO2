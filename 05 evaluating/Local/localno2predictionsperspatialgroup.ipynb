{
 "cells": [
  {
   "cell_type": "code",
   "execution_count": 1,
   "id": "9725f9b2",
   "metadata": {
    "_cell_guid": "b1076dfc-b9ad-4769-8c92-a6c4dae69d19",
    "_uuid": "8f2839f25d086af736a60e9eeb907d3b93b6e0e5",
    "execution": {
     "iopub.execute_input": "2023-01-28T15:38:55.187214Z",
     "iopub.status.busy": "2023-01-28T15:38:55.186469Z",
     "iopub.status.idle": "2023-01-28T15:38:55.212794Z",
     "shell.execute_reply": "2023-01-28T15:38:55.211826Z"
    },
    "papermill": {
     "duration": 0.037553,
     "end_time": "2023-01-28T15:38:55.216061",
     "exception": false,
     "start_time": "2023-01-28T15:38:55.178508",
     "status": "completed"
    },
    "tags": []
   },
   "outputs": [
    {
     "name": "stdout",
     "output_type": "stream",
     "text": [
      "/kaggle/input/localpredictioncolumns/local_predictionColumns.csv\n"
     ]
    }
   ],
   "source": [
    "# This Python 3 environment comes with many helpful analytics libraries installed\n",
    "# It is defined by the kaggle/python Docker image: https://github.com/kaggle/docker-python\n",
    "# For example, here's several helpful packages to load\n",
    "\n",
    "import numpy as np # linear algebra\n",
    "import pandas as pd # data processing, CSV file I/O (e.g. pd.read_csv)\n",
    "\n",
    "# Input data files are available in the read-only \"../input/\" directory\n",
    "# For example, running this (by clicking run or pressing Shift+Enter) will list all files under the input directory\n",
    "\n",
    "import os\n",
    "for dirname, _, filenames in os.walk('/kaggle/input'):\n",
    "    for filename in filenames:\n",
    "        print(os.path.join(dirname, filename))\n",
    "\n",
    "# You can write up to 20GB to the current directory (/kaggle/working/) that gets preserved as output when you create a version using \"Save & Run All\" \n",
    "# You can also write temporary files to /kaggle/temp/, but they won't be saved outside of the current session"
   ]
  },
  {
   "cell_type": "code",
   "execution_count": 2,
   "id": "6da3b1ba",
   "metadata": {
    "execution": {
     "iopub.execute_input": "2023-01-28T15:38:55.228512Z",
     "iopub.status.busy": "2023-01-28T15:38:55.227287Z",
     "iopub.status.idle": "2023-01-28T15:38:55.390718Z",
     "shell.execute_reply": "2023-01-28T15:38:55.389311Z"
    },
    "papermill": {
     "duration": 0.172353,
     "end_time": "2023-01-28T15:38:55.393717",
     "exception": false,
     "start_time": "2023-01-28T15:38:55.221364",
     "status": "completed"
    },
    "tags": []
   },
   "outputs": [],
   "source": [
    "local = pd.read_csv(r'/kaggle/input/localpredictioncolumns/local_predictionColumns.csv', sep=';')"
   ]
  },
  {
   "cell_type": "code",
   "execution_count": 3,
   "id": "106e6289",
   "metadata": {
    "execution": {
     "iopub.execute_input": "2023-01-28T15:38:55.405116Z",
     "iopub.status.busy": "2023-01-28T15:38:55.404586Z",
     "iopub.status.idle": "2023-01-28T15:38:55.430681Z",
     "shell.execute_reply": "2023-01-28T15:38:55.429443Z"
    },
    "papermill": {
     "duration": 0.035091,
     "end_time": "2023-01-28T15:38:55.433567",
     "exception": false,
     "start_time": "2023-01-28T15:38:55.398476",
     "status": "completed"
    },
    "tags": []
   },
   "outputs": [
    {
     "data": {
      "text/html": [
       "<div>\n",
       "<style scoped>\n",
       "    .dataframe tbody tr th:only-of-type {\n",
       "        vertical-align: middle;\n",
       "    }\n",
       "\n",
       "    .dataframe tbody tr th {\n",
       "        vertical-align: top;\n",
       "    }\n",
       "\n",
       "    .dataframe thead th {\n",
       "        text-align: right;\n",
       "    }\n",
       "</style>\n",
       "<table border=\"1\" class=\"dataframe\">\n",
       "  <thead>\n",
       "    <tr style=\"text-align: right;\">\n",
       "      <th></th>\n",
       "      <th>spachar</th>\n",
       "      <th>predNO2_Lin</th>\n",
       "      <th>predNO2_LinSep</th>\n",
       "      <th>predNO2_MEM</th>\n",
       "      <th>predNO2_UK</th>\n",
       "      <th>predNO2_UKSep</th>\n",
       "      <th>predicted_OK</th>\n",
       "    </tr>\n",
       "  </thead>\n",
       "  <tbody>\n",
       "    <tr>\n",
       "      <th>0</th>\n",
       "      <td>3</td>\n",
       "      <td>-17.816501</td>\n",
       "      <td>24.645593</td>\n",
       "      <td>-8.445618</td>\n",
       "      <td>-12.820919</td>\n",
       "      <td>20.309784</td>\n",
       "      <td>34.779123</td>\n",
       "    </tr>\n",
       "    <tr>\n",
       "      <th>1</th>\n",
       "      <td>3</td>\n",
       "      <td>-22.784454</td>\n",
       "      <td>22.844755</td>\n",
       "      <td>-12.266293</td>\n",
       "      <td>-17.478720</td>\n",
       "      <td>17.685873</td>\n",
       "      <td>34.779123</td>\n",
       "    </tr>\n",
       "    <tr>\n",
       "      <th>2</th>\n",
       "      <td>3</td>\n",
       "      <td>-22.489242</td>\n",
       "      <td>22.853902</td>\n",
       "      <td>-11.977625</td>\n",
       "      <td>-17.170069</td>\n",
       "      <td>17.752225</td>\n",
       "      <td>34.779123</td>\n",
       "    </tr>\n",
       "    <tr>\n",
       "      <th>3</th>\n",
       "      <td>3</td>\n",
       "      <td>-21.622653</td>\n",
       "      <td>22.966727</td>\n",
       "      <td>-11.186443</td>\n",
       "      <td>-16.283202</td>\n",
       "      <td>18.024608</td>\n",
       "      <td>34.779123</td>\n",
       "    </tr>\n",
       "    <tr>\n",
       "      <th>4</th>\n",
       "      <td>3</td>\n",
       "      <td>-20.836868</td>\n",
       "      <td>23.160668</td>\n",
       "      <td>-10.495252</td>\n",
       "      <td>-15.469421</td>\n",
       "      <td>18.357900</td>\n",
       "      <td>34.779123</td>\n",
       "    </tr>\n",
       "  </tbody>\n",
       "</table>\n",
       "</div>"
      ],
      "text/plain": [
       "   spachar  predNO2_Lin  predNO2_LinSep  predNO2_MEM  predNO2_UK  \\\n",
       "0        3   -17.816501       24.645593    -8.445618  -12.820919   \n",
       "1        3   -22.784454       22.844755   -12.266293  -17.478720   \n",
       "2        3   -22.489242       22.853902   -11.977625  -17.170069   \n",
       "3        3   -21.622653       22.966727   -11.186443  -16.283202   \n",
       "4        3   -20.836868       23.160668   -10.495252  -15.469421   \n",
       "\n",
       "   predNO2_UKSep  predicted_OK  \n",
       "0      20.309784     34.779123  \n",
       "1      17.685873     34.779123  \n",
       "2      17.752225     34.779123  \n",
       "3      18.024608     34.779123  \n",
       "4      18.357900     34.779123  "
      ]
     },
     "execution_count": 3,
     "metadata": {},
     "output_type": "execute_result"
    }
   ],
   "source": [
    "local.head()"
   ]
  },
  {
   "cell_type": "code",
   "execution_count": 4,
   "id": "0a8e8969",
   "metadata": {
    "execution": {
     "iopub.execute_input": "2023-01-28T15:38:55.445726Z",
     "iopub.status.busy": "2023-01-28T15:38:55.444552Z",
     "iopub.status.idle": "2023-01-28T15:38:55.458560Z",
     "shell.execute_reply": "2023-01-28T15:38:55.457526Z"
    },
    "papermill": {
     "duration": 0.02263,
     "end_time": "2023-01-28T15:38:55.461087",
     "exception": false,
     "start_time": "2023-01-28T15:38:55.438457",
     "status": "completed"
    },
    "tags": []
   },
   "outputs": [],
   "source": [
    "local = local.rename(columns ={\"Unnamed: 0\": \"FID\"  })"
   ]
  },
  {
   "cell_type": "code",
   "execution_count": 5,
   "id": "ebb68bba",
   "metadata": {
    "execution": {
     "iopub.execute_input": "2023-01-28T15:38:55.473556Z",
     "iopub.status.busy": "2023-01-28T15:38:55.472603Z",
     "iopub.status.idle": "2023-01-28T15:38:56.625344Z",
     "shell.execute_reply": "2023-01-28T15:38:56.623812Z"
    },
    "papermill": {
     "duration": 1.162144,
     "end_time": "2023-01-28T15:38:56.628321",
     "exception": false,
     "start_time": "2023-01-28T15:38:55.466177",
     "status": "completed"
    },
    "tags": []
   },
   "outputs": [],
   "source": [
    "import matplotlib.pyplot as plt\n",
    "import seaborn as sns"
   ]
  },
  {
   "cell_type": "code",
   "execution_count": 6,
   "id": "139f859e",
   "metadata": {
    "execution": {
     "iopub.execute_input": "2023-01-28T15:38:56.641464Z",
     "iopub.status.busy": "2023-01-28T15:38:56.640321Z",
     "iopub.status.idle": "2023-01-28T15:38:56.647050Z",
     "shell.execute_reply": "2023-01-28T15:38:56.645649Z"
    },
    "papermill": {
     "duration": 0.015793,
     "end_time": "2023-01-28T15:38:56.649452",
     "exception": false,
     "start_time": "2023-01-28T15:38:56.633659",
     "status": "completed"
    },
    "tags": []
   },
   "outputs": [],
   "source": [
    "def f(row):\n",
    "    if row['spachar'] == 1:\n",
    "        val = 'Urban'\n",
    "    elif row['spachar'] == 2:\n",
    "        val = 'LowPopulation'\n",
    "    else:\n",
    "        val = 'FarFromRoad'\n",
    "    return val"
   ]
  },
  {
   "cell_type": "code",
   "execution_count": 7,
   "id": "3ede4c7c",
   "metadata": {
    "execution": {
     "iopub.execute_input": "2023-01-28T15:38:56.660757Z",
     "iopub.status.busy": "2023-01-28T15:38:56.660293Z",
     "iopub.status.idle": "2023-01-28T15:38:57.646252Z",
     "shell.execute_reply": "2023-01-28T15:38:57.645018Z"
    },
    "papermill": {
     "duration": 0.994941,
     "end_time": "2023-01-28T15:38:57.649168",
     "exception": false,
     "start_time": "2023-01-28T15:38:56.654227",
     "status": "completed"
    },
    "tags": []
   },
   "outputs": [],
   "source": [
    "local['SpatialGroup'] = local.apply(f, axis=1)"
   ]
  },
  {
   "cell_type": "code",
   "execution_count": 8,
   "id": "2fea359a",
   "metadata": {
    "execution": {
     "iopub.execute_input": "2023-01-28T15:38:57.661198Z",
     "iopub.status.busy": "2023-01-28T15:38:57.660329Z",
     "iopub.status.idle": "2023-01-28T15:38:57.680814Z",
     "shell.execute_reply": "2023-01-28T15:38:57.679499Z"
    },
    "papermill": {
     "duration": 0.029078,
     "end_time": "2023-01-28T15:38:57.683209",
     "exception": false,
     "start_time": "2023-01-28T15:38:57.654131",
     "status": "completed"
    },
    "tags": []
   },
   "outputs": [
    {
     "data": {
      "text/html": [
       "<div>\n",
       "<style scoped>\n",
       "    .dataframe tbody tr th:only-of-type {\n",
       "        vertical-align: middle;\n",
       "    }\n",
       "\n",
       "    .dataframe tbody tr th {\n",
       "        vertical-align: top;\n",
       "    }\n",
       "\n",
       "    .dataframe thead th {\n",
       "        text-align: right;\n",
       "    }\n",
       "</style>\n",
       "<table border=\"1\" class=\"dataframe\">\n",
       "  <thead>\n",
       "    <tr style=\"text-align: right;\">\n",
       "      <th></th>\n",
       "      <th>spachar</th>\n",
       "      <th>predNO2_Lin</th>\n",
       "      <th>predNO2_LinSep</th>\n",
       "      <th>predNO2_MEM</th>\n",
       "      <th>predNO2_UK</th>\n",
       "      <th>predNO2_UKSep</th>\n",
       "      <th>predicted_OK</th>\n",
       "      <th>SpatialGroup</th>\n",
       "    </tr>\n",
       "  </thead>\n",
       "  <tbody>\n",
       "    <tr>\n",
       "      <th>0</th>\n",
       "      <td>3</td>\n",
       "      <td>-17.816501</td>\n",
       "      <td>24.645593</td>\n",
       "      <td>-8.445618</td>\n",
       "      <td>-12.820919</td>\n",
       "      <td>20.309784</td>\n",
       "      <td>34.779123</td>\n",
       "      <td>FarFromRoad</td>\n",
       "    </tr>\n",
       "    <tr>\n",
       "      <th>1</th>\n",
       "      <td>3</td>\n",
       "      <td>-22.784454</td>\n",
       "      <td>22.844755</td>\n",
       "      <td>-12.266293</td>\n",
       "      <td>-17.478720</td>\n",
       "      <td>17.685873</td>\n",
       "      <td>34.779123</td>\n",
       "      <td>FarFromRoad</td>\n",
       "    </tr>\n",
       "    <tr>\n",
       "      <th>2</th>\n",
       "      <td>3</td>\n",
       "      <td>-22.489242</td>\n",
       "      <td>22.853902</td>\n",
       "      <td>-11.977625</td>\n",
       "      <td>-17.170069</td>\n",
       "      <td>17.752225</td>\n",
       "      <td>34.779123</td>\n",
       "      <td>FarFromRoad</td>\n",
       "    </tr>\n",
       "    <tr>\n",
       "      <th>3</th>\n",
       "      <td>3</td>\n",
       "      <td>-21.622653</td>\n",
       "      <td>22.966727</td>\n",
       "      <td>-11.186443</td>\n",
       "      <td>-16.283202</td>\n",
       "      <td>18.024608</td>\n",
       "      <td>34.779123</td>\n",
       "      <td>FarFromRoad</td>\n",
       "    </tr>\n",
       "    <tr>\n",
       "      <th>4</th>\n",
       "      <td>3</td>\n",
       "      <td>-20.836868</td>\n",
       "      <td>23.160668</td>\n",
       "      <td>-10.495252</td>\n",
       "      <td>-15.469421</td>\n",
       "      <td>18.357900</td>\n",
       "      <td>34.779123</td>\n",
       "      <td>FarFromRoad</td>\n",
       "    </tr>\n",
       "    <tr>\n",
       "      <th>...</th>\n",
       "      <td>...</td>\n",
       "      <td>...</td>\n",
       "      <td>...</td>\n",
       "      <td>...</td>\n",
       "      <td>...</td>\n",
       "      <td>...</td>\n",
       "      <td>...</td>\n",
       "      <td>...</td>\n",
       "    </tr>\n",
       "    <tr>\n",
       "      <th>63115</th>\n",
       "      <td>3</td>\n",
       "      <td>12.707355</td>\n",
       "      <td>24.943048</td>\n",
       "      <td>14.455480</td>\n",
       "      <td>13.678480</td>\n",
       "      <td>21.590008</td>\n",
       "      <td>34.779123</td>\n",
       "      <td>FarFromRoad</td>\n",
       "    </tr>\n",
       "    <tr>\n",
       "      <th>63116</th>\n",
       "      <td>2</td>\n",
       "      <td>12.218275</td>\n",
       "      <td>11.610603</td>\n",
       "      <td>14.032168</td>\n",
       "      <td>13.107108</td>\n",
       "      <td>13.869243</td>\n",
       "      <td>34.779123</td>\n",
       "      <td>LowPopulation</td>\n",
       "    </tr>\n",
       "    <tr>\n",
       "      <th>63117</th>\n",
       "      <td>2</td>\n",
       "      <td>14.833366</td>\n",
       "      <td>13.026097</td>\n",
       "      <td>15.999117</td>\n",
       "      <td>15.961407</td>\n",
       "      <td>15.444644</td>\n",
       "      <td>34.779123</td>\n",
       "      <td>LowPopulation</td>\n",
       "    </tr>\n",
       "    <tr>\n",
       "      <th>63118</th>\n",
       "      <td>2</td>\n",
       "      <td>13.344183</td>\n",
       "      <td>11.820000</td>\n",
       "      <td>14.540676</td>\n",
       "      <td>14.470513</td>\n",
       "      <td>14.107203</td>\n",
       "      <td>34.779123</td>\n",
       "      <td>LowPopulation</td>\n",
       "    </tr>\n",
       "    <tr>\n",
       "      <th>63119</th>\n",
       "      <td>3</td>\n",
       "      <td>12.227585</td>\n",
       "      <td>25.031721</td>\n",
       "      <td>13.857050</td>\n",
       "      <td>13.121668</td>\n",
       "      <td>21.766525</td>\n",
       "      <td>34.779123</td>\n",
       "      <td>FarFromRoad</td>\n",
       "    </tr>\n",
       "  </tbody>\n",
       "</table>\n",
       "<p>63120 rows × 8 columns</p>\n",
       "</div>"
      ],
      "text/plain": [
       "       spachar  predNO2_Lin  predNO2_LinSep  predNO2_MEM  predNO2_UK  \\\n",
       "0            3   -17.816501       24.645593    -8.445618  -12.820919   \n",
       "1            3   -22.784454       22.844755   -12.266293  -17.478720   \n",
       "2            3   -22.489242       22.853902   -11.977625  -17.170069   \n",
       "3            3   -21.622653       22.966727   -11.186443  -16.283202   \n",
       "4            3   -20.836868       23.160668   -10.495252  -15.469421   \n",
       "...        ...          ...             ...          ...         ...   \n",
       "63115        3    12.707355       24.943048    14.455480   13.678480   \n",
       "63116        2    12.218275       11.610603    14.032168   13.107108   \n",
       "63117        2    14.833366       13.026097    15.999117   15.961407   \n",
       "63118        2    13.344183       11.820000    14.540676   14.470513   \n",
       "63119        3    12.227585       25.031721    13.857050   13.121668   \n",
       "\n",
       "       predNO2_UKSep  predicted_OK   SpatialGroup  \n",
       "0          20.309784     34.779123    FarFromRoad  \n",
       "1          17.685873     34.779123    FarFromRoad  \n",
       "2          17.752225     34.779123    FarFromRoad  \n",
       "3          18.024608     34.779123    FarFromRoad  \n",
       "4          18.357900     34.779123    FarFromRoad  \n",
       "...              ...           ...            ...  \n",
       "63115      21.590008     34.779123    FarFromRoad  \n",
       "63116      13.869243     34.779123  LowPopulation  \n",
       "63117      15.444644     34.779123  LowPopulation  \n",
       "63118      14.107203     34.779123  LowPopulation  \n",
       "63119      21.766525     34.779123    FarFromRoad  \n",
       "\n",
       "[63120 rows x 8 columns]"
      ]
     },
     "execution_count": 8,
     "metadata": {},
     "output_type": "execute_result"
    }
   ],
   "source": [
    "local"
   ]
  },
  {
   "cell_type": "code",
   "execution_count": 9,
   "id": "4d3fa3f6",
   "metadata": {
    "execution": {
     "iopub.execute_input": "2023-01-28T15:38:57.695531Z",
     "iopub.status.busy": "2023-01-28T15:38:57.695067Z",
     "iopub.status.idle": "2023-01-28T15:38:57.707767Z",
     "shell.execute_reply": "2023-01-28T15:38:57.706641Z"
    },
    "papermill": {
     "duration": 0.021976,
     "end_time": "2023-01-28T15:38:57.710344",
     "exception": false,
     "start_time": "2023-01-28T15:38:57.688368",
     "status": "completed"
    },
    "tags": []
   },
   "outputs": [],
   "source": [
    "#drop irrelevant column\n",
    "local = local.drop(columns=['spachar'], axis=1)"
   ]
  },
  {
   "cell_type": "code",
   "execution_count": 10,
   "id": "ba720354",
   "metadata": {
    "execution": {
     "iopub.execute_input": "2023-01-28T15:38:57.722276Z",
     "iopub.status.busy": "2023-01-28T15:38:57.721839Z",
     "iopub.status.idle": "2023-01-28T15:38:57.760836Z",
     "shell.execute_reply": "2023-01-28T15:38:57.759473Z"
    },
    "papermill": {
     "duration": 0.048408,
     "end_time": "2023-01-28T15:38:57.763941",
     "exception": false,
     "start_time": "2023-01-28T15:38:57.715533",
     "status": "completed"
    },
    "tags": []
   },
   "outputs": [],
   "source": [
    "local_melt = pd.melt(local, id_vars=['SpatialGroup'], var_name=['Model'])"
   ]
  },
  {
   "cell_type": "code",
   "execution_count": 11,
   "id": "5da5a258",
   "metadata": {
    "execution": {
     "iopub.execute_input": "2023-01-28T15:38:57.775942Z",
     "iopub.status.busy": "2023-01-28T15:38:57.775519Z",
     "iopub.status.idle": "2023-01-28T15:38:57.792914Z",
     "shell.execute_reply": "2023-01-28T15:38:57.791617Z"
    },
    "papermill": {
     "duration": 0.026203,
     "end_time": "2023-01-28T15:38:57.795340",
     "exception": false,
     "start_time": "2023-01-28T15:38:57.769137",
     "status": "completed"
    },
    "tags": []
   },
   "outputs": [
    {
     "data": {
      "text/html": [
       "<div>\n",
       "<style scoped>\n",
       "    .dataframe tbody tr th:only-of-type {\n",
       "        vertical-align: middle;\n",
       "    }\n",
       "\n",
       "    .dataframe tbody tr th {\n",
       "        vertical-align: top;\n",
       "    }\n",
       "\n",
       "    .dataframe thead th {\n",
       "        text-align: right;\n",
       "    }\n",
       "</style>\n",
       "<table border=\"1\" class=\"dataframe\">\n",
       "  <thead>\n",
       "    <tr style=\"text-align: right;\">\n",
       "      <th></th>\n",
       "      <th>SpatialGroup</th>\n",
       "      <th>Model</th>\n",
       "      <th>value</th>\n",
       "    </tr>\n",
       "  </thead>\n",
       "  <tbody>\n",
       "    <tr>\n",
       "      <th>0</th>\n",
       "      <td>FarFromRoad</td>\n",
       "      <td>predNO2_Lin</td>\n",
       "      <td>-17.816501</td>\n",
       "    </tr>\n",
       "    <tr>\n",
       "      <th>1</th>\n",
       "      <td>FarFromRoad</td>\n",
       "      <td>predNO2_Lin</td>\n",
       "      <td>-22.784454</td>\n",
       "    </tr>\n",
       "    <tr>\n",
       "      <th>2</th>\n",
       "      <td>FarFromRoad</td>\n",
       "      <td>predNO2_Lin</td>\n",
       "      <td>-22.489242</td>\n",
       "    </tr>\n",
       "    <tr>\n",
       "      <th>3</th>\n",
       "      <td>FarFromRoad</td>\n",
       "      <td>predNO2_Lin</td>\n",
       "      <td>-21.622653</td>\n",
       "    </tr>\n",
       "    <tr>\n",
       "      <th>4</th>\n",
       "      <td>FarFromRoad</td>\n",
       "      <td>predNO2_Lin</td>\n",
       "      <td>-20.836868</td>\n",
       "    </tr>\n",
       "    <tr>\n",
       "      <th>...</th>\n",
       "      <td>...</td>\n",
       "      <td>...</td>\n",
       "      <td>...</td>\n",
       "    </tr>\n",
       "    <tr>\n",
       "      <th>378715</th>\n",
       "      <td>FarFromRoad</td>\n",
       "      <td>predicted_OK</td>\n",
       "      <td>34.779123</td>\n",
       "    </tr>\n",
       "    <tr>\n",
       "      <th>378716</th>\n",
       "      <td>LowPopulation</td>\n",
       "      <td>predicted_OK</td>\n",
       "      <td>34.779123</td>\n",
       "    </tr>\n",
       "    <tr>\n",
       "      <th>378717</th>\n",
       "      <td>LowPopulation</td>\n",
       "      <td>predicted_OK</td>\n",
       "      <td>34.779123</td>\n",
       "    </tr>\n",
       "    <tr>\n",
       "      <th>378718</th>\n",
       "      <td>LowPopulation</td>\n",
       "      <td>predicted_OK</td>\n",
       "      <td>34.779123</td>\n",
       "    </tr>\n",
       "    <tr>\n",
       "      <th>378719</th>\n",
       "      <td>FarFromRoad</td>\n",
       "      <td>predicted_OK</td>\n",
       "      <td>34.779123</td>\n",
       "    </tr>\n",
       "  </tbody>\n",
       "</table>\n",
       "<p>378720 rows × 3 columns</p>\n",
       "</div>"
      ],
      "text/plain": [
       "         SpatialGroup         Model      value\n",
       "0         FarFromRoad   predNO2_Lin -17.816501\n",
       "1         FarFromRoad   predNO2_Lin -22.784454\n",
       "2         FarFromRoad   predNO2_Lin -22.489242\n",
       "3         FarFromRoad   predNO2_Lin -21.622653\n",
       "4         FarFromRoad   predNO2_Lin -20.836868\n",
       "...               ...           ...        ...\n",
       "378715    FarFromRoad  predicted_OK  34.779123\n",
       "378716  LowPopulation  predicted_OK  34.779123\n",
       "378717  LowPopulation  predicted_OK  34.779123\n",
       "378718  LowPopulation  predicted_OK  34.779123\n",
       "378719    FarFromRoad  predicted_OK  34.779123\n",
       "\n",
       "[378720 rows x 3 columns]"
      ]
     },
     "execution_count": 11,
     "metadata": {},
     "output_type": "execute_result"
    }
   ],
   "source": [
    "local_melt"
   ]
  },
  {
   "cell_type": "code",
   "execution_count": 12,
   "id": "f7d11c16",
   "metadata": {
    "execution": {
     "iopub.execute_input": "2023-01-28T15:38:57.808201Z",
     "iopub.status.busy": "2023-01-28T15:38:57.807780Z",
     "iopub.status.idle": "2023-01-28T15:38:58.919684Z",
     "shell.execute_reply": "2023-01-28T15:38:58.918151Z"
    },
    "papermill": {
     "duration": 1.121716,
     "end_time": "2023-01-28T15:38:58.922462",
     "exception": false,
     "start_time": "2023-01-28T15:38:57.800746",
     "status": "completed"
    },
    "tags": []
   },
   "outputs": [
    {
     "data": {
      "image/png": "[encoded data removed]",
      "text/plain": [
       "<Figure size 842.4x595.44 with 1 Axes>"
      ]
     },
     "metadata": {},
     "output_type": "display_data"
    }
   ],
   "source": [
    "sns.set(rc={'figure.figsize':(11.7,8.27)})\n",
    "\n",
    "#define font\n",
    "plt.rcParams[\"font.family\"] = \"serif\"\n",
    "\n",
    "Model_colors=[\"darkred\",\"indianred\",\"lightcoral\",\"steelblue\",\"lightskyblue\"]\n",
    "ax = sns.boxplot(x=\"SpatialGroup\", y=\"value\", hue=\"Model\", data=local_melt, palette=Model_colors)    \n",
    "\n",
    "# plt.savefig('Distribution predicted NO2 per model', bbox_inches='tight',\n",
    "#            facecolor=(1, 1, 1))\n",
    "\n",
    "plt.show()"
   ]
  },
  {
   "cell_type": "code",
   "execution_count": 13,
   "id": "ba1c1fe8",
   "metadata": {
    "execution": {
     "iopub.execute_input": "2023-01-28T15:38:58.936733Z",
     "iopub.status.busy": "2023-01-28T15:38:58.935874Z",
     "iopub.status.idle": "2023-01-28T15:38:58.966918Z",
     "shell.execute_reply": "2023-01-28T15:38:58.965525Z"
    },
    "papermill": {
     "duration": 0.041113,
     "end_time": "2023-01-28T15:38:58.969713",
     "exception": false,
     "start_time": "2023-01-28T15:38:58.928600",
     "status": "completed"
    },
    "tags": []
   },
   "outputs": [],
   "source": [
    "#Remove outliers (below 0 and above 85)\n",
    "local_0_85 = local_melt[(local_melt['value'] > 0) & (local_melt['value'] < 85)]"
   ]
  },
  {
   "cell_type": "code",
   "execution_count": 14,
   "id": "81d43a16",
   "metadata": {
    "execution": {
     "iopub.execute_input": "2023-01-28T15:38:58.984015Z",
     "iopub.status.busy": "2023-01-28T15:38:58.983542Z",
     "iopub.status.idle": "2023-01-28T15:38:59.000461Z",
     "shell.execute_reply": "2023-01-28T15:38:58.999221Z"
    },
    "papermill": {
     "duration": 0.027782,
     "end_time": "2023-01-28T15:38:59.003666",
     "exception": false,
     "start_time": "2023-01-28T15:38:58.975884",
     "status": "completed"
    },
    "tags": []
   },
   "outputs": [
    {
     "data": {
      "text/html": [
       "<div>\n",
       "<style scoped>\n",
       "    .dataframe tbody tr th:only-of-type {\n",
       "        vertical-align: middle;\n",
       "    }\n",
       "\n",
       "    .dataframe tbody tr th {\n",
       "        vertical-align: top;\n",
       "    }\n",
       "\n",
       "    .dataframe thead th {\n",
       "        text-align: right;\n",
       "    }\n",
       "</style>\n",
       "<table border=\"1\" class=\"dataframe\">\n",
       "  <thead>\n",
       "    <tr style=\"text-align: right;\">\n",
       "      <th></th>\n",
       "      <th>SpatialGroup</th>\n",
       "      <th>Model</th>\n",
       "      <th>value</th>\n",
       "    </tr>\n",
       "  </thead>\n",
       "  <tbody>\n",
       "    <tr>\n",
       "      <th>59</th>\n",
       "      <td>LowPopulation</td>\n",
       "      <td>predNO2_Lin</td>\n",
       "      <td>2.825889</td>\n",
       "    </tr>\n",
       "    <tr>\n",
       "      <th>60</th>\n",
       "      <td>LowPopulation</td>\n",
       "      <td>predNO2_Lin</td>\n",
       "      <td>5.811782</td>\n",
       "    </tr>\n",
       "    <tr>\n",
       "      <th>61</th>\n",
       "      <td>FarFromRoad</td>\n",
       "      <td>predNO2_Lin</td>\n",
       "      <td>6.056129</td>\n",
       "    </tr>\n",
       "    <tr>\n",
       "      <th>62</th>\n",
       "      <td>FarFromRoad</td>\n",
       "      <td>predNO2_Lin</td>\n",
       "      <td>6.655928</td>\n",
       "    </tr>\n",
       "    <tr>\n",
       "      <th>63</th>\n",
       "      <td>FarFromRoad</td>\n",
       "      <td>predNO2_Lin</td>\n",
       "      <td>6.862862</td>\n",
       "    </tr>\n",
       "    <tr>\n",
       "      <th>...</th>\n",
       "      <td>...</td>\n",
       "      <td>...</td>\n",
       "      <td>...</td>\n",
       "    </tr>\n",
       "    <tr>\n",
       "      <th>378715</th>\n",
       "      <td>FarFromRoad</td>\n",
       "      <td>predicted_OK</td>\n",
       "      <td>34.779123</td>\n",
       "    </tr>\n",
       "    <tr>\n",
       "      <th>378716</th>\n",
       "      <td>LowPopulation</td>\n",
       "      <td>predicted_OK</td>\n",
       "      <td>34.779123</td>\n",
       "    </tr>\n",
       "    <tr>\n",
       "      <th>378717</th>\n",
       "      <td>LowPopulation</td>\n",
       "      <td>predicted_OK</td>\n",
       "      <td>34.779123</td>\n",
       "    </tr>\n",
       "    <tr>\n",
       "      <th>378718</th>\n",
       "      <td>LowPopulation</td>\n",
       "      <td>predicted_OK</td>\n",
       "      <td>34.779123</td>\n",
       "    </tr>\n",
       "    <tr>\n",
       "      <th>378719</th>\n",
       "      <td>FarFromRoad</td>\n",
       "      <td>predicted_OK</td>\n",
       "      <td>34.779123</td>\n",
       "    </tr>\n",
       "  </tbody>\n",
       "</table>\n",
       "<p>376896 rows × 3 columns</p>\n",
       "</div>"
      ],
      "text/plain": [
       "         SpatialGroup         Model      value\n",
       "59      LowPopulation   predNO2_Lin   2.825889\n",
       "60      LowPopulation   predNO2_Lin   5.811782\n",
       "61        FarFromRoad   predNO2_Lin   6.056129\n",
       "62        FarFromRoad   predNO2_Lin   6.655928\n",
       "63        FarFromRoad   predNO2_Lin   6.862862\n",
       "...               ...           ...        ...\n",
       "378715    FarFromRoad  predicted_OK  34.779123\n",
       "378716  LowPopulation  predicted_OK  34.779123\n",
       "378717  LowPopulation  predicted_OK  34.779123\n",
       "378718  LowPopulation  predicted_OK  34.779123\n",
       "378719    FarFromRoad  predicted_OK  34.779123\n",
       "\n",
       "[376896 rows x 3 columns]"
      ]
     },
     "execution_count": 14,
     "metadata": {},
     "output_type": "execute_result"
    }
   ],
   "source": [
    "local_0_85"
   ]
  },
  {
   "cell_type": "code",
   "execution_count": 15,
   "id": "067bf134",
   "metadata": {
    "execution": {
     "iopub.execute_input": "2023-01-28T15:38:59.019446Z",
     "iopub.status.busy": "2023-01-28T15:38:59.018784Z",
     "iopub.status.idle": "2023-01-28T15:39:00.218651Z",
     "shell.execute_reply": "2023-01-28T15:39:00.217253Z"
    },
    "papermill": {
     "duration": 1.211109,
     "end_time": "2023-01-28T15:39:00.221943",
     "exception": false,
     "start_time": "2023-01-28T15:38:59.010834",
     "status": "completed"
    },
    "tags": []
   },
   "outputs": [
    {
     "data": {
      "image/png": "[encoded data removed]",
      "text/plain": [
       "<Figure size 842.4x595.44 with 1 Axes>"
      ]
     },
     "metadata": {},
     "output_type": "display_data"
    }
   ],
   "source": [
    "sns.set(rc={'figure.figsize':(11.7,8.27)})\n",
    "\n",
    "#define font\n",
    "plt.rcParams[\"font.family\"] = \"serif\"\n",
    "\n",
    "Model_colors=[\"darkred\",\"indianred\",\"lightcoral\",\"steelblue\",\"lightskyblue\"]\n",
    "ax = sns.boxplot(x=\"SpatialGroup\", y=\"value\", hue=\"Model\", data=local_0_85, palette=Model_colors)    \n",
    "\n",
    "# plt.savefig('Distribution predicted NO2 per model', bbox_inches='tight',\n",
    "#            facecolor=(1, 1, 1))\n",
    "\n",
    "plt.show()"
   ]
  }
 ],
 "metadata": {
  "kernelspec": {
   "display_name": "Python 3",
   "language": "python",
   "name": "python3"
  },
  "language_info": {
   "codemirror_mode": {
    "name": "ipython",
    "version": 3
   },
   "file_extension": ".py",
   "mimetype": "text/x-python",
   "name": "python",
   "nbconvert_exporter": "python",
   "pygments_lexer": "ipython3",
   "version": "3.7.12"
  },
  "papermill": {
   "default_parameters": {},
   "duration": 15.21344,
   "end_time": "2023-01-28T15:39:01.254410",
   "environment_variables": {},
   "exception": null,
   "input_path": "__notebook__.ipynb",
   "output_path": "__notebook__.ipynb",
   "parameters": {},
   "start_time": "2023-01-28T15:38:46.040970",
   "version": "2.3.4"
  }
 },
 "nbformat": 4,
 "nbformat_minor": 5
}
