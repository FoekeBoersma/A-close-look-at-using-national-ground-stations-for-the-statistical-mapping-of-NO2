{
 "cells": [
  {
   "cell_type": "code",
   "execution_count": 1,
   "id": "a97218e1",
   "metadata": {
    "_cell_guid": "b1076dfc-b9ad-4769-8c92-a6c4dae69d19",
    "_uuid": "8f2839f25d086af736a60e9eeb907d3b93b6e0e5",
    "execution": {
     "iopub.execute_input": "2022-05-05T13:01:35.770417Z",
     "iopub.status.busy": "2022-05-05T13:01:35.769649Z",
     "iopub.status.idle": "2022-05-05T13:01:35.806457Z",
     "shell.execute_reply": "2022-05-05T13:01:35.806946Z",
     "shell.execute_reply.started": "2022-05-04T14:17:36.141366Z"
    },
    "papermill": {
     "duration": 0.077715,
     "end_time": "2022-05-05T13:01:35.807249",
     "exception": false,
     "start_time": "2022-05-05T13:01:35.729534",
     "status": "completed"
    },
    "tags": []
   },
   "outputs": [
    {
     "name": "stdout",
     "output_type": "stream",
     "text": [
      "/kaggle/input/datasetlowestaic/dataset_lowestAIC.csv\n",
      "/kaggle/input/dataset-lowest-aic452022/dataset_lowestAIC_longlat.csv\n",
      "/kaggle/input/iterated-12preds/iterated_12vars.csv\n"
     ]
    }
   ],
   "source": [
    "# This Python 3 environment comes with many helpful analytics libraries installed\n",
    "# It is defined by the kaggle/python Docker image: https://github.com/kaggle/docker-python\n",
    "# For example, here's several helpful packages to load\n",
    "\n",
    "import numpy as np # linear algebra\n",
    "import pandas as pd # data processing, CSV file I/O (e.g. pd.read_csv)\n",
    "\n",
    "# Input data files are available in the read-only \"../input/\" directory\n",
    "# For example, running this (by clicking run or pressing Shift+Enter) will list all files under the input directory\n",
    "\n",
    "import os\n",
    "for dirname, _, filenames in os.walk('/kaggle/input'):\n",
    "    for filename in filenames:\n",
    "        print(os.path.join(dirname, filename))\n",
    "\n",
    "# You can write up to 20GB to the current directory (/kaggle/working/) that gets preserved as output when you create a version using \"Save & Run All\" \n",
    "# You can also write temporary files to /kaggle/temp/, but they won't be saved outside of the current session"
   ]
  },
  {
   "cell_type": "code",
   "execution_count": 2,
   "id": "3c665f56",
   "metadata": {
    "execution": {
     "iopub.execute_input": "2022-05-05T13:01:35.870338Z",
     "iopub.status.busy": "2022-05-05T13:01:35.869568Z",
     "iopub.status.idle": "2022-05-05T13:01:35.974829Z",
     "shell.execute_reply": "2022-05-05T13:01:35.975313Z",
     "shell.execute_reply.started": "2022-05-04T14:17:38.808068Z"
    },
    "papermill": {
     "duration": 0.138948,
     "end_time": "2022-05-05T13:01:35.975498",
     "exception": false,
     "start_time": "2022-05-05T13:01:35.836550",
     "status": "completed"
    },
    "tags": []
   },
   "outputs": [],
   "source": [
    "df = pd.read_csv(r'../input/dataset-lowest-aic452022/dataset_lowestAIC_longlat.csv', sep=';')"
   ]
  },
  {
   "cell_type": "code",
   "execution_count": 3,
   "id": "fe033150",
   "metadata": {
    "execution": {
     "iopub.execute_input": "2022-05-05T13:01:36.043283Z",
     "iopub.status.busy": "2022-05-05T13:01:36.042599Z",
     "iopub.status.idle": "2022-05-05T13:01:36.050528Z",
     "shell.execute_reply": "2022-05-05T13:01:36.049654Z",
     "shell.execute_reply.started": "2022-05-04T14:17:40.437577Z"
    },
    "papermill": {
     "duration": 0.047866,
     "end_time": "2022-05-05T13:01:36.050671",
     "exception": false,
     "start_time": "2022-05-05T13:01:36.002805",
     "status": "completed"
    },
    "tags": []
   },
   "outputs": [],
   "source": [
    "#remove unique idenifier & geodata\n",
    "df = df.drop(['Unnamed: 0', 'Longitude', 'Latitude'], axis=1)"
   ]
  },
  {
   "cell_type": "code",
   "execution_count": 4,
   "id": "10e68fcb",
   "metadata": {
    "execution": {
     "iopub.execute_input": "2022-05-05T13:01:36.110345Z",
     "iopub.status.busy": "2022-05-05T13:01:36.109641Z",
     "iopub.status.idle": "2022-05-05T13:01:36.111362Z",
     "shell.execute_reply": "2022-05-05T13:01:36.111950Z",
     "shell.execute_reply.started": "2021-10-20T18:48:03.392096Z"
    },
    "papermill": {
     "duration": 0.033658,
     "end_time": "2022-05-05T13:01:36.112122",
     "exception": false,
     "start_time": "2022-05-05T13:01:36.078464",
     "status": "completed"
    },
    "tags": []
   },
   "outputs": [],
   "source": [
    "# import re\n",
    "# df = df.rename(columns = lambda x:re.sub('[^A-Za-z0-9_]+', '', x))\n",
    "\n",
    "# ##SOURCE:https://github.com/awslabs/autogluon/issues/399"
   ]
  },
  {
   "cell_type": "code",
   "execution_count": 5,
   "id": "41c1de59",
   "metadata": {
    "execution": {
     "iopub.execute_input": "2022-05-05T13:01:36.173117Z",
     "iopub.status.busy": "2022-05-05T13:01:36.172445Z",
     "iopub.status.idle": "2022-05-05T13:01:36.175286Z",
     "shell.execute_reply": "2022-05-05T13:01:36.174792Z",
     "shell.execute_reply.started": "2022-05-04T14:17:42.328029Z"
    },
    "papermill": {
     "duration": 0.035818,
     "end_time": "2022-05-05T13:01:36.175425",
     "exception": false,
     "start_time": "2022-05-05T13:01:36.139607",
     "status": "completed"
    },
    "tags": []
   },
   "outputs": [],
   "source": [
    "#initialize response- and predictor variables\n",
    "y = df['mean_value_NO2']\n",
    "x = df.drop(['mean_value_NO2'], axis=1)\n",
    "feature_list = list(x.columns)"
   ]
  },
  {
   "cell_type": "code",
   "execution_count": 6,
   "id": "1deb2a3e",
   "metadata": {
    "execution": {
     "iopub.execute_input": "2022-05-05T13:01:36.235077Z",
     "iopub.status.busy": "2022-05-05T13:01:36.234433Z",
     "iopub.status.idle": "2022-05-05T13:01:38.269199Z",
     "shell.execute_reply": "2022-05-05T13:01:38.269884Z",
     "shell.execute_reply.started": "2022-05-04T14:17:45.342289Z"
    },
    "papermill": {
     "duration": 2.067664,
     "end_time": "2022-05-05T13:01:38.270072",
     "exception": false,
     "start_time": "2022-05-05T13:01:36.202408",
     "status": "completed"
    },
    "tags": []
   },
   "outputs": [
    {
     "data": {
      "text/html": [
       "<style type='text/css'>\n",
       ".datatable table.frame { margin-bottom: 0; }\n",
       ".datatable table.frame thead { border-bottom: none; }\n",
       ".datatable table.frame tr.coltypes td {  color: #FFFFFF;  line-height: 6px;  padding: 0 0.5em;}\n",
       ".datatable .bool    { background: #DDDD99; }\n",
       ".datatable .object  { background: #565656; }\n",
       ".datatable .int     { background: #5D9E5D; }\n",
       ".datatable .float   { background: #4040CC; }\n",
       ".datatable .str     { background: #CC4040; }\n",
       ".datatable .time    { background: #40CC40; }\n",
       ".datatable .row_index {  background: var(--jp-border-color3);  border-right: 1px solid var(--jp-border-color0);  color: var(--jp-ui-font-color3);  font-size: 9px;}\n",
       ".datatable .frame tbody td { text-align: left; }\n",
       ".datatable .frame tr.coltypes .row_index {  background: var(--jp-border-color0);}\n",
       ".datatable th:nth-child(2) { padding-left: 12px; }\n",
       ".datatable .hellipsis {  color: var(--jp-cell-editor-border-color);}\n",
       ".datatable .vellipsis {  background: var(--jp-layout-color0);  color: var(--jp-cell-editor-border-color);}\n",
       ".datatable .na {  color: var(--jp-cell-editor-border-color);  font-size: 80%;}\n",
       ".datatable .sp {  opacity: 0.25;}\n",
       ".datatable .footer { font-size: 9px; }\n",
       ".datatable .frame_dimensions {  background: var(--jp-border-color3);  border-top: 1px solid var(--jp-border-color0);  color: var(--jp-ui-font-color3);  display: inline-block;  opacity: 0.6;  padding: 1px 10px 1px 5px;}\n",
       "</style>\n"
      ],
      "text/plain": [
       "<IPython.core.display.HTML object>"
      ]
     },
     "metadata": {},
     "output_type": "display_data"
    }
   ],
   "source": [
    "                       ## CONSTRUCTING LightGBM\n",
    "                       ## Import the model we are using\n",
    "        \n",
    "import lightgbm as lgb\n",
    "from sklearn.model_selection import train_test_split\n",
    "\n",
    "\n",
    "##STEP GENERATING CROSS VALIDATION (80% TRAINING OF MODEL; \n",
    "        ##25% TESTING OF MODEL;EVALUATING MODEL PERFORMANCE)\n",
    "\n",
    "X_train, X_test, Y_train, Y_test = train_test_split(x, y, test_size=0.25, random_state=20)\n",
    "#random state is needed to ensure that same results are generated each time."
   ]
  },
  {
   "cell_type": "code",
   "execution_count": 7,
   "id": "a1fc2560",
   "metadata": {
    "execution": {
     "iopub.execute_input": "2022-05-05T13:01:38.329684Z",
     "iopub.status.busy": "2022-05-05T13:01:38.328754Z",
     "iopub.status.idle": "2022-05-05T13:01:38.337166Z",
     "shell.execute_reply": "2022-05-05T13:01:38.336561Z",
     "shell.execute_reply.started": "2022-05-04T14:17:50.029945Z"
    },
    "papermill": {
     "duration": 0.039635,
     "end_time": "2022-05-05T13:01:38.337318",
     "exception": false,
     "start_time": "2022-05-05T13:01:38.297683",
     "status": "completed"
    },
    "tags": []
   },
   "outputs": [
    {
     "name": "stdout",
     "output_type": "stream",
     "text": [
      "Training Features Shape: (361, 12)\n",
      "Training Labels Shape: (361,)\n",
      "Testing Features Shape: (121, 12)\n",
      "Testing Labels Shape: (121,)\n"
     ]
    }
   ],
   "source": [
    "## ENSURING THAT X- AND Y-TRAINING SET CONTAIN SAME AMOUNT OF ROWS. SAME FOR TESTING.\n",
    "print('Training Features Shape:',X_train.shape)\n",
    "print('Training Labels Shape:', Y_train.shape)\n",
    "print('Testing Features Shape:', X_test.shape)\n",
    "print('Testing Labels Shape:', Y_test.shape)"
   ]
  },
  {
   "cell_type": "code",
   "execution_count": 8,
   "id": "653aa186",
   "metadata": {
    "execution": {
     "iopub.execute_input": "2022-05-05T13:01:38.403573Z",
     "iopub.status.busy": "2022-05-05T13:01:38.402915Z",
     "iopub.status.idle": "2022-05-05T13:01:38.502963Z",
     "shell.execute_reply": "2022-05-05T13:01:38.503999Z",
     "shell.execute_reply.started": "2022-05-04T14:17:52.661514Z"
    },
    "papermill": {
     "duration": 0.137941,
     "end_time": "2022-05-05T13:01:38.504218",
     "exception": false,
     "start_time": "2022-05-05T13:01:38.366277",
     "status": "completed"
    },
    "tags": []
   },
   "outputs": [
    {
     "data": {
      "text/plain": [
       "LGBMRegressor(random_state=42)"
      ]
     },
     "execution_count": 8,
     "metadata": {},
     "output_type": "execute_result"
    }
   ],
   "source": [
    "## PARAMETERS FOR MODEL\n",
    "model = lgb.LGBMRegressor(random_state=42)\n",
    "model.fit(X_train, Y_train)\n"
   ]
  },
  {
   "cell_type": "code",
   "execution_count": 9,
   "id": "588452f6",
   "metadata": {
    "execution": {
     "iopub.execute_input": "2022-05-05T13:01:38.566115Z",
     "iopub.status.busy": "2022-05-05T13:01:38.565432Z",
     "iopub.status.idle": "2022-05-05T13:01:38.568403Z",
     "shell.execute_reply": "2022-05-05T13:01:38.568900Z",
     "shell.execute_reply.started": "2021-10-20T18:48:03.460695Z"
    },
    "papermill": {
     "duration": 0.03463,
     "end_time": "2022-05-05T13:01:38.569094",
     "exception": false,
     "start_time": "2022-05-05T13:01:38.534464",
     "status": "completed"
    },
    "tags": []
   },
   "outputs": [],
   "source": [
    "# ## PARAMETERS FOR MODEL\n",
    "# model = lgb.LGBMRegressor(reg_alpha =2, reg_lambda = 0, max_depth = 5, learning_rate = 0.002, n_estimators =2000, random_state=42)\n",
    "# model.fit(X_train, Y_train)"
   ]
  },
  {
   "cell_type": "code",
   "execution_count": 10,
   "id": "d2cf8390",
   "metadata": {
    "execution": {
     "iopub.execute_input": "2022-05-05T13:01:38.631194Z",
     "iopub.status.busy": "2022-05-05T13:01:38.630517Z",
     "iopub.status.idle": "2022-05-05T13:01:38.643164Z",
     "shell.execute_reply": "2022-05-05T13:01:38.643722Z",
     "shell.execute_reply.started": "2022-05-04T14:17:56.16389Z"
    },
    "papermill": {
     "duration": 0.044885,
     "end_time": "2022-05-05T13:01:38.643952",
     "exception": false,
     "start_time": "2022-05-05T13:01:38.599067",
     "status": "completed"
    },
    "tags": []
   },
   "outputs": [],
   "source": [
    "##DEFINING ORIGINAL Y-VALUES AND PREDICTED Y-VALUES\n",
    "expected_y  = Y_test\n",
    "predicted_y = model.predict(X_test)"
   ]
  },
  {
   "cell_type": "code",
   "execution_count": 11,
   "id": "00574b91",
   "metadata": {
    "execution": {
     "iopub.execute_input": "2022-05-05T13:01:38.709229Z",
     "iopub.status.busy": "2022-05-05T13:01:38.708579Z",
     "iopub.status.idle": "2022-05-05T13:01:38.715822Z",
     "shell.execute_reply": "2022-05-05T13:01:38.716507Z",
     "shell.execute_reply.started": "2022-05-04T14:17:57.808289Z"
    },
    "papermill": {
     "duration": 0.042287,
     "end_time": "2022-05-05T13:01:38.716730",
     "exception": false,
     "start_time": "2022-05-05T13:01:38.674443",
     "status": "completed"
    },
    "tags": []
   },
   "outputs": [],
   "source": [
    "expected_y_tr  = Y_train\n",
    "predicted_y_tr = model.predict(X_train)"
   ]
  },
  {
   "cell_type": "code",
   "execution_count": 12,
   "id": "881e9349",
   "metadata": {
    "execution": {
     "iopub.execute_input": "2022-05-05T13:01:38.783003Z",
     "iopub.status.busy": "2022-05-05T13:01:38.782339Z",
     "iopub.status.idle": "2022-05-05T13:01:38.785104Z",
     "shell.execute_reply": "2022-05-05T13:01:38.785551Z",
     "shell.execute_reply.started": "2021-10-20T18:48:04.330078Z"
    },
    "papermill": {
     "duration": 0.037045,
     "end_time": "2022-05-05T13:01:38.785737",
     "exception": false,
     "start_time": "2022-05-05T13:01:38.748692",
     "status": "completed"
    },
    "tags": []
   },
   "outputs": [],
   "source": [
    "##EVALUATING PERFORMANCE OF LIGHTGBM MODEL"
   ]
  },
  {
   "cell_type": "code",
   "execution_count": 13,
   "id": "007e9f54",
   "metadata": {
    "execution": {
     "iopub.execute_input": "2022-05-05T13:01:38.849242Z",
     "iopub.status.busy": "2022-05-05T13:01:38.848623Z",
     "iopub.status.idle": "2022-05-05T13:01:38.852257Z",
     "shell.execute_reply": "2022-05-05T13:01:38.852835Z",
     "shell.execute_reply.started": "2022-05-04T14:18:00.748237Z"
    },
    "papermill": {
     "duration": 0.038904,
     "end_time": "2022-05-05T13:01:38.852990",
     "exception": false,
     "start_time": "2022-05-05T13:01:38.814086",
     "status": "completed"
    },
    "tags": []
   },
   "outputs": [
    {
     "name": "stdout",
     "output_type": "stream",
     "text": [
      "RMSE training:  2.777639899213866\n",
      "RMSE testing:  8.051676840680084\n"
     ]
    }
   ],
   "source": [
    "##RMSE\n",
    "\n",
    "def rmse(predictions, targets):\n",
    "    return np.sqrt(((predictions - targets) ** 2).mean())\n",
    "\n",
    "print('RMSE training: ',rmse(predicted_y_tr, expected_y_tr))\n",
    "print('RMSE testing: ', rmse(predicted_y, expected_y))"
   ]
  },
  {
   "cell_type": "code",
   "execution_count": 14,
   "id": "fd6d96e8",
   "metadata": {
    "execution": {
     "iopub.execute_input": "2022-05-05T13:01:38.913684Z",
     "iopub.status.busy": "2022-05-05T13:01:38.913086Z",
     "iopub.status.idle": "2022-05-05T13:01:38.920083Z",
     "shell.execute_reply": "2022-05-05T13:01:38.920588Z",
     "shell.execute_reply.started": "2022-05-04T14:18:13.74861Z"
    },
    "papermill": {
     "duration": 0.039145,
     "end_time": "2022-05-05T13:01:38.920787",
     "exception": false,
     "start_time": "2022-05-05T13:01:38.881642",
     "status": "completed"
    },
    "tags": []
   },
   "outputs": [
    {
     "name": "stdout",
     "output_type": "stream",
     "text": [
      "R2 score training:  0.9513308407980061\n",
      "R2 score testing:  0.6457102680338802\n"
     ]
    }
   ],
   "source": [
    "## R2\n",
    "\n",
    "from sklearn.metrics import r2_score\n",
    "print('R2 score training: ', r2_score(expected_y_tr, predicted_y_tr))\n",
    "print('R2 score testing: ', r2_score(expected_y, predicted_y))"
   ]
  },
  {
   "cell_type": "code",
   "execution_count": 15,
   "id": "07125a8c",
   "metadata": {
    "execution": {
     "iopub.execute_input": "2022-05-05T13:01:38.983637Z",
     "iopub.status.busy": "2022-05-05T13:01:38.982972Z",
     "iopub.status.idle": "2022-05-05T13:01:38.989949Z",
     "shell.execute_reply": "2022-05-05T13:01:38.990429Z",
     "shell.execute_reply.started": "2022-05-04T14:18:26.282011Z"
    },
    "papermill": {
     "duration": 0.040067,
     "end_time": "2022-05-05T13:01:38.990630",
     "exception": false,
     "start_time": "2022-05-05T13:01:38.950563",
     "status": "completed"
    },
    "tags": []
   },
   "outputs": [
    {
     "name": "stdout",
     "output_type": "stream",
     "text": [
      "MAE training:  1.8380576543860079\n",
      "MAE testing:  5.530682448789121\n"
     ]
    }
   ],
   "source": [
    "##MEAN ABSOLUTE ERROR \n",
    "from sklearn.metrics import mean_absolute_error\n",
    "print('MAE training: ', mean_absolute_error(expected_y_tr, predicted_y_tr))\n",
    "print('MAE testing: ', mean_absolute_error(expected_y, predicted_y))"
   ]
  },
  {
   "cell_type": "code",
   "execution_count": 16,
   "id": "c753de0c",
   "metadata": {
    "execution": {
     "iopub.execute_input": "2022-05-05T13:01:39.057141Z",
     "iopub.status.busy": "2022-05-05T13:01:39.056125Z",
     "iopub.status.idle": "2022-05-05T13:01:39.060316Z",
     "shell.execute_reply": "2022-05-05T13:01:39.064051Z",
     "shell.execute_reply.started": "2022-05-04T14:18:44.290598Z"
    },
    "papermill": {
     "duration": 0.043616,
     "end_time": "2022-05-05T13:01:39.064228",
     "exception": false,
     "start_time": "2022-05-05T13:01:39.020612",
     "status": "completed"
    },
    "tags": []
   },
   "outputs": [
    {
     "name": "stdout",
     "output_type": "stream",
     "text": [
      "Parameters currently in use:\n",
      "\n",
      "{'boosting_type': 'gbdt',\n",
      " 'class_weight': None,\n",
      " 'colsample_bytree': 1.0,\n",
      " 'importance_type': 'split',\n",
      " 'learning_rate': 0.1,\n",
      " 'max_depth': -1,\n",
      " 'min_child_samples': 20,\n",
      " 'min_child_weight': 0.001,\n",
      " 'min_split_gain': 0.0,\n",
      " 'n_estimators': 100,\n",
      " 'n_jobs': -1,\n",
      " 'num_leaves': 31,\n",
      " 'objective': None,\n",
      " 'random_state': 42,\n",
      " 'reg_alpha': 0.0,\n",
      " 'reg_lambda': 0.0,\n",
      " 'silent': True,\n",
      " 'subsample': 1.0,\n",
      " 'subsample_for_bin': 200000,\n",
      " 'subsample_freq': 0}\n"
     ]
    }
   ],
   "source": [
    "#HYPERPARAMETER TUNING\n",
    "#VERIFYING CURRENT RANDOM FOREST HYPERPARAMETERS \n",
    "\n",
    "from pprint import pprint\n",
    "# Look at parameters used by our current forest\n",
    "print('Parameters currently in use:\\n')\n",
    "pprint(model.get_params())"
   ]
  },
  {
   "cell_type": "code",
   "execution_count": 17,
   "id": "4694323f",
   "metadata": {
    "execution": {
     "iopub.execute_input": "2022-05-05T13:01:39.127089Z",
     "iopub.status.busy": "2022-05-05T13:01:39.126393Z",
     "iopub.status.idle": "2022-05-05T13:01:39.142481Z",
     "shell.execute_reply": "2022-05-05T13:01:39.141957Z",
     "shell.execute_reply.started": "2022-05-04T14:18:53.275217Z"
    },
    "papermill": {
     "duration": 0.048534,
     "end_time": "2022-05-05T13:01:39.142614",
     "exception": false,
     "start_time": "2022-05-05T13:01:39.094080",
     "status": "completed"
    },
    "tags": []
   },
   "outputs": [
    {
     "name": "stdout",
     "output_type": "stream",
     "text": [
      "{'bootstrap': [True, False],\n",
      " 'max_depth': [10, 20, 30, 40, 50, 60, 70, 80, 90, 100, 110, None],\n",
      " 'max_features': ['auto', 'sqrt'],\n",
      " 'min_samples_leaf': [1, 2, 4],\n",
      " 'min_samples_split': [2, 5, 10],\n",
      " 'n_estimators': [200, 400, 600, 800, 1000, 1200, 1400, 1600, 1800, 2000]}\n"
     ]
    },
    {
     "data": {
      "text/plain": [
       "{'bootstrap': [True, False],\n",
       " 'max_depth': [10, 20, 30, 40, 50, 60, 70, 80, 90, 100, None],\n",
       " 'max_features': ['auto', 'sqrt'],\n",
       " 'min_samples_leaf': [1, 2, 4],\n",
       " 'min_samples_split': [2, 5, 10],\n",
       " 'n_estimators': [200, 400, 600, 800, 1000, 1200, 1400, 1600, 1800, 2000]}"
      ]
     },
     "execution_count": 17,
     "metadata": {},
     "output_type": "execute_result"
    }
   ],
   "source": [
    "#CREATE PARAMETER GRID\n",
    "\n",
    "from sklearn.model_selection import RandomizedSearchCV\n",
    "# Number of trees in random forest\n",
    "n_estimators = [int(x) for x in np.linspace(start = 200, stop = 2000, num = 10)]\n",
    "# Number of features to consider at every split\n",
    "max_features = ['auto', 'sqrt']\n",
    "# Maximum number of levels in tree\n",
    "max_depth = [int(x) for x in np.linspace(10, 110, num = 11)]\n",
    "max_depth.append(None)\n",
    "# Minimum number of samples required to split a node\n",
    "min_samples_split = [2, 5, 10]\n",
    "# Minimum number of samples required at each leaf node\n",
    "min_samples_leaf = [1, 2, 4]\n",
    "# Method of selecting samples for training each tree\n",
    "bootstrap = [True, False]\n",
    "# Create the random grid\n",
    "random_grid = {'n_estimators': n_estimators,\n",
    "               'max_features': max_features,\n",
    "               'max_depth': max_depth,\n",
    "               'min_samples_split': min_samples_split,\n",
    "               'min_samples_leaf': min_samples_leaf,\n",
    "               'bootstrap': bootstrap}\n",
    "pprint(random_grid)\n",
    "{'bootstrap': [True, False],\n",
    " 'max_depth': [10, 20, 30, 40, 50, 60, 70, 80, 90, 100, None],\n",
    " 'max_features': ['auto', 'sqrt'],\n",
    " 'min_samples_leaf': [1, 2, 4],\n",
    " 'min_samples_split': [2, 5, 10],\n",
    " 'n_estimators': [200, 400, 600, 800, 1000, 1200, 1400, 1600, 1800, 2000]}"
   ]
  },
  {
   "cell_type": "code",
   "execution_count": 18,
   "id": "7a307318",
   "metadata": {
    "execution": {
     "iopub.execute_input": "2022-05-05T13:01:39.207152Z",
     "iopub.status.busy": "2022-05-05T13:01:39.206488Z",
     "iopub.status.idle": "2022-05-05T13:02:25.622544Z",
     "shell.execute_reply": "2022-05-05T13:02:25.620232Z",
     "shell.execute_reply.started": "2022-05-04T14:18:58.277265Z"
    },
    "papermill": {
     "duration": 46.449471,
     "end_time": "2022-05-05T13:02:25.622768",
     "exception": false,
     "start_time": "2022-05-05T13:01:39.173297",
     "status": "completed"
    },
    "tags": []
   },
   "outputs": [
    {
     "name": "stdout",
     "output_type": "stream",
     "text": [
      "Fitting 3 folds for each of 100 candidates, totalling 300 fits\n"
     ]
    },
    {
     "name": "stderr",
     "output_type": "stream",
     "text": [
      "[Parallel(n_jobs=-1)]: Using backend LokyBackend with 4 concurrent workers.\n",
      "[Parallel(n_jobs=-1)]: Done  33 tasks      | elapsed:    8.5s\n",
      "[Parallel(n_jobs=-1)]: Done 154 tasks      | elapsed:   25.6s\n"
     ]
    },
    {
     "name": "stdout",
     "output_type": "stream",
     "text": [
      "[LightGBM] [Warning] Unknown parameter: max_features\n",
      "[LightGBM] [Warning] Unknown parameter: min_samples_leaf\n",
      "[LightGBM] [Warning] Unknown parameter: min_samples_split\n",
      "[LightGBM] [Warning] Unknown parameter: bootstrap\n"
     ]
    },
    {
     "name": "stderr",
     "output_type": "stream",
     "text": [
      "[Parallel(n_jobs=-1)]: Done 300 out of 300 | elapsed:   46.3s finished\n"
     ]
    },
    {
     "data": {
      "text/plain": [
       "RandomizedSearchCV(cv=3, estimator=LGBMRegressor(random_state=42), n_iter=100,\n",
       "                   n_jobs=-1,\n",
       "                   param_distributions={'bootstrap': [True, False],\n",
       "                                        'max_depth': [10, 20, 30, 40, 50, 60,\n",
       "                                                      70, 80, 90, 100, 110,\n",
       "                                                      None],\n",
       "                                        'max_features': ['auto', 'sqrt'],\n",
       "                                        'min_samples_leaf': [1, 2, 4],\n",
       "                                        'min_samples_split': [2, 5, 10],\n",
       "                                        'n_estimators': [200, 400, 600, 800,\n",
       "                                                         1000, 1200, 1400, 1600,\n",
       "                                                         1800, 2000]},\n",
       "                   random_state=42, verbose=2)"
      ]
     },
     "execution_count": 18,
     "metadata": {},
     "output_type": "execute_result"
    }
   ],
   "source": [
    "##RANDOM SEARCH TRAINING (https://towardsdatascience.com/hyperparameter-tuning-the-random-forest-in-python-using-scikit-learn-28d2aa77dd74)\n",
    "\n",
    "# Use the random grid to search for best hyperparameters\n",
    "# First create the base model to tune\n",
    "\n",
    "model = lgb.LGBMRegressor(random_state=42)\n",
    "# Random search of parameters, using 3 fold cross validation, \n",
    "# search across 100 different combinations, and use all available cores\n",
    "model_random = RandomizedSearchCV(estimator = model, param_distributions = random_grid, n_iter = 100, cv = 3, verbose=2, random_state=42, n_jobs = -1)\n",
    "# Fit the random search model\n",
    "model_random.fit(X_train, Y_train)"
   ]
  },
  {
   "cell_type": "code",
   "execution_count": 19,
   "id": "31634850",
   "metadata": {
    "execution": {
     "iopub.execute_input": "2022-05-05T13:02:25.691329Z",
     "iopub.status.busy": "2022-05-05T13:02:25.690728Z",
     "iopub.status.idle": "2022-05-05T13:02:25.696052Z",
     "shell.execute_reply": "2022-05-05T13:02:25.696597Z",
     "shell.execute_reply.started": "2022-05-04T14:22:20.101613Z"
    },
    "papermill": {
     "duration": 0.040953,
     "end_time": "2022-05-05T13:02:25.696802",
     "exception": false,
     "start_time": "2022-05-05T13:02:25.655849",
     "status": "completed"
    },
    "tags": []
   },
   "outputs": [
    {
     "data": {
      "text/plain": [
       "{'n_estimators': 200,\n",
       " 'min_samples_split': 5,\n",
       " 'min_samples_leaf': 4,\n",
       " 'max_features': 'auto',\n",
       " 'max_depth': 10,\n",
       " 'bootstrap': True}"
      ]
     },
     "execution_count": 19,
     "metadata": {},
     "output_type": "execute_result"
    }
   ],
   "source": [
    "model_random.best_params_"
   ]
  },
  {
   "cell_type": "code",
   "execution_count": 20,
   "id": "85f9e37d",
   "metadata": {
    "execution": {
     "iopub.execute_input": "2022-05-05T13:02:25.765588Z",
     "iopub.status.busy": "2022-05-05T13:02:25.764959Z",
     "iopub.status.idle": "2022-05-05T13:02:25.858056Z",
     "shell.execute_reply": "2022-05-05T13:02:25.858907Z",
     "shell.execute_reply.started": "2022-05-04T14:23:28.18374Z"
    },
    "papermill": {
     "duration": 0.12936,
     "end_time": "2022-05-05T13:02:25.859125",
     "exception": false,
     "start_time": "2022-05-05T13:02:25.729765",
     "status": "completed"
    },
    "tags": []
   },
   "outputs": [
    {
     "data": {
      "text/plain": [
       "LGBMRegressor(bootstrap=True, max_depth=10, max_features='auto',\n",
       "              min_samples_leaf=4, min_samples_split=5, n_estimators=200)"
      ]
     },
     "execution_count": 20,
     "metadata": {},
     "output_type": "execute_result"
    }
   ],
   "source": [
    "model_hyper = lgb.LGBMRegressor(n_estimators=200, min_samples_split=5, \n",
    "                                 min_samples_leaf=4, max_features='auto',\n",
    "                                max_depth=10, bootstrap=True)\n",
    "\n",
    "# Train the model on training data\n",
    "model_hyper.fit(X_train, Y_train)"
   ]
  },
  {
   "cell_type": "code",
   "execution_count": 21,
   "id": "eeefb12d",
   "metadata": {
    "execution": {
     "iopub.execute_input": "2022-05-05T13:02:25.929759Z",
     "iopub.status.busy": "2022-05-05T13:02:25.929124Z",
     "iopub.status.idle": "2022-05-05T13:02:25.944708Z",
     "shell.execute_reply": "2022-05-05T13:02:25.945352Z",
     "shell.execute_reply.started": "2022-05-04T14:23:32.86341Z"
    },
    "papermill": {
     "duration": 0.051917,
     "end_time": "2022-05-05T13:02:25.945568",
     "exception": false,
     "start_time": "2022-05-05T13:02:25.893651",
     "status": "completed"
    },
    "tags": []
   },
   "outputs": [],
   "source": [
    "##DEFINING ORIGINAL Y-VALUES AND PREDICTED Y-VALUES\n",
    "expected_y_H  = Y_test\n",
    "predicted_y_H = model_hyper.predict(X_test)\n",
    "\n",
    "expected_y_tr_H = Y_train\n",
    "predicted_y_tr_H = model_hyper.predict(X_train)"
   ]
  },
  {
   "cell_type": "code",
   "execution_count": 22,
   "id": "ede303d6",
   "metadata": {
    "execution": {
     "iopub.execute_input": "2022-05-05T13:02:26.024991Z",
     "iopub.status.busy": "2022-05-05T13:02:26.024322Z",
     "iopub.status.idle": "2022-05-05T13:02:26.027891Z",
     "shell.execute_reply": "2022-05-05T13:02:26.028615Z",
     "shell.execute_reply.started": "2022-05-04T14:23:36.942469Z"
    },
    "papermill": {
     "duration": 0.04661,
     "end_time": "2022-05-05T13:02:26.028857",
     "exception": false,
     "start_time": "2022-05-05T13:02:25.982247",
     "status": "completed"
    },
    "tags": []
   },
   "outputs": [
    {
     "name": "stdout",
     "output_type": "stream",
     "text": [
      "RMSE training dataset with hypertuning:  1.5951686867543777\n",
      "RMSE testing dataset with hypertuning:  8.341923649555483\n"
     ]
    }
   ],
   "source": [
    "##RMSE\n",
    "\n",
    "def rmse(predictions, targets):\n",
    "    return np.sqrt(((predictions - targets) ** 2).mean())\n",
    "\n",
    "print('RMSE training dataset with hypertuning: ', rmse(predicted_y_tr_H, expected_y_tr_H))\n",
    "print('RMSE testing dataset with hypertuning: ', rmse(predicted_y_H, expected_y_H))"
   ]
  },
  {
   "cell_type": "code",
   "execution_count": 23,
   "id": "5a377d99",
   "metadata": {
    "execution": {
     "iopub.execute_input": "2022-05-05T13:02:26.102176Z",
     "iopub.status.busy": "2022-05-05T13:02:26.101544Z",
     "iopub.status.idle": "2022-05-05T13:02:26.108343Z",
     "shell.execute_reply": "2022-05-05T13:02:26.108943Z",
     "shell.execute_reply.started": "2022-05-04T14:23:41.520364Z"
    },
    "papermill": {
     "duration": 0.044886,
     "end_time": "2022-05-05T13:02:26.109120",
     "exception": false,
     "start_time": "2022-05-05T13:02:26.064234",
     "status": "completed"
    },
    "tags": []
   },
   "outputs": [
    {
     "name": "stdout",
     "output_type": "stream",
     "text": [
      "R2 score training dataset with hypertuning:  0.9839485159591732\n",
      "R2 score testing dataset with hypertuning:  0.6197070142373511\n"
     ]
    }
   ],
   "source": [
    "##R2\n",
    "\n",
    "from sklearn.metrics import r2_score\n",
    "print('R2 score training dataset with hypertuning: ', r2_score(expected_y_tr_H, predicted_y_tr_H))\n",
    "print('R2 score testing dataset with hypertuning: ', r2_score(expected_y_H, predicted_y_H))"
   ]
  },
  {
   "cell_type": "code",
   "execution_count": 24,
   "id": "b520f62e",
   "metadata": {
    "execution": {
     "iopub.execute_input": "2022-05-05T13:02:26.180425Z",
     "iopub.status.busy": "2022-05-05T13:02:26.179768Z",
     "iopub.status.idle": "2022-05-05T13:02:26.187049Z",
     "shell.execute_reply": "2022-05-05T13:02:26.187639Z",
     "shell.execute_reply.started": "2022-05-04T14:24:06.937294Z"
    },
    "papermill": {
     "duration": 0.044636,
     "end_time": "2022-05-05T13:02:26.187842",
     "exception": false,
     "start_time": "2022-05-05T13:02:26.143206",
     "status": "completed"
    },
    "tags": []
   },
   "outputs": [
    {
     "name": "stdout",
     "output_type": "stream",
     "text": [
      "MAE training dataset with hypertuning:  1.0449864526733343\n",
      "MAE testing dataset with hypertuning:  5.7611211659137185\n"
     ]
    }
   ],
   "source": [
    "##MEAN ABSOLUTE ERROR \n",
    "from sklearn.metrics import mean_absolute_error\n",
    "print('MAE training dataset with hypertuning: ', mean_absolute_error(expected_y_tr_H, predicted_y_tr_H))\n",
    "print('MAE testing dataset with hypertuning: ', mean_absolute_error(expected_y_H, predicted_y_H))"
   ]
  },
  {
   "cell_type": "code",
   "execution_count": 25,
   "id": "b06c14bc",
   "metadata": {
    "execution": {
     "iopub.execute_input": "2022-05-05T13:02:26.259868Z",
     "iopub.status.busy": "2022-05-05T13:02:26.259211Z",
     "iopub.status.idle": "2022-05-05T13:02:26.264592Z",
     "shell.execute_reply": "2022-05-05T13:02:26.265186Z",
     "shell.execute_reply.started": "2022-05-04T14:24:49.055632Z"
    },
    "papermill": {
     "duration": 0.043151,
     "end_time": "2022-05-05T13:02:26.265359",
     "exception": false,
     "start_time": "2022-05-05T13:02:26.222208",
     "status": "completed"
    },
    "tags": []
   },
   "outputs": [],
   "source": [
    "from sklearn.model_selection import GridSearchCV\n",
    "# Create the parameter grid based on the results of random search \n",
    "param_grid = {\n",
    "    'bootstrap': [True],\n",
    "    'max_depth': [80, 90, 100, 110],\n",
    "    'max_features': [2, 3],\n",
    "    'min_samples_leaf': [3, 4, 5],\n",
    "    'min_samples_split': [8, 10, 12],\n",
    "    'n_estimators': [100, 200, 300, 1000]\n",
    "}\n",
    "# Create a based model\n",
    "model = lgb.LGBMRegressor(random_state=42)\n",
    "# Instantiate the grid search model\n",
    "grid_search = GridSearchCV(estimator = model, param_grid = param_grid, \n",
    "                          cv = 3, n_jobs = -1, verbose = 2)"
   ]
  },
  {
   "cell_type": "code",
   "execution_count": 26,
   "id": "118eddb1",
   "metadata": {
    "execution": {
     "iopub.execute_input": "2022-05-05T13:02:26.336683Z",
     "iopub.status.busy": "2022-05-05T13:02:26.336028Z",
     "iopub.status.idle": "2022-05-05T13:03:06.737813Z",
     "shell.execute_reply": "2022-05-05T13:03:06.738936Z",
     "shell.execute_reply.started": "2022-05-04T14:24:53.2019Z"
    },
    "papermill": {
     "duration": 40.439527,
     "end_time": "2022-05-05T13:03:06.739175",
     "exception": false,
     "start_time": "2022-05-05T13:02:26.299648",
     "status": "completed"
    },
    "tags": []
   },
   "outputs": [
    {
     "name": "stdout",
     "output_type": "stream",
     "text": [
      "Fitting 3 folds for each of 288 candidates, totalling 864 fits\n"
     ]
    },
    {
     "name": "stderr",
     "output_type": "stream",
     "text": [
      "[Parallel(n_jobs=-1)]: Using backend LokyBackend with 4 concurrent workers.\n",
      "[Parallel(n_jobs=-1)]: Done  58 tasks      | elapsed:    2.6s\n",
      "[Parallel(n_jobs=-1)]: Done 300 tasks      | elapsed:   14.1s\n",
      "[Parallel(n_jobs=-1)]: Done 706 tasks      | elapsed:   32.8s\n"
     ]
    },
    {
     "name": "stdout",
     "output_type": "stream",
     "text": [
      "[LightGBM] [Warning] Unknown parameter: min_samples_leaf\n",
      "[LightGBM] [Warning] Unknown parameter: max_features\n",
      "[LightGBM] [Warning] Unknown parameter: min_samples_split\n",
      "[LightGBM] [Warning] Unknown parameter: bootstrap\n"
     ]
    },
    {
     "name": "stderr",
     "output_type": "stream",
     "text": [
      "[Parallel(n_jobs=-1)]: Done 864 out of 864 | elapsed:   40.3s finished\n"
     ]
    },
    {
     "data": {
      "text/plain": [
       "{'bootstrap': True,\n",
       " 'max_depth': 80,\n",
       " 'max_features': 2,\n",
       " 'min_samples_leaf': 3,\n",
       " 'min_samples_split': 8,\n",
       " 'n_estimators': 100}"
      ]
     },
     "execution_count": 26,
     "metadata": {},
     "output_type": "execute_result"
    }
   ],
   "source": [
    "# Fit the grid search to the data\n",
    "grid_search.fit(X_train, Y_train)\n",
    "grid_search.best_params_"
   ]
  },
  {
   "cell_type": "code",
   "execution_count": 27,
   "id": "0c2107fc",
   "metadata": {
    "execution": {
     "iopub.execute_input": "2022-05-05T13:03:06.816634Z",
     "iopub.status.busy": "2022-05-05T13:03:06.816006Z",
     "iopub.status.idle": "2022-05-05T13:03:06.873079Z",
     "shell.execute_reply": "2022-05-05T13:03:06.873985Z",
     "shell.execute_reply.started": "2022-05-04T14:28:07.271735Z"
    },
    "papermill": {
     "duration": 0.096979,
     "end_time": "2022-05-05T13:03:06.874189",
     "exception": false,
     "start_time": "2022-05-05T13:03:06.777210",
     "status": "completed"
    },
    "tags": []
   },
   "outputs": [
    {
     "data": {
      "text/plain": [
       "LGBMRegressor(bootstrap=True, max_depth=80, max_features=2, min_samples_leaf=3,\n",
       "              min_samples_split=8, random_state=42)"
      ]
     },
     "execution_count": 27,
     "metadata": {},
     "output_type": "execute_result"
    }
   ],
   "source": [
    "from sklearn.model_selection import GridSearchCV\n",
    "\n",
    "\n",
    "# Create best grid model\n",
    "model_grid = lgb.LGBMRegressor(random_state=42, bootstrap=True, max_depth=80, max_features=2, \n",
    "                         min_samples_leaf=3, min_samples_split=8, n_estimators=100)\n",
    "model_grid.fit(X_train, Y_train)"
   ]
  },
  {
   "cell_type": "code",
   "execution_count": 28,
   "id": "fee94d5e",
   "metadata": {
    "execution": {
     "iopub.execute_input": "2022-05-05T13:03:06.952489Z",
     "iopub.status.busy": "2022-05-05T13:03:06.951882Z",
     "iopub.status.idle": "2022-05-05T13:03:06.962852Z",
     "shell.execute_reply": "2022-05-05T13:03:06.963474Z",
     "shell.execute_reply.started": "2022-05-04T14:28:10.101208Z"
    },
    "papermill": {
     "duration": 0.051312,
     "end_time": "2022-05-05T13:03:06.963695",
     "exception": false,
     "start_time": "2022-05-05T13:03:06.912383",
     "status": "completed"
    },
    "tags": []
   },
   "outputs": [],
   "source": [
    "##DEFINING ORIGINAL Y-VALUES AND PREDICTED Y-VALUES (FOR TESTING DATASET)\n",
    "expected_ygrid  = Y_test\n",
    "predicted_ygrid = model_grid.predict(X_test) #Predicting the test set results using the random forest regressor model"
   ]
  },
  {
   "cell_type": "code",
   "execution_count": 29,
   "id": "7e79606c",
   "metadata": {
    "execution": {
     "iopub.execute_input": "2022-05-05T13:03:07.047956Z",
     "iopub.status.busy": "2022-05-05T13:03:07.047070Z",
     "iopub.status.idle": "2022-05-05T13:03:07.052852Z",
     "shell.execute_reply": "2022-05-05T13:03:07.053502Z",
     "shell.execute_reply.started": "2022-05-04T14:28:12.380957Z"
    },
    "papermill": {
     "duration": 0.049899,
     "end_time": "2022-05-05T13:03:07.053736",
     "exception": false,
     "start_time": "2022-05-05T13:03:07.003837",
     "status": "completed"
    },
    "tags": []
   },
   "outputs": [],
   "source": [
    "##DEFINING ORIGINAL Y-VALUES AND PREDICTED Y-VALUES (FOR TRAINING DATASET)\n",
    "\n",
    "expected_y_tr_grid = Y_train\n",
    "predicted_y_tr_grid = model_grid.predict(X_train)\n",
    "# print(expected_y_tr, predicted_y_tr)"
   ]
  },
  {
   "cell_type": "code",
   "execution_count": 30,
   "id": "69240854",
   "metadata": {
    "execution": {
     "iopub.execute_input": "2022-05-05T13:03:07.139540Z",
     "iopub.status.busy": "2022-05-05T13:03:07.138839Z",
     "iopub.status.idle": "2022-05-05T13:03:07.143514Z",
     "shell.execute_reply": "2022-05-05T13:03:07.144388Z",
     "shell.execute_reply.started": "2022-05-04T14:28:14.166646Z"
    },
    "papermill": {
     "duration": 0.04941,
     "end_time": "2022-05-05T13:03:07.144630",
     "exception": false,
     "start_time": "2022-05-05T13:03:07.095220",
     "status": "completed"
    },
    "tags": []
   },
   "outputs": [
    {
     "name": "stdout",
     "output_type": "stream",
     "text": [
      "training rmse:  2.777639899213866\n",
      "testing rmse:  8.051676840680084\n"
     ]
    }
   ],
   "source": [
    "##RMSE - TRAIN\n",
    "\n",
    "def rmse(predictions, targets):\n",
    "    return np.sqrt(((predictions - targets) ** 2).mean())\n",
    "\n",
    "print(\"training rmse: \", rmse(predicted_y_tr_grid, expected_y_tr_grid))\n",
    "print(\"testing rmse: \", rmse(predicted_ygrid, Y_test))"
   ]
  },
  {
   "cell_type": "code",
   "execution_count": 31,
   "id": "7c755fd4",
   "metadata": {
    "execution": {
     "iopub.execute_input": "2022-05-05T13:03:07.223040Z",
     "iopub.status.busy": "2022-05-05T13:03:07.222380Z",
     "iopub.status.idle": "2022-05-05T13:03:07.230964Z",
     "shell.execute_reply": "2022-05-05T13:03:07.230429Z",
     "shell.execute_reply.started": "2022-05-04T14:28:24.467984Z"
    },
    "papermill": {
     "duration": 0.048569,
     "end_time": "2022-05-05T13:03:07.231106",
     "exception": false,
     "start_time": "2022-05-05T13:03:07.182537",
     "status": "completed"
    },
    "tags": []
   },
   "outputs": [
    {
     "name": "stdout",
     "output_type": "stream",
     "text": [
      "R2 score training data:  0.9513308407980061\n",
      "R2 score testing data:  0.6457102680338802\n"
     ]
    }
   ],
   "source": [
    "##R2\n",
    "\n",
    "from sklearn.metrics import r2_score\n",
    "print(\"R2 score training data: \", r2_score(expected_y_tr_grid, predicted_y_tr_grid))\n",
    "print(\"R2 score testing data: \", r2_score(Y_test, predicted_ygrid))"
   ]
  },
  {
   "cell_type": "code",
   "execution_count": 32,
   "id": "c8ca923a",
   "metadata": {
    "execution": {
     "iopub.execute_input": "2022-05-05T13:03:07.309321Z",
     "iopub.status.busy": "2022-05-05T13:03:07.308712Z",
     "iopub.status.idle": "2022-05-05T13:03:07.316261Z",
     "shell.execute_reply": "2022-05-05T13:03:07.315596Z",
     "shell.execute_reply.started": "2022-05-04T14:28:34.980478Z"
    },
    "papermill": {
     "duration": 0.047843,
     "end_time": "2022-05-05T13:03:07.316400",
     "exception": false,
     "start_time": "2022-05-05T13:03:07.268557",
     "status": "completed"
    },
    "tags": []
   },
   "outputs": [
    {
     "name": "stdout",
     "output_type": "stream",
     "text": [
      "MAE training data:  1.8380576543860079\n",
      "MAE testing data:  5.530682448789121\n"
     ]
    }
   ],
   "source": [
    "##MEAN ABSOLUTE ERROR \n",
    "from sklearn.metrics import mean_absolute_error\n",
    "print(\"MAE training data: \", mean_absolute_error(expected_y_tr_grid, predicted_y_tr_grid))\n",
    "print(\"MAE testing data: \", mean_absolute_error(expected_ygrid, predicted_ygrid))"
   ]
  },
  {
   "cell_type": "code",
   "execution_count": null,
   "id": "586b31e5",
   "metadata": {
    "papermill": {
     "duration": 0.037534,
     "end_time": "2022-05-05T13:03:07.391915",
     "exception": false,
     "start_time": "2022-05-05T13:03:07.354381",
     "status": "completed"
    },
    "tags": []
   },
   "outputs": [],
   "source": []
  }
 ],
 "metadata": {
  "kernelspec": {
   "display_name": "Python 3",
   "language": "python",
   "name": "python3"
  },
  "language_info": {
   "codemirror_mode": {
    "name": "ipython",
    "version": 3
   },
   "file_extension": ".py",
   "mimetype": "text/x-python",
   "name": "python",
   "nbconvert_exporter": "python",
   "pygments_lexer": "ipython3",
   "version": "3.7.10"
  },
  "papermill": {
   "default_parameters": {},
   "duration": 101.905458,
   "end_time": "2022-05-05T13:03:09.089954",
   "environment_variables": {},
   "exception": null,
   "input_path": "__notebook__.ipynb",
   "output_path": "__notebook__.ipynb",
   "parameters": {},
   "start_time": "2022-05-05T13:01:27.184496",
   "version": "2.3.3"
  }
 },
 "nbformat": 4,
 "nbformat_minor": 5
}
