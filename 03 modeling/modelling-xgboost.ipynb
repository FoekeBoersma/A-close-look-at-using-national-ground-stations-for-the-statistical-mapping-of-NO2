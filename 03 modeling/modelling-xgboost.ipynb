{
 "cells": [
  {
   "cell_type": "code",
   "execution_count": 1,
   "id": "9bb2cb90",
   "metadata": {
    "_cell_guid": "b1076dfc-b9ad-4769-8c92-a6c4dae69d19",
    "_uuid": "8f2839f25d086af736a60e9eeb907d3b93b6e0e5",
    "execution": {
     "iopub.execute_input": "2022-05-05T12:49:35.563659Z",
     "iopub.status.busy": "2022-05-05T12:49:35.561928Z",
     "iopub.status.idle": "2022-05-05T12:49:35.587566Z",
     "shell.execute_reply": "2022-05-05T12:49:35.588231Z",
     "shell.execute_reply.started": "2022-05-05T07:57:07.484155Z"
    },
    "papermill": {
     "duration": 0.044522,
     "end_time": "2022-05-05T12:49:35.588644",
     "exception": false,
     "start_time": "2022-05-05T12:49:35.544122",
     "status": "completed"
    },
    "tags": []
   },
   "outputs": [
    {
     "name": "stdout",
     "output_type": "stream",
     "text": [
      "/kaggle/input/datasetlowestaic/dataset_lowestAIC.csv\n",
      "/kaggle/input/iterated-12preds/iterated_12vars.csv\n",
      "/kaggle/input/dataset-lowest-aic452022/dataset_lowestAIC_longlat.csv\n"
     ]
    }
   ],
   "source": [
    "### This Python 3 environment comes with many helpful analytics libraries installed\n",
    "# It is defined by the kaggle/python Docker image: https://github.com/kaggle/docker-python\n",
    "# For example, here's several helpful packages to load\n",
    "\n",
    "import numpy as np # linear algebra\n",
    "import pandas as pd # data processing, CSV file I/O (e.g. pd.read_csv)\n",
    "\n",
    "# Input data files are available in the read-only \"../input/\" directory\n",
    "# For example, running this (by clicking run or pressing Shift+Enter) will list all files under the input directory\n",
    "\n",
    "import os\n",
    "for dirname, _, filenames in os.walk('/kaggle/input'):\n",
    "    for filename in filenames:\n",
    "        print(os.path.join(dirname, filename))\n",
    "\n",
    "# You can write up to 20GB to the current directory (/kaggle/working/) that gets preserved as output when you create a version using \"Save & Run All\" \n",
    "# You can also write temporary files to /kaggle/temp/, but they won't be saved outside of the current session"
   ]
  },
  {
   "cell_type": "code",
   "execution_count": 2,
   "id": "8b4e9c2a",
   "metadata": {
    "execution": {
     "iopub.execute_input": "2022-05-05T12:49:35.623919Z",
     "iopub.status.busy": "2022-05-05T12:49:35.623267Z",
     "iopub.status.idle": "2022-05-05T12:49:35.723984Z",
     "shell.execute_reply": "2022-05-05T12:49:35.724421Z",
     "shell.execute_reply.started": "2022-05-05T07:57:07.502044Z"
    },
    "papermill": {
     "duration": 0.115417,
     "end_time": "2022-05-05T12:49:35.724657",
     "exception": false,
     "start_time": "2022-05-05T12:49:35.609240",
     "status": "completed"
    },
    "tags": []
   },
   "outputs": [],
   "source": [
    "df = pd.read_csv(r'../input/dataset-lowest-aic452022/dataset_lowestAIC_longlat.csv', sep=';')"
   ]
  },
  {
   "cell_type": "code",
   "execution_count": 3,
   "id": "a7d1c6a5",
   "metadata": {
    "execution": {
     "iopub.execute_input": "2022-05-05T12:49:35.751137Z",
     "iopub.status.busy": "2022-05-05T12:49:35.750546Z",
     "iopub.status.idle": "2022-05-05T12:49:35.762811Z",
     "shell.execute_reply": "2022-05-05T12:49:35.763253Z",
     "shell.execute_reply.started": "2022-05-05T07:57:07.524355Z"
    },
    "papermill": {
     "duration": 0.027183,
     "end_time": "2022-05-05T12:49:35.763458",
     "exception": false,
     "start_time": "2022-05-05T12:49:35.736275",
     "status": "completed"
    },
    "tags": []
   },
   "outputs": [],
   "source": [
    "#remove unique idenifier & geodata\n",
    "df = df.drop(['Unnamed: 0', 'Longitude', 'Latitude'], axis=1)"
   ]
  },
  {
   "cell_type": "code",
   "execution_count": 4,
   "id": "640b9d31",
   "metadata": {
    "execution": {
     "iopub.execute_input": "2022-05-05T12:49:35.790415Z",
     "iopub.status.busy": "2022-05-05T12:49:35.789826Z",
     "iopub.status.idle": "2022-05-05T12:49:35.794786Z",
     "shell.execute_reply": "2022-05-05T12:49:35.795264Z",
     "shell.execute_reply.started": "2022-05-05T07:57:07.552948Z"
    },
    "papermill": {
     "duration": 0.020274,
     "end_time": "2022-05-05T12:49:35.795443",
     "exception": false,
     "start_time": "2022-05-05T12:49:35.775169",
     "status": "completed"
    },
    "tags": []
   },
   "outputs": [],
   "source": [
    "#initialize response- and predictor variables\n",
    "y = df['mean_value_NO2']\n",
    "x = df.drop(['mean_value_NO2'], axis=1)\n",
    "feature_list = list(x.columns)"
   ]
  },
  {
   "cell_type": "code",
   "execution_count": 5,
   "id": "303dcc67",
   "metadata": {
    "execution": {
     "iopub.execute_input": "2022-05-05T12:49:35.822722Z",
     "iopub.status.busy": "2022-05-05T12:49:35.822133Z",
     "iopub.status.idle": "2022-05-05T12:49:36.814889Z",
     "shell.execute_reply": "2022-05-05T12:49:36.814326Z",
     "shell.execute_reply.started": "2022-05-05T07:57:07.597383Z"
    },
    "papermill": {
     "duration": 1.00801,
     "end_time": "2022-05-05T12:49:36.815033",
     "exception": false,
     "start_time": "2022-05-05T12:49:35.807023",
     "status": "completed"
    },
    "tags": []
   },
   "outputs": [],
   "source": [
    "                       ## CONSTRUCTING XGBoost\n",
    "    ##IMPORT XGBOOST MODULE\n",
    "                       ## Import the model we are using\n",
    "        \n",
    "import xgboost as xgb\n",
    "from sklearn.model_selection import train_test_split\n",
    "\n",
    "\n",
    "##STEP 8B. GENERATING CROSS VALIDATION (80% TRAINING OF MODEL; \n",
    "        ##20% TESTING OF MODEL;EVALUATING MODEL PERFORMANCE)\n",
    "\n",
    "X_train, X_test, Y_train, Y_test = train_test_split(x, y, test_size=0.25, random_state=20)\n",
    "#random state is needed to ensure that same results are generated each time."
   ]
  },
  {
   "cell_type": "code",
   "execution_count": 6,
   "id": "1df84cb1",
   "metadata": {
    "execution": {
     "iopub.execute_input": "2022-05-05T12:49:36.843358Z",
     "iopub.status.busy": "2022-05-05T12:49:36.842348Z",
     "iopub.status.idle": "2022-05-05T12:49:36.849859Z",
     "shell.execute_reply": "2022-05-05T12:49:36.850474Z",
     "shell.execute_reply.started": "2022-05-05T07:57:07.624002Z"
    },
    "papermill": {
     "duration": 0.023806,
     "end_time": "2022-05-05T12:49:36.850707",
     "exception": false,
     "start_time": "2022-05-05T12:49:36.826901",
     "status": "completed"
    },
    "tags": []
   },
   "outputs": [
    {
     "name": "stdout",
     "output_type": "stream",
     "text": [
      "Training Features Shape: (361, 12)\n",
      "Training Labels Shape: (361,)\n",
      "Testing Features Shape: (121, 12)\n",
      "Testing Labels Shape: (121,)\n"
     ]
    }
   ],
   "source": [
    "## ENSURING THAT X- AND Y-TRAINING SET CONTAIN SAME AMOUNT OF ROWS. SAME FOR TESTING.\n",
    "print('Training Features Shape:',X_train.shape)\n",
    "print('Training Labels Shape:', Y_train.shape)\n",
    "print('Testing Features Shape:', X_test.shape)\n",
    "print('Testing Labels Shape:', Y_test.shape)"
   ]
  },
  {
   "cell_type": "code",
   "execution_count": 7,
   "id": "4da5acfe",
   "metadata": {
    "execution": {
     "iopub.execute_input": "2022-05-05T12:49:36.879173Z",
     "iopub.status.busy": "2022-05-05T12:49:36.878241Z",
     "iopub.status.idle": "2022-05-05T12:49:37.023186Z",
     "shell.execute_reply": "2022-05-05T12:49:37.023654Z",
     "shell.execute_reply.started": "2022-05-05T07:57:07.643043Z"
    },
    "papermill": {
     "duration": 0.160366,
     "end_time": "2022-05-05T12:49:37.023835",
     "exception": false,
     "start_time": "2022-05-05T12:49:36.863469",
     "status": "completed"
    },
    "tags": []
   },
   "outputs": [
    {
     "data": {
      "text/plain": [
       "XGBRegressor(base_score=0.5, booster='gbtree', colsample_bylevel=1,\n",
       "             colsample_bynode=1, colsample_bytree=1, gamma=0, gpu_id=-1,\n",
       "             importance_type='gain', interaction_constraints='',\n",
       "             learning_rate=0.300000012, max_delta_step=0, max_depth=6,\n",
       "             min_child_weight=1, missing=nan, monotone_constraints='()',\n",
       "             n_estimators=100, n_jobs=4, num_parallel_tree=1, random_state=0,\n",
       "             reg_alpha=0, reg_lambda=1, scale_pos_weight=1, subsample=1,\n",
       "             tree_method='exact', validate_parameters=1, verbosity=None)"
      ]
     },
     "execution_count": 7,
     "metadata": {},
     "output_type": "execute_result"
    }
   ],
   "source": [
    "#construct model\n",
    "xg_reg = xgb.XGBRegressor()\n",
    "xg_reg.fit(X_train, Y_train)"
   ]
  },
  {
   "cell_type": "code",
   "execution_count": 8,
   "id": "f834a197",
   "metadata": {
    "execution": {
     "iopub.execute_input": "2022-05-05T12:49:37.051784Z",
     "iopub.status.busy": "2022-05-05T12:49:37.050874Z",
     "iopub.status.idle": "2022-05-05T12:49:37.060941Z",
     "shell.execute_reply": "2022-05-05T12:49:37.061519Z",
     "shell.execute_reply.started": "2022-05-05T07:57:07.770625Z"
    },
    "papermill": {
     "duration": 0.025879,
     "end_time": "2022-05-05T12:49:37.061721",
     "exception": false,
     "start_time": "2022-05-05T12:49:37.035842",
     "status": "completed"
    },
    "tags": []
   },
   "outputs": [],
   "source": [
    "preds_test = xg_reg.predict(X_test)\n",
    "preds_train = xg_reg.predict(X_train)"
   ]
  },
  {
   "cell_type": "code",
   "execution_count": 9,
   "id": "6c4afbc5",
   "metadata": {
    "execution": {
     "iopub.execute_input": "2022-05-05T12:49:37.092734Z",
     "iopub.status.busy": "2022-05-05T12:49:37.092075Z",
     "iopub.status.idle": "2022-05-05T12:49:37.112260Z",
     "shell.execute_reply": "2022-05-05T12:49:37.112810Z",
     "shell.execute_reply.started": "2022-05-05T07:57:07.789123Z"
    },
    "papermill": {
     "duration": 0.038497,
     "end_time": "2022-05-05T12:49:37.113007",
     "exception": false,
     "start_time": "2022-05-05T12:49:37.074510",
     "status": "completed"
    },
    "tags": []
   },
   "outputs": [
    {
     "name": "stdout",
     "output_type": "stream",
     "text": [
      "RMSE training:  0.0308734387690303\n",
      "RMSE testing:  8.604244030335906\n"
     ]
    }
   ],
   "source": [
    "##RMSE\n",
    "\n",
    "def rmse(predictions, targets):\n",
    "    return np.sqrt(((predictions - targets) ** 2).mean())\n",
    "\n",
    "print('RMSE training: ',rmse(preds_train, Y_train))\n",
    "print('RMSE testing: ', rmse(preds_test, Y_test))"
   ]
  },
  {
   "cell_type": "code",
   "execution_count": 10,
   "id": "81076bf8",
   "metadata": {
    "execution": {
     "iopub.execute_input": "2022-05-05T12:49:37.147236Z",
     "iopub.status.busy": "2022-05-05T12:49:37.145862Z",
     "iopub.status.idle": "2022-05-05T12:49:37.152781Z",
     "shell.execute_reply": "2022-05-05T12:49:37.153392Z",
     "shell.execute_reply.started": "2022-05-05T07:57:07.802907Z"
    },
    "papermill": {
     "duration": 0.027986,
     "end_time": "2022-05-05T12:49:37.153575",
     "exception": false,
     "start_time": "2022-05-05T12:49:37.125589",
     "status": "completed"
    },
    "tags": []
   },
   "outputs": [
    {
     "name": "stdout",
     "output_type": "stream",
     "text": [
      "R2 score training:  0.9999939872662972\n",
      "R2 score testing:  0.5954135512271237\n"
     ]
    }
   ],
   "source": [
    "##R2\n",
    "\n",
    "from sklearn.metrics import r2_score\n",
    "print('R2 score training: ', r2_score(Y_train, preds_train))\n",
    "print('R2 score testing: ', r2_score(Y_test, preds_test))"
   ]
  },
  {
   "cell_type": "code",
   "execution_count": 11,
   "id": "6194033a",
   "metadata": {
    "execution": {
     "iopub.execute_input": "2022-05-05T12:49:37.184777Z",
     "iopub.status.busy": "2022-05-05T12:49:37.183812Z",
     "iopub.status.idle": "2022-05-05T12:49:37.190529Z",
     "shell.execute_reply": "2022-05-05T12:49:37.191069Z",
     "shell.execute_reply.started": "2022-05-05T07:57:07.812793Z"
    },
    "papermill": {
     "duration": 0.024016,
     "end_time": "2022-05-05T12:49:37.191231",
     "exception": false,
     "start_time": "2022-05-05T12:49:37.167215",
     "status": "completed"
    },
    "tags": []
   },
   "outputs": [
    {
     "name": "stdout",
     "output_type": "stream",
     "text": [
      "MAE training:  0.0213100462577638\n",
      "MAE testing:  6.288214168769282\n"
     ]
    }
   ],
   "source": [
    "##MEAN ABSOLUTE ERROR \n",
    "from sklearn.metrics import mean_absolute_error\n",
    "print('MAE training: ', mean_absolute_error(Y_train, preds_train))\n",
    "print('MAE testing: ', mean_absolute_error(Y_test, preds_test))"
   ]
  },
  {
   "cell_type": "code",
   "execution_count": 12,
   "id": "aafb73f8",
   "metadata": {
    "execution": {
     "iopub.execute_input": "2022-05-05T12:49:37.232052Z",
     "iopub.status.busy": "2022-05-05T12:49:37.231126Z",
     "iopub.status.idle": "2022-05-05T12:49:37.250550Z",
     "shell.execute_reply": "2022-05-05T12:49:37.249801Z",
     "shell.execute_reply.started": "2022-05-05T07:57:07.823466Z"
    },
    "papermill": {
     "duration": 0.041765,
     "end_time": "2022-05-05T12:49:37.250762",
     "exception": false,
     "start_time": "2022-05-05T12:49:37.208997",
     "status": "completed"
    },
    "tags": []
   },
   "outputs": [
    {
     "name": "stdout",
     "output_type": "stream",
     "text": [
      "Parameters currently in use:\n",
      "\n",
      "{'base_score': 0.5,\n",
      " 'booster': 'gbtree',\n",
      " 'colsample_bylevel': 1,\n",
      " 'colsample_bynode': 1,\n",
      " 'colsample_bytree': 1,\n",
      " 'gamma': 0,\n",
      " 'gpu_id': -1,\n",
      " 'importance_type': 'gain',\n",
      " 'interaction_constraints': '',\n",
      " 'learning_rate': 0.300000012,\n",
      " 'max_delta_step': 0,\n",
      " 'max_depth': 6,\n",
      " 'min_child_weight': 1,\n",
      " 'missing': nan,\n",
      " 'monotone_constraints': '()',\n",
      " 'n_estimators': 100,\n",
      " 'n_jobs': 4,\n",
      " 'num_parallel_tree': 1,\n",
      " 'objective': 'reg:squarederror',\n",
      " 'random_state': 0,\n",
      " 'reg_alpha': 0,\n",
      " 'reg_lambda': 1,\n",
      " 'scale_pos_weight': 1,\n",
      " 'subsample': 1,\n",
      " 'tree_method': 'exact',\n",
      " 'validate_parameters': 1,\n",
      " 'verbosity': None}\n"
     ]
    }
   ],
   "source": [
    "#HYPERPARAMETER TUNING\n",
    "#VERIFYING CURRENT RANDOM FOREST HYPERPARAMETERS \n",
    "\n",
    "from pprint import pprint\n",
    "# Look at parameters used by our current forest\n",
    "print('Parameters currently in use:\\n')\n",
    "pprint(xg_reg.get_params())"
   ]
  },
  {
   "cell_type": "code",
   "execution_count": 13,
   "id": "adc23d74",
   "metadata": {
    "execution": {
     "iopub.execute_input": "2022-05-05T12:49:37.295349Z",
     "iopub.status.busy": "2022-05-05T12:49:37.294639Z",
     "iopub.status.idle": "2022-05-05T12:49:39.083825Z",
     "shell.execute_reply": "2022-05-05T12:49:39.083292Z",
     "shell.execute_reply.started": "2022-05-05T07:57:07.845957Z"
    },
    "papermill": {
     "duration": 1.818283,
     "end_time": "2022-05-05T12:49:39.083970",
     "exception": false,
     "start_time": "2022-05-05T12:49:37.265687",
     "status": "completed"
    },
    "tags": []
   },
   "outputs": [
    {
     "data": {
      "text/plain": [
       "XGBRegressor(base_score=0.5, booster='gbtree', colsample_bylevel=1,\n",
       "             colsample_bynode=1, colsample_bytree=1, gamma=5, gpu_id=-1,\n",
       "             importance_type='gain', interaction_constraints='',\n",
       "             learning_rate=0.002, max_delta_step=0, max_depth=5,\n",
       "             min_child_weight=1, missing=nan, monotone_constraints='()',\n",
       "             n_estimators=2000, n_jobs=4, num_parallel_tree=1, random_state=42,\n",
       "             reg_alpha=2, reg_lambda=0, scale_pos_weight=1, subsample=1,\n",
       "             tree_method='exact', validate_parameters=1, verbosity=None)"
      ]
     },
     "execution_count": 13,
     "metadata": {},
     "output_type": "execute_result"
    }
   ],
   "source": [
    "#Apply different parameter settings\n",
    "\n",
    "xg_reg_adv = xgb.XGBRegressor(gamma = 5,  reg_alpha =2, reg_lambda=0, max_depth = 5, learning_rate = 0.002, n_estimators=2000, random_state=42)\n",
    "xg_reg_adv.fit(X_train, Y_train)"
   ]
  },
  {
   "cell_type": "code",
   "execution_count": 14,
   "id": "54f77fcd",
   "metadata": {
    "execution": {
     "iopub.execute_input": "2022-05-05T12:49:39.114208Z",
     "iopub.status.busy": "2022-05-05T12:49:39.113614Z",
     "iopub.status.idle": "2022-05-05T12:49:39.133944Z",
     "shell.execute_reply": "2022-05-05T12:49:39.134460Z",
     "shell.execute_reply.started": "2022-05-05T07:57:09.589861Z"
    },
    "papermill": {
     "duration": 0.037,
     "end_time": "2022-05-05T12:49:39.134669",
     "exception": false,
     "start_time": "2022-05-05T12:49:39.097669",
     "status": "completed"
    },
    "tags": []
   },
   "outputs": [],
   "source": [
    "##DEFINING ORIGINAL Y-VALUES AND PREDICTED Y-VALUES\n",
    "expected_y_H  = Y_test\n",
    "predicted_y_adv = xg_reg_adv.predict(X_test)\n",
    "\n",
    "expected_y_tr_H = Y_train\n",
    "predicted_y_tr_adv = xg_reg_adv.predict(X_train)"
   ]
  },
  {
   "cell_type": "code",
   "execution_count": 15,
   "id": "fb5ece55",
   "metadata": {
    "execution": {
     "iopub.execute_input": "2022-05-05T12:49:39.165894Z",
     "iopub.status.busy": "2022-05-05T12:49:39.165283Z",
     "iopub.status.idle": "2022-05-05T12:49:39.174527Z",
     "shell.execute_reply": "2022-05-05T12:49:39.174968Z",
     "shell.execute_reply.started": "2022-05-05T07:57:09.613384Z"
    },
    "papermill": {
     "duration": 0.026503,
     "end_time": "2022-05-05T12:49:39.175139",
     "exception": false,
     "start_time": "2022-05-05T12:49:39.148636",
     "status": "completed"
    },
    "tags": []
   },
   "outputs": [
    {
     "name": "stdout",
     "output_type": "stream",
     "text": [
      "RMSE training:  2.187937877931452\n",
      "RMSE testing:  8.565272808024908\n"
     ]
    }
   ],
   "source": [
    "##RMSE\n",
    "\n",
    "def rmse(predictions, targets):\n",
    "    return np.sqrt(((predictions - targets) ** 2).mean())\n",
    "\n",
    "print('RMSE training: ',rmse(predicted_y_tr_adv, Y_train))\n",
    "print('RMSE testing: ', rmse(predicted_y_adv, Y_test))"
   ]
  },
  {
   "cell_type": "code",
   "execution_count": 16,
   "id": "b9497278",
   "metadata": {
    "execution": {
     "iopub.execute_input": "2022-05-05T12:49:39.205830Z",
     "iopub.status.busy": "2022-05-05T12:49:39.204909Z",
     "iopub.status.idle": "2022-05-05T12:49:39.212576Z",
     "shell.execute_reply": "2022-05-05T12:49:39.213459Z",
     "shell.execute_reply.started": "2022-05-05T07:57:09.623291Z"
    },
    "papermill": {
     "duration": 0.024745,
     "end_time": "2022-05-05T12:49:39.213692",
     "exception": false,
     "start_time": "2022-05-05T12:49:39.188947",
     "status": "completed"
    },
    "tags": []
   },
   "outputs": [
    {
     "name": "stdout",
     "output_type": "stream",
     "text": [
      "R2 score training:  0.9698024343913474\n",
      "R2 score testing:  0.599070239975521\n"
     ]
    }
   ],
   "source": [
    "##R2\n",
    "\n",
    "from sklearn.metrics import r2_score\n",
    "print('R2 score training: ', r2_score(Y_train, predicted_y_tr_adv))\n",
    "print('R2 score testing: ', r2_score(Y_test, predicted_y_adv))"
   ]
  },
  {
   "cell_type": "code",
   "execution_count": 17,
   "id": "949ff9c9",
   "metadata": {
    "execution": {
     "iopub.execute_input": "2022-05-05T12:49:39.245135Z",
     "iopub.status.busy": "2022-05-05T12:49:39.244221Z",
     "iopub.status.idle": "2022-05-05T12:49:39.252010Z",
     "shell.execute_reply": "2022-05-05T12:49:39.252567Z",
     "shell.execute_reply.started": "2022-05-05T07:57:09.637543Z"
    },
    "papermill": {
     "duration": 0.02485,
     "end_time": "2022-05-05T12:49:39.252755",
     "exception": false,
     "start_time": "2022-05-05T12:49:39.227905",
     "status": "completed"
    },
    "tags": []
   },
   "outputs": [
    {
     "name": "stdout",
     "output_type": "stream",
     "text": [
      "MAE training:  1.609893907144724\n",
      "MAE testing:  5.920493350545994\n"
     ]
    }
   ],
   "source": [
    "##MEAN ABSOLUTE ERROR \n",
    "from sklearn.metrics import mean_absolute_error\n",
    "print('MAE training: ', mean_absolute_error(Y_train, predicted_y_tr_adv))\n",
    "print('MAE testing: ', mean_absolute_error(Y_test, predicted_y_adv))"
   ]
  }
 ],
 "metadata": {
  "kernelspec": {
   "display_name": "Python 3",
   "language": "python",
   "name": "python3"
  },
  "language_info": {
   "codemirror_mode": {
    "name": "ipython",
    "version": 3
   },
   "file_extension": ".py",
   "mimetype": "text/x-python",
   "name": "python",
   "nbconvert_exporter": "python",
   "pygments_lexer": "ipython3",
   "version": "3.7.10"
  },
  "papermill": {
   "default_parameters": {},
   "duration": 11.746109,
   "end_time": "2022-05-05T12:49:39.977742",
   "environment_variables": {},
   "exception": null,
   "input_path": "__notebook__.ipynb",
   "output_path": "__notebook__.ipynb",
   "parameters": {},
   "start_time": "2022-05-05T12:49:28.231633",
   "version": "2.3.3"
  }
 },
 "nbformat": 4,
 "nbformat_minor": 5
}
