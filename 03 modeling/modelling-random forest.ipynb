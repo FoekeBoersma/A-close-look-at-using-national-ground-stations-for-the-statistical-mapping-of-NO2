{
 "cells": [
  {
   "cell_type": "code",
   "execution_count": 1,
   "id": "a6431565",
   "metadata": {
    "_cell_guid": "b1076dfc-b9ad-4769-8c92-a6c4dae69d19",
    "_uuid": "8f2839f25d086af736a60e9eeb907d3b93b6e0e5",
    "execution": {
     "iopub.execute_input": "2022-05-04T13:58:17.688791Z",
     "iopub.status.busy": "2022-05-04T13:58:17.683413Z",
     "iopub.status.idle": "2022-05-04T13:58:17.708763Z",
     "shell.execute_reply": "2022-05-04T13:58:17.709231Z",
     "shell.execute_reply.started": "2022-05-04T13:34:54.800685Z"
    },
    "papermill": {
     "duration": 0.057457,
     "end_time": "2022-05-04T13:58:17.709506",
     "exception": false,
     "start_time": "2022-05-04T13:58:17.652049",
     "status": "completed"
    },
    "tags": []
   },
   "outputs": [
    {
     "name": "stdout",
     "output_type": "stream",
     "text": [
      "/kaggle/input/iterated-12preds/iterated_12vars.csv\n",
      "/kaggle/input/dataset-lowest-aic452022/dataset_lowestAIC_longlat.csv\n",
      "/kaggle/input/datasetlowestaic/dataset_lowestAIC.csv\n"
     ]
    }
   ],
   "source": [
    "# This Python 3 environment comes with many helpful analytics libraries installed\n",
    "# It is defined by the kaggle/python Docker image: https://github.com/kaggle/docker-python\n",
    "# For example, here's several helpful packages to load\n",
    "\n",
    "import numpy as np # linear algebra\n",
    "import pandas as pd # data processing, CSV file I/O (e.g. pd.read_csv)\n",
    "\n",
    "# Input data files are available in the read-only \"../input/\" directory\n",
    "# For example, running this (by clicking run or pressing Shift+Enter) will list all files under the input directory\n",
    "\n",
    "import os\n",
    "for dirname, _, filenames in os.walk('/kaggle/input'):\n",
    "    for filename in filenames:\n",
    "        print(os.path.join(dirname, filename))\n",
    "\n",
    "# You can write up to 20GB to the current directory (/kaggle/working/) that gets preserved as output when you create a version using \"Save & Run All\" \n",
    "# You can also write temporary files to /kaggle/temp/, but they won't be saved outside of the current session"
   ]
  },
  {
   "cell_type": "code",
   "execution_count": 2,
   "id": "b0726751",
   "metadata": {
    "execution": {
     "iopub.execute_input": "2022-05-04T13:58:17.767036Z",
     "iopub.status.busy": "2022-05-04T13:58:17.766381Z",
     "iopub.status.idle": "2022-05-04T13:58:17.867562Z",
     "shell.execute_reply": "2022-05-04T13:58:17.868109Z",
     "shell.execute_reply.started": "2022-05-04T13:36:03.969199Z"
    },
    "papermill": {
     "duration": 0.131282,
     "end_time": "2022-05-04T13:58:17.868281",
     "exception": false,
     "start_time": "2022-05-04T13:58:17.736999",
     "status": "completed"
    },
    "tags": []
   },
   "outputs": [],
   "source": [
    "#import dataset \n",
    "df = pd.read_csv(r'../input/dataset-lowest-aic452022/dataset_lowestAIC_longlat.csv', sep=';')"
   ]
  },
  {
   "cell_type": "code",
   "execution_count": 3,
   "id": "62b87866",
   "metadata": {
    "execution": {
     "iopub.execute_input": "2022-05-04T13:58:17.926265Z",
     "iopub.status.busy": "2022-05-04T13:58:17.925347Z",
     "iopub.status.idle": "2022-05-04T13:58:17.961964Z",
     "shell.execute_reply": "2022-05-04T13:58:17.962470Z",
     "shell.execute_reply.started": "2022-05-04T13:36:05.078695Z"
    },
    "papermill": {
     "duration": 0.067155,
     "end_time": "2022-05-04T13:58:17.962654",
     "exception": false,
     "start_time": "2022-05-04T13:58:17.895499",
     "status": "completed"
    },
    "tags": []
   },
   "outputs": [
    {
     "data": {
      "text/html": [
       "<div>\n",
       "<style scoped>\n",
       "    .dataframe tbody tr th:only-of-type {\n",
       "        vertical-align: middle;\n",
       "    }\n",
       "\n",
       "    .dataframe tbody tr th {\n",
       "        vertical-align: top;\n",
       "    }\n",
       "\n",
       "    .dataframe thead th {\n",
       "        text-align: right;\n",
       "    }\n",
       "</style>\n",
       "<table border=\"1\" class=\"dataframe\">\n",
       "  <thead>\n",
       "    <tr style=\"text-align: right;\">\n",
       "      <th></th>\n",
       "      <th>Unnamed: 0</th>\n",
       "      <th>Longitude</th>\n",
       "      <th>Latitude</th>\n",
       "      <th>mean_value_NO2</th>\n",
       "      <th>nightlight_450</th>\n",
       "      <th>nightlight_3150</th>\n",
       "      <th>population_1000</th>\n",
       "      <th>population_3000</th>\n",
       "      <th>road_class_2_100</th>\n",
       "      <th>road_class_2_25</th>\n",
       "      <th>road_class_2_50</th>\n",
       "      <th>road_class_3_3000</th>\n",
       "      <th>road_class_3_300</th>\n",
       "      <th>trop_mean_filt_2019</th>\n",
       "      <th>BldDen100</th>\n",
       "      <th>trafBuf100</th>\n",
       "    </tr>\n",
       "  </thead>\n",
       "  <tbody>\n",
       "    <tr>\n",
       "      <th>0</th>\n",
       "      <td>0</td>\n",
       "      <td>10.008293</td>\n",
       "      <td>48.397079</td>\n",
       "      <td>29.250500</td>\n",
       "      <td>22.585377</td>\n",
       "      <td>13.402575</td>\n",
       "      <td>8123.319336</td>\n",
       "      <td>54316.64453</td>\n",
       "      <td>0.000000</td>\n",
       "      <td>0.000000</td>\n",
       "      <td>0.000000</td>\n",
       "      <td>203502.42190</td>\n",
       "      <td>4167.064941</td>\n",
       "      <td>0.000058</td>\n",
       "      <td>1.000663</td>\n",
       "      <td>0.000000</td>\n",
       "    </tr>\n",
       "    <tr>\n",
       "      <th>1</th>\n",
       "      <td>1</td>\n",
       "      <td>10.021227</td>\n",
       "      <td>53.523262</td>\n",
       "      <td>32.098936</td>\n",
       "      <td>23.546194</td>\n",
       "      <td>22.862799</td>\n",
       "      <td>9558.207031</td>\n",
       "      <td>76786.28125</td>\n",
       "      <td>0.000000</td>\n",
       "      <td>0.000000</td>\n",
       "      <td>0.000000</td>\n",
       "      <td>99596.04688</td>\n",
       "      <td>1850.278076</td>\n",
       "      <td>0.000081</td>\n",
       "      <td>0.978245</td>\n",
       "      <td>0.000000</td>\n",
       "    </tr>\n",
       "    <tr>\n",
       "      <th>2</th>\n",
       "      <td>2</td>\n",
       "      <td>10.053859</td>\n",
       "      <td>53.592301</td>\n",
       "      <td>58.703744</td>\n",
       "      <td>18.290140</td>\n",
       "      <td>16.493486</td>\n",
       "      <td>10471.541020</td>\n",
       "      <td>88439.60938</td>\n",
       "      <td>270.224976</td>\n",
       "      <td>46.359188</td>\n",
       "      <td>108.745453</td>\n",
       "      <td>265563.71880</td>\n",
       "      <td>2016.838379</td>\n",
       "      <td>0.000076</td>\n",
       "      <td>0.914638</td>\n",
       "      <td>674.791667</td>\n",
       "    </tr>\n",
       "    <tr>\n",
       "      <th>3</th>\n",
       "      <td>3</td>\n",
       "      <td>10.081685</td>\n",
       "      <td>53.529020</td>\n",
       "      <td>24.249276</td>\n",
       "      <td>23.645823</td>\n",
       "      <td>18.248226</td>\n",
       "      <td>11165.945310</td>\n",
       "      <td>76961.00000</td>\n",
       "      <td>0.000000</td>\n",
       "      <td>0.000000</td>\n",
       "      <td>0.000000</td>\n",
       "      <td>97921.56250</td>\n",
       "      <td>478.363281</td>\n",
       "      <td>0.000074</td>\n",
       "      <td>0.712983</td>\n",
       "      <td>0.000000</td>\n",
       "    </tr>\n",
       "    <tr>\n",
       "      <th>4</th>\n",
       "      <td>4</td>\n",
       "      <td>10.096292</td>\n",
       "      <td>48.847917</td>\n",
       "      <td>19.912116</td>\n",
       "      <td>14.026642</td>\n",
       "      <td>5.514785</td>\n",
       "      <td>6017.511230</td>\n",
       "      <td>30814.58984</td>\n",
       "      <td>0.000000</td>\n",
       "      <td>0.000000</td>\n",
       "      <td>0.000000</td>\n",
       "      <td>176265.68750</td>\n",
       "      <td>3338.221191</td>\n",
       "      <td>0.000047</td>\n",
       "      <td>1.000641</td>\n",
       "      <td>0.000000</td>\n",
       "    </tr>\n",
       "  </tbody>\n",
       "</table>\n",
       "</div>"
      ],
      "text/plain": [
       "   Unnamed: 0  Longitude   Latitude  mean_value_NO2  nightlight_450  \\\n",
       "0           0  10.008293  48.397079       29.250500       22.585377   \n",
       "1           1  10.021227  53.523262       32.098936       23.546194   \n",
       "2           2  10.053859  53.592301       58.703744       18.290140   \n",
       "3           3  10.081685  53.529020       24.249276       23.645823   \n",
       "4           4  10.096292  48.847917       19.912116       14.026642   \n",
       "\n",
       "   nightlight_3150  population_1000  population_3000  road_class_2_100  \\\n",
       "0        13.402575      8123.319336      54316.64453          0.000000   \n",
       "1        22.862799      9558.207031      76786.28125          0.000000   \n",
       "2        16.493486     10471.541020      88439.60938        270.224976   \n",
       "3        18.248226     11165.945310      76961.00000          0.000000   \n",
       "4         5.514785      6017.511230      30814.58984          0.000000   \n",
       "\n",
       "   road_class_2_25  road_class_2_50  road_class_3_3000  road_class_3_300  \\\n",
       "0         0.000000         0.000000       203502.42190       4167.064941   \n",
       "1         0.000000         0.000000        99596.04688       1850.278076   \n",
       "2        46.359188       108.745453       265563.71880       2016.838379   \n",
       "3         0.000000         0.000000        97921.56250        478.363281   \n",
       "4         0.000000         0.000000       176265.68750       3338.221191   \n",
       "\n",
       "   trop_mean_filt_2019  BldDen100  trafBuf100  \n",
       "0             0.000058   1.000663    0.000000  \n",
       "1             0.000081   0.978245    0.000000  \n",
       "2             0.000076   0.914638  674.791667  \n",
       "3             0.000074   0.712983    0.000000  \n",
       "4             0.000047   1.000641    0.000000  "
      ]
     },
     "execution_count": 3,
     "metadata": {},
     "output_type": "execute_result"
    }
   ],
   "source": [
    "#examine\n",
    "df.head()"
   ]
  },
  {
   "cell_type": "code",
   "execution_count": 4,
   "id": "bbd9a78e",
   "metadata": {
    "execution": {
     "iopub.execute_input": "2022-05-04T13:58:18.023108Z",
     "iopub.status.busy": "2022-05-04T13:58:18.022134Z",
     "iopub.status.idle": "2022-05-04T13:58:18.028899Z",
     "shell.execute_reply": "2022-05-04T13:58:18.029398Z",
     "shell.execute_reply.started": "2022-05-04T13:36:06.754888Z"
    },
    "papermill": {
     "duration": 0.038018,
     "end_time": "2022-05-04T13:58:18.029564",
     "exception": false,
     "start_time": "2022-05-04T13:58:17.991546",
     "status": "completed"
    },
    "tags": []
   },
   "outputs": [],
   "source": [
    "#remove unique idenifier & geodata\n",
    "df = df.drop(['Unnamed: 0', 'Longitude', 'Latitude'], axis=1)"
   ]
  },
  {
   "cell_type": "code",
   "execution_count": 5,
   "id": "256db28e",
   "metadata": {
    "execution": {
     "iopub.execute_input": "2022-05-04T13:58:18.090674Z",
     "iopub.status.busy": "2022-05-04T13:58:18.089711Z",
     "iopub.status.idle": "2022-05-04T13:58:18.096924Z",
     "shell.execute_reply": "2022-05-04T13:58:18.097511Z",
     "shell.execute_reply.started": "2022-05-04T13:36:18.894916Z"
    },
    "papermill": {
     "duration": 0.039433,
     "end_time": "2022-05-04T13:58:18.097697",
     "exception": false,
     "start_time": "2022-05-04T13:58:18.058264",
     "status": "completed"
    },
    "tags": []
   },
   "outputs": [],
   "source": [
    "y = df['mean_value_NO2']\n",
    "x = df.drop(['mean_value_NO2'], axis=1)\n",
    "feature_list = list(x.columns)"
   ]
  },
  {
   "cell_type": "code",
   "execution_count": 6,
   "id": "e846a27a",
   "metadata": {
    "execution": {
     "iopub.execute_input": "2022-05-04T13:58:18.156977Z",
     "iopub.status.busy": "2022-05-04T13:58:18.156330Z",
     "iopub.status.idle": "2022-05-04T13:58:19.207910Z",
     "shell.execute_reply": "2022-05-04T13:58:19.207266Z",
     "shell.execute_reply.started": "2022-05-04T13:36:22.318899Z"
    },
    "papermill": {
     "duration": 1.082669,
     "end_time": "2022-05-04T13:58:19.208063",
     "exception": false,
     "start_time": "2022-05-04T13:58:18.125394",
     "status": "completed"
    },
    "tags": []
   },
   "outputs": [],
   "source": [
    "                       ## STEP 15. CONSTRUCTING RANDOM FOREST \n",
    "                       ## Import the model we are using\n",
    "        \n",
    "from sklearn.ensemble import RandomForestRegressor\n",
    "from sklearn.model_selection import train_test_split\n",
    "\n",
    "\n",
    "##STEP 8B. GENERATING CROSS VALIDATION (80% TRAINING OF MODEL; \n",
    "        ##20% TESTING OF MODEL;EVALUATING MODEL PERFORMANCE)\n",
    "\n",
    "X_train, X_test, Y_train, Y_test = train_test_split(x, y, test_size=0.25, random_state=20)\n",
    "#random state is needed to ensure that same results are generated each time."
   ]
  },
  {
   "cell_type": "code",
   "execution_count": 7,
   "id": "a5405777",
   "metadata": {
    "execution": {
     "iopub.execute_input": "2022-05-04T13:58:19.266279Z",
     "iopub.status.busy": "2022-05-04T13:58:19.265649Z",
     "iopub.status.idle": "2022-05-04T13:58:19.271700Z",
     "shell.execute_reply": "2022-05-04T13:58:19.272473Z",
     "shell.execute_reply.started": "2022-05-04T13:36:24.525671Z"
    },
    "papermill": {
     "duration": 0.037112,
     "end_time": "2022-05-04T13:58:19.272705",
     "exception": false,
     "start_time": "2022-05-04T13:58:19.235593",
     "status": "completed"
    },
    "tags": []
   },
   "outputs": [
    {
     "name": "stdout",
     "output_type": "stream",
     "text": [
      "Training Features Shape: (361, 12)\n",
      "Training Labels Shape: (361,)\n",
      "Testing Features Shape: (121, 12)\n",
      "Testing Labels Shape: (121,)\n"
     ]
    }
   ],
   "source": [
    "## STEP 16.ENSURING THAT X- AND Y-TRAINING SET CONTAIN SAME AMOUNT OF ROWS. SAME FOR TESTING.\n",
    "print('Training Features Shape:',X_train.shape)\n",
    "print('Training Labels Shape:', Y_train.shape)\n",
    "print('Testing Features Shape:', X_test.shape)\n",
    "print('Testing Labels Shape:', Y_test.shape)"
   ]
  },
  {
   "cell_type": "code",
   "execution_count": 8,
   "id": "dd5d912c",
   "metadata": {
    "execution": {
     "iopub.execute_input": "2022-05-04T13:58:19.332216Z",
     "iopub.status.busy": "2022-05-04T13:58:19.331608Z",
     "iopub.status.idle": "2022-05-04T13:58:22.498390Z",
     "shell.execute_reply": "2022-05-04T13:58:22.497883Z",
     "shell.execute_reply.started": "2022-05-04T13:36:34.428646Z"
    },
    "papermill": {
     "duration": 3.196962,
     "end_time": "2022-05-04T13:58:22.498531",
     "exception": false,
     "start_time": "2022-05-04T13:58:19.301569",
     "status": "completed"
    },
    "tags": []
   },
   "outputs": [
    {
     "data": {
      "text/plain": [
       "RandomForestRegressor(n_estimators=1000, random_state=42)"
      ]
     },
     "execution_count": 8,
     "metadata": {},
     "output_type": "execute_result"
    }
   ],
   "source": [
    "## STEP 17. PARAMETERS FOR MODEL - RANDOM FOREST\n",
    "\n",
    "# # Instantiate model with 1000 decision trees\n",
    "rf = RandomForestRegressor(n_estimators = 1000, random_state = 42)\n",
    "# Train the model on training data\n",
    "rf.fit(X_train, Y_train)"
   ]
  },
  {
   "cell_type": "code",
   "execution_count": 9,
   "id": "dcfab212",
   "metadata": {
    "execution": {
     "iopub.execute_input": "2022-05-04T13:58:22.568641Z",
     "iopub.status.busy": "2022-05-04T13:58:22.567956Z",
     "iopub.status.idle": "2022-05-04T13:58:26.238234Z",
     "shell.execute_reply": "2022-05-04T13:58:26.237443Z",
     "shell.execute_reply.started": "2022-05-04T13:36:55.351200Z"
    },
    "papermill": {
     "duration": 3.711129,
     "end_time": "2022-05-04T13:58:26.238449",
     "exception": false,
     "start_time": "2022-05-04T13:58:22.527320",
     "status": "completed"
    },
    "tags": []
   },
   "outputs": [
    {
     "name": "stdout",
     "output_type": "stream",
     "text": [
      "0.6979769396086769\n"
     ]
    }
   ],
   "source": [
    "##OUT OF BAG SCORE\n",
    "##SOURCE: https://gdcoder.com/random-forest-regression-model-explained-in-depth-part-2-python-code-snippet-using-sklearn/\n",
    "m = RandomForestRegressor(n_estimators=1000, oob_score=True)\n",
    "m.fit(X_train, Y_train)\n",
    "\n",
    "print(m.oob_score_) # R^2 score"
   ]
  },
  {
   "cell_type": "code",
   "execution_count": 10,
   "id": "15389efd",
   "metadata": {
    "execution": {
     "iopub.execute_input": "2022-05-04T13:58:26.305640Z",
     "iopub.status.busy": "2022-05-04T13:58:26.304936Z",
     "iopub.status.idle": "2022-05-04T13:58:26.391953Z",
     "shell.execute_reply": "2022-05-04T13:58:26.392487Z",
     "shell.execute_reply.started": "2022-05-04T13:37:03.011896Z"
    },
    "papermill": {
     "duration": 0.124628,
     "end_time": "2022-05-04T13:58:26.392674",
     "exception": false,
     "start_time": "2022-05-04T13:58:26.268046",
     "status": "completed"
    },
    "tags": []
   },
   "outputs": [],
   "source": [
    "##STEP 18. DEFINING ORIGINAL Y-VALUES AND PREDICTED Y-VALUES (FOR TESTING DATASET)\n",
    "expected_y  = Y_test\n",
    "predicted_y = rf.predict(X_test) #Predicting the test set results using the random forest regressor model"
   ]
  },
  {
   "cell_type": "code",
   "execution_count": 11,
   "id": "bf14141f",
   "metadata": {
    "execution": {
     "iopub.execute_input": "2022-05-04T13:58:26.453314Z",
     "iopub.status.busy": "2022-05-04T13:58:26.452646Z",
     "iopub.status.idle": "2022-05-04T13:58:26.569299Z",
     "shell.execute_reply": "2022-05-04T13:58:26.568539Z",
     "shell.execute_reply.started": "2022-05-04T13:37:04.986186Z"
    },
    "papermill": {
     "duration": 0.147709,
     "end_time": "2022-05-04T13:58:26.569439",
     "exception": false,
     "start_time": "2022-05-04T13:58:26.421730",
     "status": "completed"
    },
    "tags": []
   },
   "outputs": [],
   "source": [
    "##STEP 18. DEFINING ORIGINAL Y-VALUES AND PREDICTED Y-VALUES (FOR TRAINING DATASET)\n",
    "\n",
    "expected_y_tr = Y_train\n",
    "predicted_y_tr = rf.predict(X_train)\n",
    "# print(expected_y_tr, predicted_y_tr)"
   ]
  },
  {
   "cell_type": "code",
   "execution_count": 12,
   "id": "ce24afbc",
   "metadata": {
    "execution": {
     "iopub.execute_input": "2022-05-04T13:58:26.631599Z",
     "iopub.status.busy": "2022-05-04T13:58:26.630950Z",
     "iopub.status.idle": "2022-05-04T13:58:26.650660Z",
     "shell.execute_reply": "2022-05-04T13:58:26.651211Z",
     "shell.execute_reply.started": "2022-05-04T13:37:07.642856Z"
    },
    "papermill": {
     "duration": 0.053572,
     "end_time": "2022-05-04T13:58:26.651362",
     "exception": false,
     "start_time": "2022-05-04T13:58:26.597790",
     "status": "completed"
    },
    "tags": []
   },
   "outputs": [
    {
     "name": "stdout",
     "output_type": "stream",
     "text": [
      "training rmse:  2.532751898489329\n",
      "testing rmse:  8.07256435198613\n"
     ]
    }
   ],
   "source": [
    "##STEP 12A. RMSE - TRAIN\n",
    "\n",
    "def rmse(predictions, targets):\n",
    "    return np.sqrt(((predictions - targets) ** 2).mean())\n",
    "\n",
    "print(\"training rmse: \", rmse(predicted_y_tr, expected_y_tr))\n",
    "print(\"testing rmse: \", rmse(predicted_y, Y_test))"
   ]
  },
  {
   "cell_type": "code",
   "execution_count": 13,
   "id": "0f584c3f",
   "metadata": {
    "execution": {
     "iopub.execute_input": "2022-05-04T13:58:26.711257Z",
     "iopub.status.busy": "2022-05-04T13:58:26.710701Z",
     "iopub.status.idle": "2022-05-04T13:58:26.718173Z",
     "shell.execute_reply": "2022-05-04T13:58:26.717555Z",
     "shell.execute_reply.started": "2022-05-04T13:37:43.912242Z"
    },
    "papermill": {
     "duration": 0.038294,
     "end_time": "2022-05-04T13:58:26.718306",
     "exception": false,
     "start_time": "2022-05-04T13:58:26.680012",
     "status": "completed"
    },
    "tags": []
   },
   "outputs": [
    {
     "name": "stdout",
     "output_type": "stream",
     "text": [
      "R2 score training data:  0.9595342812428931\n",
      "R2 score testing data:  0.6438696999883249\n"
     ]
    }
   ],
   "source": [
    "##STEP 12B. R2\n",
    "\n",
    "from sklearn.metrics import r2_score\n",
    "print(\"R2 score training data: \", r2_score(expected_y_tr, predicted_y_tr))\n",
    "print(\"R2 score testing data: \", r2_score(Y_test, predicted_y))"
   ]
  },
  {
   "cell_type": "code",
   "execution_count": 14,
   "id": "8972fa38",
   "metadata": {
    "execution": {
     "iopub.execute_input": "2022-05-04T13:58:26.782562Z",
     "iopub.status.busy": "2022-05-04T13:58:26.781977Z",
     "iopub.status.idle": "2022-05-04T13:58:26.784341Z",
     "shell.execute_reply": "2022-05-04T13:58:26.784835Z",
     "shell.execute_reply.started": "2022-05-04T13:38:07.777889Z"
    },
    "papermill": {
     "duration": 0.037404,
     "end_time": "2022-05-04T13:58:26.784998",
     "exception": false,
     "start_time": "2022-05-04T13:58:26.747594",
     "status": "completed"
    },
    "tags": []
   },
   "outputs": [
    {
     "name": "stdout",
     "output_type": "stream",
     "text": [
      "MAE training data:  1.7586397967329648\n",
      "MAE testing data:  5.706397591193469\n"
     ]
    }
   ],
   "source": [
    "##STEP 12C. MEAN ABSOLUTE ERROR \n",
    "from sklearn.metrics import mean_absolute_error\n",
    "print(\"MAE training data: \", mean_absolute_error(expected_y_tr, predicted_y_tr))\n",
    "print(\"MAE testing data: \", mean_absolute_error(expected_y, predicted_y))"
   ]
  },
  {
   "cell_type": "code",
   "execution_count": 15,
   "id": "afdfc530",
   "metadata": {
    "execution": {
     "iopub.execute_input": "2022-05-04T13:58:26.846395Z",
     "iopub.status.busy": "2022-05-04T13:58:26.845759Z",
     "iopub.status.idle": "2022-05-04T13:58:26.855362Z",
     "shell.execute_reply": "2022-05-04T13:58:26.855863Z",
     "shell.execute_reply.started": "2022-05-04T13:38:32.276325Z"
    },
    "papermill": {
     "duration": 0.041364,
     "end_time": "2022-05-04T13:58:26.856033",
     "exception": false,
     "start_time": "2022-05-04T13:58:26.814669",
     "status": "completed"
    },
    "tags": []
   },
   "outputs": [
    {
     "name": "stdout",
     "output_type": "stream",
     "text": [
      "Parameters currently in use:\n",
      "\n",
      "{'bootstrap': True,\n",
      " 'ccp_alpha': 0.0,\n",
      " 'criterion': 'mse',\n",
      " 'max_depth': None,\n",
      " 'max_features': 'auto',\n",
      " 'max_leaf_nodes': None,\n",
      " 'max_samples': None,\n",
      " 'min_impurity_decrease': 0.0,\n",
      " 'min_impurity_split': None,\n",
      " 'min_samples_leaf': 1,\n",
      " 'min_samples_split': 2,\n",
      " 'min_weight_fraction_leaf': 0.0,\n",
      " 'n_estimators': 1000,\n",
      " 'n_jobs': None,\n",
      " 'oob_score': False,\n",
      " 'random_state': 42,\n",
      " 'verbose': 0,\n",
      " 'warm_start': False}\n"
     ]
    }
   ],
   "source": [
    "#STEP 10. HYPERPARAMETER TUNING\n",
    "#STEP 10A. VERIFYING CURRENT RANDOM FOREST HYPERPARAMETERS \n",
    "\n",
    "from pprint import pprint\n",
    "# Look at parameters used by our current forest\n",
    "print('Parameters currently in use:\\n')\n",
    "pprint(rf.get_params())"
   ]
  },
  {
   "cell_type": "code",
   "execution_count": 16,
   "id": "3b0d25d1",
   "metadata": {
    "execution": {
     "iopub.execute_input": "2022-05-04T13:58:26.917473Z",
     "iopub.status.busy": "2022-05-04T13:58:26.916870Z",
     "iopub.status.idle": "2022-05-04T13:58:26.932975Z",
     "shell.execute_reply": "2022-05-04T13:58:26.933554Z",
     "shell.execute_reply.started": "2022-05-04T13:38:40.535852Z"
    },
    "papermill": {
     "duration": 0.048211,
     "end_time": "2022-05-04T13:58:26.933730",
     "exception": false,
     "start_time": "2022-05-04T13:58:26.885519",
     "status": "completed"
    },
    "tags": []
   },
   "outputs": [
    {
     "name": "stdout",
     "output_type": "stream",
     "text": [
      "{'bootstrap': [True, False],\n",
      " 'max_depth': [10, 20, 30, 40, 50, 60, 70, 80, 90, 100, 110, None],\n",
      " 'max_features': ['auto', 'sqrt'],\n",
      " 'min_samples_leaf': [1, 2, 4],\n",
      " 'min_samples_split': [2, 5, 10],\n",
      " 'n_estimators': [200, 400, 600, 800, 1000, 1200, 1400, 1600, 1800, 2000]}\n"
     ]
    },
    {
     "data": {
      "text/plain": [
       "{'bootstrap': [True, False],\n",
       " 'max_depth': [10, 20, 30, 40, 50, 60, 70, 80, 90, 100, None],\n",
       " 'max_features': ['auto', 'sqrt'],\n",
       " 'min_samples_leaf': [1, 2, 4],\n",
       " 'min_samples_split': [2, 5, 10],\n",
       " 'n_estimators': [200, 400, 600, 800, 1000, 1200, 1400, 1600, 1800, 2000]}"
      ]
     },
     "execution_count": 16,
     "metadata": {},
     "output_type": "execute_result"
    }
   ],
   "source": [
    "#STEP 10B. CREATE PARAMETER GRID\n",
    "\n",
    "from sklearn.model_selection import RandomizedSearchCV\n",
    "# Number of trees in random forest\n",
    "n_estimators = [int(x) for x in np.linspace(start = 200, stop = 2000, num = 10)]\n",
    "# Number of features to consider at every split\n",
    "max_features = ['auto', 'sqrt']\n",
    "# Maximum number of levels in tree\n",
    "max_depth = [int(x) for x in np.linspace(10, 110, num = 11)]\n",
    "max_depth.append(None)\n",
    "# Minimum number of samples required to split a node\n",
    "min_samples_split = [2, 5, 10]\n",
    "# Minimum number of samples required at each leaf node\n",
    "min_samples_leaf = [1, 2, 4]\n",
    "# Method of selecting samples for training each tree\n",
    "bootstrap = [True, False]\n",
    "# Create the random grid\n",
    "random_grid = {'n_estimators': n_estimators,\n",
    "               'max_features': max_features,\n",
    "               'max_depth': max_depth,\n",
    "               'min_samples_split': min_samples_split,\n",
    "               'min_samples_leaf': min_samples_leaf,\n",
    "               'bootstrap': bootstrap}\n",
    "pprint(random_grid)\n",
    "{'bootstrap': [True, False],\n",
    " 'max_depth': [10, 20, 30, 40, 50, 60, 70, 80, 90, 100, None],\n",
    " 'max_features': ['auto', 'sqrt'],\n",
    " 'min_samples_leaf': [1, 2, 4],\n",
    " 'min_samples_split': [2, 5, 10],\n",
    " 'n_estimators': [200, 400, 600, 800, 1000, 1200, 1400, 1600, 1800, 2000]}"
   ]
  },
  {
   "cell_type": "code",
   "execution_count": 17,
   "id": "46a9ca3c",
   "metadata": {
    "execution": {
     "iopub.execute_input": "2022-05-04T13:58:26.996610Z",
     "iopub.status.busy": "2022-05-04T13:58:26.996027Z",
     "iopub.status.idle": "2022-05-04T14:02:54.327320Z",
     "shell.execute_reply": "2022-05-04T14:02:54.326746Z",
     "shell.execute_reply.started": "2022-05-04T13:38:48.552572Z"
    },
    "papermill": {
     "duration": 267.363907,
     "end_time": "2022-05-04T14:02:54.327472",
     "exception": false,
     "start_time": "2022-05-04T13:58:26.963565",
     "status": "completed"
    },
    "tags": []
   },
   "outputs": [
    {
     "name": "stdout",
     "output_type": "stream",
     "text": [
      "Fitting 3 folds for each of 100 candidates, totalling 300 fits\n"
     ]
    },
    {
     "name": "stderr",
     "output_type": "stream",
     "text": [
      "[Parallel(n_jobs=-1)]: Using backend LokyBackend with 4 concurrent workers.\n",
      "[Parallel(n_jobs=-1)]: Done  33 tasks      | elapsed:   32.5s\n",
      "[Parallel(n_jobs=-1)]: Done 154 tasks      | elapsed:  2.2min\n",
      "[Parallel(n_jobs=-1)]: Done 300 out of 300 | elapsed:  4.4min finished\n"
     ]
    },
    {
     "data": {
      "text/plain": [
       "RandomizedSearchCV(cv=3, estimator=RandomForestRegressor(), n_iter=100,\n",
       "                   n_jobs=-1,\n",
       "                   param_distributions={'bootstrap': [True, False],\n",
       "                                        'max_depth': [10, 20, 30, 40, 50, 60,\n",
       "                                                      70, 80, 90, 100, 110,\n",
       "                                                      None],\n",
       "                                        'max_features': ['auto', 'sqrt'],\n",
       "                                        'min_samples_leaf': [1, 2, 4],\n",
       "                                        'min_samples_split': [2, 5, 10],\n",
       "                                        'n_estimators': [200, 400, 600, 800,\n",
       "                                                         1000, 1200, 1400, 1600,\n",
       "                                                         1800, 2000]},\n",
       "                   random_state=42, verbose=2)"
      ]
     },
     "execution_count": 17,
     "metadata": {},
     "output_type": "execute_result"
    }
   ],
   "source": [
    "##STEP 10C. RANDOM SEARCH TRAINING (https://towardsdatascience.com/hyperparameter-tuning-the-random-forest-in-python-using-scikit-learn-28d2aa77dd74)\n",
    "\n",
    "# Use the random grid to search for best hyperparameters\n",
    "# First create the base model to tune\n",
    "rf = RandomForestRegressor()\n",
    "# Random search of parameters, using 3 fold cross validation, \n",
    "# search across 100 different combinations, and use all available cores\n",
    "rf_random = RandomizedSearchCV(estimator = rf, param_distributions = random_grid, n_iter = 100, cv = 3, verbose=2, random_state=42, n_jobs = -1)\n",
    "# Fit the random search model\n",
    "rf_random.fit(X_train, Y_train)"
   ]
  },
  {
   "cell_type": "code",
   "execution_count": 18,
   "id": "7d5da8e0",
   "metadata": {
    "execution": {
     "iopub.execute_input": "2022-05-04T14:02:54.396379Z",
     "iopub.status.busy": "2022-05-04T14:02:54.395751Z",
     "iopub.status.idle": "2022-05-04T14:02:54.402416Z",
     "shell.execute_reply": "2022-05-04T14:02:54.401945Z",
     "shell.execute_reply.started": "2022-05-04T13:43:44.549349Z"
    },
    "papermill": {
     "duration": 0.042119,
     "end_time": "2022-05-04T14:02:54.402548",
     "exception": false,
     "start_time": "2022-05-04T14:02:54.360429",
     "status": "completed"
    },
    "tags": []
   },
   "outputs": [
    {
     "data": {
      "text/plain": [
       "{'n_estimators': 400,\n",
       " 'min_samples_split': 5,\n",
       " 'min_samples_leaf': 1,\n",
       " 'max_features': 'sqrt',\n",
       " 'max_depth': 30,\n",
       " 'bootstrap': True}"
      ]
     },
     "execution_count": 18,
     "metadata": {},
     "output_type": "execute_result"
    }
   ],
   "source": [
    "rf_random.best_params_"
   ]
  },
  {
   "cell_type": "code",
   "execution_count": 19,
   "id": "7bead17a",
   "metadata": {
    "execution": {
     "iopub.execute_input": "2022-05-04T14:02:54.472772Z",
     "iopub.status.busy": "2022-05-04T14:02:54.472111Z",
     "iopub.status.idle": "2022-05-04T14:02:56.634922Z",
     "shell.execute_reply": "2022-05-04T14:02:56.635375Z",
     "shell.execute_reply.started": "2022-05-04T13:45:28.692020Z"
    },
    "papermill": {
     "duration": 2.199499,
     "end_time": "2022-05-04T14:02:56.635561",
     "exception": false,
     "start_time": "2022-05-04T14:02:54.436062",
     "status": "completed"
    },
    "tags": []
   },
   "outputs": [
    {
     "data": {
      "text/plain": [
       "RandomForestRegressor(max_depth=20, max_features='sqrt', n_estimators=1000,\n",
       "                      random_state=42)"
      ]
     },
     "execution_count": 19,
     "metadata": {},
     "output_type": "execute_result"
    }
   ],
   "source": [
    "## STEP 17. PARAMETERS FOR MODEL - RANDOM FOREST\n",
    "\n",
    "# # Instantiate model with 1000 decision trees\n",
    "rf_ran = RandomForestRegressor(n_estimators = 1000, random_state = 42, min_samples_split=2,\n",
    "                          min_samples_leaf=1,max_features='sqrt',max_depth=20, bootstrap=True )\n",
    "# Train the model on training data\n",
    "rf_ran.fit(X_train, Y_train)"
   ]
  },
  {
   "cell_type": "code",
   "execution_count": 20,
   "id": "ca11a73a",
   "metadata": {
    "execution": {
     "iopub.execute_input": "2022-05-04T14:02:56.706989Z",
     "iopub.status.busy": "2022-05-04T14:02:56.706300Z",
     "iopub.status.idle": "2022-05-04T14:02:56.800073Z",
     "shell.execute_reply": "2022-05-04T14:02:56.799501Z",
     "shell.execute_reply.started": "2022-05-04T13:45:39.398999Z"
    },
    "papermill": {
     "duration": 0.131317,
     "end_time": "2022-05-04T14:02:56.800221",
     "exception": false,
     "start_time": "2022-05-04T14:02:56.668904",
     "status": "completed"
    },
    "tags": []
   },
   "outputs": [],
   "source": [
    "##STEP 18. DEFINING ORIGINAL Y-VALUES AND PREDICTED Y-VALUES (FOR TESTING DATASET)\n",
    "expected_yran  = Y_test\n",
    "predicted_yran = rf_ran.predict(X_test) #Predicting the test set results using the random forest regressor model"
   ]
  },
  {
   "cell_type": "code",
   "execution_count": 21,
   "id": "d11b59e0",
   "metadata": {
    "execution": {
     "iopub.execute_input": "2022-05-04T14:02:56.873946Z",
     "iopub.status.busy": "2022-05-04T14:02:56.873281Z",
     "iopub.status.idle": "2022-05-04T14:02:56.991661Z",
     "shell.execute_reply": "2022-05-04T14:02:56.992140Z",
     "shell.execute_reply.started": "2022-05-04T13:45:41.249310Z"
    },
    "papermill": {
     "duration": 0.158816,
     "end_time": "2022-05-04T14:02:56.992323",
     "exception": false,
     "start_time": "2022-05-04T14:02:56.833507",
     "status": "completed"
    },
    "tags": []
   },
   "outputs": [],
   "source": [
    "##STEP 18. DEFINING ORIGINAL Y-VALUES AND PREDICTED Y-VALUES (FOR TRAINING DATASET)\n",
    "\n",
    "expected_y_tr_ran = Y_train\n",
    "predicted_y_tr_ran = rf_ran.predict(X_train)\n",
    "# print(expected_y_tr, predicted_y_tr)"
   ]
  },
  {
   "cell_type": "code",
   "execution_count": 22,
   "id": "fd6046f2",
   "metadata": {
    "execution": {
     "iopub.execute_input": "2022-05-04T14:02:57.062498Z",
     "iopub.status.busy": "2022-05-04T14:02:57.061879Z",
     "iopub.status.idle": "2022-05-04T14:02:57.069475Z",
     "shell.execute_reply": "2022-05-04T14:02:57.070046Z",
     "shell.execute_reply.started": "2022-05-04T13:45:42.706642Z"
    },
    "papermill": {
     "duration": 0.044329,
     "end_time": "2022-05-04T14:02:57.070213",
     "exception": false,
     "start_time": "2022-05-04T14:02:57.025884",
     "status": "completed"
    },
    "tags": []
   },
   "outputs": [
    {
     "name": "stdout",
     "output_type": "stream",
     "text": [
      "training rmse:  2.5233467181208504\n",
      "testing rmse:  7.904981257374466\n"
     ]
    }
   ],
   "source": [
    "##STEP 12A. RMSE - TRAIN\n",
    "\n",
    "def rmse(predictions, targets):\n",
    "    return np.sqrt(((predictions - targets) ** 2).mean())\n",
    "\n",
    "print(\"training rmse: \", rmse(predicted_y_tr_ran, expected_y_tr_ran))\n",
    "print(\"testing rmse: \", rmse(predicted_yran, Y_test))"
   ]
  },
  {
   "cell_type": "code",
   "execution_count": 23,
   "id": "d698b87d",
   "metadata": {
    "execution": {
     "iopub.execute_input": "2022-05-04T14:02:57.142945Z",
     "iopub.status.busy": "2022-05-04T14:02:57.142291Z",
     "iopub.status.idle": "2022-05-04T14:02:57.148969Z",
     "shell.execute_reply": "2022-05-04T14:02:57.149515Z",
     "shell.execute_reply.started": "2022-05-04T13:46:00.836758Z"
    },
    "papermill": {
     "duration": 0.044655,
     "end_time": "2022-05-04T14:02:57.149706",
     "exception": false,
     "start_time": "2022-05-04T14:02:57.105051",
     "status": "completed"
    },
    "tags": []
   },
   "outputs": [
    {
     "name": "stdout",
     "output_type": "stream",
     "text": [
      "R2 score training data:  0.9598342559406232\n",
      "R2 score testing data:  0.6585024571695024\n"
     ]
    }
   ],
   "source": [
    "##STEP 12B. R2\n",
    "\n",
    "from sklearn.metrics import r2_score\n",
    "print(\"R2 score training data: \", r2_score(expected_y_tr_ran, predicted_y_tr_ran))\n",
    "print(\"R2 score testing data: \", r2_score(Y_test, predicted_yran))"
   ]
  },
  {
   "cell_type": "code",
   "execution_count": 24,
   "id": "baf69d0e",
   "metadata": {
    "execution": {
     "iopub.execute_input": "2022-05-04T14:02:57.220369Z",
     "iopub.status.busy": "2022-05-04T14:02:57.219792Z",
     "iopub.status.idle": "2022-05-04T14:02:57.227269Z",
     "shell.execute_reply": "2022-05-04T14:02:57.226555Z",
     "shell.execute_reply.started": "2022-05-04T13:46:16.828670Z"
    },
    "papermill": {
     "duration": 0.043863,
     "end_time": "2022-05-04T14:02:57.227456",
     "exception": false,
     "start_time": "2022-05-04T14:02:57.183593",
     "status": "completed"
    },
    "tags": []
   },
   "outputs": [
    {
     "name": "stdout",
     "output_type": "stream",
     "text": [
      "MAE training data:  1.785888887617458\n",
      "MAE testing data:  5.579556901278602\n"
     ]
    }
   ],
   "source": [
    "##STEP 12C. MEAN ABSOLUTE ERROR \n",
    "from sklearn.metrics import mean_absolute_error\n",
    "print(\"MAE training data: \", mean_absolute_error(expected_y_tr_ran, predicted_y_tr_ran))\n",
    "print(\"MAE testing data: \", mean_absolute_error(expected_yran, predicted_yran))"
   ]
  },
  {
   "cell_type": "code",
   "execution_count": 25,
   "id": "8dd93bef",
   "metadata": {
    "execution": {
     "iopub.execute_input": "2022-05-04T14:02:57.303521Z",
     "iopub.status.busy": "2022-05-04T14:02:57.302820Z",
     "iopub.status.idle": "2022-05-04T14:02:57.305189Z",
     "shell.execute_reply": "2022-05-04T14:02:57.305702Z",
     "shell.execute_reply.started": "2022-05-04T13:47:27.641019Z"
    },
    "papermill": {
     "duration": 0.043522,
     "end_time": "2022-05-04T14:02:57.305866",
     "exception": false,
     "start_time": "2022-05-04T14:02:57.262344",
     "status": "completed"
    },
    "tags": []
   },
   "outputs": [],
   "source": [
    "from sklearn.model_selection import GridSearchCV\n",
    "# Create the parameter grid based on the results of random search \n",
    "param_grid = {\n",
    "    'bootstrap': [True],\n",
    "    'max_depth': [80, 90, 100, 110],\n",
    "    'max_features': [2, 3],\n",
    "    'min_samples_leaf': [3, 4, 5],\n",
    "    'min_samples_split': [8, 10, 12],\n",
    "    'n_estimators': [100, 200, 300, 1000]\n",
    "}\n",
    "# Create a based model\n",
    "rf = RandomForestRegressor()\n",
    "# Instantiate the grid search model\n",
    "grid_search = GridSearchCV(estimator = rf, param_grid = param_grid, \n",
    "                          cv = 3, n_jobs = -1, verbose = 2)"
   ]
  },
  {
   "cell_type": "code",
   "execution_count": 26,
   "id": "417449bb",
   "metadata": {
    "execution": {
     "iopub.execute_input": "2022-05-04T14:02:57.378247Z",
     "iopub.status.busy": "2022-05-04T14:02:57.377278Z",
     "iopub.status.idle": "2022-05-04T14:07:09.678296Z",
     "shell.execute_reply": "2022-05-04T14:07:09.677740Z",
     "shell.execute_reply.started": "2022-05-04T13:47:31.279319Z"
    },
    "papermill": {
     "duration": 252.338299,
     "end_time": "2022-05-04T14:07:09.678439",
     "exception": false,
     "start_time": "2022-05-04T14:02:57.340140",
     "status": "completed"
    },
    "tags": []
   },
   "outputs": [
    {
     "name": "stdout",
     "output_type": "stream",
     "text": [
      "Fitting 3 folds for each of 288 candidates, totalling 864 fits\n"
     ]
    },
    {
     "name": "stderr",
     "output_type": "stream",
     "text": [
      "[Parallel(n_jobs=-1)]: Using backend LokyBackend with 4 concurrent workers.\n",
      "[Parallel(n_jobs=-1)]: Done  33 tasks      | elapsed:    8.8s\n",
      "[Parallel(n_jobs=-1)]: Done 154 tasks      | elapsed:   44.0s\n",
      "[Parallel(n_jobs=-1)]: Done 357 tasks      | elapsed:  1.7min\n",
      "[Parallel(n_jobs=-1)]: Done 640 tasks      | elapsed:  3.1min\n",
      "[Parallel(n_jobs=-1)]: Done 864 out of 864 | elapsed:  4.2min finished\n"
     ]
    },
    {
     "data": {
      "text/plain": [
       "{'bootstrap': True,\n",
       " 'max_depth': 100,\n",
       " 'max_features': 3,\n",
       " 'min_samples_leaf': 3,\n",
       " 'min_samples_split': 8,\n",
       " 'n_estimators': 100}"
      ]
     },
     "execution_count": 26,
     "metadata": {},
     "output_type": "execute_result"
    }
   ],
   "source": [
    "# Fit the grid search to the data\n",
    "grid_search.fit(X_train, Y_train)\n",
    "grid_search.best_params_\n"
   ]
  },
  {
   "cell_type": "code",
   "execution_count": 27,
   "id": "5f324f8b",
   "metadata": {
    "execution": {
     "iopub.execute_input": "2022-05-04T14:07:09.755461Z",
     "iopub.status.busy": "2022-05-04T14:07:09.754872Z",
     "iopub.status.idle": "2022-05-04T14:07:09.950385Z",
     "shell.execute_reply": "2022-05-04T14:07:09.949741Z",
     "shell.execute_reply.started": "2022-05-04T13:56:57.306276Z"
    },
    "papermill": {
     "duration": 0.234745,
     "end_time": "2022-05-04T14:07:09.950535",
     "exception": false,
     "start_time": "2022-05-04T14:07:09.715790",
     "status": "completed"
    },
    "tags": []
   },
   "outputs": [
    {
     "data": {
      "text/plain": [
       "RandomForestRegressor(max_depth=90, max_features=2, min_samples_leaf=3,\n",
       "                      min_samples_split=10, random_state=42)"
      ]
     },
     "execution_count": 27,
     "metadata": {},
     "output_type": "execute_result"
    }
   ],
   "source": [
    "## STEP 17. PARAMETERS FOR MODEL - RANDOM FOREST\n",
    "\n",
    "# # Instantiate model with 1000 decision trees\n",
    "rf_grid = RandomForestRegressor(n_estimators = 100, random_state = 42, min_samples_split=10,\n",
    "                          min_samples_leaf=3,max_features=2,max_depth=90, bootstrap=True )\n",
    "# Train the model on training data\n",
    "rf_grid.fit(X_train, Y_train)"
   ]
  },
  {
   "cell_type": "code",
   "execution_count": 28,
   "id": "48dbedd7",
   "metadata": {
    "execution": {
     "iopub.execute_input": "2022-05-04T14:07:10.033638Z",
     "iopub.status.busy": "2022-05-04T14:07:10.032980Z",
     "iopub.status.idle": "2022-05-04T14:07:10.043944Z",
     "shell.execute_reply": "2022-05-04T14:07:10.043264Z",
     "shell.execute_reply.started": "2022-05-04T13:56:59.577817Z"
    },
    "papermill": {
     "duration": 0.056006,
     "end_time": "2022-05-04T14:07:10.044097",
     "exception": false,
     "start_time": "2022-05-04T14:07:09.988091",
     "status": "completed"
    },
    "tags": []
   },
   "outputs": [],
   "source": [
    "##STEP 18. DEFINING ORIGINAL Y-VALUES AND PREDICTED Y-VALUES (FOR TESTING DATASET)\n",
    "expected_ygrid  = Y_test\n",
    "predicted_ygrid = rf_grid.predict(X_test) #Predicting the test set results using the random forest regressor model"
   ]
  },
  {
   "cell_type": "code",
   "execution_count": 29,
   "id": "55c9085e",
   "metadata": {
    "execution": {
     "iopub.execute_input": "2022-05-04T14:07:10.125790Z",
     "iopub.status.busy": "2022-05-04T14:07:10.125089Z",
     "iopub.status.idle": "2022-05-04T14:07:10.137983Z",
     "shell.execute_reply": "2022-05-04T14:07:10.137368Z",
     "shell.execute_reply.started": "2022-05-04T13:57:01.584433Z"
    },
    "papermill": {
     "duration": 0.056344,
     "end_time": "2022-05-04T14:07:10.138134",
     "exception": false,
     "start_time": "2022-05-04T14:07:10.081790",
     "status": "completed"
    },
    "tags": []
   },
   "outputs": [],
   "source": [
    "##STEP 18. DEFINING ORIGINAL Y-VALUES AND PREDICTED Y-VALUES (FOR TRAINING DATASET)\n",
    "\n",
    "expected_y_tr_grid = Y_train\n",
    "predicted_y_tr_grid = rf_grid.predict(X_train)\n",
    "# print(expected_y_tr, predicted_y_tr)"
   ]
  },
  {
   "cell_type": "code",
   "execution_count": 30,
   "id": "6cd5ad94",
   "metadata": {
    "execution": {
     "iopub.execute_input": "2022-05-04T14:07:10.215839Z",
     "iopub.status.busy": "2022-05-04T14:07:10.214874Z",
     "iopub.status.idle": "2022-05-04T14:07:10.222898Z",
     "shell.execute_reply": "2022-05-04T14:07:10.223377Z",
     "shell.execute_reply.started": "2022-05-04T13:57:03.329043Z"
    },
    "papermill": {
     "duration": 0.048379,
     "end_time": "2022-05-04T14:07:10.223549",
     "exception": false,
     "start_time": "2022-05-04T14:07:10.175170",
     "status": "completed"
    },
    "tags": []
   },
   "outputs": [
    {
     "name": "stdout",
     "output_type": "stream",
     "text": [
      "training rmse:  4.892580580733285\n",
      "testing rmse:  7.959163730995015\n"
     ]
    }
   ],
   "source": [
    "##STEP 12A. RMSE - TRAIN\n",
    "\n",
    "def rmse(predictions, targets):\n",
    "    return np.sqrt(((predictions - targets) ** 2).mean())\n",
    "\n",
    "print(\"training rmse: \", rmse(predicted_y_tr_grid, expected_y_tr_grid))\n",
    "print(\"testing rmse: \", rmse(predicted_ygrid, Y_test))"
   ]
  },
  {
   "cell_type": "code",
   "execution_count": 31,
   "id": "1b673c31",
   "metadata": {
    "execution": {
     "iopub.execute_input": "2022-05-04T14:07:10.301204Z",
     "iopub.status.busy": "2022-05-04T14:07:10.300298Z",
     "iopub.status.idle": "2022-05-04T14:07:10.307472Z",
     "shell.execute_reply": "2022-05-04T14:07:10.308033Z",
     "shell.execute_reply.started": "2022-05-04T13:57:26.734778Z"
    },
    "papermill": {
     "duration": 0.047761,
     "end_time": "2022-05-04T14:07:10.308202",
     "exception": false,
     "start_time": "2022-05-04T14:07:10.260441",
     "status": "completed"
    },
    "tags": []
   },
   "outputs": [
    {
     "name": "stdout",
     "output_type": "stream",
     "text": [
      "R2 score training data:  0.8489996569006868\n",
      "R2 score testing data:  0.6538050155357024\n"
     ]
    }
   ],
   "source": [
    "##STEP 12B. R2\n",
    "\n",
    "from sklearn.metrics import r2_score\n",
    "print(\"R2 score training data: \", r2_score(expected_y_tr_grid, predicted_y_tr_grid))\n",
    "print(\"R2 score testing data: \", r2_score(Y_test, predicted_ygrid))"
   ]
  },
  {
   "cell_type": "code",
   "execution_count": 32,
   "id": "596c9f34",
   "metadata": {
    "execution": {
     "iopub.execute_input": "2022-05-04T14:07:10.390422Z",
     "iopub.status.busy": "2022-05-04T14:07:10.389565Z",
     "iopub.status.idle": "2022-05-04T14:07:10.401623Z",
     "shell.execute_reply": "2022-05-04T14:07:10.402121Z",
     "shell.execute_reply.started": "2022-05-04T13:57:43.546051Z"
    },
    "papermill": {
     "duration": 0.05657,
     "end_time": "2022-05-04T14:07:10.402302",
     "exception": false,
     "start_time": "2022-05-04T14:07:10.345732",
     "status": "completed"
    },
    "tags": []
   },
   "outputs": [
    {
     "name": "stdout",
     "output_type": "stream",
     "text": [
      "MAE training data:  3.440899448264669\n",
      "MAE testing data:  5.679518669197806\n"
     ]
    }
   ],
   "source": [
    "##STEP 12C. MEAN ABSOLUTE ERROR \n",
    "from sklearn.metrics import mean_absolute_error\n",
    "print(\"MAE training data: \", mean_absolute_error(expected_y_tr_grid, predicted_y_tr_grid))\n",
    "print(\"MAE testing data: \", mean_absolute_error(expected_ygrid, predicted_ygrid))"
   ]
  },
  {
   "cell_type": "code",
   "execution_count": 33,
   "id": "c75b3f53",
   "metadata": {
    "execution": {
     "iopub.execute_input": "2022-05-04T14:07:10.483327Z",
     "iopub.status.busy": "2022-05-04T14:07:10.482409Z",
     "iopub.status.idle": "2022-05-04T14:07:10.485383Z",
     "shell.execute_reply": "2022-05-04T14:07:10.484866Z"
    },
    "papermill": {
     "duration": 0.045036,
     "end_time": "2022-05-04T14:07:10.485537",
     "exception": false,
     "start_time": "2022-05-04T14:07:10.440501",
     "status": "completed"
    },
    "tags": []
   },
   "outputs": [],
   "source": [
    "##RANDOM FOREST VISUALIZATIONS\n",
    "\n",
    "# # Import tools needed for visualization\n",
    "# from sklearn.tree import export_graphviz\n",
    "# import pydot\n",
    "\n",
    "# # Limit depth of tree to 3 levels\n",
    "# rf_small = RandomForestRegressor(n_estimators=10, max_depth = 3)\n",
    "# rf_small.fit(X_train, Y_train)\n",
    "# # Extract the small tree\n",
    "# tree_small = rf_small.estimators_[5]\n",
    "# # Save the tree as a png image\n",
    "# export_graphviz(tree_small, out_file = 'small_tree.dot', feature_names = feature_list, rounded = True, precision = 1)\n",
    "# (graph, ) = pydot.graph_from_dot_file('small_tree.dot')\n",
    "# graph.write_png('small_tree.png');"
   ]
  }
 ],
 "metadata": {
  "kernelspec": {
   "display_name": "Python 3",
   "language": "python",
   "name": "python3"
  },
  "language_info": {
   "codemirror_mode": {
    "name": "ipython",
    "version": 3
   },
   "file_extension": ".py",
   "mimetype": "text/x-python",
   "name": "python",
   "nbconvert_exporter": "python",
   "pygments_lexer": "ipython3",
   "version": "3.7.10"
  },
  "papermill": {
   "default_parameters": {},
   "duration": 541.888603,
   "end_time": "2022-05-04T14:07:11.784311",
   "environment_variables": {},
   "exception": null,
   "input_path": "__notebook__.ipynb",
   "output_path": "__notebook__.ipynb",
   "parameters": {},
   "start_time": "2022-05-04T13:58:09.895708",
   "version": "2.3.3"
  }
 },
 "nbformat": 4,
 "nbformat_minor": 5
}
