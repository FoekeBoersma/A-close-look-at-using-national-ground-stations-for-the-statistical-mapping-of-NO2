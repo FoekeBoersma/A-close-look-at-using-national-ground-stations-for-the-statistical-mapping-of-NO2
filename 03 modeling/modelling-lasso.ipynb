{
 "cells": [
  {
   "cell_type": "code",
   "execution_count": 1,
   "id": "bec48eb8",
   "metadata": {
    "_cell_guid": "b1076dfc-b9ad-4769-8c92-a6c4dae69d19",
    "_uuid": "8f2839f25d086af736a60e9eeb907d3b93b6e0e5",
    "execution": {
     "iopub.execute_input": "2022-05-05T12:46:34.560200Z",
     "iopub.status.busy": "2022-05-05T12:46:34.556635Z",
     "iopub.status.idle": "2022-05-05T12:46:34.579115Z",
     "shell.execute_reply": "2022-05-05T12:46:34.579693Z",
     "shell.execute_reply.started": "2022-05-05T12:20:07.65994Z"
    },
    "papermill": {
     "duration": 0.048719,
     "end_time": "2022-05-05T12:46:34.580042",
     "exception": false,
     "start_time": "2022-05-05T12:46:34.531323",
     "status": "completed"
    },
    "tags": []
   },
   "outputs": [
    {
     "name": "stdout",
     "output_type": "stream",
     "text": [
      "/kaggle/input/dataset-lowest-aic452022/dataset_lowestAIC_longlat.csv\n",
      "/kaggle/input/iterated-12preds/iterated_12vars.csv\n",
      "/kaggle/input/datasetlowestaic/dataset_lowestAIC.csv\n"
     ]
    }
   ],
   "source": [
    "# This Python 3 environment comes with many helpful analytics libraries installed\n",
    "# It is defined by the kaggle/python Docker image: https://github.com/kaggle/docker-python\n",
    "# For example, here's several helpful packages to load\n",
    "\n",
    "import numpy as np # linear algebra\n",
    "import pandas as pd # data processing, CSV file I/O (e.g. pd.read_csv)\n",
    "\n",
    "# Input data files are available in the read-only \"../input/\" directory\n",
    "# For example, running this (by clicking run or pressing Shift+Enter) will list all files under the input directory\n",
    "\n",
    "import os\n",
    "for dirname, _, filenames in os.walk('/kaggle/input'):\n",
    "    for filename in filenames:\n",
    "        print(os.path.join(dirname, filename))\n",
    "\n",
    "# You can write up to 20GB to the current directory (/kaggle/working/) that gets preserved as output when you create a version using \"Save & Run All\" \n",
    "# You can also write temporary files to /kaggle/temp/, but they won't be saved outside of the current session"
   ]
  },
  {
   "cell_type": "code",
   "execution_count": 2,
   "id": "65fa2f62",
   "metadata": {
    "execution": {
     "iopub.execute_input": "2022-05-05T12:46:34.614980Z",
     "iopub.status.busy": "2022-05-05T12:46:34.614275Z",
     "iopub.status.idle": "2022-05-05T12:46:34.617821Z",
     "shell.execute_reply": "2022-05-05T12:46:34.617130Z"
    },
    "papermill": {
     "duration": 0.023161,
     "end_time": "2022-05-05T12:46:34.617965",
     "exception": false,
     "start_time": "2022-05-05T12:46:34.594804",
     "status": "completed"
    },
    "tags": []
   },
   "outputs": [],
   "source": [
    "##SOURCE: https://dataaspirant.com/lasso-regression/#t-1606404715785"
   ]
  },
  {
   "cell_type": "code",
   "execution_count": 3,
   "id": "bd184c39",
   "metadata": {
    "execution": {
     "iopub.execute_input": "2022-05-05T12:46:34.652846Z",
     "iopub.status.busy": "2022-05-05T12:46:34.651921Z",
     "iopub.status.idle": "2022-05-05T12:46:34.808253Z",
     "shell.execute_reply": "2022-05-05T12:46:34.808825Z",
     "shell.execute_reply.started": "2022-05-05T12:21:03.628179Z"
    },
    "papermill": {
     "duration": 0.177127,
     "end_time": "2022-05-05T12:46:34.809046",
     "exception": false,
     "start_time": "2022-05-05T12:46:34.631919",
     "status": "completed"
    },
    "tags": []
   },
   "outputs": [],
   "source": [
    "df = pd.read_csv(r'../input/dataset-lowest-aic452022/dataset_lowestAIC_longlat.csv', sep=';')"
   ]
  },
  {
   "cell_type": "code",
   "execution_count": 4,
   "id": "c0afbd92",
   "metadata": {
    "execution": {
     "iopub.execute_input": "2022-05-05T12:46:34.841500Z",
     "iopub.status.busy": "2022-05-05T12:46:34.840459Z",
     "iopub.status.idle": "2022-05-05T12:46:34.856920Z",
     "shell.execute_reply": "2022-05-05T12:46:34.856235Z",
     "shell.execute_reply.started": "2022-05-05T12:21:06.150873Z"
    },
    "papermill": {
     "duration": 0.034085,
     "end_time": "2022-05-05T12:46:34.857148",
     "exception": false,
     "start_time": "2022-05-05T12:46:34.823063",
     "status": "completed"
    },
    "tags": []
   },
   "outputs": [],
   "source": [
    "#remove unique idenifier & geodata\n",
    "df = df.drop(['Unnamed: 0', 'Longitude', 'Latitude'], axis=1)"
   ]
  },
  {
   "cell_type": "code",
   "execution_count": 5,
   "id": "ec00d906",
   "metadata": {
    "execution": {
     "iopub.execute_input": "2022-05-05T12:46:34.897910Z",
     "iopub.status.busy": "2022-05-05T12:46:34.896806Z",
     "iopub.status.idle": "2022-05-05T12:46:34.900075Z",
     "shell.execute_reply": "2022-05-05T12:46:34.900562Z",
     "shell.execute_reply.started": "2022-05-05T12:21:07.724742Z"
    },
    "papermill": {
     "duration": 0.027509,
     "end_time": "2022-05-05T12:46:34.900797",
     "exception": false,
     "start_time": "2022-05-05T12:46:34.873288",
     "status": "completed"
    },
    "tags": []
   },
   "outputs": [],
   "source": [
    "y = df['mean_value_NO2']\n",
    "x = df.drop(['mean_value_NO2'], axis=1)\n",
    "feature_list = list(x.columns)"
   ]
  },
  {
   "cell_type": "code",
   "execution_count": 6,
   "id": "6855dc88",
   "metadata": {
    "execution": {
     "iopub.execute_input": "2022-05-05T12:46:34.937237Z",
     "iopub.status.busy": "2022-05-05T12:46:34.936259Z",
     "iopub.status.idle": "2022-05-05T12:46:36.040385Z",
     "shell.execute_reply": "2022-05-05T12:46:36.041023Z",
     "shell.execute_reply.started": "2022-05-05T12:21:10.656195Z"
    },
    "papermill": {
     "duration": 1.125572,
     "end_time": "2022-05-05T12:46:36.041263",
     "exception": false,
     "start_time": "2022-05-05T12:46:34.915691",
     "status": "completed"
    },
    "tags": []
   },
   "outputs": [],
   "source": [
    "from sklearn.model_selection import train_test_split\n",
    "from sklearn.linear_model import Lasso\n",
    "from sklearn.model_selection import RepeatedKFold\n",
    "\n",
    "X_train, X_test, Y_train, Y_test = train_test_split(x, y, test_size=0.25, random_state=20)\n",
    "#random state is needed to ensure that same results are generated each time."
   ]
  },
  {
   "cell_type": "code",
   "execution_count": 7,
   "id": "1528c80c",
   "metadata": {
    "execution": {
     "iopub.execute_input": "2022-05-05T12:46:36.073868Z",
     "iopub.status.busy": "2022-05-05T12:46:36.073201Z",
     "iopub.status.idle": "2022-05-05T12:46:36.081340Z",
     "shell.execute_reply": "2022-05-05T12:46:36.080708Z",
     "shell.execute_reply.started": "2022-05-05T12:21:13.626406Z"
    },
    "papermill": {
     "duration": 0.025208,
     "end_time": "2022-05-05T12:46:36.081487",
     "exception": false,
     "start_time": "2022-05-05T12:46:36.056279",
     "status": "completed"
    },
    "tags": []
   },
   "outputs": [
    {
     "name": "stdout",
     "output_type": "stream",
     "text": [
      "Training Features Shape: (361, 12)\n",
      "Training Labels Shape: (361,)\n",
      "Testing Features Shape: (121, 12)\n",
      "Testing Labels Shape: (121,)\n"
     ]
    }
   ],
   "source": [
    "## STEP 16.ENSURING THAT X- AND Y-TRAINING SET CONTAIN SAME AMOUNT OF ROWS. SAME FOR TESTING.\n",
    "print('Training Features Shape:',X_train.shape)\n",
    "print('Training Labels Shape:', Y_train.shape)\n",
    "print('Testing Features Shape:', X_test.shape)\n",
    "print('Testing Labels Shape:', Y_test.shape)"
   ]
  },
  {
   "cell_type": "code",
   "execution_count": 8,
   "id": "76014fd0",
   "metadata": {
    "execution": {
     "iopub.execute_input": "2022-05-05T12:46:36.112918Z",
     "iopub.status.busy": "2022-05-05T12:46:36.112247Z",
     "iopub.status.idle": "2022-05-05T12:46:36.120117Z",
     "shell.execute_reply": "2022-05-05T12:46:36.120723Z",
     "shell.execute_reply.started": "2022-05-05T12:23:47.910665Z"
    },
    "papermill": {
     "duration": 0.025354,
     "end_time": "2022-05-05T12:46:36.120995",
     "exception": false,
     "start_time": "2022-05-05T12:46:36.095641",
     "status": "completed"
    },
    "tags": []
   },
   "outputs": [],
   "source": [
    "#determining alpha parameter\n",
    "\n",
    "o = []\n",
    "def alp(g):\n",
    "    model_lasso = Lasso(alpha=g)\n",
    "    model_lasso.fit(X_train, Y_train)\n",
    "    pred_train_lasso= model_lasso.predict(X_train)\n",
    "    pred_test_lasso= model_lasso.predict(X_test)\n",
    "    \n",
    "    ##RMSE\n",
    "    print(g)\n",
    "\n",
    "    def rmse(predictions, targets):\n",
    "        return np.sqrt(((predictions - targets) ** 2).mean())\n",
    "    \n",
    "#     print(\"training rmse: \", rmse(pred_train_lasso, Y_train))\n",
    "    print(\"testing rmse: \", rmse(pred_test_lasso, Y_test))\n",
    "\n",
    "    ##STEPR2\n",
    "\n",
    "    from sklearn.metrics import r2_score\n",
    "#     print(\"R2 score training data: \", r2_score(Y_train, pred_train_lasso))\n",
    "    print(\"R2 score testing data: \", r2_score(Y_test, pred_test_lasso))\n",
    "\n",
    "    ##MEAN ABSOLUTE ERROR \n",
    "    from sklearn.metrics import mean_absolute_error\n",
    "#     print(\"MAE training data: \", mean_absolute_error(Y_train, pred_train_lasso))\n",
    "    print(\"MAE testing data: \", mean_absolute_error(Y_test, pred_test_lasso))"
   ]
  },
  {
   "cell_type": "code",
   "execution_count": 9,
   "id": "b355fec3",
   "metadata": {
    "execution": {
     "iopub.execute_input": "2022-05-05T12:46:36.162999Z",
     "iopub.status.busy": "2022-05-05T12:46:36.162250Z",
     "iopub.status.idle": "2022-05-05T12:46:36.450056Z",
     "shell.execute_reply": "2022-05-05T12:46:36.450599Z",
     "shell.execute_reply.started": "2022-05-05T12:23:50.164879Z"
    },
    "papermill": {
     "duration": 0.314237,
     "end_time": "2022-05-05T12:46:36.450817",
     "exception": false,
     "start_time": "2022-05-05T12:46:36.136580",
     "status": "completed"
    },
    "tags": []
   },
   "outputs": [
    {
     "name": "stdout",
     "output_type": "stream",
     "text": [
      "0.1\n",
      "testing rmse:  9.141846288019588\n",
      "R2 score testing data:  0.5432761157435908\n",
      "MAE testing data:  6.615800174590697\n",
      "0.2\n",
      "testing rmse:  9.172760693824989\n",
      "R2 score testing data:  0.5401819441053015\n",
      "MAE testing data:  6.660284673429837\n",
      "0.30000000000000004\n",
      "testing rmse:  9.192293903082739\n",
      "R2 score testing data:  0.5382215123869066\n",
      "MAE testing data:  6.682200059364072\n",
      "0.4\n",
      "testing rmse:  9.192555871473788\n",
      "R2 score testing data:  0.5381951918422283\n",
      "MAE testing data:  6.683165254145427\n",
      "0.5\n",
      "testing rmse:  9.192874583875723\n",
      "R2 score testing data:  0.5381631690896536\n",
      "MAE testing data:  6.684151430042785\n",
      "0.6\n",
      "testing rmse:  9.193274205063755\n",
      "R2 score testing data:  0.538123015426545\n",
      "MAE testing data:  6.6851708473957006\n",
      "0.7000000000000001\n",
      "testing rmse:  9.193691909434001\n",
      "R2 score testing data:  0.5380810429119445\n",
      "MAE testing data:  6.6861901350308015\n",
      "0.8\n",
      "testing rmse:  9.194125310409419\n",
      "R2 score testing data:  0.5380374911272482\n",
      "MAE testing data:  6.687208063282893\n",
      "0.9\n",
      "testing rmse:  9.194588160126816\n",
      "R2 score testing data:  0.5379909778176091\n",
      "MAE testing data:  6.688231721319423\n",
      "1.0\n",
      "testing rmse:  9.195054918368461\n",
      "R2 score testing data:  0.5379440693560987\n",
      "MAE testing data:  6.689247971057582\n"
     ]
    }
   ],
   "source": [
    "#examine model performance for each alpha parameter\n",
    "o = np.arange(0.1, 1.1, 0.1)\n",
    "store = []\n",
    "for i in o:\n",
    "    alp(i)"
   ]
  },
  {
   "cell_type": "code",
   "execution_count": 10,
   "id": "4b230d1b",
   "metadata": {
    "execution": {
     "iopub.execute_input": "2022-05-05T12:46:36.490389Z",
     "iopub.status.busy": "2022-05-05T12:46:36.489604Z",
     "iopub.status.idle": "2022-05-05T12:46:36.498743Z",
     "shell.execute_reply": "2022-05-05T12:46:36.498121Z",
     "shell.execute_reply.started": "2022-05-05T12:25:12.805941Z"
    },
    "papermill": {
     "duration": 0.032818,
     "end_time": "2022-05-05T12:46:36.498924",
     "exception": false,
     "start_time": "2022-05-05T12:46:36.466106",
     "status": "completed"
    },
    "tags": []
   },
   "outputs": [],
   "source": [
    "## Build the lasso model with best alpha\n",
    "\n",
    "model_lasso = Lasso(alpha=0.1)\n",
    "model_lasso.fit(X_train, Y_train)\n",
    "pred_train_lasso= model_lasso.predict(X_train)\n",
    "pred_test_lasso= model_lasso.predict(X_test)"
   ]
  },
  {
   "cell_type": "code",
   "execution_count": 11,
   "id": "a27ad656",
   "metadata": {
    "execution": {
     "iopub.execute_input": "2022-05-05T12:46:36.534964Z",
     "iopub.status.busy": "2022-05-05T12:46:36.533981Z",
     "iopub.status.idle": "2022-05-05T12:46:36.542509Z",
     "shell.execute_reply": "2022-05-05T12:46:36.543210Z",
     "shell.execute_reply.started": "2022-05-05T12:25:14.607744Z"
    },
    "papermill": {
     "duration": 0.028505,
     "end_time": "2022-05-05T12:46:36.543451",
     "exception": false,
     "start_time": "2022-05-05T12:46:36.514946",
     "status": "completed"
    },
    "tags": []
   },
   "outputs": [
    {
     "name": "stdout",
     "output_type": "stream",
     "text": [
      "training rmse:  6.722103796686181\n",
      "testing rmse:  9.141846288019588\n"
     ]
    }
   ],
   "source": [
    "##STEP 12A. RMSE \n",
    "\n",
    "def rmse(predictions, targets):\n",
    "    return np.sqrt(((predictions - targets) ** 2).mean())\n",
    "\n",
    "print(\"training rmse: \", rmse(pred_train_lasso, Y_train))\n",
    "print(\"testing rmse: \", rmse(pred_test_lasso, Y_test))"
   ]
  },
  {
   "cell_type": "code",
   "execution_count": 12,
   "id": "942a30dd",
   "metadata": {
    "execution": {
     "iopub.execute_input": "2022-05-05T12:46:36.583581Z",
     "iopub.status.busy": "2022-05-05T12:46:36.582402Z",
     "iopub.status.idle": "2022-05-05T12:46:36.587331Z",
     "shell.execute_reply": "2022-05-05T12:46:36.588080Z",
     "shell.execute_reply.started": "2022-05-05T12:25:22.078627Z"
    },
    "papermill": {
     "duration": 0.028908,
     "end_time": "2022-05-05T12:46:36.588423",
     "exception": false,
     "start_time": "2022-05-05T12:46:36.559515",
     "status": "completed"
    },
    "tags": []
   },
   "outputs": [
    {
     "name": "stdout",
     "output_type": "stream",
     "text": [
      "R2 score training data:  0.7149556822032233\n",
      "R2 score testing data:  0.5432761157435908\n"
     ]
    }
   ],
   "source": [
    "##STEP 12B. R2\n",
    "\n",
    "from sklearn.metrics import r2_score\n",
    "print(\"R2 score training data: \", r2_score(Y_train, pred_train_lasso))\n",
    "print(\"R2 score testing data: \", r2_score(Y_test, pred_test_lasso))"
   ]
  },
  {
   "cell_type": "code",
   "execution_count": 13,
   "id": "7d294833",
   "metadata": {
    "execution": {
     "iopub.execute_input": "2022-05-05T12:46:36.628612Z",
     "iopub.status.busy": "2022-05-05T12:46:36.627865Z",
     "iopub.status.idle": "2022-05-05T12:46:36.633854Z",
     "shell.execute_reply": "2022-05-05T12:46:36.634358Z",
     "shell.execute_reply.started": "2022-05-05T12:25:23.393724Z"
    },
    "papermill": {
     "duration": 0.029162,
     "end_time": "2022-05-05T12:46:36.634555",
     "exception": false,
     "start_time": "2022-05-05T12:46:36.605393",
     "status": "completed"
    },
    "tags": []
   },
   "outputs": [
    {
     "name": "stdout",
     "output_type": "stream",
     "text": [
      "MAE training data:  5.023469998676963\n",
      "MAE testing data:  6.615800174590697\n"
     ]
    }
   ],
   "source": [
    "##STEP 12C. MEAN ABSOLUTE ERROR \n",
    "from sklearn.metrics import mean_absolute_error\n",
    "print(\"MAE training data: \", mean_absolute_error(Y_train, pred_train_lasso))\n",
    "print(\"MAE testing data: \", mean_absolute_error(Y_test, pred_test_lasso))"
   ]
  },
  {
   "cell_type": "code",
   "execution_count": 14,
   "id": "047fb7dc",
   "metadata": {
    "execution": {
     "iopub.execute_input": "2022-05-05T12:46:36.672600Z",
     "iopub.status.busy": "2022-05-05T12:46:36.671871Z",
     "iopub.status.idle": "2022-05-05T12:46:36.675449Z",
     "shell.execute_reply": "2022-05-05T12:46:36.674735Z",
     "shell.execute_reply.started": "2021-08-10T09:59:26.957682Z"
    },
    "papermill": {
     "duration": 0.024674,
     "end_time": "2022-05-05T12:46:36.675633",
     "exception": false,
     "start_time": "2022-05-05T12:46:36.650959",
     "status": "completed"
    },
    "tags": []
   },
   "outputs": [],
   "source": [
    "# from sklearn.linear_model import LassoCV\n",
    "# from numpy import arange\n",
    "\n",
    "# ##FINETUNING ALPHA\n",
    "\n",
    "# ## define model evaluation method\n",
    "# cross_validation = RepeatedKFold(n_splits=10, n_repeats=3, random_state=1)\n",
    "\n",
    "# ## define model\n",
    "\n",
    "# lasso_model = LassoCV(alphas=arange(0.1, 1, 0.02), cv=cross_validation , n_jobs=-1)\n",
    "\n",
    "# ## fit model\n",
    "# lasso_model.fit(x,y)\n",
    "# ## summarize chosen configuration\n",
    "# print('alpha: %f' % lasso_model .alpha_)\n",
    "\n",
    "# pred_train_lasso= model_lasso.predict(X_train)\n",
    "# pred_test_lasso= model_lasso.predict(X_test)\n",
    "\n",
    "# ##STEP 12A. RMSE \n",
    "\n",
    "# def rmse(predictions, targets):\n",
    "#     return np.sqrt(((predictions - targets) ** 2).mean())\n",
    "\n",
    "# print(\"training rmse: \", rmse(pred_train_lasso, Y_train))\n",
    "# print(\"testing rmse: \", rmse(pred_test_lasso, Y_test))\n",
    "\n",
    "# ##STEP 12B. R2\n",
    "\n",
    "# from sklearn.metrics import r2_score\n",
    "# print(\"R2 score training data: \", r2_score(Y_train, pred_train_lasso))\n",
    "# print(\"R2 score testing data: \", r2_score(Y_test, pred_test_lasso))\n",
    "\n",
    "# ##STEP 12C. MEAN ABSOLUTE ERROR \n",
    "# from sklearn.metrics import mean_absolute_error\n",
    "# print(\"MAE training data: \", mean_absolute_error(Y_train, pred_train_lasso))\n",
    "# print(\"MAE testing data: \", mean_absolute_error(Y_test, pred_test_lasso))"
   ]
  },
  {
   "cell_type": "code",
   "execution_count": null,
   "id": "7c3697b1",
   "metadata": {
    "papermill": {
     "duration": 0.015527,
     "end_time": "2022-05-05T12:46:36.707280",
     "exception": false,
     "start_time": "2022-05-05T12:46:36.691753",
     "status": "completed"
    },
    "tags": []
   },
   "outputs": [],
   "source": []
  }
 ],
 "metadata": {
  "kernelspec": {
   "display_name": "Python 3",
   "language": "python",
   "name": "python3"
  },
  "language_info": {
   "codemirror_mode": {
    "name": "ipython",
    "version": 3
   },
   "file_extension": ".py",
   "mimetype": "text/x-python",
   "name": "python",
   "nbconvert_exporter": "python",
   "pygments_lexer": "ipython3",
   "version": "3.7.10"
  },
  "papermill": {
   "default_parameters": {},
   "duration": 12.897583,
   "end_time": "2022-05-05T12:46:38.407003",
   "environment_variables": {},
   "exception": null,
   "input_path": "__notebook__.ipynb",
   "output_path": "__notebook__.ipynb",
   "parameters": {},
   "start_time": "2022-05-05T12:46:25.509420",
   "version": "2.3.3"
  }
 },
 "nbformat": 4,
 "nbformat_minor": 5
}
