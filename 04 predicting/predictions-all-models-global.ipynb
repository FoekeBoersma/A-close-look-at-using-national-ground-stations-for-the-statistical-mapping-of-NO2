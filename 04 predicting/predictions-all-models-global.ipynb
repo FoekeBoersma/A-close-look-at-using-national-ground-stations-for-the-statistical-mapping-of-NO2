{
 "cells": [
  {
   "cell_type": "code",
   "execution_count": 1,
   "id": "98c6b4a7",
   "metadata": {
    "_cell_guid": "b1076dfc-b9ad-4769-8c92-a6c4dae69d19",
    "_uuid": "8f2839f25d086af736a60e9eeb907d3b93b6e0e5",
    "execution": {
     "iopub.execute_input": "2022-07-25T11:16:57.416463Z",
     "iopub.status.busy": "2022-07-25T11:16:57.414586Z",
     "iopub.status.idle": "2022-07-25T11:17:07.662736Z",
     "shell.execute_reply": "2022-07-25T11:17:07.662027Z",
     "shell.execute_reply.started": "2022-07-25T10:58:40.580809Z"
    },
    "papermill": {
     "duration": 10.275517,
     "end_time": "2022-07-25T11:17:07.662924",
     "exception": false,
     "start_time": "2022-07-25T11:16:57.387407",
     "status": "completed"
    },
    "tags": []
   },
   "outputs": [
    {
     "name": "stdout",
     "output_type": "stream",
     "text": [
      "/kaggle/input/grid100globalpredictorsutrecht/grid100_GlobalPredictors-Utrecht-processed.csv\n",
      "/kaggle/input/datasetlowestaicspatialglobal/dataset_lowestAIC_longlat.csv\n",
      "/kaggle/input/grid100globalpredictorshh/grid100_GlobalPredictors-HH_processed.csv\n",
      "/kaggle/input/grid100globalpredictorsbayreuth/grid100_GlobalPredictors-Bayreuth_processed.csv\n",
      "/kaggle/input/grid100globalpredictors/grid100_GlobalPredictors-processed.csv\n",
      "Collecting openpyxl\r\n",
      "  Downloading openpyxl-3.0.10-py2.py3-none-any.whl (242 kB)\r\n",
      "     |████████████████████████████████| 242 kB 5.2 MB/s            \r\n",
      "\u001b[?25hCollecting et-xmlfile\r\n",
      "  Downloading et_xmlfile-1.1.0-py3-none-any.whl (4.7 kB)\r\n",
      "Installing collected packages: et-xmlfile, openpyxl\r\n",
      "Successfully installed et-xmlfile-1.1.0 openpyxl-3.0.10\r\n",
      "\u001b[33mWARNING: Running pip as the 'root' user can result in broken permissions and conflicting behaviour with the system package manager. It is recommended to use a virtual environment instead: https://pip.pypa.io/warnings/venv\u001b[0m\r\n"
     ]
    }
   ],
   "source": [
    "# This Python 3 environment comes with many helpful analytics libraries installed\n",
    "# It is defined by the kaggle/python Docker image: https://github.com/kaggle/docker-python\n",
    "# For example, here's several helpful packages to load\n",
    "\n",
    "import numpy as np # linear algebra\n",
    "import pandas as pd # data processing, CSV file I/O (e.g. pd.read_csv)\n",
    "\n",
    "# Input data files are available in the read-only \"../input/\" directory\n",
    "# For example, running this (by clicking run or pressing Shift+Enter) will list all files under the input directory\n",
    "\n",
    "import os\n",
    "for dirname, _, filenames in os.walk('/kaggle/input'):\n",
    "    for filename in filenames:\n",
    "        print(os.path.join(dirname, filename))\n",
    "\n",
    "# You can write up to 20GB to the current directory (/kaggle/working/) that gets preserved as output when you create a version using \"Save & Run All\" \n",
    "# You can also write temporary files to /kaggle/temp/, but they won't be saved outside of the current session\n",
    "\n",
    "#install openpyxl, needed for exporting datasets to excel-file.\n",
    "\n",
    "!pip install openpyxl"
   ]
  },
  {
   "cell_type": "markdown",
   "id": "2dff8eb7",
   "metadata": {
    "papermill": {
     "duration": 0.020468,
     "end_time": "2022-07-25T11:17:07.705776",
     "exception": false,
     "start_time": "2022-07-25T11:17:07.685308",
     "status": "completed"
    },
    "tags": []
   },
   "source": [
    "## import train- and test datasets"
   ]
  },
  {
   "cell_type": "code",
   "execution_count": 2,
   "id": "8aee3044",
   "metadata": {
    "execution": {
     "iopub.execute_input": "2022-07-25T11:17:07.755104Z",
     "iopub.status.busy": "2022-07-25T11:17:07.754377Z",
     "iopub.status.idle": "2022-07-25T11:17:08.039577Z",
     "shell.execute_reply": "2022-07-25T11:17:08.038934Z",
     "shell.execute_reply.started": "2022-07-25T10:58:52.929854Z"
    },
    "papermill": {
     "duration": 0.313459,
     "end_time": "2022-07-25T11:17:08.039773",
     "exception": false,
     "start_time": "2022-07-25T11:17:07.726314",
     "status": "completed"
    },
    "tags": []
   },
   "outputs": [],
   "source": [
    "#import training dataset\n",
    "df_train = pd.read_csv(r'../input/datasetlowestaicspatialglobal/dataset_lowestAIC_longlat.csv', sep=';')\n",
    "\n",
    "#AMSTERDAM\n",
    "#df_test_xy = pd.read_csv(r'../input/grid100globalpredictors/grid100_GlobalPredictors-processed.csv', sep=';')\n",
    "\n",
    "#HAMBURG\n",
    "#df_test_xy = pd.read_csv(r'../input/grid100globalpredictorshh/grid100_GlobalPredictors-HH_processed.csv', sep=';')\n",
    "\n",
    "#Bayreuth\n",
    "#df_test_xy = pd.read_csv(r'../input/grid100globalpredictorsbayreuth/grid100_GlobalPredictors-Bayreuth_processed.csv', sep=';')\n",
    "\n",
    "#Utrecht\n",
    "df_test_xy = pd.read_csv(r'../input/grid100globalpredictorsutrecht/grid100_GlobalPredictors-Utrecht-processed.csv', sep=';')"
   ]
  },
  {
   "cell_type": "code",
   "execution_count": 3,
   "id": "4b620c60",
   "metadata": {
    "execution": {
     "iopub.execute_input": "2022-07-25T11:17:08.091242Z",
     "iopub.status.busy": "2022-07-25T11:17:08.090111Z",
     "iopub.status.idle": "2022-07-25T11:17:08.093534Z",
     "shell.execute_reply": "2022-07-25T11:17:08.092956Z",
     "shell.execute_reply.started": "2022-07-25T10:58:53.186747Z"
    },
    "papermill": {
     "duration": 0.032288,
     "end_time": "2022-07-25T11:17:08.093702",
     "exception": false,
     "start_time": "2022-07-25T11:17:08.061414",
     "status": "completed"
    },
    "tags": []
   },
   "outputs": [],
   "source": [
    "#replace NA with 0\n",
    "df_train=df_train.fillna(0)"
   ]
  },
  {
   "cell_type": "code",
   "execution_count": 4,
   "id": "da56615e",
   "metadata": {
    "execution": {
     "iopub.execute_input": "2022-07-25T11:17:08.149344Z",
     "iopub.status.busy": "2022-07-25T11:17:08.148643Z",
     "iopub.status.idle": "2022-07-25T11:17:08.171002Z",
     "shell.execute_reply": "2022-07-25T11:17:08.171553Z",
     "shell.execute_reply.started": "2022-07-25T10:58:53.195280Z"
    },
    "papermill": {
     "duration": 0.055347,
     "end_time": "2022-07-25T11:17:08.171766",
     "exception": false,
     "start_time": "2022-07-25T11:17:08.116419",
     "status": "completed"
    },
    "tags": []
   },
   "outputs": [
    {
     "data": {
      "text/html": [
       "<div>\n",
       "<style scoped>\n",
       "    .dataframe tbody tr th:only-of-type {\n",
       "        vertical-align: middle;\n",
       "    }\n",
       "\n",
       "    .dataframe tbody tr th {\n",
       "        vertical-align: top;\n",
       "    }\n",
       "\n",
       "    .dataframe thead th {\n",
       "        text-align: right;\n",
       "    }\n",
       "</style>\n",
       "<table border=\"1\" class=\"dataframe\">\n",
       "  <thead>\n",
       "    <tr style=\"text-align: right;\">\n",
       "      <th></th>\n",
       "      <th>nightlight_450</th>\n",
       "      <th>nightlight_3150</th>\n",
       "      <th>population_1000</th>\n",
       "      <th>population_3000</th>\n",
       "      <th>road_class_2_25</th>\n",
       "      <th>road_class_3_3000</th>\n",
       "      <th>road_class_3_300</th>\n",
       "      <th>trop_mean_filt</th>\n",
       "      <th>BldDen100</th>\n",
       "      <th>NDVI</th>\n",
       "      <th>trafBuf25</th>\n",
       "      <th>trafBuf50</th>\n",
       "      <th>Longitude</th>\n",
       "      <th>Latitude</th>\n",
       "    </tr>\n",
       "  </thead>\n",
       "  <tbody>\n",
       "    <tr>\n",
       "      <th>0</th>\n",
       "      <td>1.346078</td>\n",
       "      <td>0.719939</td>\n",
       "      <td>502.881683</td>\n",
       "      <td>2435.422607</td>\n",
       "      <td>0.0</td>\n",
       "      <td>15927.90625</td>\n",
       "      <td>904.727905</td>\n",
       "      <td>0.000079</td>\n",
       "      <td>0.310619</td>\n",
       "      <td>5962</td>\n",
       "      <td>0.0</td>\n",
       "      <td>0.0</td>\n",
       "      <td>4.901548</td>\n",
       "      <td>51.902208</td>\n",
       "    </tr>\n",
       "    <tr>\n",
       "      <th>1</th>\n",
       "      <td>0.732517</td>\n",
       "      <td>0.711915</td>\n",
       "      <td>479.631622</td>\n",
       "      <td>2492.685059</td>\n",
       "      <td>0.0</td>\n",
       "      <td>15861.02637</td>\n",
       "      <td>840.276916</td>\n",
       "      <td>0.000079</td>\n",
       "      <td>0.201087</td>\n",
       "      <td>5962</td>\n",
       "      <td>0.0</td>\n",
       "      <td>0.0</td>\n",
       "      <td>4.902998</td>\n",
       "      <td>51.902258</td>\n",
       "    </tr>\n",
       "    <tr>\n",
       "      <th>2</th>\n",
       "      <td>0.732517</td>\n",
       "      <td>0.711915</td>\n",
       "      <td>479.865601</td>\n",
       "      <td>2492.246094</td>\n",
       "      <td>0.0</td>\n",
       "      <td>15790.44922</td>\n",
       "      <td>495.902496</td>\n",
       "      <td>0.000079</td>\n",
       "      <td>0.052682</td>\n",
       "      <td>5962</td>\n",
       "      <td>0.0</td>\n",
       "      <td>0.0</td>\n",
       "      <td>4.904447</td>\n",
       "      <td>51.902309</td>\n",
       "    </tr>\n",
       "    <tr>\n",
       "      <th>3</th>\n",
       "      <td>0.732517</td>\n",
       "      <td>0.711915</td>\n",
       "      <td>393.215485</td>\n",
       "      <td>2592.952148</td>\n",
       "      <td>0.0</td>\n",
       "      <td>15696.45996</td>\n",
       "      <td>398.601898</td>\n",
       "      <td>0.000079</td>\n",
       "      <td>0.000000</td>\n",
       "      <td>6486</td>\n",
       "      <td>0.0</td>\n",
       "      <td>0.0</td>\n",
       "      <td>4.905897</td>\n",
       "      <td>51.902359</td>\n",
       "    </tr>\n",
       "    <tr>\n",
       "      <th>4</th>\n",
       "      <td>0.732517</td>\n",
       "      <td>0.711915</td>\n",
       "      <td>393.390961</td>\n",
       "      <td>2592.251709</td>\n",
       "      <td>0.0</td>\n",
       "      <td>15618.36035</td>\n",
       "      <td>240.843781</td>\n",
       "      <td>0.000079</td>\n",
       "      <td>0.000000</td>\n",
       "      <td>6486</td>\n",
       "      <td>0.0</td>\n",
       "      <td>0.0</td>\n",
       "      <td>4.907347</td>\n",
       "      <td>51.902410</td>\n",
       "    </tr>\n",
       "  </tbody>\n",
       "</table>\n",
       "</div>"
      ],
      "text/plain": [
       "   nightlight_450  nightlight_3150  population_1000  population_3000  \\\n",
       "0        1.346078         0.719939       502.881683      2435.422607   \n",
       "1        0.732517         0.711915       479.631622      2492.685059   \n",
       "2        0.732517         0.711915       479.865601      2492.246094   \n",
       "3        0.732517         0.711915       393.215485      2592.952148   \n",
       "4        0.732517         0.711915       393.390961      2592.251709   \n",
       "\n",
       "   road_class_2_25  road_class_3_3000  road_class_3_300  trop_mean_filt  \\\n",
       "0              0.0        15927.90625        904.727905        0.000079   \n",
       "1              0.0        15861.02637        840.276916        0.000079   \n",
       "2              0.0        15790.44922        495.902496        0.000079   \n",
       "3              0.0        15696.45996        398.601898        0.000079   \n",
       "4              0.0        15618.36035        240.843781        0.000079   \n",
       "\n",
       "   BldDen100  NDVI  trafBuf25  trafBuf50  Longitude   Latitude  \n",
       "0   0.310619  5962        0.0        0.0   4.901548  51.902208  \n",
       "1   0.201087  5962        0.0        0.0   4.902998  51.902258  \n",
       "2   0.052682  5962        0.0        0.0   4.904447  51.902309  \n",
       "3   0.000000  6486        0.0        0.0   4.905897  51.902359  \n",
       "4   0.000000  6486        0.0        0.0   4.907347  51.902410  "
      ]
     },
     "execution_count": 4,
     "metadata": {},
     "output_type": "execute_result"
    }
   ],
   "source": [
    "#examine\n",
    "df_test_xy.head()"
   ]
  },
  {
   "cell_type": "code",
   "execution_count": 5,
   "id": "aa56f01d",
   "metadata": {
    "execution": {
     "iopub.execute_input": "2022-07-25T11:17:08.222521Z",
     "iopub.status.busy": "2022-07-25T11:17:08.221789Z",
     "iopub.status.idle": "2022-07-25T11:17:08.248729Z",
     "shell.execute_reply": "2022-07-25T11:17:08.249260Z",
     "shell.execute_reply.started": "2022-07-25T10:58:53.229815Z"
    },
    "papermill": {
     "duration": 0.055422,
     "end_time": "2022-07-25T11:17:08.249475",
     "exception": false,
     "start_time": "2022-07-25T11:17:08.194053",
     "status": "completed"
    },
    "tags": []
   },
   "outputs": [
    {
     "name": "stdout",
     "output_type": "stream",
     "text": [
      "12\n",
      "12\n"
     ]
    }
   ],
   "source": [
    "\n",
    "#remove unnecessary information in training dataset\n",
    "df_train = df_train.drop(['Longitude', 'Latitude'], axis=1)\n",
    "\n",
    "#import testing dataset - to this unprocessed dataset, the predicted NO2 will eventually be added.\n",
    "\n",
    "#HAMBURG\n",
    "# df_test_xy = pd.read_csv(r'../input/predictorshh/predictorsHH.csv', sep=';')\n",
    "\n",
    "#UTRECHT\n",
    "# df_test_xy = pd.read_csv(r'../input/predictorsutrecht-csv/predictorsUtrecht.csv', sep=';')\n",
    "\n",
    "#NIJMEGEN\n",
    "# df_test_xy = pd.read_csv(r'../input/predictorsnijmegen-csv/predictorsNijmegen.csv', sep=';')\n",
    "\n",
    "# #BAYREUTH\n",
    "# df_test_xy = pd.read_csv(r'../input/predictorshamburgdecemberdata-csv/predictorsHamburg.csv', sep=';')\n",
    "\n",
    "# #AMSTERDAM 25M \n",
    "# df_test_xy = pd.read_csv(r'../input/predictorsamsterdam-25m/predictorsAmsterdam_25m.csv', sep=';')\n",
    "\n",
    "\n",
    "#remove unnecessary information in testing dataset\n",
    "df_test_proc = df_test_xy.drop(['Longitude', 'Latitude'], axis=1)\n",
    "\n",
    "#define response- and predictor variables\n",
    "Y_train = df_train['mean_value_NO2']\n",
    "X_train = df_train.drop(['mean_value_NO2'], axis=1)\n",
    "X_test = df_test_proc\n",
    "\n",
    "#validate if columns of training and testing dataset are the same\n",
    "print(len(X_test.columns))\n",
    "print(len(X_train.columns))"
   ]
  },
  {
   "cell_type": "markdown",
   "id": "daa7fb13",
   "metadata": {
    "papermill": {
     "duration": 0.021362,
     "end_time": "2022-07-25T11:17:08.293581",
     "exception": false,
     "start_time": "2022-07-25T11:17:08.272219",
     "status": "completed"
    },
    "tags": []
   },
   "source": [
    "### drop columns"
   ]
  },
  {
   "cell_type": "code",
   "execution_count": 6,
   "id": "1144864b",
   "metadata": {
    "execution": {
     "iopub.execute_input": "2022-07-25T11:17:08.348427Z",
     "iopub.status.busy": "2022-07-25T11:17:08.347689Z",
     "iopub.status.idle": "2022-07-25T11:17:08.350762Z",
     "shell.execute_reply": "2022-07-25T11:17:08.351418Z",
     "shell.execute_reply.started": "2022-07-25T10:58:53.255177Z"
    },
    "papermill": {
     "duration": 0.033459,
     "end_time": "2022-07-25T11:17:08.351654",
     "exception": false,
     "start_time": "2022-07-25T11:17:08.318195",
     "status": "completed"
    },
    "tags": []
   },
   "outputs": [
    {
     "data": {
      "text/plain": [
       "Index(['nightlight_450', 'nightlight_3150', 'population_1000',\n",
       "       'population_3000', 'road_class_2_25', 'road_class_3_3000',\n",
       "       'road_class_3_300', 'trop_mean_filt_2019', 'BldDen100', 'NDVI',\n",
       "       'trafBuf25', 'trafBuf50'],\n",
       "      dtype='object')"
      ]
     },
     "execution_count": 6,
     "metadata": {},
     "output_type": "execute_result"
    }
   ],
   "source": [
    "X_train.columns"
   ]
  },
  {
   "cell_type": "code",
   "execution_count": 7,
   "id": "670d7304",
   "metadata": {
    "execution": {
     "iopub.execute_input": "2022-07-25T11:17:08.401297Z",
     "iopub.status.busy": "2022-07-25T11:17:08.400612Z",
     "iopub.status.idle": "2022-07-25T11:17:08.406552Z",
     "shell.execute_reply": "2022-07-25T11:17:08.407012Z",
     "shell.execute_reply.started": "2022-07-25T10:58:53.268354Z"
    },
    "papermill": {
     "duration": 0.031776,
     "end_time": "2022-07-25T11:17:08.407204",
     "exception": false,
     "start_time": "2022-07-25T11:17:08.375428",
     "status": "completed"
    },
    "tags": []
   },
   "outputs": [
    {
     "data": {
      "text/plain": [
       "Index(['nightlight_450', 'nightlight_3150', 'population_1000',\n",
       "       'population_3000', 'road_class_2_25', 'road_class_3_3000',\n",
       "       'road_class_3_300', 'trop_mean_filt', 'BldDen100', 'NDVI', 'trafBuf25',\n",
       "       'trafBuf50'],\n",
       "      dtype='object')"
      ]
     },
     "execution_count": 7,
     "metadata": {},
     "output_type": "execute_result"
    }
   ],
   "source": [
    "X_test.columns"
   ]
  },
  {
   "cell_type": "code",
   "execution_count": 8,
   "id": "3c29e50b",
   "metadata": {
    "execution": {
     "iopub.execute_input": "2022-07-25T11:17:08.458497Z",
     "iopub.status.busy": "2022-07-25T11:17:08.457737Z",
     "iopub.status.idle": "2022-07-25T11:17:08.460597Z",
     "shell.execute_reply": "2022-07-25T11:17:08.461171Z",
     "shell.execute_reply.started": "2022-07-25T10:58:53.280255Z"
    },
    "papermill": {
     "duration": 0.031367,
     "end_time": "2022-07-25T11:17:08.461385",
     "exception": false,
     "start_time": "2022-07-25T11:17:08.430018",
     "status": "completed"
    },
    "tags": []
   },
   "outputs": [],
   "source": [
    "# X_train = X_train.drop(['population_1000'], axis=1)\n",
    "# X_test = X_test.drop(['population_1000'], axis=1)"
   ]
  },
  {
   "cell_type": "code",
   "execution_count": 9,
   "id": "82022222",
   "metadata": {
    "execution": {
     "iopub.execute_input": "2022-07-25T11:17:08.526869Z",
     "iopub.status.busy": "2022-07-25T11:17:08.526145Z",
     "iopub.status.idle": "2022-07-25T11:17:08.528838Z",
     "shell.execute_reply": "2022-07-25T11:17:08.529270Z",
     "shell.execute_reply.started": "2022-07-25T10:58:53.289891Z"
    },
    "papermill": {
     "duration": 0.045505,
     "end_time": "2022-07-25T11:17:08.529476",
     "exception": false,
     "start_time": "2022-07-25T11:17:08.483971",
     "status": "completed"
    },
    "tags": []
   },
   "outputs": [
    {
     "data": {
      "text/html": [
       "<div>\n",
       "<style scoped>\n",
       "    .dataframe tbody tr th:only-of-type {\n",
       "        vertical-align: middle;\n",
       "    }\n",
       "\n",
       "    .dataframe tbody tr th {\n",
       "        vertical-align: top;\n",
       "    }\n",
       "\n",
       "    .dataframe thead th {\n",
       "        text-align: right;\n",
       "    }\n",
       "</style>\n",
       "<table border=\"1\" class=\"dataframe\">\n",
       "  <thead>\n",
       "    <tr style=\"text-align: right;\">\n",
       "      <th></th>\n",
       "      <th>nightlight_450</th>\n",
       "      <th>nightlight_3150</th>\n",
       "      <th>population_1000</th>\n",
       "      <th>population_3000</th>\n",
       "      <th>road_class_2_25</th>\n",
       "      <th>road_class_3_3000</th>\n",
       "      <th>road_class_3_300</th>\n",
       "      <th>trop_mean_filt</th>\n",
       "      <th>BldDen100</th>\n",
       "      <th>NDVI</th>\n",
       "      <th>trafBuf25</th>\n",
       "      <th>trafBuf50</th>\n",
       "      <th>Longitude</th>\n",
       "      <th>Latitude</th>\n",
       "    </tr>\n",
       "  </thead>\n",
       "  <tbody>\n",
       "    <tr>\n",
       "      <th>0</th>\n",
       "      <td>1.346078</td>\n",
       "      <td>0.719939</td>\n",
       "      <td>502.881683</td>\n",
       "      <td>2435.422607</td>\n",
       "      <td>0.0</td>\n",
       "      <td>15927.90625</td>\n",
       "      <td>904.727905</td>\n",
       "      <td>0.000079</td>\n",
       "      <td>0.310619</td>\n",
       "      <td>5962</td>\n",
       "      <td>0.0</td>\n",
       "      <td>0.0</td>\n",
       "      <td>4.901548</td>\n",
       "      <td>51.902208</td>\n",
       "    </tr>\n",
       "    <tr>\n",
       "      <th>1</th>\n",
       "      <td>0.732517</td>\n",
       "      <td>0.711915</td>\n",
       "      <td>479.631622</td>\n",
       "      <td>2492.685059</td>\n",
       "      <td>0.0</td>\n",
       "      <td>15861.02637</td>\n",
       "      <td>840.276916</td>\n",
       "      <td>0.000079</td>\n",
       "      <td>0.201087</td>\n",
       "      <td>5962</td>\n",
       "      <td>0.0</td>\n",
       "      <td>0.0</td>\n",
       "      <td>4.902998</td>\n",
       "      <td>51.902258</td>\n",
       "    </tr>\n",
       "    <tr>\n",
       "      <th>2</th>\n",
       "      <td>0.732517</td>\n",
       "      <td>0.711915</td>\n",
       "      <td>479.865601</td>\n",
       "      <td>2492.246094</td>\n",
       "      <td>0.0</td>\n",
       "      <td>15790.44922</td>\n",
       "      <td>495.902496</td>\n",
       "      <td>0.000079</td>\n",
       "      <td>0.052682</td>\n",
       "      <td>5962</td>\n",
       "      <td>0.0</td>\n",
       "      <td>0.0</td>\n",
       "      <td>4.904447</td>\n",
       "      <td>51.902309</td>\n",
       "    </tr>\n",
       "    <tr>\n",
       "      <th>3</th>\n",
       "      <td>0.732517</td>\n",
       "      <td>0.711915</td>\n",
       "      <td>393.215485</td>\n",
       "      <td>2592.952148</td>\n",
       "      <td>0.0</td>\n",
       "      <td>15696.45996</td>\n",
       "      <td>398.601898</td>\n",
       "      <td>0.000079</td>\n",
       "      <td>0.000000</td>\n",
       "      <td>6486</td>\n",
       "      <td>0.0</td>\n",
       "      <td>0.0</td>\n",
       "      <td>4.905897</td>\n",
       "      <td>51.902359</td>\n",
       "    </tr>\n",
       "    <tr>\n",
       "      <th>4</th>\n",
       "      <td>0.732517</td>\n",
       "      <td>0.711915</td>\n",
       "      <td>393.390961</td>\n",
       "      <td>2592.251709</td>\n",
       "      <td>0.0</td>\n",
       "      <td>15618.36035</td>\n",
       "      <td>240.843781</td>\n",
       "      <td>0.000079</td>\n",
       "      <td>0.000000</td>\n",
       "      <td>6486</td>\n",
       "      <td>0.0</td>\n",
       "      <td>0.0</td>\n",
       "      <td>4.907347</td>\n",
       "      <td>51.902410</td>\n",
       "    </tr>\n",
       "  </tbody>\n",
       "</table>\n",
       "</div>"
      ],
      "text/plain": [
       "   nightlight_450  nightlight_3150  population_1000  population_3000  \\\n",
       "0        1.346078         0.719939       502.881683      2435.422607   \n",
       "1        0.732517         0.711915       479.631622      2492.685059   \n",
       "2        0.732517         0.711915       479.865601      2492.246094   \n",
       "3        0.732517         0.711915       393.215485      2592.952148   \n",
       "4        0.732517         0.711915       393.390961      2592.251709   \n",
       "\n",
       "   road_class_2_25  road_class_3_3000  road_class_3_300  trop_mean_filt  \\\n",
       "0              0.0        15927.90625        904.727905        0.000079   \n",
       "1              0.0        15861.02637        840.276916        0.000079   \n",
       "2              0.0        15790.44922        495.902496        0.000079   \n",
       "3              0.0        15696.45996        398.601898        0.000079   \n",
       "4              0.0        15618.36035        240.843781        0.000079   \n",
       "\n",
       "   BldDen100  NDVI  trafBuf25  trafBuf50  Longitude   Latitude  \n",
       "0   0.310619  5962        0.0        0.0   4.901548  51.902208  \n",
       "1   0.201087  5962        0.0        0.0   4.902998  51.902258  \n",
       "2   0.052682  5962        0.0        0.0   4.904447  51.902309  \n",
       "3   0.000000  6486        0.0        0.0   4.905897  51.902359  \n",
       "4   0.000000  6486        0.0        0.0   4.907347  51.902410  "
      ]
     },
     "execution_count": 9,
     "metadata": {},
     "output_type": "execute_result"
    }
   ],
   "source": [
    "df_test_xy.head()"
   ]
  },
  {
   "cell_type": "code",
   "execution_count": 10,
   "id": "4b3c8862",
   "metadata": {
    "execution": {
     "iopub.execute_input": "2022-07-25T11:17:08.578591Z",
     "iopub.status.busy": "2022-07-25T11:17:08.577876Z",
     "iopub.status.idle": "2022-07-25T11:17:08.581001Z",
     "shell.execute_reply": "2022-07-25T11:17:08.581566Z",
     "shell.execute_reply.started": "2022-07-25T10:58:53.316626Z"
    },
    "papermill": {
     "duration": 0.029729,
     "end_time": "2022-07-25T11:17:08.581765",
     "exception": false,
     "start_time": "2022-07-25T11:17:08.552036",
     "status": "completed"
    },
    "tags": []
   },
   "outputs": [],
   "source": [
    "# specify city so that it is included in output-name.\n",
    "city = \"Utrecht100\""
   ]
  },
  {
   "cell_type": "code",
   "execution_count": 11,
   "id": "7991ae7d",
   "metadata": {
    "execution": {
     "iopub.execute_input": "2022-07-25T11:17:08.635929Z",
     "iopub.status.busy": "2022-07-25T11:17:08.635233Z",
     "iopub.status.idle": "2022-07-25T11:17:08.652057Z",
     "shell.execute_reply": "2022-07-25T11:17:08.652726Z",
     "shell.execute_reply.started": "2022-07-25T10:58:53.325076Z"
    },
    "papermill": {
     "duration": 0.046123,
     "end_time": "2022-07-25T11:17:08.652945",
     "exception": false,
     "start_time": "2022-07-25T11:17:08.606822",
     "status": "completed"
    },
    "tags": []
   },
   "outputs": [
    {
     "data": {
      "text/html": [
       "<div>\n",
       "<style scoped>\n",
       "    .dataframe tbody tr th:only-of-type {\n",
       "        vertical-align: middle;\n",
       "    }\n",
       "\n",
       "    .dataframe tbody tr th {\n",
       "        vertical-align: top;\n",
       "    }\n",
       "\n",
       "    .dataframe thead th {\n",
       "        text-align: right;\n",
       "    }\n",
       "</style>\n",
       "<table border=\"1\" class=\"dataframe\">\n",
       "  <thead>\n",
       "    <tr style=\"text-align: right;\">\n",
       "      <th></th>\n",
       "      <th>nightlight_450</th>\n",
       "      <th>nightlight_3150</th>\n",
       "      <th>population_1000</th>\n",
       "      <th>population_3000</th>\n",
       "      <th>road_class_2_25</th>\n",
       "      <th>road_class_3_3000</th>\n",
       "      <th>road_class_3_300</th>\n",
       "      <th>trop_mean_filt_2019</th>\n",
       "      <th>BldDen100</th>\n",
       "      <th>NDVI</th>\n",
       "      <th>trafBuf25</th>\n",
       "      <th>trafBuf50</th>\n",
       "    </tr>\n",
       "  </thead>\n",
       "  <tbody>\n",
       "    <tr>\n",
       "      <th>0</th>\n",
       "      <td>22.585377</td>\n",
       "      <td>13.402575</td>\n",
       "      <td>8123.319336</td>\n",
       "      <td>54316.64453</td>\n",
       "      <td>0.000000</td>\n",
       "      <td>203502.42190</td>\n",
       "      <td>4167.064941</td>\n",
       "      <td>0.000058</td>\n",
       "      <td>1.000663</td>\n",
       "      <td>2310.0</td>\n",
       "      <td>0.000000</td>\n",
       "      <td>0.000000</td>\n",
       "    </tr>\n",
       "    <tr>\n",
       "      <th>1</th>\n",
       "      <td>23.546194</td>\n",
       "      <td>22.862799</td>\n",
       "      <td>9558.207031</td>\n",
       "      <td>76786.28125</td>\n",
       "      <td>0.000000</td>\n",
       "      <td>99596.04688</td>\n",
       "      <td>1850.278076</td>\n",
       "      <td>0.000081</td>\n",
       "      <td>0.978245</td>\n",
       "      <td>2518.0</td>\n",
       "      <td>0.000000</td>\n",
       "      <td>0.000000</td>\n",
       "    </tr>\n",
       "    <tr>\n",
       "      <th>2</th>\n",
       "      <td>18.290140</td>\n",
       "      <td>16.493486</td>\n",
       "      <td>10471.541020</td>\n",
       "      <td>88439.60938</td>\n",
       "      <td>46.359188</td>\n",
       "      <td>265563.71880</td>\n",
       "      <td>2016.838379</td>\n",
       "      <td>0.000076</td>\n",
       "      <td>0.914638</td>\n",
       "      <td>3216.0</td>\n",
       "      <td>674.791667</td>\n",
       "      <td>674.791667</td>\n",
       "    </tr>\n",
       "    <tr>\n",
       "      <th>3</th>\n",
       "      <td>23.645823</td>\n",
       "      <td>18.248226</td>\n",
       "      <td>11165.945310</td>\n",
       "      <td>76961.00000</td>\n",
       "      <td>0.000000</td>\n",
       "      <td>97921.56250</td>\n",
       "      <td>478.363281</td>\n",
       "      <td>0.000074</td>\n",
       "      <td>0.712983</td>\n",
       "      <td>1052.0</td>\n",
       "      <td>0.000000</td>\n",
       "      <td>0.000000</td>\n",
       "    </tr>\n",
       "    <tr>\n",
       "      <th>4</th>\n",
       "      <td>14.026642</td>\n",
       "      <td>5.514785</td>\n",
       "      <td>6017.511230</td>\n",
       "      <td>30814.58984</td>\n",
       "      <td>0.000000</td>\n",
       "      <td>176265.68750</td>\n",
       "      <td>3338.221191</td>\n",
       "      <td>0.000047</td>\n",
       "      <td>1.000641</td>\n",
       "      <td>3240.0</td>\n",
       "      <td>0.000000</td>\n",
       "      <td>0.000000</td>\n",
       "    </tr>\n",
       "  </tbody>\n",
       "</table>\n",
       "</div>"
      ],
      "text/plain": [
       "   nightlight_450  nightlight_3150  population_1000  population_3000  \\\n",
       "0       22.585377        13.402575      8123.319336      54316.64453   \n",
       "1       23.546194        22.862799      9558.207031      76786.28125   \n",
       "2       18.290140        16.493486     10471.541020      88439.60938   \n",
       "3       23.645823        18.248226     11165.945310      76961.00000   \n",
       "4       14.026642         5.514785      6017.511230      30814.58984   \n",
       "\n",
       "   road_class_2_25  road_class_3_3000  road_class_3_300  trop_mean_filt_2019  \\\n",
       "0         0.000000       203502.42190       4167.064941             0.000058   \n",
       "1         0.000000        99596.04688       1850.278076             0.000081   \n",
       "2        46.359188       265563.71880       2016.838379             0.000076   \n",
       "3         0.000000        97921.56250        478.363281             0.000074   \n",
       "4         0.000000       176265.68750       3338.221191             0.000047   \n",
       "\n",
       "   BldDen100    NDVI   trafBuf25   trafBuf50  \n",
       "0   1.000663  2310.0    0.000000    0.000000  \n",
       "1   0.978245  2518.0    0.000000    0.000000  \n",
       "2   0.914638  3216.0  674.791667  674.791667  \n",
       "3   0.712983  1052.0    0.000000    0.000000  \n",
       "4   1.000641  3240.0    0.000000    0.000000  "
      ]
     },
     "execution_count": 11,
     "metadata": {},
     "output_type": "execute_result"
    }
   ],
   "source": [
    "X_train.head()"
   ]
  },
  {
   "cell_type": "code",
   "execution_count": 12,
   "id": "e22420f4",
   "metadata": {
    "execution": {
     "iopub.execute_input": "2022-07-25T11:17:08.706710Z",
     "iopub.status.busy": "2022-07-25T11:17:08.706028Z",
     "iopub.status.idle": "2022-07-25T11:17:08.725666Z",
     "shell.execute_reply": "2022-07-25T11:17:08.724913Z",
     "shell.execute_reply.started": "2022-07-25T10:58:53.356396Z"
    },
    "papermill": {
     "duration": 0.047266,
     "end_time": "2022-07-25T11:17:08.725836",
     "exception": false,
     "start_time": "2022-07-25T11:17:08.678570",
     "status": "completed"
    },
    "tags": []
   },
   "outputs": [
    {
     "data": {
      "text/html": [
       "<div>\n",
       "<style scoped>\n",
       "    .dataframe tbody tr th:only-of-type {\n",
       "        vertical-align: middle;\n",
       "    }\n",
       "\n",
       "    .dataframe tbody tr th {\n",
       "        vertical-align: top;\n",
       "    }\n",
       "\n",
       "    .dataframe thead th {\n",
       "        text-align: right;\n",
       "    }\n",
       "</style>\n",
       "<table border=\"1\" class=\"dataframe\">\n",
       "  <thead>\n",
       "    <tr style=\"text-align: right;\">\n",
       "      <th></th>\n",
       "      <th>nightlight_450</th>\n",
       "      <th>nightlight_3150</th>\n",
       "      <th>population_1000</th>\n",
       "      <th>population_3000</th>\n",
       "      <th>road_class_2_25</th>\n",
       "      <th>road_class_3_3000</th>\n",
       "      <th>road_class_3_300</th>\n",
       "      <th>trop_mean_filt</th>\n",
       "      <th>BldDen100</th>\n",
       "      <th>NDVI</th>\n",
       "      <th>trafBuf25</th>\n",
       "      <th>trafBuf50</th>\n",
       "    </tr>\n",
       "  </thead>\n",
       "  <tbody>\n",
       "    <tr>\n",
       "      <th>0</th>\n",
       "      <td>1.346078</td>\n",
       "      <td>0.719939</td>\n",
       "      <td>502.881683</td>\n",
       "      <td>2435.422607</td>\n",
       "      <td>0.0</td>\n",
       "      <td>15927.90625</td>\n",
       "      <td>904.727905</td>\n",
       "      <td>0.000079</td>\n",
       "      <td>0.310619</td>\n",
       "      <td>5962</td>\n",
       "      <td>0.0</td>\n",
       "      <td>0.0</td>\n",
       "    </tr>\n",
       "    <tr>\n",
       "      <th>1</th>\n",
       "      <td>0.732517</td>\n",
       "      <td>0.711915</td>\n",
       "      <td>479.631622</td>\n",
       "      <td>2492.685059</td>\n",
       "      <td>0.0</td>\n",
       "      <td>15861.02637</td>\n",
       "      <td>840.276916</td>\n",
       "      <td>0.000079</td>\n",
       "      <td>0.201087</td>\n",
       "      <td>5962</td>\n",
       "      <td>0.0</td>\n",
       "      <td>0.0</td>\n",
       "    </tr>\n",
       "    <tr>\n",
       "      <th>2</th>\n",
       "      <td>0.732517</td>\n",
       "      <td>0.711915</td>\n",
       "      <td>479.865601</td>\n",
       "      <td>2492.246094</td>\n",
       "      <td>0.0</td>\n",
       "      <td>15790.44922</td>\n",
       "      <td>495.902496</td>\n",
       "      <td>0.000079</td>\n",
       "      <td>0.052682</td>\n",
       "      <td>5962</td>\n",
       "      <td>0.0</td>\n",
       "      <td>0.0</td>\n",
       "    </tr>\n",
       "    <tr>\n",
       "      <th>3</th>\n",
       "      <td>0.732517</td>\n",
       "      <td>0.711915</td>\n",
       "      <td>393.215485</td>\n",
       "      <td>2592.952148</td>\n",
       "      <td>0.0</td>\n",
       "      <td>15696.45996</td>\n",
       "      <td>398.601898</td>\n",
       "      <td>0.000079</td>\n",
       "      <td>0.000000</td>\n",
       "      <td>6486</td>\n",
       "      <td>0.0</td>\n",
       "      <td>0.0</td>\n",
       "    </tr>\n",
       "    <tr>\n",
       "      <th>4</th>\n",
       "      <td>0.732517</td>\n",
       "      <td>0.711915</td>\n",
       "      <td>393.390961</td>\n",
       "      <td>2592.251709</td>\n",
       "      <td>0.0</td>\n",
       "      <td>15618.36035</td>\n",
       "      <td>240.843781</td>\n",
       "      <td>0.000079</td>\n",
       "      <td>0.000000</td>\n",
       "      <td>6486</td>\n",
       "      <td>0.0</td>\n",
       "      <td>0.0</td>\n",
       "    </tr>\n",
       "  </tbody>\n",
       "</table>\n",
       "</div>"
      ],
      "text/plain": [
       "   nightlight_450  nightlight_3150  population_1000  population_3000  \\\n",
       "0        1.346078         0.719939       502.881683      2435.422607   \n",
       "1        0.732517         0.711915       479.631622      2492.685059   \n",
       "2        0.732517         0.711915       479.865601      2492.246094   \n",
       "3        0.732517         0.711915       393.215485      2592.952148   \n",
       "4        0.732517         0.711915       393.390961      2592.251709   \n",
       "\n",
       "   road_class_2_25  road_class_3_3000  road_class_3_300  trop_mean_filt  \\\n",
       "0              0.0        15927.90625        904.727905        0.000079   \n",
       "1              0.0        15861.02637        840.276916        0.000079   \n",
       "2              0.0        15790.44922        495.902496        0.000079   \n",
       "3              0.0        15696.45996        398.601898        0.000079   \n",
       "4              0.0        15618.36035        240.843781        0.000079   \n",
       "\n",
       "   BldDen100  NDVI  trafBuf25  trafBuf50  \n",
       "0   0.310619  5962        0.0        0.0  \n",
       "1   0.201087  5962        0.0        0.0  \n",
       "2   0.052682  5962        0.0        0.0  \n",
       "3   0.000000  6486        0.0        0.0  \n",
       "4   0.000000  6486        0.0        0.0  "
      ]
     },
     "execution_count": 12,
     "metadata": {},
     "output_type": "execute_result"
    }
   ],
   "source": [
    "X_test.head()"
   ]
  },
  {
   "cell_type": "code",
   "execution_count": 13,
   "id": "4ea2cd5b",
   "metadata": {
    "execution": {
     "iopub.execute_input": "2022-07-25T11:17:08.779815Z",
     "iopub.status.busy": "2022-07-25T11:17:08.779064Z",
     "iopub.status.idle": "2022-07-25T11:17:08.781465Z",
     "shell.execute_reply": "2022-07-25T11:17:08.781911Z",
     "shell.execute_reply.started": "2022-07-25T10:58:53.375874Z"
    },
    "papermill": {
     "duration": 0.03199,
     "end_time": "2022-07-25T11:17:08.782167",
     "exception": false,
     "start_time": "2022-07-25T11:17:08.750177",
     "status": "completed"
    },
    "tags": []
   },
   "outputs": [],
   "source": [
    "# X_test['BD_100m'] = X_test['BD_100m'].replace(np.nan, 0)"
   ]
  },
  {
   "cell_type": "code",
   "execution_count": 14,
   "id": "0dd8e95b",
   "metadata": {
    "execution": {
     "iopub.execute_input": "2022-07-25T11:17:08.837222Z",
     "iopub.status.busy": "2022-07-25T11:17:08.836570Z",
     "iopub.status.idle": "2022-07-25T11:17:08.839854Z",
     "shell.execute_reply": "2022-07-25T11:17:08.839261Z",
     "shell.execute_reply.started": "2022-07-25T10:58:53.384895Z"
    },
    "papermill": {
     "duration": 0.033278,
     "end_time": "2022-07-25T11:17:08.840004",
     "exception": false,
     "start_time": "2022-07-25T11:17:08.806726",
     "status": "completed"
    },
    "tags": []
   },
   "outputs": [],
   "source": [
    "# X_test['trop_mean_filt'] = [float(str(i).replace(\"c(\", \"\")) for i in X_test[\"trop_mean_filt\"]]"
   ]
  },
  {
   "cell_type": "code",
   "execution_count": 15,
   "id": "1ddcc4a3",
   "metadata": {
    "execution": {
     "iopub.execute_input": "2022-07-25T11:17:08.892677Z",
     "iopub.status.busy": "2022-07-25T11:17:08.891636Z",
     "iopub.status.idle": "2022-07-25T11:17:08.913947Z",
     "shell.execute_reply": "2022-07-25T11:17:08.914409Z",
     "shell.execute_reply.started": "2022-07-25T10:58:53.394426Z"
    },
    "papermill": {
     "duration": 0.050141,
     "end_time": "2022-07-25T11:17:08.914612",
     "exception": false,
     "start_time": "2022-07-25T11:17:08.864471",
     "status": "completed"
    },
    "tags": []
   },
   "outputs": [
    {
     "name": "stdout",
     "output_type": "stream",
     "text": [
      "<class 'pandas.core.frame.DataFrame'>\n",
      "RangeIndex: 88752 entries, 0 to 88751\n",
      "Data columns (total 12 columns):\n",
      " #   Column             Non-Null Count  Dtype  \n",
      "---  ------             --------------  -----  \n",
      " 0   nightlight_450     88752 non-null  float64\n",
      " 1   nightlight_3150    88752 non-null  float64\n",
      " 2   population_1000    88752 non-null  float64\n",
      " 3   population_3000    88752 non-null  float64\n",
      " 4   road_class_2_25    88752 non-null  float64\n",
      " 5   road_class_3_3000  88752 non-null  float64\n",
      " 6   road_class_3_300   88752 non-null  float64\n",
      " 7   trop_mean_filt     88752 non-null  float64\n",
      " 8   BldDen100          88752 non-null  float64\n",
      " 9   NDVI               88752 non-null  int64  \n",
      " 10  trafBuf25          88752 non-null  float64\n",
      " 11  trafBuf50          88752 non-null  float64\n",
      "dtypes: float64(11), int64(1)\n",
      "memory usage: 8.1 MB\n"
     ]
    }
   ],
   "source": [
    "X_test.info()"
   ]
  },
  {
   "cell_type": "code",
   "execution_count": 16,
   "id": "30a210f7",
   "metadata": {
    "execution": {
     "iopub.execute_input": "2022-07-25T11:17:08.967386Z",
     "iopub.status.busy": "2022-07-25T11:17:08.966311Z",
     "iopub.status.idle": "2022-07-25T11:17:08.977701Z",
     "shell.execute_reply": "2022-07-25T11:17:08.978324Z",
     "shell.execute_reply.started": "2022-07-25T10:58:53.420103Z"
    },
    "papermill": {
     "duration": 0.03997,
     "end_time": "2022-07-25T11:17:08.978549",
     "exception": false,
     "start_time": "2022-07-25T11:17:08.938579",
     "status": "completed"
    },
    "tags": []
   },
   "outputs": [
    {
     "name": "stdout",
     "output_type": "stream",
     "text": [
      "<class 'pandas.core.frame.DataFrame'>\n",
      "RangeIndex: 482 entries, 0 to 481\n",
      "Data columns (total 12 columns):\n",
      " #   Column               Non-Null Count  Dtype  \n",
      "---  ------               --------------  -----  \n",
      " 0   nightlight_450       482 non-null    float64\n",
      " 1   nightlight_3150      482 non-null    float64\n",
      " 2   population_1000      482 non-null    float64\n",
      " 3   population_3000      482 non-null    float64\n",
      " 4   road_class_2_25      482 non-null    float64\n",
      " 5   road_class_3_3000    482 non-null    float64\n",
      " 6   road_class_3_300     482 non-null    float64\n",
      " 7   trop_mean_filt_2019  482 non-null    float64\n",
      " 8   BldDen100            482 non-null    float64\n",
      " 9   NDVI                 482 non-null    float64\n",
      " 10  trafBuf25            482 non-null    float64\n",
      " 11  trafBuf50            482 non-null    float64\n",
      "dtypes: float64(12)\n",
      "memory usage: 45.3 KB\n"
     ]
    }
   ],
   "source": [
    "X_train.info()"
   ]
  },
  {
   "cell_type": "code",
   "execution_count": 17,
   "id": "f8346e55",
   "metadata": {
    "execution": {
     "iopub.execute_input": "2022-07-25T11:17:09.033161Z",
     "iopub.status.busy": "2022-07-25T11:17:09.032060Z",
     "iopub.status.idle": "2022-07-25T11:17:09.073699Z",
     "shell.execute_reply": "2022-07-25T11:17:09.074183Z",
     "shell.execute_reply.started": "2022-07-25T10:58:53.433005Z"
    },
    "papermill": {
     "duration": 0.070532,
     "end_time": "2022-07-25T11:17:09.074456",
     "exception": false,
     "start_time": "2022-07-25T11:17:09.003924",
     "status": "completed"
    },
    "tags": []
   },
   "outputs": [
    {
     "data": {
      "text/html": [
       "<div>\n",
       "<style scoped>\n",
       "    .dataframe tbody tr th:only-of-type {\n",
       "        vertical-align: middle;\n",
       "    }\n",
       "\n",
       "    .dataframe tbody tr th {\n",
       "        vertical-align: top;\n",
       "    }\n",
       "\n",
       "    .dataframe thead th {\n",
       "        text-align: right;\n",
       "    }\n",
       "</style>\n",
       "<table border=\"1\" class=\"dataframe\">\n",
       "  <thead>\n",
       "    <tr style=\"text-align: right;\">\n",
       "      <th></th>\n",
       "      <th>nightlight_450</th>\n",
       "      <th>nightlight_3150</th>\n",
       "      <th>population_1000</th>\n",
       "      <th>population_3000</th>\n",
       "      <th>road_class_2_25</th>\n",
       "      <th>road_class_3_3000</th>\n",
       "      <th>road_class_3_300</th>\n",
       "      <th>trop_mean_filt_2019</th>\n",
       "      <th>BldDen100</th>\n",
       "      <th>NDVI</th>\n",
       "      <th>trafBuf25</th>\n",
       "      <th>trafBuf50</th>\n",
       "    </tr>\n",
       "  </thead>\n",
       "  <tbody>\n",
       "    <tr>\n",
       "      <th>count</th>\n",
       "      <td>482.000000</td>\n",
       "      <td>482.000000</td>\n",
       "      <td>482.000000</td>\n",
       "      <td>482.000000</td>\n",
       "      <td>482.000000</td>\n",
       "      <td>482.000000</td>\n",
       "      <td>482.000000</td>\n",
       "      <td>482.000000</td>\n",
       "      <td>482.000000</td>\n",
       "      <td>482.000000</td>\n",
       "      <td>482.000000</td>\n",
       "      <td>482.000000</td>\n",
       "    </tr>\n",
       "    <tr>\n",
       "      <th>mean</th>\n",
       "      <td>15.339811</td>\n",
       "      <td>11.042987</td>\n",
       "      <td>6154.486286</td>\n",
       "      <td>41489.437120</td>\n",
       "      <td>14.572097</td>\n",
       "      <td>136692.065999</td>\n",
       "      <td>2314.033584</td>\n",
       "      <td>0.000067</td>\n",
       "      <td>0.677052</td>\n",
       "      <td>3289.904564</td>\n",
       "      <td>128.701763</td>\n",
       "      <td>146.889530</td>\n",
       "    </tr>\n",
       "    <tr>\n",
       "      <th>std</th>\n",
       "      <td>13.528546</td>\n",
       "      <td>10.940724</td>\n",
       "      <td>4509.973126</td>\n",
       "      <td>34979.658532</td>\n",
       "      <td>34.954581</td>\n",
       "      <td>83339.859648</td>\n",
       "      <td>1547.899665</td>\n",
       "      <td>0.000025</td>\n",
       "      <td>0.375196</td>\n",
       "      <td>1439.762627</td>\n",
       "      <td>432.308261</td>\n",
       "      <td>452.133783</td>\n",
       "    </tr>\n",
       "    <tr>\n",
       "      <th>min</th>\n",
       "      <td>0.000000</td>\n",
       "      <td>0.000000</td>\n",
       "      <td>0.000000</td>\n",
       "      <td>0.000000</td>\n",
       "      <td>0.000000</td>\n",
       "      <td>0.000000</td>\n",
       "      <td>0.000000</td>\n",
       "      <td>0.000026</td>\n",
       "      <td>0.000000</td>\n",
       "      <td>0.000000</td>\n",
       "      <td>0.000000</td>\n",
       "      <td>0.000000</td>\n",
       "    </tr>\n",
       "    <tr>\n",
       "      <th>25%</th>\n",
       "      <td>4.616748</td>\n",
       "      <td>2.898382</td>\n",
       "      <td>2204.519532</td>\n",
       "      <td>11452.700443</td>\n",
       "      <td>0.000000</td>\n",
       "      <td>70823.226567</td>\n",
       "      <td>930.852341</td>\n",
       "      <td>0.000047</td>\n",
       "      <td>0.401915</td>\n",
       "      <td>2248.000000</td>\n",
       "      <td>0.000000</td>\n",
       "      <td>0.000000</td>\n",
       "    </tr>\n",
       "    <tr>\n",
       "      <th>50%</th>\n",
       "      <td>14.009659</td>\n",
       "      <td>8.198158</td>\n",
       "      <td>5945.538330</td>\n",
       "      <td>33821.939455</td>\n",
       "      <td>0.000000</td>\n",
       "      <td>134524.296900</td>\n",
       "      <td>2447.691162</td>\n",
       "      <td>0.000059</td>\n",
       "      <td>0.882949</td>\n",
       "      <td>3122.000000</td>\n",
       "      <td>0.000000</td>\n",
       "      <td>0.000000</td>\n",
       "    </tr>\n",
       "    <tr>\n",
       "      <th>75%</th>\n",
       "      <td>22.395457</td>\n",
       "      <td>16.505301</td>\n",
       "      <td>9036.756348</td>\n",
       "      <td>61824.045898</td>\n",
       "      <td>0.000000</td>\n",
       "      <td>193091.816425</td>\n",
       "      <td>3403.388611</td>\n",
       "      <td>0.000084</td>\n",
       "      <td>0.992667</td>\n",
       "      <td>4173.000000</td>\n",
       "      <td>0.000000</td>\n",
       "      <td>0.000000</td>\n",
       "    </tr>\n",
       "    <tr>\n",
       "      <th>max</th>\n",
       "      <td>84.318871</td>\n",
       "      <td>100.999016</td>\n",
       "      <td>20300.886720</td>\n",
       "      <td>165271.375000</td>\n",
       "      <td>164.927063</td>\n",
       "      <td>444277.312500</td>\n",
       "      <td>7239.326660</td>\n",
       "      <td>0.000143</td>\n",
       "      <td>1.000800</td>\n",
       "      <td>7775.000000</td>\n",
       "      <td>5112.958333</td>\n",
       "      <td>5112.958333</td>\n",
       "    </tr>\n",
       "  </tbody>\n",
       "</table>\n",
       "</div>"
      ],
      "text/plain": [
       "       nightlight_450  nightlight_3150  population_1000  population_3000  \\\n",
       "count      482.000000       482.000000       482.000000       482.000000   \n",
       "mean        15.339811        11.042987      6154.486286     41489.437120   \n",
       "std         13.528546        10.940724      4509.973126     34979.658532   \n",
       "min          0.000000         0.000000         0.000000         0.000000   \n",
       "25%          4.616748         2.898382      2204.519532     11452.700443   \n",
       "50%         14.009659         8.198158      5945.538330     33821.939455   \n",
       "75%         22.395457        16.505301      9036.756348     61824.045898   \n",
       "max         84.318871       100.999016     20300.886720    165271.375000   \n",
       "\n",
       "       road_class_2_25  road_class_3_3000  road_class_3_300  \\\n",
       "count       482.000000         482.000000        482.000000   \n",
       "mean         14.572097      136692.065999       2314.033584   \n",
       "std          34.954581       83339.859648       1547.899665   \n",
       "min           0.000000           0.000000          0.000000   \n",
       "25%           0.000000       70823.226567        930.852341   \n",
       "50%           0.000000      134524.296900       2447.691162   \n",
       "75%           0.000000      193091.816425       3403.388611   \n",
       "max         164.927063      444277.312500       7239.326660   \n",
       "\n",
       "       trop_mean_filt_2019   BldDen100         NDVI    trafBuf25    trafBuf50  \n",
       "count           482.000000  482.000000   482.000000   482.000000   482.000000  \n",
       "mean              0.000067    0.677052  3289.904564   128.701763   146.889530  \n",
       "std               0.000025    0.375196  1439.762627   432.308261   452.133783  \n",
       "min               0.000026    0.000000     0.000000     0.000000     0.000000  \n",
       "25%               0.000047    0.401915  2248.000000     0.000000     0.000000  \n",
       "50%               0.000059    0.882949  3122.000000     0.000000     0.000000  \n",
       "75%               0.000084    0.992667  4173.000000     0.000000     0.000000  \n",
       "max               0.000143    1.000800  7775.000000  5112.958333  5112.958333  "
      ]
     },
     "execution_count": 17,
     "metadata": {},
     "output_type": "execute_result"
    }
   ],
   "source": [
    "X_train.describe()"
   ]
  },
  {
   "cell_type": "code",
   "execution_count": 18,
   "id": "9159ff4e",
   "metadata": {
    "execution": {
     "iopub.execute_input": "2022-07-25T11:17:09.130817Z",
     "iopub.status.busy": "2022-07-25T11:17:09.129768Z",
     "iopub.status.idle": "2022-07-25T11:17:09.207202Z",
     "shell.execute_reply": "2022-07-25T11:17:09.207796Z",
     "shell.execute_reply.started": "2022-07-25T10:58:53.481205Z"
    },
    "papermill": {
     "duration": 0.108259,
     "end_time": "2022-07-25T11:17:09.208049",
     "exception": false,
     "start_time": "2022-07-25T11:17:09.099790",
     "status": "completed"
    },
    "tags": []
   },
   "outputs": [
    {
     "data": {
      "text/html": [
       "<div>\n",
       "<style scoped>\n",
       "    .dataframe tbody tr th:only-of-type {\n",
       "        vertical-align: middle;\n",
       "    }\n",
       "\n",
       "    .dataframe tbody tr th {\n",
       "        vertical-align: top;\n",
       "    }\n",
       "\n",
       "    .dataframe thead th {\n",
       "        text-align: right;\n",
       "    }\n",
       "</style>\n",
       "<table border=\"1\" class=\"dataframe\">\n",
       "  <thead>\n",
       "    <tr style=\"text-align: right;\">\n",
       "      <th></th>\n",
       "      <th>nightlight_450</th>\n",
       "      <th>nightlight_3150</th>\n",
       "      <th>population_1000</th>\n",
       "      <th>population_3000</th>\n",
       "      <th>road_class_2_25</th>\n",
       "      <th>road_class_3_3000</th>\n",
       "      <th>road_class_3_300</th>\n",
       "      <th>trop_mean_filt</th>\n",
       "      <th>BldDen100</th>\n",
       "      <th>NDVI</th>\n",
       "      <th>trafBuf25</th>\n",
       "      <th>trafBuf50</th>\n",
       "    </tr>\n",
       "  </thead>\n",
       "  <tbody>\n",
       "    <tr>\n",
       "      <th>count</th>\n",
       "      <td>88752.000000</td>\n",
       "      <td>88752.000000</td>\n",
       "      <td>88752.000000</td>\n",
       "      <td>88752.000000</td>\n",
       "      <td>88752.000000</td>\n",
       "      <td>88752.000000</td>\n",
       "      <td>88752.000000</td>\n",
       "      <td>88752.000000</td>\n",
       "      <td>88752.000000</td>\n",
       "      <td>88752.000000</td>\n",
       "      <td>88752.000000</td>\n",
       "      <td>88752.000000</td>\n",
       "    </tr>\n",
       "    <tr>\n",
       "      <th>mean</th>\n",
       "      <td>5.363768</td>\n",
       "      <td>5.378962</td>\n",
       "      <td>2188.744906</td>\n",
       "      <td>19751.988188</td>\n",
       "      <td>0.830072</td>\n",
       "      <td>73783.467933</td>\n",
       "      <td>721.606252</td>\n",
       "      <td>0.000079</td>\n",
       "      <td>0.203116</td>\n",
       "      <td>4663.679275</td>\n",
       "      <td>19.635520</td>\n",
       "      <td>34.318195</td>\n",
       "    </tr>\n",
       "    <tr>\n",
       "      <th>std</th>\n",
       "      <td>7.793616</td>\n",
       "      <td>5.630151</td>\n",
       "      <td>3132.723658</td>\n",
       "      <td>21765.126856</td>\n",
       "      <td>6.919148</td>\n",
       "      <td>64816.386222</td>\n",
       "      <td>1292.594491</td>\n",
       "      <td>0.000003</td>\n",
       "      <td>0.337001</td>\n",
       "      <td>1794.603421</td>\n",
       "      <td>194.079841</td>\n",
       "      <td>253.680270</td>\n",
       "    </tr>\n",
       "    <tr>\n",
       "      <th>min</th>\n",
       "      <td>0.000000</td>\n",
       "      <td>0.386488</td>\n",
       "      <td>0.000000</td>\n",
       "      <td>1561.082031</td>\n",
       "      <td>0.000000</td>\n",
       "      <td>3307.272461</td>\n",
       "      <td>0.000000</td>\n",
       "      <td>0.000073</td>\n",
       "      <td>0.000000</td>\n",
       "      <td>-14.000000</td>\n",
       "      <td>0.000000</td>\n",
       "      <td>0.000000</td>\n",
       "    </tr>\n",
       "    <tr>\n",
       "      <th>25%</th>\n",
       "      <td>0.720875</td>\n",
       "      <td>1.411368</td>\n",
       "      <td>289.775635</td>\n",
       "      <td>4973.127930</td>\n",
       "      <td>0.000000</td>\n",
       "      <td>25805.644528</td>\n",
       "      <td>0.000000</td>\n",
       "      <td>0.000077</td>\n",
       "      <td>0.000000</td>\n",
       "      <td>3422.000000</td>\n",
       "      <td>0.000000</td>\n",
       "      <td>0.000000</td>\n",
       "    </tr>\n",
       "    <tr>\n",
       "      <th>50%</th>\n",
       "      <td>2.022838</td>\n",
       "      <td>3.243662</td>\n",
       "      <td>746.741821</td>\n",
       "      <td>10810.468750</td>\n",
       "      <td>0.000000</td>\n",
       "      <td>49191.267575</td>\n",
       "      <td>7.872908</td>\n",
       "      <td>0.000078</td>\n",
       "      <td>0.000000</td>\n",
       "      <td>5009.000000</td>\n",
       "      <td>0.000000</td>\n",
       "      <td>0.000000</td>\n",
       "    </tr>\n",
       "    <tr>\n",
       "      <th>75%</th>\n",
       "      <td>6.603918</td>\n",
       "      <td>7.011188</td>\n",
       "      <td>2589.979309</td>\n",
       "      <td>26339.443360</td>\n",
       "      <td>0.000000</td>\n",
       "      <td>106230.501925</td>\n",
       "      <td>687.598373</td>\n",
       "      <td>0.000081</td>\n",
       "      <td>0.278501</td>\n",
       "      <td>6003.000000</td>\n",
       "      <td>0.000000</td>\n",
       "      <td>0.000000</td>\n",
       "    </tr>\n",
       "    <tr>\n",
       "      <th>max</th>\n",
       "      <td>87.565384</td>\n",
       "      <td>27.272654</td>\n",
       "      <td>15167.037110</td>\n",
       "      <td>113054.562500</td>\n",
       "      <td>190.947022</td>\n",
       "      <td>358706.312500</td>\n",
       "      <td>8519.986328</td>\n",
       "      <td>0.000089</td>\n",
       "      <td>0.999543</td>\n",
       "      <td>9798.000000</td>\n",
       "      <td>4168.166667</td>\n",
       "      <td>4168.166667</td>\n",
       "    </tr>\n",
       "  </tbody>\n",
       "</table>\n",
       "</div>"
      ],
      "text/plain": [
       "       nightlight_450  nightlight_3150  population_1000  population_3000  \\\n",
       "count    88752.000000     88752.000000     88752.000000     88752.000000   \n",
       "mean         5.363768         5.378962      2188.744906     19751.988188   \n",
       "std          7.793616         5.630151      3132.723658     21765.126856   \n",
       "min          0.000000         0.386488         0.000000      1561.082031   \n",
       "25%          0.720875         1.411368       289.775635      4973.127930   \n",
       "50%          2.022838         3.243662       746.741821     10810.468750   \n",
       "75%          6.603918         7.011188      2589.979309     26339.443360   \n",
       "max         87.565384        27.272654     15167.037110    113054.562500   \n",
       "\n",
       "       road_class_2_25  road_class_3_3000  road_class_3_300  trop_mean_filt  \\\n",
       "count     88752.000000       88752.000000      88752.000000    88752.000000   \n",
       "mean          0.830072       73783.467933        721.606252        0.000079   \n",
       "std           6.919148       64816.386222       1292.594491        0.000003   \n",
       "min           0.000000        3307.272461          0.000000        0.000073   \n",
       "25%           0.000000       25805.644528          0.000000        0.000077   \n",
       "50%           0.000000       49191.267575          7.872908        0.000078   \n",
       "75%           0.000000      106230.501925        687.598373        0.000081   \n",
       "max         190.947022      358706.312500       8519.986328        0.000089   \n",
       "\n",
       "          BldDen100          NDVI     trafBuf25     trafBuf50  \n",
       "count  88752.000000  88752.000000  88752.000000  88752.000000  \n",
       "mean       0.203116   4663.679275     19.635520     34.318195  \n",
       "std        0.337001   1794.603421    194.079841    253.680270  \n",
       "min        0.000000    -14.000000      0.000000      0.000000  \n",
       "25%        0.000000   3422.000000      0.000000      0.000000  \n",
       "50%        0.000000   5009.000000      0.000000      0.000000  \n",
       "75%        0.278501   6003.000000      0.000000      0.000000  \n",
       "max        0.999543   9798.000000   4168.166667   4168.166667  "
      ]
     },
     "execution_count": 18,
     "metadata": {},
     "output_type": "execute_result"
    }
   ],
   "source": [
    "X_test.describe()"
   ]
  },
  {
   "cell_type": "markdown",
   "id": "8aaa7069",
   "metadata": {
    "papermill": {
     "duration": 0.026396,
     "end_time": "2022-07-25T11:17:09.263191",
     "exception": false,
     "start_time": "2022-07-25T11:17:09.236795",
     "status": "completed"
    },
    "tags": []
   },
   "source": [
    "## model 1 - Random Forest"
   ]
  },
  {
   "cell_type": "code",
   "execution_count": 19,
   "id": "21180274",
   "metadata": {
    "execution": {
     "iopub.execute_input": "2022-07-25T11:17:09.321748Z",
     "iopub.status.busy": "2022-07-25T11:17:09.320727Z",
     "iopub.status.idle": "2022-07-25T11:17:49.131862Z",
     "shell.execute_reply": "2022-07-25T11:17:49.132424Z",
     "shell.execute_reply.started": "2022-07-25T10:58:53.552550Z"
    },
    "papermill": {
     "duration": 39.843917,
     "end_time": "2022-07-25T11:17:49.132630",
     "exception": false,
     "start_time": "2022-07-25T11:17:09.288713",
     "status": "completed"
    },
    "tags": []
   },
   "outputs": [],
   "source": [
    "## PARAMETERS FOR MODEL - RANDOM FOREST\n",
    "#import necessary module(s) for random forest\n",
    "from sklearn.ensemble import RandomForestRegressor\n",
    "# # Instantiate model with 1000 decision trees\n",
    "rf = RandomForestRegressor(n_estimators = 1000, random_state = 42, min_samples_split=10,\n",
    "                          min_samples_leaf=5,max_features=4,max_depth=10, bootstrap=True )\n",
    "# Train the model on training data\n",
    "rf.fit(X_train, Y_train)\n",
    "\n",
    "#predict NO2 values, based on random forest model that is trained by the training dataset\n",
    "predicted_NO2 = rf.predict(X_test)\n",
    "\n",
    "#add predicted values as a column to copy of original dataset (\"df_test_xy\")\n",
    "df_test_xy_RF = df_test_xy\n",
    "df_test_xy_RF['predicted_NO2_RF'] = predicted_NO2\n",
    "\n",
    "#export to .xlsx & .csv\n",
    "df_test_xy_RF.to_excel('Predicting NO2-RF'+ str(city)+'_xy.xlsx')\n",
    "df_test_xy_RF.to_csv('Predicting NO2-RF'+ str(city)+'_xy.csv')"
   ]
  },
  {
   "cell_type": "markdown",
   "id": "8773b902",
   "metadata": {
    "papermill": {
     "duration": 0.025432,
     "end_time": "2022-07-25T11:17:49.185675",
     "exception": false,
     "start_time": "2022-07-25T11:17:49.160243",
     "status": "completed"
    },
    "tags": []
   },
   "source": [
    "## model 2 - LASSO"
   ]
  },
  {
   "cell_type": "code",
   "execution_count": 20,
   "id": "995a961c",
   "metadata": {
    "execution": {
     "iopub.execute_input": "2022-07-25T11:17:49.245156Z",
     "iopub.status.busy": "2022-07-25T11:17:49.244495Z",
     "iopub.status.idle": "2022-07-25T11:18:24.704733Z",
     "shell.execute_reply": "2022-07-25T11:18:24.704124Z",
     "shell.execute_reply.started": "2022-07-25T10:59:37.058730Z"
    },
    "papermill": {
     "duration": 35.491082,
     "end_time": "2022-07-25T11:18:24.704901",
     "exception": false,
     "start_time": "2022-07-25T11:17:49.213819",
     "status": "completed"
    },
    "tags": []
   },
   "outputs": [],
   "source": [
    "#import necessary module(s) for LASSO\n",
    "from sklearn.linear_model import Lasso\n",
    "\n",
    "from sklearn.preprocessing import StandardScaler\n",
    "sc = StandardScaler()\n",
    "#standardizing is necessary \n",
    "# X_train_stan = sc.fit_transform(X_train)\n",
    "# X_test_stan = sc.fit_transform(X_test)\n",
    "\n",
    "#set alpha to 0.1 and train model based on training data\n",
    "model_lasso = Lasso(alpha=0.1)\n",
    "model_lasso.fit(X_train, Y_train)\n",
    "\n",
    "#predict NO2 values, based on LASSO model that is trained by the training dataset\n",
    "predicted_NO2= model_lasso.predict(X_test)\n",
    "\n",
    "#add predicted values as a column to copy of the original dataset (\"df_test_xy\")\n",
    "df_test_xy_LAS = df_test_xy\n",
    "df_test_xy_LAS['predicted_NO2_LASSO'] = predicted_NO2\n",
    "\n",
    "#export to .xlsx & .csv\n",
    "df_test_xy_LAS.to_excel('Predicting NO2-RF-LAS-'+ str(city)+'_xy.xlsx')\n",
    "df_test_xy_LAS.to_csv('Predicting NO2-RF-LAS-'+ str(city)+'_xy.csv')"
   ]
  },
  {
   "cell_type": "code",
   "execution_count": 21,
   "id": "da6eee13",
   "metadata": {
    "execution": {
     "iopub.execute_input": "2022-07-25T11:18:24.763384Z",
     "iopub.status.busy": "2022-07-25T11:18:24.762668Z",
     "iopub.status.idle": "2022-07-25T11:18:24.776874Z",
     "shell.execute_reply": "2022-07-25T11:18:24.776327Z",
     "shell.execute_reply.started": "2022-07-25T11:00:17.654996Z"
    },
    "papermill": {
     "duration": 0.046787,
     "end_time": "2022-07-25T11:18:24.777033",
     "exception": false,
     "start_time": "2022-07-25T11:18:24.730246",
     "status": "completed"
    },
    "tags": []
   },
   "outputs": [
    {
     "name": "stdout",
     "output_type": "stream",
     "text": [
      "       nightlight_450  nightlight_3150  population_1000  population_3000  \\\n",
      "0            1.346078         0.719939       502.881683      2435.422607   \n",
      "1            0.732517         0.711915       479.631622      2492.685059   \n",
      "2            0.732517         0.711915       479.865601      2492.246094   \n",
      "3            0.732517         0.711915       393.215485      2592.952148   \n",
      "4            0.732517         0.711915       393.390961      2592.251709   \n",
      "...               ...              ...              ...              ...   \n",
      "88747        4.986944         4.660944      1666.839966     11873.924800   \n",
      "88748        4.986944         4.660944      1664.778687     11869.287110   \n",
      "88749        4.986944         4.660944      1703.642090     11952.334960   \n",
      "88750        7.999596         4.564402      1924.614990     12425.597660   \n",
      "88751        8.316184         4.591713      2018.294434     12641.467770   \n",
      "\n",
      "       road_class_2_25  road_class_3_3000  road_class_3_300  trop_mean_filt  \\\n",
      "0                  0.0        15927.90625        904.727905        0.000079   \n",
      "1                  0.0        15861.02637        840.276916        0.000079   \n",
      "2                  0.0        15790.44922        495.902496        0.000079   \n",
      "3                  0.0        15696.45996        398.601898        0.000079   \n",
      "4                  0.0        15618.36035        240.843781        0.000079   \n",
      "...                ...                ...               ...             ...   \n",
      "88747              0.0        53673.98828        582.517273        0.000074   \n",
      "88748              0.0        55644.98438        694.530823        0.000075   \n",
      "88749              0.0        58288.65234        801.171143        0.000075   \n",
      "88750              0.0        60039.86719        809.954407        0.000075   \n",
      "88751              0.0        62080.24219        693.452881        0.000074   \n",
      "\n",
      "       BldDen100  NDVI  trafBuf25  trafBuf50  Longitude   Latitude  \\\n",
      "0       0.310619  5962        0.0        0.0   4.901548  51.902208   \n",
      "1       0.201087  5962        0.0        0.0   4.902998  51.902258   \n",
      "2       0.052682  5962        0.0        0.0   4.904447  51.902309   \n",
      "3       0.000000  6486        0.0        0.0   4.905897  51.902359   \n",
      "4       0.000000  6486        0.0        0.0   4.907347  51.902410   \n",
      "...          ...   ...        ...        ...        ...        ...   \n",
      "88747   0.000000  4187        0.0        0.0   5.242696  52.222159   \n",
      "88748   0.000000  4644        0.0        0.0   5.244157  52.222205   \n",
      "88749   0.051856  4644        0.0        0.0   5.245618  52.222252   \n",
      "88750   0.352235  4644        0.0        0.0   5.247078  52.222298   \n",
      "88751   0.318254  4644        0.0        0.0   5.248539  52.222345   \n",
      "\n",
      "       predicted_NO2_RF  predicted_NO2_LASSO  \n",
      "0             14.770737            10.087864  \n",
      "1             13.866425             9.808422  \n",
      "2             13.711635             9.166806  \n",
      "3             13.387204             8.508728  \n",
      "4             13.365037             8.320640  \n",
      "...                 ...                  ...  \n",
      "88747         18.443810            12.762625  \n",
      "88748         18.321742            12.498795  \n",
      "88749         18.215759            12.743409  \n",
      "88750         17.871547            13.456484  \n",
      "88751         17.871944            13.324369  \n",
      "\n",
      "[88752 rows x 16 columns]\n"
     ]
    }
   ],
   "source": [
    "print(df_test_xy_LAS)"
   ]
  },
  {
   "cell_type": "markdown",
   "id": "01cc2980",
   "metadata": {
    "papermill": {
     "duration": 0.026564,
     "end_time": "2022-07-25T11:18:24.829905",
     "exception": false,
     "start_time": "2022-07-25T11:18:24.803341",
     "status": "completed"
    },
    "tags": []
   },
   "source": [
    "## model 3 - RIDGE"
   ]
  },
  {
   "cell_type": "code",
   "execution_count": 22,
   "id": "89a7cfcf",
   "metadata": {
    "execution": {
     "iopub.execute_input": "2022-07-25T11:18:24.903460Z",
     "iopub.status.busy": "2022-07-25T11:18:24.902346Z",
     "iopub.status.idle": "2022-07-25T11:19:03.123259Z",
     "shell.execute_reply": "2022-07-25T11:19:03.123851Z",
     "shell.execute_reply.started": "2022-07-25T11:00:17.672477Z"
    },
    "papermill": {
     "duration": 38.268531,
     "end_time": "2022-07-25T11:19:03.124093",
     "exception": false,
     "start_time": "2022-07-25T11:18:24.855562",
     "status": "completed"
    },
    "tags": []
   },
   "outputs": [],
   "source": [
    "#import necessary module(s) for RIDGE\n",
    "from sklearn.linear_model import Ridge, RidgeCV, Lasso, LassoCV\n",
    "\n",
    "#set alpha to 0.3 and train model based on training data\n",
    "model_ridge = Ridge(alpha = 0.3, normalize = True)\n",
    "model_ridge.fit(X_train, Y_train) #again, data is standardized\n",
    "\n",
    "#predict NO2 values, based on RIDGE model that is trained by the training dataset\n",
    "predicted_NO2= model_ridge.predict(X_test)\n",
    "\n",
    "#add predicted values as a column to copy of the original dataset (\"df_test_xy\")\n",
    "df_test_xy_RID = df_test_xy\n",
    "df_test_xy_RID['predicted_NO2_RIDGE'] = predicted_NO2\n",
    "\n",
    "#export to .xlsx & .csv\n",
    "df_test_xy_RID.to_excel('Predicting NO2-RF-LAS-RID-'+ str(city)+'_xy.xlsx')\n",
    "df_test_xy_RID.to_csv('Predicting NO2-RF-LAS-RID-'+ str(city)+'_xy.csv')"
   ]
  },
  {
   "cell_type": "markdown",
   "id": "a3577802",
   "metadata": {
    "papermill": {
     "duration": 0.025111,
     "end_time": "2022-07-25T11:19:03.175256",
     "exception": false,
     "start_time": "2022-07-25T11:19:03.150145",
     "status": "completed"
    },
    "tags": []
   },
   "source": [
    "## model 4 - LightGBM"
   ]
  },
  {
   "cell_type": "code",
   "execution_count": 23,
   "id": "1367f950",
   "metadata": {
    "execution": {
     "iopub.execute_input": "2022-07-25T11:19:03.232499Z",
     "iopub.status.busy": "2022-07-25T11:19:03.231552Z",
     "iopub.status.idle": "2022-07-25T11:24:11.754904Z",
     "shell.execute_reply": "2022-07-25T11:24:11.753938Z",
     "shell.execute_reply.started": "2022-07-25T11:01:01.042420Z"
    },
    "papermill": {
     "duration": 308.553516,
     "end_time": "2022-07-25T11:24:11.755076",
     "exception": false,
     "start_time": "2022-07-25T11:19:03.201560",
     "status": "completed"
    },
    "tags": []
   },
   "outputs": [
    {
     "data": {
      "text/html": [
       "<style type='text/css'>\n",
       ".datatable table.frame { margin-bottom: 0; }\n",
       ".datatable table.frame thead { border-bottom: none; }\n",
       ".datatable table.frame tr.coltypes td {  color: #FFFFFF;  line-height: 6px;  padding: 0 0.5em;}\n",
       ".datatable .bool    { background: #DDDD99; }\n",
       ".datatable .object  { background: #565656; }\n",
       ".datatable .int     { background: #5D9E5D; }\n",
       ".datatable .float   { background: #4040CC; }\n",
       ".datatable .str     { background: #CC4040; }\n",
       ".datatable .time    { background: #40CC40; }\n",
       ".datatable .row_index {  background: var(--jp-border-color3);  border-right: 1px solid var(--jp-border-color0);  color: var(--jp-ui-font-color3);  font-size: 9px;}\n",
       ".datatable .frame tbody td { text-align: left; }\n",
       ".datatable .frame tr.coltypes .row_index {  background: var(--jp-border-color0);}\n",
       ".datatable th:nth-child(2) { padding-left: 12px; }\n",
       ".datatable .hellipsis {  color: var(--jp-cell-editor-border-color);}\n",
       ".datatable .vellipsis {  background: var(--jp-layout-color0);  color: var(--jp-cell-editor-border-color);}\n",
       ".datatable .na {  color: var(--jp-cell-editor-border-color);  font-size: 80%;}\n",
       ".datatable .sp {  opacity: 0.25;}\n",
       ".datatable .footer { font-size: 9px; }\n",
       ".datatable .frame_dimensions {  background: var(--jp-border-color3);  border-top: 1px solid var(--jp-border-color0);  color: var(--jp-ui-font-color3);  display: inline-block;  opacity: 0.6;  padding: 1px 10px 1px 5px;}\n",
       "</style>\n"
      ],
      "text/plain": [
       "<IPython.core.display.HTML object>"
      ]
     },
     "metadata": {},
     "output_type": "display_data"
    }
   ],
   "source": [
    "#import necessary module(s) for LightGBM\n",
    "import lightgbm as lgb\n",
    "\n",
    "#set model parameters and train model on training dataset\n",
    "model = lgb.LGBMRegressor(reg_alpha =2, reg_lambda = 0, max_depth = 5, learning_rate = 0.0005, n_estimators =50000, random_state=42)\n",
    "model.fit(X_train, Y_train)\n",
    "\n",
    "#predict NO2 values, based on LightGBM model that is trained by the training dataset\n",
    "predicted_NO2 = model.predict(X_test)\n",
    "\n",
    "#add predicted values as a column to copy of the original dataset (\"df_test_xy\")\n",
    "df_test_xy_LGB = df_test_xy\n",
    "df_test_xy_LGB['predicted_NO2_LightGBM'] = predicted_NO2\n",
    "\n",
    "#export to .xlsx & .csv\n",
    "df_test_xy_LGB.to_excel('Predicting NO2-RF-LAS-RID-LGB-'+ str(city)+'_xy.xlsx')\n",
    "df_test_xy_LGB.to_csv('Predicting NO2-RF-LAS-RID-LGB-'+ str(city)+'_xy.csv')"
   ]
  },
  {
   "cell_type": "markdown",
   "id": "b7f1c9ba",
   "metadata": {
    "papermill": {
     "duration": 0.025233,
     "end_time": "2022-07-25T11:24:11.806386",
     "exception": false,
     "start_time": "2022-07-25T11:24:11.781153",
     "status": "completed"
    },
    "tags": []
   },
   "source": [
    "## model 5A - XGBoost"
   ]
  },
  {
   "cell_type": "code",
   "execution_count": 24,
   "id": "4c3e43d0",
   "metadata": {
    "execution": {
     "iopub.execute_input": "2022-07-25T11:24:11.860566Z",
     "iopub.status.busy": "2022-07-25T11:24:11.859930Z",
     "iopub.status.idle": "2022-07-25T11:27:38.516742Z",
     "shell.execute_reply": "2022-07-25T11:27:38.517728Z",
     "shell.execute_reply.started": "2022-07-25T11:05:24.547846Z"
    },
    "papermill": {
     "duration": 206.686498,
     "end_time": "2022-07-25T11:27:38.518273",
     "exception": false,
     "start_time": "2022-07-25T11:24:11.831775",
     "status": "completed"
    },
    "tags": []
   },
   "outputs": [],
   "source": [
    "#import necessary module(s) for XGBoost\n",
    "import xgboost as xgb\n",
    "\n",
    "#set model parameters and train model on training dataset\n",
    "xg_reg = xgb.XGBRegressor(gamma = 5,  reg_alpha =2, reg_lambda=0, max_depth = 5, learning_rate = 0.0005, n_estimators=50000, random_state=42)\n",
    "xg_reg.fit(X_train, Y_train)\n",
    "\n",
    "#predict NO2 values, based on XGBoost model that is trained by the training dataset\n",
    "predicted_NO2 = xg_reg.predict(X_test)\n",
    "\n",
    "#add predicted values as a column to copy of the original dataset (\"df_test_xy\")\n",
    "df_test_xy_XGB = df_test_xy\n",
    "df_test_xy_XGB['predicted_NO2_XGBoost'] = predicted_NO2\n",
    "\n",
    "#export to .xlsx & .csv\n",
    "df_test_xy_XGB.to_excel('Predicting NO2-AllModels'+ str(city)+'_xy.xlsx')\n",
    "df_test_xy_XGB.to_csv('Predicting NO2-AllModels'+ str(city)+'_xy.csv')"
   ]
  },
  {
   "cell_type": "code",
   "execution_count": 25,
   "id": "ace3532b",
   "metadata": {
    "execution": {
     "iopub.execute_input": "2022-07-25T11:27:38.583179Z",
     "iopub.status.busy": "2022-07-25T11:27:38.582514Z",
     "iopub.status.idle": "2022-07-25T11:27:38.595031Z",
     "shell.execute_reply": "2022-07-25T11:27:38.595624Z",
     "shell.execute_reply.started": "2022-07-25T11:08:59.508570Z"
    },
    "papermill": {
     "duration": 0.047529,
     "end_time": "2022-07-25T11:27:38.595825",
     "exception": false,
     "start_time": "2022-07-25T11:27:38.548296",
     "status": "completed"
    },
    "tags": []
   },
   "outputs": [
    {
     "name": "stdout",
     "output_type": "stream",
     "text": [
      "       nightlight_450  nightlight_3150  population_1000  population_3000  \\\n",
      "0            1.346078         0.719939       502.881683      2435.422607   \n",
      "1            0.732517         0.711915       479.631622      2492.685059   \n",
      "2            0.732517         0.711915       479.865601      2492.246094   \n",
      "3            0.732517         0.711915       393.215485      2592.952148   \n",
      "4            0.732517         0.711915       393.390961      2592.251709   \n",
      "...               ...              ...              ...              ...   \n",
      "88747        4.986944         4.660944      1666.839966     11873.924800   \n",
      "88748        4.986944         4.660944      1664.778687     11869.287110   \n",
      "88749        4.986944         4.660944      1703.642090     11952.334960   \n",
      "88750        7.999596         4.564402      1924.614990     12425.597660   \n",
      "88751        8.316184         4.591713      2018.294434     12641.467770   \n",
      "\n",
      "       road_class_2_25  road_class_3_3000  road_class_3_300  trop_mean_filt  \\\n",
      "0                  0.0        15927.90625        904.727905        0.000079   \n",
      "1                  0.0        15861.02637        840.276916        0.000079   \n",
      "2                  0.0        15790.44922        495.902496        0.000079   \n",
      "3                  0.0        15696.45996        398.601898        0.000079   \n",
      "4                  0.0        15618.36035        240.843781        0.000079   \n",
      "...                ...                ...               ...             ...   \n",
      "88747              0.0        53673.98828        582.517273        0.000074   \n",
      "88748              0.0        55644.98438        694.530823        0.000075   \n",
      "88749              0.0        58288.65234        801.171143        0.000075   \n",
      "88750              0.0        60039.86719        809.954407        0.000075   \n",
      "88751              0.0        62080.24219        693.452881        0.000074   \n",
      "\n",
      "       BldDen100  NDVI  trafBuf25  trafBuf50  Longitude   Latitude  \\\n",
      "0       0.310619  5962        0.0        0.0   4.901548  51.902208   \n",
      "1       0.201087  5962        0.0        0.0   4.902998  51.902258   \n",
      "2       0.052682  5962        0.0        0.0   4.904447  51.902309   \n",
      "3       0.000000  6486        0.0        0.0   4.905897  51.902359   \n",
      "4       0.000000  6486        0.0        0.0   4.907347  51.902410   \n",
      "...          ...   ...        ...        ...        ...        ...   \n",
      "88747   0.000000  4187        0.0        0.0   5.242696  52.222159   \n",
      "88748   0.000000  4644        0.0        0.0   5.244157  52.222205   \n",
      "88749   0.051856  4644        0.0        0.0   5.245618  52.222252   \n",
      "88750   0.352235  4644        0.0        0.0   5.247078  52.222298   \n",
      "88751   0.318254  4644        0.0        0.0   5.248539  52.222345   \n",
      "\n",
      "       predicted_NO2_RF  predicted_NO2_LASSO  predicted_NO2_RIDGE  \\\n",
      "0             14.770737            10.087864            12.551518   \n",
      "1             13.866425             9.808422            12.116967   \n",
      "2             13.711635             9.166806            11.403331   \n",
      "3             13.387204             8.508728            10.804209   \n",
      "4             13.365037             8.320640            10.689935   \n",
      "...                 ...                  ...                  ...   \n",
      "88747         18.443810            12.762625            13.876600   \n",
      "88748         18.321742            12.498795            13.686491   \n",
      "88749         18.215759            12.743409            13.979324   \n",
      "88750         17.871547            13.456484            15.218465   \n",
      "88751         17.871944            13.324369            15.106265   \n",
      "\n",
      "       predicted_NO2_LightGBM  predicted_NO2_XGBoost  \n",
      "0                   18.173632              18.665363  \n",
      "1                   16.495876              17.316193  \n",
      "2                   16.406148              17.308659  \n",
      "3                   16.055493              16.521936  \n",
      "4                   16.055493              16.748629  \n",
      "...                       ...                    ...  \n",
      "88747               20.391395              19.354532  \n",
      "88748               20.052628              19.403761  \n",
      "88749               20.039530              19.207561  \n",
      "88750               19.372826              18.637348  \n",
      "88751               19.433653              18.637348  \n",
      "\n",
      "[88752 rows x 19 columns]\n"
     ]
    }
   ],
   "source": [
    "print(df_test_xy_XGB)"
   ]
  },
  {
   "cell_type": "code",
   "execution_count": null,
   "id": "620b76b1",
   "metadata": {
    "papermill": {
     "duration": 0.025286,
     "end_time": "2022-07-25T11:27:38.647030",
     "exception": false,
     "start_time": "2022-07-25T11:27:38.621744",
     "status": "completed"
    },
    "tags": []
   },
   "outputs": [],
   "source": []
  }
 ],
 "metadata": {
  "kernelspec": {
   "display_name": "Python 3",
   "language": "python",
   "name": "python3"
  },
  "language_info": {
   "codemirror_mode": {
    "name": "ipython",
    "version": 3
   },
   "file_extension": ".py",
   "mimetype": "text/x-python",
   "name": "python",
   "nbconvert_exporter": "python",
   "pygments_lexer": "ipython3",
   "version": "3.7.12"
  },
  "papermill": {
   "default_parameters": {},
   "duration": 653.081699,
   "end_time": "2022-07-25T11:27:40.390013",
   "environment_variables": {},
   "exception": null,
   "input_path": "__notebook__.ipynb",
   "output_path": "__notebook__.ipynb",
   "parameters": {},
   "start_time": "2022-07-25T11:16:47.308314",
   "version": "2.3.3"
  }
 },
 "nbformat": 4,
 "nbformat_minor": 5
}
