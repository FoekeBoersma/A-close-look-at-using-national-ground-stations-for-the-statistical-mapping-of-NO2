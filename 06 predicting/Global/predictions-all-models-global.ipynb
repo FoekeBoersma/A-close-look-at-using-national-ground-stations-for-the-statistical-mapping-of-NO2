{
 "cells": [
  {
   "cell_type": "code",
   "execution_count": 20,
   "id": "98c6b4a7",
   "metadata": {
    "_cell_guid": "b1076dfc-b9ad-4769-8c92-a6c4dae69d19",
    "_uuid": "8f2839f25d086af736a60e9eeb907d3b93b6e0e5",
    "execution": {
     "iopub.execute_input": "2022-07-25T11:16:57.416463Z",
     "iopub.status.busy": "2022-07-25T11:16:57.414586Z",
     "iopub.status.idle": "2022-07-25T11:17:07.662736Z",
     "shell.execute_reply": "2022-07-25T11:17:07.662027Z",
     "shell.execute_reply.started": "2022-07-25T10:58:40.580809Z"
    },
    "papermill": {
     "duration": 10.275517,
     "end_time": "2022-07-25T11:17:07.662924",
     "exception": false,
     "start_time": "2022-07-25T11:16:57.387407",
     "status": "completed"
    },
    "tags": []
   },
   "outputs": [],
   "source": [
    "# import modules\n",
    "import numpy as np # linear algebra\n",
    "import pandas as pd # data processing, CSV file I/O (e.g. pd.read_csv)\n",
    "#import necessary module(s) for random forest\n",
    "from sklearn.ensemble import RandomForestRegressor\n",
    "#import necessary module(s) for LASSO\n",
    "from sklearn.linear_model import Lasso\n",
    "from sklearn.preprocessing import StandardScaler\n",
    "sc = StandardScaler()\n",
    "#import necessary module(s) for RIDGE\n",
    "from sklearn.linear_model import Ridge, RidgeCV, Lasso, LassoCV\n",
    "#import necessary module(s) for LightGBM\n",
    "import lightgbm as lgb\n",
    "#import necessary module(s) for XGBoost\n",
    "import xgboost as xgb\n",
    "\n",
    "# files\n",
    "import os\n",
    "for dirname, _, filenames in os.walk('/kaggle/input'):\n",
    "    for filename in filenames:\n",
    "        print(os.path.join(dirname, filename))\n"
   ]
  },
  {
   "cell_type": "markdown",
   "id": "2dff8eb7",
   "metadata": {
    "papermill": {
     "duration": 0.020468,
     "end_time": "2022-07-25T11:17:07.705776",
     "exception": false,
     "start_time": "2022-07-25T11:17:07.685308",
     "status": "completed"
    },
    "tags": []
   },
   "source": [
    "## import train- and test datasets"
   ]
  },
  {
   "cell_type": "code",
   "execution_count": 21,
   "id": "8aee3044",
   "metadata": {
    "execution": {
     "iopub.execute_input": "2022-07-25T11:17:07.755104Z",
     "iopub.status.busy": "2022-07-25T11:17:07.754377Z",
     "iopub.status.idle": "2022-07-25T11:17:08.039577Z",
     "shell.execute_reply": "2022-07-25T11:17:08.038934Z",
     "shell.execute_reply.started": "2022-07-25T10:58:52.929854Z"
    },
    "papermill": {
     "duration": 0.313459,
     "end_time": "2022-07-25T11:17:08.039773",
     "exception": false,
     "start_time": "2022-07-25T11:17:07.726314",
     "status": "completed"
    },
    "tags": []
   },
   "outputs": [
    {
     "data": {
      "text/html": [
       "<div>\n",
       "<style scoped>\n",
       "    .dataframe tbody tr th:only-of-type {\n",
       "        vertical-align: middle;\n",
       "    }\n",
       "\n",
       "    .dataframe tbody tr th {\n",
       "        vertical-align: top;\n",
       "    }\n",
       "\n",
       "    .dataframe thead th {\n",
       "        text-align: right;\n",
       "    }\n",
       "</style>\n",
       "<table border=\"1\" class=\"dataframe\">\n",
       "  <thead>\n",
       "    <tr style=\"text-align: right;\">\n",
       "      <th></th>\n",
       "      <th>Unnamed: 0</th>\n",
       "      <th>Longitude</th>\n",
       "      <th>Latitude</th>\n",
       "      <th>mean_value_NO2</th>\n",
       "      <th>nightlight_450</th>\n",
       "      <th>nightlight_3150</th>\n",
       "      <th>population_1000</th>\n",
       "      <th>population_3000</th>\n",
       "      <th>road_class_2_25</th>\n",
       "      <th>road_class_3_3000</th>\n",
       "      <th>road_class_3_300</th>\n",
       "      <th>trop_mean_filt_2019</th>\n",
       "      <th>BldDen100</th>\n",
       "      <th>NDVI</th>\n",
       "      <th>trafBuf25</th>\n",
       "      <th>trafBuf50</th>\n",
       "    </tr>\n",
       "  </thead>\n",
       "  <tbody>\n",
       "    <tr>\n",
       "      <th>0</th>\n",
       "      <td>0</td>\n",
       "      <td>10.008293</td>\n",
       "      <td>48.397079</td>\n",
       "      <td>29.250500</td>\n",
       "      <td>22.585377</td>\n",
       "      <td>13.402575</td>\n",
       "      <td>8123.319336</td>\n",
       "      <td>54316.64453</td>\n",
       "      <td>0.000000</td>\n",
       "      <td>203502.42190</td>\n",
       "      <td>4167.064941</td>\n",
       "      <td>0.000058</td>\n",
       "      <td>1.000663</td>\n",
       "      <td>2310.0</td>\n",
       "      <td>0.000000</td>\n",
       "      <td>0.000000</td>\n",
       "    </tr>\n",
       "    <tr>\n",
       "      <th>1</th>\n",
       "      <td>1</td>\n",
       "      <td>10.021227</td>\n",
       "      <td>53.523262</td>\n",
       "      <td>32.098936</td>\n",
       "      <td>23.546194</td>\n",
       "      <td>22.862799</td>\n",
       "      <td>9558.207031</td>\n",
       "      <td>76786.28125</td>\n",
       "      <td>0.000000</td>\n",
       "      <td>99596.04688</td>\n",
       "      <td>1850.278076</td>\n",
       "      <td>0.000081</td>\n",
       "      <td>0.978245</td>\n",
       "      <td>2518.0</td>\n",
       "      <td>0.000000</td>\n",
       "      <td>0.000000</td>\n",
       "    </tr>\n",
       "    <tr>\n",
       "      <th>2</th>\n",
       "      <td>2</td>\n",
       "      <td>10.053859</td>\n",
       "      <td>53.592301</td>\n",
       "      <td>58.703744</td>\n",
       "      <td>18.290140</td>\n",
       "      <td>16.493486</td>\n",
       "      <td>10471.541020</td>\n",
       "      <td>88439.60938</td>\n",
       "      <td>46.359188</td>\n",
       "      <td>265563.71880</td>\n",
       "      <td>2016.838379</td>\n",
       "      <td>0.000076</td>\n",
       "      <td>0.914638</td>\n",
       "      <td>3216.0</td>\n",
       "      <td>674.791667</td>\n",
       "      <td>674.791667</td>\n",
       "    </tr>\n",
       "    <tr>\n",
       "      <th>3</th>\n",
       "      <td>3</td>\n",
       "      <td>10.081685</td>\n",
       "      <td>53.529020</td>\n",
       "      <td>24.249276</td>\n",
       "      <td>23.645823</td>\n",
       "      <td>18.248226</td>\n",
       "      <td>11165.945310</td>\n",
       "      <td>76961.00000</td>\n",
       "      <td>0.000000</td>\n",
       "      <td>97921.56250</td>\n",
       "      <td>478.363281</td>\n",
       "      <td>0.000074</td>\n",
       "      <td>0.712983</td>\n",
       "      <td>1052.0</td>\n",
       "      <td>0.000000</td>\n",
       "      <td>0.000000</td>\n",
       "    </tr>\n",
       "    <tr>\n",
       "      <th>4</th>\n",
       "      <td>4</td>\n",
       "      <td>10.096292</td>\n",
       "      <td>48.847917</td>\n",
       "      <td>19.912116</td>\n",
       "      <td>14.026642</td>\n",
       "      <td>5.514785</td>\n",
       "      <td>6017.511230</td>\n",
       "      <td>30814.58984</td>\n",
       "      <td>0.000000</td>\n",
       "      <td>176265.68750</td>\n",
       "      <td>3338.221191</td>\n",
       "      <td>0.000047</td>\n",
       "      <td>1.000641</td>\n",
       "      <td>3240.0</td>\n",
       "      <td>0.000000</td>\n",
       "      <td>0.000000</td>\n",
       "    </tr>\n",
       "    <tr>\n",
       "      <th>...</th>\n",
       "      <td>...</td>\n",
       "      <td>...</td>\n",
       "      <td>...</td>\n",
       "      <td>...</td>\n",
       "      <td>...</td>\n",
       "      <td>...</td>\n",
       "      <td>...</td>\n",
       "      <td>...</td>\n",
       "      <td>...</td>\n",
       "      <td>...</td>\n",
       "      <td>...</td>\n",
       "      <td>...</td>\n",
       "      <td>...</td>\n",
       "      <td>...</td>\n",
       "      <td>...</td>\n",
       "      <td>...</td>\n",
       "    </tr>\n",
       "    <tr>\n",
       "      <th>477</th>\n",
       "      <td>477</td>\n",
       "      <td>9.979031</td>\n",
       "      <td>48.396836</td>\n",
       "      <td>27.221808</td>\n",
       "      <td>29.130899</td>\n",
       "      <td>12.865678</td>\n",
       "      <td>10829.854490</td>\n",
       "      <td>54732.38281</td>\n",
       "      <td>0.000000</td>\n",
       "      <td>198280.70310</td>\n",
       "      <td>3127.346436</td>\n",
       "      <td>0.000058</td>\n",
       "      <td>0.964609</td>\n",
       "      <td>2607.0</td>\n",
       "      <td>0.000000</td>\n",
       "      <td>0.000000</td>\n",
       "    </tr>\n",
       "    <tr>\n",
       "      <th>478</th>\n",
       "      <td>478</td>\n",
       "      <td>9.981599</td>\n",
       "      <td>53.529158</td>\n",
       "      <td>32.763475</td>\n",
       "      <td>33.719387</td>\n",
       "      <td>36.813637</td>\n",
       "      <td>9855.304688</td>\n",
       "      <td>83610.52344</td>\n",
       "      <td>0.000000</td>\n",
       "      <td>117941.50000</td>\n",
       "      <td>1480.759766</td>\n",
       "      <td>0.000088</td>\n",
       "      <td>1.000696</td>\n",
       "      <td>NaN</td>\n",
       "      <td>0.000000</td>\n",
       "      <td>0.000000</td>\n",
       "    </tr>\n",
       "    <tr>\n",
       "      <th>479</th>\n",
       "      <td>479</td>\n",
       "      <td>9.990569</td>\n",
       "      <td>53.507930</td>\n",
       "      <td>24.966811</td>\n",
       "      <td>17.919800</td>\n",
       "      <td>25.516184</td>\n",
       "      <td>9541.226562</td>\n",
       "      <td>76877.67188</td>\n",
       "      <td>0.000000</td>\n",
       "      <td>94117.64063</td>\n",
       "      <td>2670.007568</td>\n",
       "      <td>0.000082</td>\n",
       "      <td>0.485096</td>\n",
       "      <td>4338.0</td>\n",
       "      <td>0.000000</td>\n",
       "      <td>0.000000</td>\n",
       "    </tr>\n",
       "    <tr>\n",
       "      <th>480</th>\n",
       "      <td>480</td>\n",
       "      <td>9.997256</td>\n",
       "      <td>53.681993</td>\n",
       "      <td>39.256824</td>\n",
       "      <td>13.382681</td>\n",
       "      <td>7.228415</td>\n",
       "      <td>7302.048828</td>\n",
       "      <td>44593.98438</td>\n",
       "      <td>54.294807</td>\n",
       "      <td>171093.43750</td>\n",
       "      <td>2462.917969</td>\n",
       "      <td>0.000063</td>\n",
       "      <td>1.000694</td>\n",
       "      <td>4006.0</td>\n",
       "      <td>674.791667</td>\n",
       "      <td>674.791667</td>\n",
       "    </tr>\n",
       "    <tr>\n",
       "      <th>481</th>\n",
       "      <td>481</td>\n",
       "      <td>9.998009</td>\n",
       "      <td>53.638291</td>\n",
       "      <td>21.186826</td>\n",
       "      <td>29.135727</td>\n",
       "      <td>16.283918</td>\n",
       "      <td>5944.749023</td>\n",
       "      <td>59050.46094</td>\n",
       "      <td>0.000000</td>\n",
       "      <td>152820.17190</td>\n",
       "      <td>808.816833</td>\n",
       "      <td>0.000069</td>\n",
       "      <td>0.491190</td>\n",
       "      <td>3738.0</td>\n",
       "      <td>0.000000</td>\n",
       "      <td>0.000000</td>\n",
       "    </tr>\n",
       "  </tbody>\n",
       "</table>\n",
       "<p>482 rows × 16 columns</p>\n",
       "</div>"
      ],
      "text/plain": [
       "     Unnamed: 0  Longitude   Latitude  mean_value_NO2  nightlight_450   \n",
       "0             0  10.008293  48.397079       29.250500       22.585377  \\\n",
       "1             1  10.021227  53.523262       32.098936       23.546194   \n",
       "2             2  10.053859  53.592301       58.703744       18.290140   \n",
       "3             3  10.081685  53.529020       24.249276       23.645823   \n",
       "4             4  10.096292  48.847917       19.912116       14.026642   \n",
       "..          ...        ...        ...             ...             ...   \n",
       "477         477   9.979031  48.396836       27.221808       29.130899   \n",
       "478         478   9.981599  53.529158       32.763475       33.719387   \n",
       "479         479   9.990569  53.507930       24.966811       17.919800   \n",
       "480         480   9.997256  53.681993       39.256824       13.382681   \n",
       "481         481   9.998009  53.638291       21.186826       29.135727   \n",
       "\n",
       "     nightlight_3150  population_1000  population_3000  road_class_2_25   \n",
       "0          13.402575      8123.319336      54316.64453         0.000000  \\\n",
       "1          22.862799      9558.207031      76786.28125         0.000000   \n",
       "2          16.493486     10471.541020      88439.60938        46.359188   \n",
       "3          18.248226     11165.945310      76961.00000         0.000000   \n",
       "4           5.514785      6017.511230      30814.58984         0.000000   \n",
       "..               ...              ...              ...              ...   \n",
       "477        12.865678     10829.854490      54732.38281         0.000000   \n",
       "478        36.813637      9855.304688      83610.52344         0.000000   \n",
       "479        25.516184      9541.226562      76877.67188         0.000000   \n",
       "480         7.228415      7302.048828      44593.98438        54.294807   \n",
       "481        16.283918      5944.749023      59050.46094         0.000000   \n",
       "\n",
       "     road_class_3_3000  road_class_3_300  trop_mean_filt_2019  BldDen100   \n",
       "0         203502.42190       4167.064941             0.000058   1.000663  \\\n",
       "1          99596.04688       1850.278076             0.000081   0.978245   \n",
       "2         265563.71880       2016.838379             0.000076   0.914638   \n",
       "3          97921.56250        478.363281             0.000074   0.712983   \n",
       "4         176265.68750       3338.221191             0.000047   1.000641   \n",
       "..                 ...               ...                  ...        ...   \n",
       "477       198280.70310       3127.346436             0.000058   0.964609   \n",
       "478       117941.50000       1480.759766             0.000088   1.000696   \n",
       "479        94117.64063       2670.007568             0.000082   0.485096   \n",
       "480       171093.43750       2462.917969             0.000063   1.000694   \n",
       "481       152820.17190        808.816833             0.000069   0.491190   \n",
       "\n",
       "       NDVI   trafBuf25   trafBuf50  \n",
       "0    2310.0    0.000000    0.000000  \n",
       "1    2518.0    0.000000    0.000000  \n",
       "2    3216.0  674.791667  674.791667  \n",
       "3    1052.0    0.000000    0.000000  \n",
       "4    3240.0    0.000000    0.000000  \n",
       "..      ...         ...         ...  \n",
       "477  2607.0    0.000000    0.000000  \n",
       "478     NaN    0.000000    0.000000  \n",
       "479  4338.0    0.000000    0.000000  \n",
       "480  4006.0  674.791667  674.791667  \n",
       "481  3738.0    0.000000    0.000000  \n",
       "\n",
       "[482 rows x 16 columns]"
      ]
     },
     "execution_count": 21,
     "metadata": {},
     "output_type": "execute_result"
    }
   ],
   "source": [
    "#import training dataset\n",
    "df_train = pd.read_csv(r'C:/Users/foeke/OneDrive/Documenten/submitting paper/All scripts - paper/data/GlobalModelData/PredictingDataset.csv', sep=',')\n",
    "df_train"
   ]
  },
  {
   "cell_type": "code",
   "execution_count": 22,
   "id": "aa56f01d",
   "metadata": {
    "execution": {
     "iopub.execute_input": "2022-07-25T11:17:08.222521Z",
     "iopub.status.busy": "2022-07-25T11:17:08.221789Z",
     "iopub.status.idle": "2022-07-25T11:17:08.248729Z",
     "shell.execute_reply": "2022-07-25T11:17:08.249260Z",
     "shell.execute_reply.started": "2022-07-25T10:58:53.229815Z"
    },
    "papermill": {
     "duration": 0.055422,
     "end_time": "2022-07-25T11:17:08.249475",
     "exception": false,
     "start_time": "2022-07-25T11:17:08.194053",
     "status": "completed"
    },
    "tags": []
   },
   "outputs": [
    {
     "name": "stdout",
     "output_type": "stream",
     "text": [
      "12\n",
      "12\n"
     ]
    }
   ],
   "source": [
    "#replace NA with 0\n",
    "df_train=df_train.fillna(0)\n",
    "#remove unnecessary information in training dataset\n",
    "df_train = df_train.drop(['Unnamed: 0', 'Longitude', 'Latitude'], axis=1)\n",
    "\n",
    "#import testing dataset - to this unprocessed dataset, the predicted NO2 will eventually be added.\n",
    "\n",
    "#AMSTERDAM\n",
    "#df_test_xy = pd.read_csv(r'C:/Users/foeke/OneDrive/Documenten/submitting paper/TooBigData/SpatialPredictionPatterns/grid100_GlobalPredictors-Amsterdam.csv', sep=',')\n",
    "\n",
    "# #HAMBURG\n",
    "#df_test_xy = pd.read_csv(r'C:/Users/foeke/OneDrive/Documenten/submitting paper/TooBigData/SpatialPredictionPatterns/grid100_GlobalPredictors-HH.csv', sep=',')\n",
    "\n",
    "# #Bayreuth\n",
    "#df_test_xy = pd.read_csv(r'C:/Users/foeke/OneDrive/Documenten/submitting paper/TooBigData/SpatialPredictionPatterns/grid100_GlobalPredictors-Bayreuth.csv', sep=',')\n",
    "\n",
    "# # #Utrecht\n",
    "df_test_xy = pd.read_csv(r'C:/Users/foeke/OneDrive/Documenten/submitting paper/TooBigData/SpatialPredictionPatterns/grid100_GlobalPredictors-Utrecht.csv', sep=',')\n",
    "\n",
    "#remove unnecessary information in testing dataset\n",
    "df_test_processed = df_test_xy.drop(['Unnamed: 0', 'Longitude', 'Latitude'], axis=1)\n",
    "df_test_processed = df_test_processed.rename(columns={'trop_mean_filt': 'trop_mean_filt_2019'})\n",
    "\n",
    "#define response- and predictor variables\n",
    "Y_train = df_train['mean_value_NO2']\n",
    "X_train = df_train.drop(['mean_value_NO2'], axis=1)\n",
    "X_test = df_test_processed\n",
    "\n",
    "#validate if columns of training and testing dataset are the same\n",
    "print(len(X_test.columns))\n",
    "print(len(X_train.columns))"
   ]
  },
  {
   "cell_type": "code",
   "execution_count": 23,
   "id": "4b3c8862",
   "metadata": {
    "execution": {
     "iopub.execute_input": "2022-07-25T11:17:08.578591Z",
     "iopub.status.busy": "2022-07-25T11:17:08.577876Z",
     "iopub.status.idle": "2022-07-25T11:17:08.581001Z",
     "shell.execute_reply": "2022-07-25T11:17:08.581566Z",
     "shell.execute_reply.started": "2022-07-25T10:58:53.316626Z"
    },
    "papermill": {
     "duration": 0.029729,
     "end_time": "2022-07-25T11:17:08.581765",
     "exception": false,
     "start_time": "2022-07-25T11:17:08.552036",
     "status": "completed"
    },
    "tags": []
   },
   "outputs": [],
   "source": [
    "# specify city so that it is included in output-name.\n",
    "city = \"Utrecht100\""
   ]
  },
  {
   "cell_type": "markdown",
   "id": "8aaa7069",
   "metadata": {
    "papermill": {
     "duration": 0.026396,
     "end_time": "2022-07-25T11:17:09.263191",
     "exception": false,
     "start_time": "2022-07-25T11:17:09.236795",
     "status": "completed"
    },
    "tags": []
   },
   "source": [
    "## model 1 - Random Forest"
   ]
  },
  {
   "cell_type": "code",
   "execution_count": 24,
   "id": "21180274",
   "metadata": {
    "execution": {
     "iopub.execute_input": "2022-07-25T11:17:09.321748Z",
     "iopub.status.busy": "2022-07-25T11:17:09.320727Z",
     "iopub.status.idle": "2022-07-25T11:17:49.131862Z",
     "shell.execute_reply": "2022-07-25T11:17:49.132424Z",
     "shell.execute_reply.started": "2022-07-25T10:58:53.552550Z"
    },
    "papermill": {
     "duration": 39.843917,
     "end_time": "2022-07-25T11:17:49.132630",
     "exception": false,
     "start_time": "2022-07-25T11:17:09.288713",
     "status": "completed"
    },
    "tags": []
   },
   "outputs": [],
   "source": [
    "## PARAMETERS FOR MODEL - RANDOM FOREST\n",
    "\n",
    "# # Instantiate model with 1000 decision trees\n",
    "rf = RandomForestRegressor(n_estimators = 1000, random_state = 42, min_samples_split=10,\n",
    "                          min_samples_leaf=5,max_features=4,max_depth=10, bootstrap=True )\n",
    "# Train the model on training data\n",
    "rf.fit(X_train, Y_train)\n",
    "\n",
    "#predict NO2 values, based on random forest model that is trained by the training dataset\n",
    "predicted_NO2 = rf.predict(X_test)\n",
    "\n",
    "#add predicted values as a column to copy of original dataset (\"df_test_xy\")\n",
    "df_test_xy_RF = df_test_xy\n",
    "df_test_xy_RF['predicted_NO2_RF'] = predicted_NO2\n",
    "\n",
    "#export to .xlsx & .csv\n",
    "df_test_xy_RF.to_excel('Predicting NO2-RF'+ str(city)+'_xy.xlsx')\n",
    "df_test_xy_RF.to_csv('Predicting NO2-RF'+ str(city)+'_xy.csv')"
   ]
  },
  {
   "cell_type": "markdown",
   "id": "8773b902",
   "metadata": {
    "papermill": {
     "duration": 0.025432,
     "end_time": "2022-07-25T11:17:49.185675",
     "exception": false,
     "start_time": "2022-07-25T11:17:49.160243",
     "status": "completed"
    },
    "tags": []
   },
   "source": [
    "## model 2 - LASSO"
   ]
  },
  {
   "cell_type": "code",
   "execution_count": 25,
   "id": "995a961c",
   "metadata": {
    "execution": {
     "iopub.execute_input": "2022-07-25T11:17:49.245156Z",
     "iopub.status.busy": "2022-07-25T11:17:49.244495Z",
     "iopub.status.idle": "2022-07-25T11:18:24.704733Z",
     "shell.execute_reply": "2022-07-25T11:18:24.704124Z",
     "shell.execute_reply.started": "2022-07-25T10:59:37.058730Z"
    },
    "papermill": {
     "duration": 35.491082,
     "end_time": "2022-07-25T11:18:24.704901",
     "exception": false,
     "start_time": "2022-07-25T11:17:49.213819",
     "status": "completed"
    },
    "tags": []
   },
   "outputs": [],
   "source": [
    "#set alpha to 0.1 and train model based on training data\n",
    "model_lasso = Lasso(alpha=0.1)\n",
    "model_lasso.fit(X_train, Y_train)\n",
    "\n",
    "#predict NO2 values, based on LASSO model that is trained by the training dataset\n",
    "predicted_NO2= model_lasso.predict(X_test)\n",
    "\n",
    "#add predicted values as a column to copy of the original dataset (\"df_test_xy\")\n",
    "df_test_xy_LAS = df_test_xy\n",
    "df_test_xy_LAS['predicted_NO2_LASSO'] = predicted_NO2\n",
    "\n",
    "#export to .xlsx & .csv\n",
    "df_test_xy_LAS.to_excel('Predicting NO2-RF-LAS-'+ str(city)+'_xy.xlsx')\n",
    "df_test_xy_LAS.to_csv('Predicting NO2-RF-LAS-'+ str(city)+'_xy.csv')"
   ]
  },
  {
   "cell_type": "markdown",
   "id": "01cc2980",
   "metadata": {
    "papermill": {
     "duration": 0.026564,
     "end_time": "2022-07-25T11:18:24.829905",
     "exception": false,
     "start_time": "2022-07-25T11:18:24.803341",
     "status": "completed"
    },
    "tags": []
   },
   "source": [
    "## model 3 - RIDGE"
   ]
  },
  {
   "cell_type": "code",
   "execution_count": 26,
   "id": "89a7cfcf",
   "metadata": {
    "execution": {
     "iopub.execute_input": "2022-07-25T11:18:24.903460Z",
     "iopub.status.busy": "2022-07-25T11:18:24.902346Z",
     "iopub.status.idle": "2022-07-25T11:19:03.123259Z",
     "shell.execute_reply": "2022-07-25T11:19:03.123851Z",
     "shell.execute_reply.started": "2022-07-25T11:00:17.672477Z"
    },
    "papermill": {
     "duration": 38.268531,
     "end_time": "2022-07-25T11:19:03.124093",
     "exception": false,
     "start_time": "2022-07-25T11:18:24.855562",
     "status": "completed"
    },
    "tags": []
   },
   "outputs": [],
   "source": [
    "#set alpha to 0.1 and train model based on training data\n",
    "model_ridge = Ridge(alpha = 0.1)\n",
    "model_ridge.fit(X_train, Y_train) #again, data is standardized\n",
    "\n",
    "#predict NO2 values, based on RIDGE model that is trained by the training dataset\n",
    "predicted_NO2= model_ridge.predict(X_test)\n",
    "\n",
    "#add predicted values as a column to copy of the original dataset (\"df_test_xy\")\n",
    "df_test_xy_RID = df_test_xy\n",
    "df_test_xy_RID['predicted_NO2_RIDGE'] = predicted_NO2\n",
    "\n",
    "#export to .xlsx & .csv\n",
    "df_test_xy_RID.to_excel('Predicting NO2-RF-LAS-RID-'+ str(city)+'_xy.xlsx')\n",
    "df_test_xy_RID.to_csv('Predicting NO2-RF-LAS-RID-'+ str(city)+'_xy.csv')"
   ]
  },
  {
   "cell_type": "markdown",
   "id": "a3577802",
   "metadata": {
    "papermill": {
     "duration": 0.025111,
     "end_time": "2022-07-25T11:19:03.175256",
     "exception": false,
     "start_time": "2022-07-25T11:19:03.150145",
     "status": "completed"
    },
    "tags": []
   },
   "source": [
    "## model 4 - LightGBM"
   ]
  },
  {
   "cell_type": "code",
   "execution_count": 27,
   "id": "1367f950",
   "metadata": {
    "execution": {
     "iopub.execute_input": "2022-07-25T11:19:03.232499Z",
     "iopub.status.busy": "2022-07-25T11:19:03.231552Z",
     "iopub.status.idle": "2022-07-25T11:24:11.754904Z",
     "shell.execute_reply": "2022-07-25T11:24:11.753938Z",
     "shell.execute_reply.started": "2022-07-25T11:01:01.042420Z"
    },
    "papermill": {
     "duration": 308.553516,
     "end_time": "2022-07-25T11:24:11.755076",
     "exception": false,
     "start_time": "2022-07-25T11:19:03.201560",
     "status": "completed"
    },
    "tags": []
   },
   "outputs": [],
   "source": [
    "#set model parameters and train model on training dataset\n",
    "model = lgb.LGBMRegressor(reg_alpha =2, reg_lambda = 0, max_depth = 5, learning_rate = 0.0005, n_estimators =50000, random_state=42)\n",
    "model.fit(X_train, Y_train)\n",
    "\n",
    "#predict NO2 values, based on LightGBM model that is trained by the training dataset\n",
    "predicted_NO2 = model.predict(X_test)\n",
    "\n",
    "#add predicted values as a column to copy of the original dataset (\"df_test_xy\")\n",
    "df_test_xy_LGB = df_test_xy\n",
    "df_test_xy_LGB['predicted_NO2_LightGBM'] = predicted_NO2\n",
    "\n",
    "#export to .xlsx & .csv\n",
    "df_test_xy_LGB.to_excel('Predicting NO2-RF-LAS-RID-LGB-'+ str(city)+'_xy.xlsx')\n",
    "df_test_xy_LGB.to_csv('Predicting NO2-RF-LAS-RID-LGB-'+ str(city)+'_xy.csv')"
   ]
  },
  {
   "cell_type": "markdown",
   "id": "b7f1c9ba",
   "metadata": {
    "papermill": {
     "duration": 0.025233,
     "end_time": "2022-07-25T11:24:11.806386",
     "exception": false,
     "start_time": "2022-07-25T11:24:11.781153",
     "status": "completed"
    },
    "tags": []
   },
   "source": [
    "## model 5A - XGBoost"
   ]
  },
  {
   "cell_type": "code",
   "execution_count": 28,
   "id": "4c3e43d0",
   "metadata": {
    "execution": {
     "iopub.execute_input": "2022-07-25T11:24:11.860566Z",
     "iopub.status.busy": "2022-07-25T11:24:11.859930Z",
     "iopub.status.idle": "2022-07-25T11:27:38.516742Z",
     "shell.execute_reply": "2022-07-25T11:27:38.517728Z",
     "shell.execute_reply.started": "2022-07-25T11:05:24.547846Z"
    },
    "papermill": {
     "duration": 206.686498,
     "end_time": "2022-07-25T11:27:38.518273",
     "exception": false,
     "start_time": "2022-07-25T11:24:11.831775",
     "status": "completed"
    },
    "tags": []
   },
   "outputs": [],
   "source": [
    "#set model parameters and train model on training dataset\n",
    "xg_reg = xgb.XGBRegressor(gamma = 5,  reg_alpha =2, reg_lambda=0, max_depth = 5, learning_rate = 0.0005, n_estimators=50000, random_state=42)\n",
    "xg_reg.fit(X_train, Y_train)\n",
    "\n",
    "#predict NO2 values, based on XGBoost model that is trained by the training dataset\n",
    "predicted_NO2 = xg_reg.predict(X_test)\n",
    "\n",
    "#add predicted values as a column to copy of the original dataset (\"df_test_xy\")\n",
    "df_test_xy_XGB = df_test_xy\n",
    "df_test_xy_XGB['predicted_NO2_XGBoost'] = predicted_NO2\n",
    "\n",
    "#export to .xlsx & .csv\n",
    "df_test_xy_XGB.to_excel('C:/Users/foeke/OneDrive/Documenten/submitting paper/TooBigData/SpatialPredictionPatterns/Predicting NO2-AllModels'+ str(city)+'_xy.xlsx')\n",
    "df_test_xy_XGB.to_csv('C:/Users/foeke/OneDrive/Documenten/submitting paper/TooBigData/SpatialPredictionPatterns/Predicting NO2-AllModels'+ str(city)+'_xy.csv')"
   ]
  }
 ],
 "metadata": {
  "kernelspec": {
   "display_name": "python testing environment",
   "language": "python",
   "name": "venv"
  },
  "language_info": {
   "codemirror_mode": {
    "name": "ipython",
    "version": 3
   },
   "file_extension": ".py",
   "mimetype": "text/x-python",
   "name": "python",
   "nbconvert_exporter": "python",
   "pygments_lexer": "ipython3",
   "version": "3.9.13"
  },
  "papermill": {
   "default_parameters": {},
   "duration": 653.081699,
   "end_time": "2022-07-25T11:27:40.390013",
   "environment_variables": {},
   "exception": null,
   "input_path": "__notebook__.ipynb",
   "output_path": "__notebook__.ipynb",
   "parameters": {},
   "start_time": "2022-07-25T11:16:47.308314",
   "version": "2.3.3"
  }
 },
 "nbformat": 4,
 "nbformat_minor": 5
}
