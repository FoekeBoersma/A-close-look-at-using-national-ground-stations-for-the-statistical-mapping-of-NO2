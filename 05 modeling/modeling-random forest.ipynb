{
 "cells": [
  {
   "cell_type": "code",
   "execution_count": 1,
   "id": "a6431565",
   "metadata": {
    "_cell_guid": "b1076dfc-b9ad-4769-8c92-a6c4dae69d19",
    "_uuid": "8f2839f25d086af736a60e9eeb907d3b93b6e0e5",
    "execution": {
     "iopub.execute_input": "2022-05-04T13:58:17.688791Z",
     "iopub.status.busy": "2022-05-04T13:58:17.683413Z",
     "iopub.status.idle": "2022-05-04T13:58:17.708763Z",
     "shell.execute_reply": "2022-05-04T13:58:17.709231Z",
     "shell.execute_reply.started": "2022-05-04T13:34:54.800685Z"
    },
    "papermill": {
     "duration": 0.057457,
     "end_time": "2022-05-04T13:58:17.709506",
     "exception": false,
     "start_time": "2022-05-04T13:58:17.652049",
     "status": "completed"
    },
    "tags": []
   },
   "outputs": [],
   "source": [
    "#import necessary modules\n",
    "import numpy as np # linear algebra\n",
    "import pandas as pd # data processing, CSV file I/O (e.g. pd.read_csv)\n",
    "from sklearn.ensemble import RandomForestRegressor\n",
    "from sklearn.model_selection import train_test_split\n",
    "from sklearn.metrics import r2_score\n",
    "from sklearn.metrics import mean_absolute_error\n",
    "from sklearn.model_selection import RandomizedSearchCV\n",
    "from sklearn.model_selection import GridSearchCV\n",
    "from pprint import pprint\n",
    "\n",
    "# files\n",
    "import os\n",
    "for dirname, _, filenames in os.walk('/kaggle/input'):\n",
    "    for filename in filenames:\n",
    "        print(os.path.join(dirname, filename))\n"
   ]
  },
  {
   "cell_type": "code",
   "execution_count": 2,
   "id": "b0726751",
   "metadata": {
    "execution": {
     "iopub.execute_input": "2022-05-04T13:58:17.767036Z",
     "iopub.status.busy": "2022-05-04T13:58:17.766381Z",
     "iopub.status.idle": "2022-05-04T13:58:17.867562Z",
     "shell.execute_reply": "2022-05-04T13:58:17.868109Z",
     "shell.execute_reply.started": "2022-05-04T13:36:03.969199Z"
    },
    "papermill": {
     "duration": 0.131282,
     "end_time": "2022-05-04T13:58:17.868281",
     "exception": false,
     "start_time": "2022-05-04T13:58:17.736999",
     "status": "completed"
    },
    "tags": []
   },
   "outputs": [
    {
     "data": {
      "text/html": [
       "<div>\n",
       "<style scoped>\n",
       "    .dataframe tbody tr th:only-of-type {\n",
       "        vertical-align: middle;\n",
       "    }\n",
       "\n",
       "    .dataframe tbody tr th {\n",
       "        vertical-align: top;\n",
       "    }\n",
       "\n",
       "    .dataframe thead th {\n",
       "        text-align: right;\n",
       "    }\n",
       "</style>\n",
       "<table border=\"1\" class=\"dataframe\">\n",
       "  <thead>\n",
       "    <tr style=\"text-align: right;\">\n",
       "      <th></th>\n",
       "      <th>Unnamed: 0</th>\n",
       "      <th>Longitude</th>\n",
       "      <th>Latitude</th>\n",
       "      <th>mean_value_NO2</th>\n",
       "      <th>nightlight_450</th>\n",
       "      <th>nightlight_3150</th>\n",
       "      <th>population_1000</th>\n",
       "      <th>population_3000</th>\n",
       "      <th>road_class_2_25</th>\n",
       "      <th>road_class_3_3000</th>\n",
       "      <th>road_class_3_300</th>\n",
       "      <th>trop_mean_filt_2019</th>\n",
       "      <th>BldDen100</th>\n",
       "      <th>NDVI</th>\n",
       "      <th>trafBuf25</th>\n",
       "      <th>trafBuf50</th>\n",
       "    </tr>\n",
       "  </thead>\n",
       "  <tbody>\n",
       "    <tr>\n",
       "      <th>0</th>\n",
       "      <td>0</td>\n",
       "      <td>10.008293</td>\n",
       "      <td>48.397079</td>\n",
       "      <td>29.250500</td>\n",
       "      <td>22.585377</td>\n",
       "      <td>13.402575</td>\n",
       "      <td>8123.319336</td>\n",
       "      <td>54316.64453</td>\n",
       "      <td>0.000000</td>\n",
       "      <td>203502.42190</td>\n",
       "      <td>4167.064941</td>\n",
       "      <td>0.000058</td>\n",
       "      <td>1.000663</td>\n",
       "      <td>2310.0</td>\n",
       "      <td>0.000000</td>\n",
       "      <td>0.000000</td>\n",
       "    </tr>\n",
       "    <tr>\n",
       "      <th>1</th>\n",
       "      <td>1</td>\n",
       "      <td>10.021227</td>\n",
       "      <td>53.523262</td>\n",
       "      <td>32.098936</td>\n",
       "      <td>23.546194</td>\n",
       "      <td>22.862799</td>\n",
       "      <td>9558.207031</td>\n",
       "      <td>76786.28125</td>\n",
       "      <td>0.000000</td>\n",
       "      <td>99596.04688</td>\n",
       "      <td>1850.278076</td>\n",
       "      <td>0.000081</td>\n",
       "      <td>0.978245</td>\n",
       "      <td>2518.0</td>\n",
       "      <td>0.000000</td>\n",
       "      <td>0.000000</td>\n",
       "    </tr>\n",
       "    <tr>\n",
       "      <th>2</th>\n",
       "      <td>2</td>\n",
       "      <td>10.053859</td>\n",
       "      <td>53.592301</td>\n",
       "      <td>58.703744</td>\n",
       "      <td>18.290140</td>\n",
       "      <td>16.493486</td>\n",
       "      <td>10471.541020</td>\n",
       "      <td>88439.60938</td>\n",
       "      <td>46.359188</td>\n",
       "      <td>265563.71880</td>\n",
       "      <td>2016.838379</td>\n",
       "      <td>0.000076</td>\n",
       "      <td>0.914638</td>\n",
       "      <td>3216.0</td>\n",
       "      <td>674.791667</td>\n",
       "      <td>674.791667</td>\n",
       "    </tr>\n",
       "    <tr>\n",
       "      <th>3</th>\n",
       "      <td>3</td>\n",
       "      <td>10.081685</td>\n",
       "      <td>53.529020</td>\n",
       "      <td>24.249276</td>\n",
       "      <td>23.645823</td>\n",
       "      <td>18.248226</td>\n",
       "      <td>11165.945310</td>\n",
       "      <td>76961.00000</td>\n",
       "      <td>0.000000</td>\n",
       "      <td>97921.56250</td>\n",
       "      <td>478.363281</td>\n",
       "      <td>0.000074</td>\n",
       "      <td>0.712983</td>\n",
       "      <td>1052.0</td>\n",
       "      <td>0.000000</td>\n",
       "      <td>0.000000</td>\n",
       "    </tr>\n",
       "    <tr>\n",
       "      <th>4</th>\n",
       "      <td>4</td>\n",
       "      <td>10.096292</td>\n",
       "      <td>48.847917</td>\n",
       "      <td>19.912116</td>\n",
       "      <td>14.026642</td>\n",
       "      <td>5.514785</td>\n",
       "      <td>6017.511230</td>\n",
       "      <td>30814.58984</td>\n",
       "      <td>0.000000</td>\n",
       "      <td>176265.68750</td>\n",
       "      <td>3338.221191</td>\n",
       "      <td>0.000047</td>\n",
       "      <td>1.000641</td>\n",
       "      <td>3240.0</td>\n",
       "      <td>0.000000</td>\n",
       "      <td>0.000000</td>\n",
       "    </tr>\n",
       "    <tr>\n",
       "      <th>...</th>\n",
       "      <td>...</td>\n",
       "      <td>...</td>\n",
       "      <td>...</td>\n",
       "      <td>...</td>\n",
       "      <td>...</td>\n",
       "      <td>...</td>\n",
       "      <td>...</td>\n",
       "      <td>...</td>\n",
       "      <td>...</td>\n",
       "      <td>...</td>\n",
       "      <td>...</td>\n",
       "      <td>...</td>\n",
       "      <td>...</td>\n",
       "      <td>...</td>\n",
       "      <td>...</td>\n",
       "      <td>...</td>\n",
       "    </tr>\n",
       "    <tr>\n",
       "      <th>477</th>\n",
       "      <td>477</td>\n",
       "      <td>9.979031</td>\n",
       "      <td>48.396836</td>\n",
       "      <td>27.221808</td>\n",
       "      <td>29.130899</td>\n",
       "      <td>12.865678</td>\n",
       "      <td>10829.854490</td>\n",
       "      <td>54732.38281</td>\n",
       "      <td>0.000000</td>\n",
       "      <td>198280.70310</td>\n",
       "      <td>3127.346436</td>\n",
       "      <td>0.000058</td>\n",
       "      <td>0.964609</td>\n",
       "      <td>2607.0</td>\n",
       "      <td>0.000000</td>\n",
       "      <td>0.000000</td>\n",
       "    </tr>\n",
       "    <tr>\n",
       "      <th>478</th>\n",
       "      <td>478</td>\n",
       "      <td>9.981599</td>\n",
       "      <td>53.529158</td>\n",
       "      <td>32.763475</td>\n",
       "      <td>33.719387</td>\n",
       "      <td>36.813637</td>\n",
       "      <td>9855.304688</td>\n",
       "      <td>83610.52344</td>\n",
       "      <td>0.000000</td>\n",
       "      <td>117941.50000</td>\n",
       "      <td>1480.759766</td>\n",
       "      <td>0.000088</td>\n",
       "      <td>1.000696</td>\n",
       "      <td>NaN</td>\n",
       "      <td>0.000000</td>\n",
       "      <td>0.000000</td>\n",
       "    </tr>\n",
       "    <tr>\n",
       "      <th>479</th>\n",
       "      <td>479</td>\n",
       "      <td>9.990569</td>\n",
       "      <td>53.507930</td>\n",
       "      <td>24.966811</td>\n",
       "      <td>17.919800</td>\n",
       "      <td>25.516184</td>\n",
       "      <td>9541.226562</td>\n",
       "      <td>76877.67188</td>\n",
       "      <td>0.000000</td>\n",
       "      <td>94117.64063</td>\n",
       "      <td>2670.007568</td>\n",
       "      <td>0.000082</td>\n",
       "      <td>0.485096</td>\n",
       "      <td>4338.0</td>\n",
       "      <td>0.000000</td>\n",
       "      <td>0.000000</td>\n",
       "    </tr>\n",
       "    <tr>\n",
       "      <th>480</th>\n",
       "      <td>480</td>\n",
       "      <td>9.997256</td>\n",
       "      <td>53.681993</td>\n",
       "      <td>39.256824</td>\n",
       "      <td>13.382681</td>\n",
       "      <td>7.228415</td>\n",
       "      <td>7302.048828</td>\n",
       "      <td>44593.98438</td>\n",
       "      <td>54.294807</td>\n",
       "      <td>171093.43750</td>\n",
       "      <td>2462.917969</td>\n",
       "      <td>0.000063</td>\n",
       "      <td>1.000694</td>\n",
       "      <td>4006.0</td>\n",
       "      <td>674.791667</td>\n",
       "      <td>674.791667</td>\n",
       "    </tr>\n",
       "    <tr>\n",
       "      <th>481</th>\n",
       "      <td>481</td>\n",
       "      <td>9.998009</td>\n",
       "      <td>53.638291</td>\n",
       "      <td>21.186826</td>\n",
       "      <td>29.135727</td>\n",
       "      <td>16.283918</td>\n",
       "      <td>5944.749023</td>\n",
       "      <td>59050.46094</td>\n",
       "      <td>0.000000</td>\n",
       "      <td>152820.17190</td>\n",
       "      <td>808.816833</td>\n",
       "      <td>0.000069</td>\n",
       "      <td>0.491190</td>\n",
       "      <td>3738.0</td>\n",
       "      <td>0.000000</td>\n",
       "      <td>0.000000</td>\n",
       "    </tr>\n",
       "  </tbody>\n",
       "</table>\n",
       "<p>482 rows × 16 columns</p>\n",
       "</div>"
      ],
      "text/plain": [
       "     Unnamed: 0  Longitude   Latitude  mean_value_NO2  nightlight_450   \n",
       "0             0  10.008293  48.397079       29.250500       22.585377  \\\n",
       "1             1  10.021227  53.523262       32.098936       23.546194   \n",
       "2             2  10.053859  53.592301       58.703744       18.290140   \n",
       "3             3  10.081685  53.529020       24.249276       23.645823   \n",
       "4             4  10.096292  48.847917       19.912116       14.026642   \n",
       "..          ...        ...        ...             ...             ...   \n",
       "477         477   9.979031  48.396836       27.221808       29.130899   \n",
       "478         478   9.981599  53.529158       32.763475       33.719387   \n",
       "479         479   9.990569  53.507930       24.966811       17.919800   \n",
       "480         480   9.997256  53.681993       39.256824       13.382681   \n",
       "481         481   9.998009  53.638291       21.186826       29.135727   \n",
       "\n",
       "     nightlight_3150  population_1000  population_3000  road_class_2_25   \n",
       "0          13.402575      8123.319336      54316.64453         0.000000  \\\n",
       "1          22.862799      9558.207031      76786.28125         0.000000   \n",
       "2          16.493486     10471.541020      88439.60938        46.359188   \n",
       "3          18.248226     11165.945310      76961.00000         0.000000   \n",
       "4           5.514785      6017.511230      30814.58984         0.000000   \n",
       "..               ...              ...              ...              ...   \n",
       "477        12.865678     10829.854490      54732.38281         0.000000   \n",
       "478        36.813637      9855.304688      83610.52344         0.000000   \n",
       "479        25.516184      9541.226562      76877.67188         0.000000   \n",
       "480         7.228415      7302.048828      44593.98438        54.294807   \n",
       "481        16.283918      5944.749023      59050.46094         0.000000   \n",
       "\n",
       "     road_class_3_3000  road_class_3_300  trop_mean_filt_2019  BldDen100   \n",
       "0         203502.42190       4167.064941             0.000058   1.000663  \\\n",
       "1          99596.04688       1850.278076             0.000081   0.978245   \n",
       "2         265563.71880       2016.838379             0.000076   0.914638   \n",
       "3          97921.56250        478.363281             0.000074   0.712983   \n",
       "4         176265.68750       3338.221191             0.000047   1.000641   \n",
       "..                 ...               ...                  ...        ...   \n",
       "477       198280.70310       3127.346436             0.000058   0.964609   \n",
       "478       117941.50000       1480.759766             0.000088   1.000696   \n",
       "479        94117.64063       2670.007568             0.000082   0.485096   \n",
       "480       171093.43750       2462.917969             0.000063   1.000694   \n",
       "481       152820.17190        808.816833             0.000069   0.491190   \n",
       "\n",
       "       NDVI   trafBuf25   trafBuf50  \n",
       "0    2310.0    0.000000    0.000000  \n",
       "1    2518.0    0.000000    0.000000  \n",
       "2    3216.0  674.791667  674.791667  \n",
       "3    1052.0    0.000000    0.000000  \n",
       "4    3240.0    0.000000    0.000000  \n",
       "..      ...         ...         ...  \n",
       "477  2607.0    0.000000    0.000000  \n",
       "478     NaN    0.000000    0.000000  \n",
       "479  4338.0    0.000000    0.000000  \n",
       "480  4006.0  674.791667  674.791667  \n",
       "481  3738.0    0.000000    0.000000  \n",
       "\n",
       "[482 rows x 16 columns]"
      ]
     },
     "execution_count": 2,
     "metadata": {},
     "output_type": "execute_result"
    }
   ],
   "source": [
    "#import dataset for modeling\n",
    "df = pd.read_csv(r'C:/Users/foeke/OneDrive/Documenten/submitting paper/All scripts - paper/data/GlobalModelData/PredictingDataset.csv', sep=',')\n",
    "df\n"
   ]
  },
  {
   "cell_type": "code",
   "execution_count": 3,
   "id": "3539e1c2",
   "metadata": {},
   "outputs": [
    {
     "name": "stdout",
     "output_type": "stream",
     "text": [
      "Training Features Shape: (361, 12)\n",
      "Training Labels Shape: (361,)\n",
      "Testing Features Shape: (121, 12)\n",
      "Testing Labels Shape: (121,)\n"
     ]
    }
   ],
   "source": [
    "#remove unique idenifier & geodata\n",
    "df = df.drop(['Unnamed: 0', 'Longitude', 'Latitude'], axis=1)\n",
    "#replace NaN's with 0's\n",
    "df = df.fillna(0)\n",
    "\n",
    "y = df['mean_value_NO2'] #specify target\n",
    "x = df.drop(['mean_value_NO2'], axis=1) #predictors\n",
    "feature_list = list(x.columns)\n",
    "\n",
    "## == CONSTRUCTING RANDOM FOREST == ##\n",
    "\n",
    "##GENERATING CROSS VALIDATION (75% TRAINING OF MODEL; 25% TESTING OF MODEL;EVALUATING MODEL PERFORMANCE)\n",
    "X_train, X_test, Y_train, Y_test = train_test_split(x, y, test_size=0.25, random_state=20)\n",
    "#random state is needed to ensure that same results are generated each time.\n",
    "\n",
    "## STEP ENSURING THAT X- AND Y-TRAINING SET CONTAIN SAME AMOUNT OF ROWS. SAME FOR TESTING.\n",
    "print('Training Features Shape:',X_train.shape)\n",
    "print('Training Labels Shape:', Y_train.shape)\n",
    "print('Testing Features Shape:', X_test.shape)\n",
    "print('Testing Labels Shape:', Y_test.shape)"
   ]
  },
  {
   "cell_type": "code",
   "execution_count": 4,
   "id": "dd5d912c",
   "metadata": {
    "execution": {
     "iopub.execute_input": "2022-05-04T13:58:19.332216Z",
     "iopub.status.busy": "2022-05-04T13:58:19.331608Z",
     "iopub.status.idle": "2022-05-04T13:58:22.498390Z",
     "shell.execute_reply": "2022-05-04T13:58:22.497883Z",
     "shell.execute_reply.started": "2022-05-04T13:36:34.428646Z"
    },
    "papermill": {
     "duration": 3.196962,
     "end_time": "2022-05-04T13:58:22.498531",
     "exception": false,
     "start_time": "2022-05-04T13:58:19.301569",
     "status": "completed"
    },
    "tags": []
   },
   "outputs": [
    {
     "data": {
      "text/html": [
       "<style>#sk-container-id-1 {color: black;background-color: white;}#sk-container-id-1 pre{padding: 0;}#sk-container-id-1 div.sk-toggleable {background-color: white;}#sk-container-id-1 label.sk-toggleable__label {cursor: pointer;display: block;width: 100%;margin-bottom: 0;padding: 0.3em;box-sizing: border-box;text-align: center;}#sk-container-id-1 label.sk-toggleable__label-arrow:before {content: \"▸\";float: left;margin-right: 0.25em;color: #696969;}#sk-container-id-1 label.sk-toggleable__label-arrow:hover:before {color: black;}#sk-container-id-1 div.sk-estimator:hover label.sk-toggleable__label-arrow:before {color: black;}#sk-container-id-1 div.sk-toggleable__content {max-height: 0;max-width: 0;overflow: hidden;text-align: left;background-color: #f0f8ff;}#sk-container-id-1 div.sk-toggleable__content pre {margin: 0.2em;color: black;border-radius: 0.25em;background-color: #f0f8ff;}#sk-container-id-1 input.sk-toggleable__control:checked~div.sk-toggleable__content {max-height: 200px;max-width: 100%;overflow: auto;}#sk-container-id-1 input.sk-toggleable__control:checked~label.sk-toggleable__label-arrow:before {content: \"▾\";}#sk-container-id-1 div.sk-estimator input.sk-toggleable__control:checked~label.sk-toggleable__label {background-color: #d4ebff;}#sk-container-id-1 div.sk-label input.sk-toggleable__control:checked~label.sk-toggleable__label {background-color: #d4ebff;}#sk-container-id-1 input.sk-hidden--visually {border: 0;clip: rect(1px 1px 1px 1px);clip: rect(1px, 1px, 1px, 1px);height: 1px;margin: -1px;overflow: hidden;padding: 0;position: absolute;width: 1px;}#sk-container-id-1 div.sk-estimator {font-family: monospace;background-color: #f0f8ff;border: 1px dotted black;border-radius: 0.25em;box-sizing: border-box;margin-bottom: 0.5em;}#sk-container-id-1 div.sk-estimator:hover {background-color: #d4ebff;}#sk-container-id-1 div.sk-parallel-item::after {content: \"\";width: 100%;border-bottom: 1px solid gray;flex-grow: 1;}#sk-container-id-1 div.sk-label:hover label.sk-toggleable__label {background-color: #d4ebff;}#sk-container-id-1 div.sk-serial::before {content: \"\";position: absolute;border-left: 1px solid gray;box-sizing: border-box;top: 0;bottom: 0;left: 50%;z-index: 0;}#sk-container-id-1 div.sk-serial {display: flex;flex-direction: column;align-items: center;background-color: white;padding-right: 0.2em;padding-left: 0.2em;position: relative;}#sk-container-id-1 div.sk-item {position: relative;z-index: 1;}#sk-container-id-1 div.sk-parallel {display: flex;align-items: stretch;justify-content: center;background-color: white;position: relative;}#sk-container-id-1 div.sk-item::before, #sk-container-id-1 div.sk-parallel-item::before {content: \"\";position: absolute;border-left: 1px solid gray;box-sizing: border-box;top: 0;bottom: 0;left: 50%;z-index: -1;}#sk-container-id-1 div.sk-parallel-item {display: flex;flex-direction: column;z-index: 1;position: relative;background-color: white;}#sk-container-id-1 div.sk-parallel-item:first-child::after {align-self: flex-end;width: 50%;}#sk-container-id-1 div.sk-parallel-item:last-child::after {align-self: flex-start;width: 50%;}#sk-container-id-1 div.sk-parallel-item:only-child::after {width: 0;}#sk-container-id-1 div.sk-dashed-wrapped {border: 1px dashed gray;margin: 0 0.4em 0.5em 0.4em;box-sizing: border-box;padding-bottom: 0.4em;background-color: white;}#sk-container-id-1 div.sk-label label {font-family: monospace;font-weight: bold;display: inline-block;line-height: 1.2em;}#sk-container-id-1 div.sk-label-container {text-align: center;}#sk-container-id-1 div.sk-container {/* jupyter's `normalize.less` sets `[hidden] { display: none; }` but bootstrap.min.css set `[hidden] { display: none !important; }` so we also need the `!important` here to be able to override the default hidden behavior on the sphinx rendered scikit-learn.org. See: https://github.com/scikit-learn/scikit-learn/issues/21755 */display: inline-block !important;position: relative;}#sk-container-id-1 div.sk-text-repr-fallback {display: none;}</style><div id=\"sk-container-id-1\" class=\"sk-top-container\"><div class=\"sk-text-repr-fallback\"><pre>RandomForestRegressor(n_estimators=1000, random_state=42)</pre><b>In a Jupyter environment, please rerun this cell to show the HTML representation or trust the notebook. <br />On GitHub, the HTML representation is unable to render, please try loading this page with nbviewer.org.</b></div><div class=\"sk-container\" hidden><div class=\"sk-item\"><div class=\"sk-estimator sk-toggleable\"><input class=\"sk-toggleable__control sk-hidden--visually\" id=\"sk-estimator-id-1\" type=\"checkbox\" checked><label for=\"sk-estimator-id-1\" class=\"sk-toggleable__label sk-toggleable__label-arrow\">RandomForestRegressor</label><div class=\"sk-toggleable__content\"><pre>RandomForestRegressor(n_estimators=1000, random_state=42)</pre></div></div></div></div></div>"
      ],
      "text/plain": [
       "RandomForestRegressor(n_estimators=1000, random_state=42)"
      ]
     },
     "execution_count": 4,
     "metadata": {},
     "output_type": "execute_result"
    }
   ],
   "source": [
    "## PARAMETERS FOR MODEL - RANDOM FOREST\n",
    "\n",
    "# Instantiate model with 1000 decision trees\n",
    "rf = RandomForestRegressor(n_estimators = 1000, random_state = 42)\n",
    "# Train the model on training data\n",
    "rf.fit(X_train, Y_train)"
   ]
  },
  {
   "cell_type": "code",
   "execution_count": 5,
   "id": "dcfab212",
   "metadata": {
    "execution": {
     "iopub.execute_input": "2022-05-04T13:58:22.568641Z",
     "iopub.status.busy": "2022-05-04T13:58:22.567956Z",
     "iopub.status.idle": "2022-05-04T13:58:26.238234Z",
     "shell.execute_reply": "2022-05-04T13:58:26.237443Z",
     "shell.execute_reply.started": "2022-05-04T13:36:55.351200Z"
    },
    "papermill": {
     "duration": 3.711129,
     "end_time": "2022-05-04T13:58:26.238449",
     "exception": false,
     "start_time": "2022-05-04T13:58:22.527320",
     "status": "completed"
    },
    "tags": []
   },
   "outputs": [
    {
     "name": "stdout",
     "output_type": "stream",
     "text": [
      "0.713077360787896\n"
     ]
    }
   ],
   "source": [
    "##OUT OF BAG SCORE\n",
    "##SOURCE: https://gdcoder.com/random-forest-regression-model-explained-in-depth-part-2-python-code-snippet-using-sklearn/\n",
    "m = RandomForestRegressor(n_estimators=1000, oob_score=True)\n",
    "m.fit(X_train, Y_train)\n",
    "\n",
    "print(m.oob_score_) # R^2 score"
   ]
  },
  {
   "cell_type": "code",
   "execution_count": 6,
   "id": "15389efd",
   "metadata": {
    "execution": {
     "iopub.execute_input": "2022-05-04T13:58:26.305640Z",
     "iopub.status.busy": "2022-05-04T13:58:26.304936Z",
     "iopub.status.idle": "2022-05-04T13:58:26.391953Z",
     "shell.execute_reply": "2022-05-04T13:58:26.392487Z",
     "shell.execute_reply.started": "2022-05-04T13:37:03.011896Z"
    },
    "papermill": {
     "duration": 0.124628,
     "end_time": "2022-05-04T13:58:26.392674",
     "exception": false,
     "start_time": "2022-05-04T13:58:26.268046",
     "status": "completed"
    },
    "tags": []
   },
   "outputs": [],
   "source": [
    "## DEFINING ORIGINAL Y-VALUES AND PREDICTED Y-VALUES (FOR TESTING DATASET)\n",
    "expected_y  = Y_test\n",
    "predicted_y = rf.predict(X_test) #Predicting the test set results using the random forest regressor model\n",
    "\n",
    "## DEFINING ORIGINAL Y-VALUES AND PREDICTED Y-VALUES (FOR TRAINING DATASET)\n",
    "expected_y_train = Y_train\n",
    "predicted_y_train = rf.predict(X_train)\n"
   ]
  },
  {
   "cell_type": "code",
   "execution_count": 7,
   "id": "ce24afbc",
   "metadata": {
    "execution": {
     "iopub.execute_input": "2022-05-04T13:58:26.631599Z",
     "iopub.status.busy": "2022-05-04T13:58:26.630950Z",
     "iopub.status.idle": "2022-05-04T13:58:26.650660Z",
     "shell.execute_reply": "2022-05-04T13:58:26.651211Z",
     "shell.execute_reply.started": "2022-05-04T13:37:07.642856Z"
    },
    "papermill": {
     "duration": 0.053572,
     "end_time": "2022-05-04T13:58:26.651362",
     "exception": false,
     "start_time": "2022-05-04T13:58:26.597790",
     "status": "completed"
    },
    "tags": []
   },
   "outputs": [
    {
     "name": "stdout",
     "output_type": "stream",
     "text": [
      "training rmse:  2.4673981757540266\n",
      "testing rmse:  7.633552618064911\n",
      "R2 score training data:  0.9615956482957208\n",
      "R2 score testing data:  0.6815514314085633\n",
      "MAE training data:  1.696264771097285\n",
      "MAE testing data:  5.432231422749788\n"
     ]
    }
   ],
   "source": [
    "## RMSE - TRAIN\n",
    "def rmse(predictions, targets):\n",
    "    return np.sqrt(((predictions - targets) ** 2).mean())\n",
    "\n",
    "print(\"training rmse: \", rmse(predicted_y_train, expected_y_train))\n",
    "print(\"testing rmse: \", rmse(predicted_y, Y_test))\n",
    "\n",
    "## R2\n",
    "print(\"R2 score training data: \", r2_score(expected_y_train, predicted_y_train))\n",
    "print(\"R2 score testing data: \", r2_score(Y_test, predicted_y))\n",
    "\n",
    "##MEAN ABSOLUTE ERROR \n",
    "print(\"MAE training data: \", mean_absolute_error(expected_y_train, predicted_y_train))\n",
    "print(\"MAE testing data: \", mean_absolute_error(expected_y, predicted_y))"
   ]
  },
  {
   "cell_type": "code",
   "execution_count": 8,
   "id": "afdfc530",
   "metadata": {
    "execution": {
     "iopub.execute_input": "2022-05-04T13:58:26.846395Z",
     "iopub.status.busy": "2022-05-04T13:58:26.845759Z",
     "iopub.status.idle": "2022-05-04T13:58:26.855362Z",
     "shell.execute_reply": "2022-05-04T13:58:26.855863Z",
     "shell.execute_reply.started": "2022-05-04T13:38:32.276325Z"
    },
    "papermill": {
     "duration": 0.041364,
     "end_time": "2022-05-04T13:58:26.856033",
     "exception": false,
     "start_time": "2022-05-04T13:58:26.814669",
     "status": "completed"
    },
    "tags": []
   },
   "outputs": [
    {
     "name": "stdout",
     "output_type": "stream",
     "text": [
      "Parameters currently in use:\n",
      "\n",
      "{'bootstrap': True,\n",
      " 'ccp_alpha': 0.0,\n",
      " 'criterion': 'squared_error',\n",
      " 'max_depth': None,\n",
      " 'max_features': 1.0,\n",
      " 'max_leaf_nodes': None,\n",
      " 'max_samples': None,\n",
      " 'min_impurity_decrease': 0.0,\n",
      " 'min_samples_leaf': 1,\n",
      " 'min_samples_split': 2,\n",
      " 'min_weight_fraction_leaf': 0.0,\n",
      " 'n_estimators': 1000,\n",
      " 'n_jobs': None,\n",
      " 'oob_score': False,\n",
      " 'random_state': 42,\n",
      " 'verbose': 0,\n",
      " 'warm_start': False}\n"
     ]
    }
   ],
   "source": [
    "## == HYPERPARAMETER TUNING == ##\n",
    "# VERIFYING CURRENT RANDOM FOREST HYPERPARAMETERS \n",
    "\n",
    "# Look at parameters used by our current forest\n",
    "print('Parameters currently in use:\\n')\n",
    "pprint(rf.get_params())"
   ]
  },
  {
   "cell_type": "code",
   "execution_count": 9,
   "id": "3b0d25d1",
   "metadata": {
    "execution": {
     "iopub.execute_input": "2022-05-04T13:58:26.917473Z",
     "iopub.status.busy": "2022-05-04T13:58:26.916870Z",
     "iopub.status.idle": "2022-05-04T13:58:26.932975Z",
     "shell.execute_reply": "2022-05-04T13:58:26.933554Z",
     "shell.execute_reply.started": "2022-05-04T13:38:40.535852Z"
    },
    "papermill": {
     "duration": 0.048211,
     "end_time": "2022-05-04T13:58:26.933730",
     "exception": false,
     "start_time": "2022-05-04T13:58:26.885519",
     "status": "completed"
    },
    "tags": []
   },
   "outputs": [
    {
     "name": "stdout",
     "output_type": "stream",
     "text": [
      "{'bootstrap': [True, False],\n",
      " 'max_depth': [10, 20, 30, 40, 50, 60, 70, 80, 90, 100, 110, None],\n",
      " 'max_features': ['auto', 'sqrt'],\n",
      " 'min_samples_leaf': [1, 2, 4],\n",
      " 'min_samples_split': [2, 5, 10],\n",
      " 'n_estimators': [200, 400, 600, 800, 1000, 1200, 1400, 1600, 1800, 2000]}\n"
     ]
    },
    {
     "data": {
      "text/plain": [
       "{'bootstrap': [True, False],\n",
       " 'max_depth': [10, 20, 30, 40, 50, 60, 70, 80, 90, 100, None],\n",
       " 'max_features': ['auto', 'sqrt'],\n",
       " 'min_samples_leaf': [1, 2, 4],\n",
       " 'min_samples_split': [2, 5, 10],\n",
       " 'n_estimators': [200, 400, 600, 800, 1000, 1200, 1400, 1600, 1800, 2000]}"
      ]
     },
     "execution_count": 9,
     "metadata": {},
     "output_type": "execute_result"
    }
   ],
   "source": [
    "## == CREATE PARAMETER GRID == ##\n",
    "\n",
    "# Number of trees in random forest\n",
    "n_estimators = [int(x) for x in np.linspace(start = 200, stop = 2000, num = 10)]\n",
    "# Number of features to consider at every split\n",
    "max_features = ['auto', 'sqrt']\n",
    "# Maximum number of levels in tree\n",
    "max_depth = [int(x) for x in np.linspace(10, 110, num = 11)]\n",
    "max_depth.append(None)\n",
    "# Minimum number of samples required to split a node\n",
    "min_samples_split = [2, 5, 10]\n",
    "# Minimum number of samples required at each leaf node\n",
    "min_samples_leaf = [1, 2, 4]\n",
    "# Method of selecting samples for training each tree\n",
    "bootstrap = [True, False]\n",
    "# Create the random grid\n",
    "random_grid = {'n_estimators': n_estimators,\n",
    "               'max_features': max_features,\n",
    "               'max_depth': max_depth,\n",
    "               'min_samples_split': min_samples_split,\n",
    "               'min_samples_leaf': min_samples_leaf,\n",
    "               'bootstrap': bootstrap}\n",
    "pprint(random_grid)\n",
    "{'bootstrap': [True, False],\n",
    " 'max_depth': [10, 20, 30, 40, 50, 60, 70, 80, 90, 100, None],\n",
    " 'max_features': ['auto', 'sqrt'],\n",
    " 'min_samples_leaf': [1, 2, 4],\n",
    " 'min_samples_split': [2, 5, 10],\n",
    " 'n_estimators': [200, 400, 600, 800, 1000, 1200, 1400, 1600, 1800, 2000]}"
   ]
  },
  {
   "cell_type": "code",
   "execution_count": 10,
   "id": "46a9ca3c",
   "metadata": {
    "execution": {
     "iopub.execute_input": "2022-05-04T13:58:26.996610Z",
     "iopub.status.busy": "2022-05-04T13:58:26.996027Z",
     "iopub.status.idle": "2022-05-04T14:02:54.327320Z",
     "shell.execute_reply": "2022-05-04T14:02:54.326746Z",
     "shell.execute_reply.started": "2022-05-04T13:38:48.552572Z"
    },
    "papermill": {
     "duration": 267.363907,
     "end_time": "2022-05-04T14:02:54.327472",
     "exception": false,
     "start_time": "2022-05-04T13:58:26.963565",
     "status": "completed"
    },
    "tags": []
   },
   "outputs": [
    {
     "name": "stdout",
     "output_type": "stream",
     "text": [
      "Fitting 3 folds for each of 100 candidates, totalling 300 fits\n"
     ]
    },
    {
     "data": {
      "text/html": [
       "<style>#sk-container-id-2 {color: black;background-color: white;}#sk-container-id-2 pre{padding: 0;}#sk-container-id-2 div.sk-toggleable {background-color: white;}#sk-container-id-2 label.sk-toggleable__label {cursor: pointer;display: block;width: 100%;margin-bottom: 0;padding: 0.3em;box-sizing: border-box;text-align: center;}#sk-container-id-2 label.sk-toggleable__label-arrow:before {content: \"▸\";float: left;margin-right: 0.25em;color: #696969;}#sk-container-id-2 label.sk-toggleable__label-arrow:hover:before {color: black;}#sk-container-id-2 div.sk-estimator:hover label.sk-toggleable__label-arrow:before {color: black;}#sk-container-id-2 div.sk-toggleable__content {max-height: 0;max-width: 0;overflow: hidden;text-align: left;background-color: #f0f8ff;}#sk-container-id-2 div.sk-toggleable__content pre {margin: 0.2em;color: black;border-radius: 0.25em;background-color: #f0f8ff;}#sk-container-id-2 input.sk-toggleable__control:checked~div.sk-toggleable__content {max-height: 200px;max-width: 100%;overflow: auto;}#sk-container-id-2 input.sk-toggleable__control:checked~label.sk-toggleable__label-arrow:before {content: \"▾\";}#sk-container-id-2 div.sk-estimator input.sk-toggleable__control:checked~label.sk-toggleable__label {background-color: #d4ebff;}#sk-container-id-2 div.sk-label input.sk-toggleable__control:checked~label.sk-toggleable__label {background-color: #d4ebff;}#sk-container-id-2 input.sk-hidden--visually {border: 0;clip: rect(1px 1px 1px 1px);clip: rect(1px, 1px, 1px, 1px);height: 1px;margin: -1px;overflow: hidden;padding: 0;position: absolute;width: 1px;}#sk-container-id-2 div.sk-estimator {font-family: monospace;background-color: #f0f8ff;border: 1px dotted black;border-radius: 0.25em;box-sizing: border-box;margin-bottom: 0.5em;}#sk-container-id-2 div.sk-estimator:hover {background-color: #d4ebff;}#sk-container-id-2 div.sk-parallel-item::after {content: \"\";width: 100%;border-bottom: 1px solid gray;flex-grow: 1;}#sk-container-id-2 div.sk-label:hover label.sk-toggleable__label {background-color: #d4ebff;}#sk-container-id-2 div.sk-serial::before {content: \"\";position: absolute;border-left: 1px solid gray;box-sizing: border-box;top: 0;bottom: 0;left: 50%;z-index: 0;}#sk-container-id-2 div.sk-serial {display: flex;flex-direction: column;align-items: center;background-color: white;padding-right: 0.2em;padding-left: 0.2em;position: relative;}#sk-container-id-2 div.sk-item {position: relative;z-index: 1;}#sk-container-id-2 div.sk-parallel {display: flex;align-items: stretch;justify-content: center;background-color: white;position: relative;}#sk-container-id-2 div.sk-item::before, #sk-container-id-2 div.sk-parallel-item::before {content: \"\";position: absolute;border-left: 1px solid gray;box-sizing: border-box;top: 0;bottom: 0;left: 50%;z-index: -1;}#sk-container-id-2 div.sk-parallel-item {display: flex;flex-direction: column;z-index: 1;position: relative;background-color: white;}#sk-container-id-2 div.sk-parallel-item:first-child::after {align-self: flex-end;width: 50%;}#sk-container-id-2 div.sk-parallel-item:last-child::after {align-self: flex-start;width: 50%;}#sk-container-id-2 div.sk-parallel-item:only-child::after {width: 0;}#sk-container-id-2 div.sk-dashed-wrapped {border: 1px dashed gray;margin: 0 0.4em 0.5em 0.4em;box-sizing: border-box;padding-bottom: 0.4em;background-color: white;}#sk-container-id-2 div.sk-label label {font-family: monospace;font-weight: bold;display: inline-block;line-height: 1.2em;}#sk-container-id-2 div.sk-label-container {text-align: center;}#sk-container-id-2 div.sk-container {/* jupyter's `normalize.less` sets `[hidden] { display: none; }` but bootstrap.min.css set `[hidden] { display: none !important; }` so we also need the `!important` here to be able to override the default hidden behavior on the sphinx rendered scikit-learn.org. See: https://github.com/scikit-learn/scikit-learn/issues/21755 */display: inline-block !important;position: relative;}#sk-container-id-2 div.sk-text-repr-fallback {display: none;}</style><div id=\"sk-container-id-2\" class=\"sk-top-container\"><div class=\"sk-text-repr-fallback\"><pre>RandomizedSearchCV(cv=3, estimator=RandomForestRegressor(), n_iter=100,\n",
       "                   n_jobs=-1,\n",
       "                   param_distributions={&#x27;bootstrap&#x27;: [True, False],\n",
       "                                        &#x27;max_depth&#x27;: [10, 20, 30, 40, 50, 60,\n",
       "                                                      70, 80, 90, 100, 110,\n",
       "                                                      None],\n",
       "                                        &#x27;max_features&#x27;: [&#x27;auto&#x27;, &#x27;sqrt&#x27;],\n",
       "                                        &#x27;min_samples_leaf&#x27;: [1, 2, 4],\n",
       "                                        &#x27;min_samples_split&#x27;: [2, 5, 10],\n",
       "                                        &#x27;n_estimators&#x27;: [200, 400, 600, 800,\n",
       "                                                         1000, 1200, 1400, 1600,\n",
       "                                                         1800, 2000]},\n",
       "                   random_state=42, verbose=2)</pre><b>In a Jupyter environment, please rerun this cell to show the HTML representation or trust the notebook. <br />On GitHub, the HTML representation is unable to render, please try loading this page with nbviewer.org.</b></div><div class=\"sk-container\" hidden><div class=\"sk-item sk-dashed-wrapped\"><div class=\"sk-label-container\"><div class=\"sk-label sk-toggleable\"><input class=\"sk-toggleable__control sk-hidden--visually\" id=\"sk-estimator-id-2\" type=\"checkbox\" ><label for=\"sk-estimator-id-2\" class=\"sk-toggleable__label sk-toggleable__label-arrow\">RandomizedSearchCV</label><div class=\"sk-toggleable__content\"><pre>RandomizedSearchCV(cv=3, estimator=RandomForestRegressor(), n_iter=100,\n",
       "                   n_jobs=-1,\n",
       "                   param_distributions={&#x27;bootstrap&#x27;: [True, False],\n",
       "                                        &#x27;max_depth&#x27;: [10, 20, 30, 40, 50, 60,\n",
       "                                                      70, 80, 90, 100, 110,\n",
       "                                                      None],\n",
       "                                        &#x27;max_features&#x27;: [&#x27;auto&#x27;, &#x27;sqrt&#x27;],\n",
       "                                        &#x27;min_samples_leaf&#x27;: [1, 2, 4],\n",
       "                                        &#x27;min_samples_split&#x27;: [2, 5, 10],\n",
       "                                        &#x27;n_estimators&#x27;: [200, 400, 600, 800,\n",
       "                                                         1000, 1200, 1400, 1600,\n",
       "                                                         1800, 2000]},\n",
       "                   random_state=42, verbose=2)</pre></div></div></div><div class=\"sk-parallel\"><div class=\"sk-parallel-item\"><div class=\"sk-item\"><div class=\"sk-label-container\"><div class=\"sk-label sk-toggleable\"><input class=\"sk-toggleable__control sk-hidden--visually\" id=\"sk-estimator-id-3\" type=\"checkbox\" ><label for=\"sk-estimator-id-3\" class=\"sk-toggleable__label sk-toggleable__label-arrow\">estimator: RandomForestRegressor</label><div class=\"sk-toggleable__content\"><pre>RandomForestRegressor()</pre></div></div></div><div class=\"sk-serial\"><div class=\"sk-item\"><div class=\"sk-estimator sk-toggleable\"><input class=\"sk-toggleable__control sk-hidden--visually\" id=\"sk-estimator-id-4\" type=\"checkbox\" ><label for=\"sk-estimator-id-4\" class=\"sk-toggleable__label sk-toggleable__label-arrow\">RandomForestRegressor</label><div class=\"sk-toggleable__content\"><pre>RandomForestRegressor()</pre></div></div></div></div></div></div></div></div></div></div>"
      ],
      "text/plain": [
       "RandomizedSearchCV(cv=3, estimator=RandomForestRegressor(), n_iter=100,\n",
       "                   n_jobs=-1,\n",
       "                   param_distributions={'bootstrap': [True, False],\n",
       "                                        'max_depth': [10, 20, 30, 40, 50, 60,\n",
       "                                                      70, 80, 90, 100, 110,\n",
       "                                                      None],\n",
       "                                        'max_features': ['auto', 'sqrt'],\n",
       "                                        'min_samples_leaf': [1, 2, 4],\n",
       "                                        'min_samples_split': [2, 5, 10],\n",
       "                                        'n_estimators': [200, 400, 600, 800,\n",
       "                                                         1000, 1200, 1400, 1600,\n",
       "                                                         1800, 2000]},\n",
       "                   random_state=42, verbose=2)"
      ]
     },
     "execution_count": 10,
     "metadata": {},
     "output_type": "execute_result"
    }
   ],
   "source": [
    "## RANDOM SEARCH TRAINING (https://towardsdatascience.com/hyperparameter-tuning-the-random-forest-in-python-using-scikit-learn-28d2aa77dd74)\n",
    "\n",
    "# Use the random grid to search for best hyperparameters\n",
    "# First create the base model to tune\n",
    "rf = RandomForestRegressor()\n",
    "# Random search of parameters, using 3 fold cross validation, \n",
    "# search across 100 different combinations, and use all available cores\n",
    "rf_random = RandomizedSearchCV(estimator = rf, param_distributions = random_grid, n_iter = 100, cv = 3, verbose=2, random_state=42, n_jobs = -1)\n",
    "# Fit the random search model\n",
    "rf_random.fit(X_train, Y_train)"
   ]
  },
  {
   "cell_type": "code",
   "execution_count": 11,
   "id": "7d5da8e0",
   "metadata": {
    "execution": {
     "iopub.execute_input": "2022-05-04T14:02:54.396379Z",
     "iopub.status.busy": "2022-05-04T14:02:54.395751Z",
     "iopub.status.idle": "2022-05-04T14:02:54.402416Z",
     "shell.execute_reply": "2022-05-04T14:02:54.401945Z",
     "shell.execute_reply.started": "2022-05-04T13:43:44.549349Z"
    },
    "papermill": {
     "duration": 0.042119,
     "end_time": "2022-05-04T14:02:54.402548",
     "exception": false,
     "start_time": "2022-05-04T14:02:54.360429",
     "status": "completed"
    },
    "tags": []
   },
   "outputs": [
    {
     "data": {
      "text/plain": [
       "{'n_estimators': 400,\n",
       " 'min_samples_split': 5,\n",
       " 'min_samples_leaf': 1,\n",
       " 'max_features': 'sqrt',\n",
       " 'max_depth': 100,\n",
       " 'bootstrap': True}"
      ]
     },
     "execution_count": 11,
     "metadata": {},
     "output_type": "execute_result"
    }
   ],
   "source": [
    "rf_random.best_params_"
   ]
  },
  {
   "cell_type": "code",
   "execution_count": 12,
   "id": "7bead17a",
   "metadata": {
    "execution": {
     "iopub.execute_input": "2022-05-04T14:02:54.472772Z",
     "iopub.status.busy": "2022-05-04T14:02:54.472111Z",
     "iopub.status.idle": "2022-05-04T14:02:56.634922Z",
     "shell.execute_reply": "2022-05-04T14:02:56.635375Z",
     "shell.execute_reply.started": "2022-05-04T13:45:28.692020Z"
    },
    "papermill": {
     "duration": 2.199499,
     "end_time": "2022-05-04T14:02:56.635561",
     "exception": false,
     "start_time": "2022-05-04T14:02:54.436062",
     "status": "completed"
    },
    "tags": []
   },
   "outputs": [
    {
     "data": {
      "text/html": [
       "<style>#sk-container-id-3 {color: black;background-color: white;}#sk-container-id-3 pre{padding: 0;}#sk-container-id-3 div.sk-toggleable {background-color: white;}#sk-container-id-3 label.sk-toggleable__label {cursor: pointer;display: block;width: 100%;margin-bottom: 0;padding: 0.3em;box-sizing: border-box;text-align: center;}#sk-container-id-3 label.sk-toggleable__label-arrow:before {content: \"▸\";float: left;margin-right: 0.25em;color: #696969;}#sk-container-id-3 label.sk-toggleable__label-arrow:hover:before {color: black;}#sk-container-id-3 div.sk-estimator:hover label.sk-toggleable__label-arrow:before {color: black;}#sk-container-id-3 div.sk-toggleable__content {max-height: 0;max-width: 0;overflow: hidden;text-align: left;background-color: #f0f8ff;}#sk-container-id-3 div.sk-toggleable__content pre {margin: 0.2em;color: black;border-radius: 0.25em;background-color: #f0f8ff;}#sk-container-id-3 input.sk-toggleable__control:checked~div.sk-toggleable__content {max-height: 200px;max-width: 100%;overflow: auto;}#sk-container-id-3 input.sk-toggleable__control:checked~label.sk-toggleable__label-arrow:before {content: \"▾\";}#sk-container-id-3 div.sk-estimator input.sk-toggleable__control:checked~label.sk-toggleable__label {background-color: #d4ebff;}#sk-container-id-3 div.sk-label input.sk-toggleable__control:checked~label.sk-toggleable__label {background-color: #d4ebff;}#sk-container-id-3 input.sk-hidden--visually {border: 0;clip: rect(1px 1px 1px 1px);clip: rect(1px, 1px, 1px, 1px);height: 1px;margin: -1px;overflow: hidden;padding: 0;position: absolute;width: 1px;}#sk-container-id-3 div.sk-estimator {font-family: monospace;background-color: #f0f8ff;border: 1px dotted black;border-radius: 0.25em;box-sizing: border-box;margin-bottom: 0.5em;}#sk-container-id-3 div.sk-estimator:hover {background-color: #d4ebff;}#sk-container-id-3 div.sk-parallel-item::after {content: \"\";width: 100%;border-bottom: 1px solid gray;flex-grow: 1;}#sk-container-id-3 div.sk-label:hover label.sk-toggleable__label {background-color: #d4ebff;}#sk-container-id-3 div.sk-serial::before {content: \"\";position: absolute;border-left: 1px solid gray;box-sizing: border-box;top: 0;bottom: 0;left: 50%;z-index: 0;}#sk-container-id-3 div.sk-serial {display: flex;flex-direction: column;align-items: center;background-color: white;padding-right: 0.2em;padding-left: 0.2em;position: relative;}#sk-container-id-3 div.sk-item {position: relative;z-index: 1;}#sk-container-id-3 div.sk-parallel {display: flex;align-items: stretch;justify-content: center;background-color: white;position: relative;}#sk-container-id-3 div.sk-item::before, #sk-container-id-3 div.sk-parallel-item::before {content: \"\";position: absolute;border-left: 1px solid gray;box-sizing: border-box;top: 0;bottom: 0;left: 50%;z-index: -1;}#sk-container-id-3 div.sk-parallel-item {display: flex;flex-direction: column;z-index: 1;position: relative;background-color: white;}#sk-container-id-3 div.sk-parallel-item:first-child::after {align-self: flex-end;width: 50%;}#sk-container-id-3 div.sk-parallel-item:last-child::after {align-self: flex-start;width: 50%;}#sk-container-id-3 div.sk-parallel-item:only-child::after {width: 0;}#sk-container-id-3 div.sk-dashed-wrapped {border: 1px dashed gray;margin: 0 0.4em 0.5em 0.4em;box-sizing: border-box;padding-bottom: 0.4em;background-color: white;}#sk-container-id-3 div.sk-label label {font-family: monospace;font-weight: bold;display: inline-block;line-height: 1.2em;}#sk-container-id-3 div.sk-label-container {text-align: center;}#sk-container-id-3 div.sk-container {/* jupyter's `normalize.less` sets `[hidden] { display: none; }` but bootstrap.min.css set `[hidden] { display: none !important; }` so we also need the `!important` here to be able to override the default hidden behavior on the sphinx rendered scikit-learn.org. See: https://github.com/scikit-learn/scikit-learn/issues/21755 */display: inline-block !important;position: relative;}#sk-container-id-3 div.sk-text-repr-fallback {display: none;}</style><div id=\"sk-container-id-3\" class=\"sk-top-container\"><div class=\"sk-text-repr-fallback\"><pre>RandomForestRegressor(max_depth=20, max_features=&#x27;sqrt&#x27;, n_estimators=1000,\n",
       "                      random_state=42)</pre><b>In a Jupyter environment, please rerun this cell to show the HTML representation or trust the notebook. <br />On GitHub, the HTML representation is unable to render, please try loading this page with nbviewer.org.</b></div><div class=\"sk-container\" hidden><div class=\"sk-item\"><div class=\"sk-estimator sk-toggleable\"><input class=\"sk-toggleable__control sk-hidden--visually\" id=\"sk-estimator-id-5\" type=\"checkbox\" checked><label for=\"sk-estimator-id-5\" class=\"sk-toggleable__label sk-toggleable__label-arrow\">RandomForestRegressor</label><div class=\"sk-toggleable__content\"><pre>RandomForestRegressor(max_depth=20, max_features=&#x27;sqrt&#x27;, n_estimators=1000,\n",
       "                      random_state=42)</pre></div></div></div></div></div>"
      ],
      "text/plain": [
       "RandomForestRegressor(max_depth=20, max_features='sqrt', n_estimators=1000,\n",
       "                      random_state=42)"
      ]
     },
     "execution_count": 12,
     "metadata": {},
     "output_type": "execute_result"
    }
   ],
   "source": [
    "## PARAMETERS FOR MODEL - RANDOM FOREST\n",
    "\n",
    "# Instantiate model with 1000 decision trees\n",
    "rf_ran = RandomForestRegressor(n_estimators = 1000, random_state = 42, min_samples_split=2,\n",
    "                          min_samples_leaf=1,max_features='sqrt',max_depth=20, bootstrap=True )\n",
    "# Train the model on training data\n",
    "rf_ran.fit(X_train, Y_train)"
   ]
  },
  {
   "cell_type": "code",
   "execution_count": 13,
   "id": "ca11a73a",
   "metadata": {
    "execution": {
     "iopub.execute_input": "2022-05-04T14:02:56.706989Z",
     "iopub.status.busy": "2022-05-04T14:02:56.706300Z",
     "iopub.status.idle": "2022-05-04T14:02:56.800073Z",
     "shell.execute_reply": "2022-05-04T14:02:56.799501Z",
     "shell.execute_reply.started": "2022-05-04T13:45:39.398999Z"
    },
    "papermill": {
     "duration": 0.131317,
     "end_time": "2022-05-04T14:02:56.800221",
     "exception": false,
     "start_time": "2022-05-04T14:02:56.668904",
     "status": "completed"
    },
    "tags": []
   },
   "outputs": [],
   "source": [
    "##DEFINING ORIGINAL Y-VALUES AND PREDICTED Y-VALUES (FOR TESTING DATASET)\n",
    "expected_y_random_search  = Y_test\n",
    "predicted_y_random_search = rf_ran.predict(X_test) #Predicting the test set results using the random forest regressor model\n",
    "\n",
    "##DEFINING ORIGINAL Y-VALUES AND PREDICTED Y-VALUES (FOR TRAINING DATASET)\n",
    "expected_y_train_random_search = Y_train\n",
    "predicted_y_train_random_search = rf_ran.predict(X_train)\n"
   ]
  },
  {
   "cell_type": "code",
   "execution_count": 14,
   "id": "fd6046f2",
   "metadata": {
    "execution": {
     "iopub.execute_input": "2022-05-04T14:02:57.062498Z",
     "iopub.status.busy": "2022-05-04T14:02:57.061879Z",
     "iopub.status.idle": "2022-05-04T14:02:57.069475Z",
     "shell.execute_reply": "2022-05-04T14:02:57.070046Z",
     "shell.execute_reply.started": "2022-05-04T13:45:42.706642Z"
    },
    "papermill": {
     "duration": 0.044329,
     "end_time": "2022-05-04T14:02:57.070213",
     "exception": false,
     "start_time": "2022-05-04T14:02:57.025884",
     "status": "completed"
    },
    "tags": []
   },
   "outputs": [
    {
     "name": "stdout",
     "output_type": "stream",
     "text": [
      "training rmse:  2.449464469889641\n",
      "testing rmse:  7.69057051056565\n",
      "R2 score training data:  0.962151885557485\n",
      "R2 score testing data:  0.6767764389749336\n",
      "MAE training data:  1.7246744833069334\n",
      "MAE testing data:  5.521301851678924\n"
     ]
    }
   ],
   "source": [
    "## RMSE - TRAIN\n",
    "def rmse(predictions, targets):\n",
    "    return np.sqrt(((predictions - targets) ** 2).mean())\n",
    "\n",
    "print(\"training rmse: \", rmse(predicted_y_train_random_search, expected_y_train_random_search))\n",
    "print(\"testing rmse: \", rmse(predicted_y_random_search, expected_y_random_search))\n",
    "\n",
    "## R2\n",
    "print(\"R2 score training data: \", r2_score(expected_y_train_random_search, predicted_y_train_random_search))\n",
    "print(\"R2 score testing data: \", r2_score(expected_y_random_search, predicted_y_random_search))\n",
    "\n",
    "## MEAN ABSOLUTE ERROR \n",
    "print(\"MAE training data: \", mean_absolute_error(expected_y_train_random_search, predicted_y_train_random_search))\n",
    "print(\"MAE testing data: \", mean_absolute_error(expected_y_random_search, predicted_y_random_search))"
   ]
  },
  {
   "cell_type": "code",
   "execution_count": 15,
   "id": "8dd93bef",
   "metadata": {
    "execution": {
     "iopub.execute_input": "2022-05-04T14:02:57.303521Z",
     "iopub.status.busy": "2022-05-04T14:02:57.302820Z",
     "iopub.status.idle": "2022-05-04T14:02:57.305189Z",
     "shell.execute_reply": "2022-05-04T14:02:57.305702Z",
     "shell.execute_reply.started": "2022-05-04T13:47:27.641019Z"
    },
    "papermill": {
     "duration": 0.043522,
     "end_time": "2022-05-04T14:02:57.305866",
     "exception": false,
     "start_time": "2022-05-04T14:02:57.262344",
     "status": "completed"
    },
    "tags": []
   },
   "outputs": [],
   "source": [
    "\n",
    "# Create the parameter grid based on the results of random search \n",
    "param_grid = {\n",
    "    'bootstrap': [True],\n",
    "    'max_depth': [80, 90, 100, 110],\n",
    "    'max_features': [2, 3],\n",
    "    'min_samples_leaf': [3, 4, 5],\n",
    "    'min_samples_split': [8, 10, 12],\n",
    "    'n_estimators': [100, 200, 300, 1000]\n",
    "}\n",
    "# Create a based model\n",
    "rf = RandomForestRegressor()\n",
    "# Instantiate the grid search model\n",
    "grid_search = GridSearchCV(estimator = rf, param_grid = param_grid, \n",
    "                          cv = 3, n_jobs = -1, verbose = 2)"
   ]
  },
  {
   "cell_type": "code",
   "execution_count": 16,
   "id": "417449bb",
   "metadata": {
    "execution": {
     "iopub.execute_input": "2022-05-04T14:02:57.378247Z",
     "iopub.status.busy": "2022-05-04T14:02:57.377278Z",
     "iopub.status.idle": "2022-05-04T14:07:09.678296Z",
     "shell.execute_reply": "2022-05-04T14:07:09.677740Z",
     "shell.execute_reply.started": "2022-05-04T13:47:31.279319Z"
    },
    "papermill": {
     "duration": 252.338299,
     "end_time": "2022-05-04T14:07:09.678439",
     "exception": false,
     "start_time": "2022-05-04T14:02:57.340140",
     "status": "completed"
    },
    "tags": []
   },
   "outputs": [
    {
     "name": "stdout",
     "output_type": "stream",
     "text": [
      "Fitting 3 folds for each of 288 candidates, totalling 864 fits\n"
     ]
    },
    {
     "data": {
      "text/plain": [
       "{'bootstrap': True,\n",
       " 'max_depth': 100,\n",
       " 'max_features': 3,\n",
       " 'min_samples_leaf': 4,\n",
       " 'min_samples_split': 12,\n",
       " 'n_estimators': 100}"
      ]
     },
     "execution_count": 16,
     "metadata": {},
     "output_type": "execute_result"
    }
   ],
   "source": [
    "# Fit the grid search to the data\n",
    "grid_search.fit(X_train, Y_train)\n",
    "grid_search.best_params_\n"
   ]
  },
  {
   "cell_type": "code",
   "execution_count": 17,
   "id": "5f324f8b",
   "metadata": {
    "execution": {
     "iopub.execute_input": "2022-05-04T14:07:09.755461Z",
     "iopub.status.busy": "2022-05-04T14:07:09.754872Z",
     "iopub.status.idle": "2022-05-04T14:07:09.950385Z",
     "shell.execute_reply": "2022-05-04T14:07:09.949741Z",
     "shell.execute_reply.started": "2022-05-04T13:56:57.306276Z"
    },
    "papermill": {
     "duration": 0.234745,
     "end_time": "2022-05-04T14:07:09.950535",
     "exception": false,
     "start_time": "2022-05-04T14:07:09.715790",
     "status": "completed"
    },
    "tags": []
   },
   "outputs": [
    {
     "data": {
      "text/html": [
       "<style>#sk-container-id-4 {color: black;background-color: white;}#sk-container-id-4 pre{padding: 0;}#sk-container-id-4 div.sk-toggleable {background-color: white;}#sk-container-id-4 label.sk-toggleable__label {cursor: pointer;display: block;width: 100%;margin-bottom: 0;padding: 0.3em;box-sizing: border-box;text-align: center;}#sk-container-id-4 label.sk-toggleable__label-arrow:before {content: \"▸\";float: left;margin-right: 0.25em;color: #696969;}#sk-container-id-4 label.sk-toggleable__label-arrow:hover:before {color: black;}#sk-container-id-4 div.sk-estimator:hover label.sk-toggleable__label-arrow:before {color: black;}#sk-container-id-4 div.sk-toggleable__content {max-height: 0;max-width: 0;overflow: hidden;text-align: left;background-color: #f0f8ff;}#sk-container-id-4 div.sk-toggleable__content pre {margin: 0.2em;color: black;border-radius: 0.25em;background-color: #f0f8ff;}#sk-container-id-4 input.sk-toggleable__control:checked~div.sk-toggleable__content {max-height: 200px;max-width: 100%;overflow: auto;}#sk-container-id-4 input.sk-toggleable__control:checked~label.sk-toggleable__label-arrow:before {content: \"▾\";}#sk-container-id-4 div.sk-estimator input.sk-toggleable__control:checked~label.sk-toggleable__label {background-color: #d4ebff;}#sk-container-id-4 div.sk-label input.sk-toggleable__control:checked~label.sk-toggleable__label {background-color: #d4ebff;}#sk-container-id-4 input.sk-hidden--visually {border: 0;clip: rect(1px 1px 1px 1px);clip: rect(1px, 1px, 1px, 1px);height: 1px;margin: -1px;overflow: hidden;padding: 0;position: absolute;width: 1px;}#sk-container-id-4 div.sk-estimator {font-family: monospace;background-color: #f0f8ff;border: 1px dotted black;border-radius: 0.25em;box-sizing: border-box;margin-bottom: 0.5em;}#sk-container-id-4 div.sk-estimator:hover {background-color: #d4ebff;}#sk-container-id-4 div.sk-parallel-item::after {content: \"\";width: 100%;border-bottom: 1px solid gray;flex-grow: 1;}#sk-container-id-4 div.sk-label:hover label.sk-toggleable__label {background-color: #d4ebff;}#sk-container-id-4 div.sk-serial::before {content: \"\";position: absolute;border-left: 1px solid gray;box-sizing: border-box;top: 0;bottom: 0;left: 50%;z-index: 0;}#sk-container-id-4 div.sk-serial {display: flex;flex-direction: column;align-items: center;background-color: white;padding-right: 0.2em;padding-left: 0.2em;position: relative;}#sk-container-id-4 div.sk-item {position: relative;z-index: 1;}#sk-container-id-4 div.sk-parallel {display: flex;align-items: stretch;justify-content: center;background-color: white;position: relative;}#sk-container-id-4 div.sk-item::before, #sk-container-id-4 div.sk-parallel-item::before {content: \"\";position: absolute;border-left: 1px solid gray;box-sizing: border-box;top: 0;bottom: 0;left: 50%;z-index: -1;}#sk-container-id-4 div.sk-parallel-item {display: flex;flex-direction: column;z-index: 1;position: relative;background-color: white;}#sk-container-id-4 div.sk-parallel-item:first-child::after {align-self: flex-end;width: 50%;}#sk-container-id-4 div.sk-parallel-item:last-child::after {align-self: flex-start;width: 50%;}#sk-container-id-4 div.sk-parallel-item:only-child::after {width: 0;}#sk-container-id-4 div.sk-dashed-wrapped {border: 1px dashed gray;margin: 0 0.4em 0.5em 0.4em;box-sizing: border-box;padding-bottom: 0.4em;background-color: white;}#sk-container-id-4 div.sk-label label {font-family: monospace;font-weight: bold;display: inline-block;line-height: 1.2em;}#sk-container-id-4 div.sk-label-container {text-align: center;}#sk-container-id-4 div.sk-container {/* jupyter's `normalize.less` sets `[hidden] { display: none; }` but bootstrap.min.css set `[hidden] { display: none !important; }` so we also need the `!important` here to be able to override the default hidden behavior on the sphinx rendered scikit-learn.org. See: https://github.com/scikit-learn/scikit-learn/issues/21755 */display: inline-block !important;position: relative;}#sk-container-id-4 div.sk-text-repr-fallback {display: none;}</style><div id=\"sk-container-id-4\" class=\"sk-top-container\"><div class=\"sk-text-repr-fallback\"><pre>RandomForestRegressor(max_depth=90, max_features=2, min_samples_leaf=3,\n",
       "                      min_samples_split=10, random_state=42)</pre><b>In a Jupyter environment, please rerun this cell to show the HTML representation or trust the notebook. <br />On GitHub, the HTML representation is unable to render, please try loading this page with nbviewer.org.</b></div><div class=\"sk-container\" hidden><div class=\"sk-item\"><div class=\"sk-estimator sk-toggleable\"><input class=\"sk-toggleable__control sk-hidden--visually\" id=\"sk-estimator-id-6\" type=\"checkbox\" checked><label for=\"sk-estimator-id-6\" class=\"sk-toggleable__label sk-toggleable__label-arrow\">RandomForestRegressor</label><div class=\"sk-toggleable__content\"><pre>RandomForestRegressor(max_depth=90, max_features=2, min_samples_leaf=3,\n",
       "                      min_samples_split=10, random_state=42)</pre></div></div></div></div></div>"
      ],
      "text/plain": [
       "RandomForestRegressor(max_depth=90, max_features=2, min_samples_leaf=3,\n",
       "                      min_samples_split=10, random_state=42)"
      ]
     },
     "execution_count": 17,
     "metadata": {},
     "output_type": "execute_result"
    }
   ],
   "source": [
    "## PARAMETERS FOR MODEL - RANDOM FOREST\n",
    "\n",
    "# Instantiate model with 1000 decision trees\n",
    "rf_grid = RandomForestRegressor(n_estimators = 100, random_state = 42, min_samples_split=10,\n",
    "                          min_samples_leaf=3,max_features=2,max_depth=90, bootstrap=True )\n",
    "# Train the model on training data\n",
    "rf_grid.fit(X_train, Y_train)"
   ]
  },
  {
   "cell_type": "code",
   "execution_count": 18,
   "id": "48dbedd7",
   "metadata": {
    "execution": {
     "iopub.execute_input": "2022-05-04T14:07:10.033638Z",
     "iopub.status.busy": "2022-05-04T14:07:10.032980Z",
     "iopub.status.idle": "2022-05-04T14:07:10.043944Z",
     "shell.execute_reply": "2022-05-04T14:07:10.043264Z",
     "shell.execute_reply.started": "2022-05-04T13:56:59.577817Z"
    },
    "papermill": {
     "duration": 0.056006,
     "end_time": "2022-05-04T14:07:10.044097",
     "exception": false,
     "start_time": "2022-05-04T14:07:09.988091",
     "status": "completed"
    },
    "tags": []
   },
   "outputs": [],
   "source": [
    "##DEFINING ORIGINAL Y-VALUES AND PREDICTED Y-VALUES (FOR TESTING DATASET)\n",
    "expected_ygrid  = Y_test\n",
    "predicted_ygrid = rf_grid.predict(X_test) #Predicting the test set results using the random forest regressor model\n",
    "\n",
    "##DEFINING ORIGINAL Y-VALUES AND PREDICTED Y-VALUES (FOR TRAINING DATASET)\n",
    "\n",
    "expected_y_train_grid = Y_train\n",
    "predicted_y_train_grid = rf_grid.predict(X_train)"
   ]
  },
  {
   "cell_type": "code",
   "execution_count": 19,
   "id": "1b673c31",
   "metadata": {
    "execution": {
     "iopub.execute_input": "2022-05-04T14:07:10.301204Z",
     "iopub.status.busy": "2022-05-04T14:07:10.300298Z",
     "iopub.status.idle": "2022-05-04T14:07:10.307472Z",
     "shell.execute_reply": "2022-05-04T14:07:10.308033Z",
     "shell.execute_reply.started": "2022-05-04T13:57:26.734778Z"
    },
    "papermill": {
     "duration": 0.047761,
     "end_time": "2022-05-04T14:07:10.308202",
     "exception": false,
     "start_time": "2022-05-04T14:07:10.260441",
     "status": "completed"
    },
    "tags": []
   },
   "outputs": [
    {
     "name": "stdout",
     "output_type": "stream",
     "text": [
      "training rmse:  4.7577883010195245\n",
      "testing rmse:  7.920889932055933\n",
      "R2 score training data:  0.8572052672936962\n",
      "R2 score testing data:  0.6571265551072208\n",
      "MAE training data:  3.311925141991743\n",
      "MAE testing data:  5.70080649577189\n"
     ]
    }
   ],
   "source": [
    "##RMSE\n",
    "def rmse(predictions, targets):\n",
    "    return np.sqrt(((predictions - targets) ** 2).mean())\n",
    "\n",
    "print(\"training rmse: \", rmse(predicted_y_train_grid, expected_y_train_grid))\n",
    "print(\"testing rmse: \", rmse(predicted_ygrid, Y_test))\n",
    "\n",
    "##R2\n",
    "print(\"R2 score training data: \", r2_score(expected_y_train_grid, predicted_y_train_grid))\n",
    "print(\"R2 score testing data: \", r2_score(Y_test, predicted_ygrid))\n",
    "\n",
    "##MEAN ABSOLUTE ERROR \n",
    "print(\"MAE training data: \", mean_absolute_error(expected_y_train_grid, predicted_y_train_grid))\n",
    "print(\"MAE testing data: \", mean_absolute_error(expected_ygrid, predicted_ygrid))"
   ]
  }
 ],
 "metadata": {
  "kernelspec": {
   "display_name": "python testing environment",
   "language": "python",
   "name": "venv"
  },
  "language_info": {
   "codemirror_mode": {
    "name": "ipython",
    "version": 3
   },
   "file_extension": ".py",
   "mimetype": "text/x-python",
   "name": "python",
   "nbconvert_exporter": "python",
   "pygments_lexer": "ipython3",
   "version": "3.9.13"
  },
  "papermill": {
   "default_parameters": {},
   "duration": 541.888603,
   "end_time": "2022-05-04T14:07:11.784311",
   "environment_variables": {},
   "exception": null,
   "input_path": "__notebook__.ipynb",
   "output_path": "__notebook__.ipynb",
   "parameters": {},
   "start_time": "2022-05-04T13:58:09.895708",
   "version": "2.3.3"
  }
 },
 "nbformat": 4,
 "nbformat_minor": 5
}
