{
 "cells": [
  {
   "cell_type": "code",
   "execution_count": 1,
   "id": "2360bb21",
   "metadata": {
    "_cell_guid": "b1076dfc-b9ad-4769-8c92-a6c4dae69d19",
    "_uuid": "8f2839f25d086af736a60e9eeb907d3b93b6e0e5",
    "execution": {
     "iopub.execute_input": "2022-05-05T12:44:54.581537Z",
     "iopub.status.busy": "2022-05-05T12:44:54.580350Z",
     "iopub.status.idle": "2022-05-05T12:44:54.602637Z",
     "shell.execute_reply": "2022-05-05T12:44:54.603170Z",
     "shell.execute_reply.started": "2022-05-05T12:34:13.098516Z"
    },
    "papermill": {
     "duration": 0.039439,
     "end_time": "2022-05-05T12:44:54.603515",
     "exception": false,
     "start_time": "2022-05-05T12:44:54.564076",
     "status": "completed"
    },
    "tags": []
   },
   "outputs": [
    {
     "name": "stdout",
     "output_type": "stream",
     "text": [
      "/kaggle/input/dataset-lowest-aic452022/dataset_lowestAIC_longlat.csv\n",
      "/kaggle/input/datasetlowestaic/dataset_lowestAIC.csv\n",
      "/kaggle/input/iterated-12preds/iterated_12vars.csv\n"
     ]
    }
   ],
   "source": [
    "#import necessary modules\n",
    "import numpy as np # linear algebra\n",
    "import pandas as pd # data processing, CSV file I/O (e.g. pd.read_csv)\n",
    "from sklearn.model_selection import train_test_split\n",
    "from sklearn.linear_model import Ridge, RidgeCV, Lasso, LassoCV\n",
    "from sklearn.model_selection import RepeatedKFold\n",
    "from sklearn.metrics import r2_score\n",
    "from sklearn.metrics import mean_absolute_error\n",
    "\n",
    "# files\n",
    "import os\n",
    "for dirname, _, filenames in os.walk('/kaggle/input'):\n",
    "    for filename in filenames:\n",
    "        print(os.path.join(dirname, filename))\n"
   ]
  },
  {
   "cell_type": "code",
   "execution_count": 2,
   "id": "e7f22aa0",
   "metadata": {
    "execution": {
     "iopub.execute_input": "2022-05-05T12:44:54.631656Z",
     "iopub.status.busy": "2022-05-05T12:44:54.630967Z",
     "iopub.status.idle": "2022-05-05T12:44:54.634295Z",
     "shell.execute_reply": "2022-05-05T12:44:54.634788Z"
    },
    "papermill": {
     "duration": 0.018674,
     "end_time": "2022-05-05T12:44:54.634966",
     "exception": false,
     "start_time": "2022-05-05T12:44:54.616292",
     "status": "completed"
    },
    "tags": []
   },
   "outputs": [],
   "source": [
    "##SOURCE: http://www.science.smith.edu/~jcrouser/SDS293/labs/lab10-py.html"
   ]
  },
  {
   "cell_type": "code",
   "execution_count": 3,
   "id": "a779ddc2",
   "metadata": {
    "execution": {
     "iopub.execute_input": "2022-05-05T12:44:54.663107Z",
     "iopub.status.busy": "2022-05-05T12:44:54.662148Z",
     "iopub.status.idle": "2022-05-05T12:44:54.774181Z",
     "shell.execute_reply": "2022-05-05T12:44:54.773492Z",
     "shell.execute_reply.started": "2022-05-05T12:34:36.876227Z"
    },
    "papermill": {
     "duration": 0.127092,
     "end_time": "2022-05-05T12:44:54.774326",
     "exception": false,
     "start_time": "2022-05-05T12:44:54.647234",
     "status": "completed"
    },
    "tags": []
   },
   "outputs": [],
   "source": [
    "#import dataset for modeling\n",
    "df = pd.read_csv(r'C:/Users/foeke/OneDrive/Documenten/submitting paper/All scripts - paper/data/GlobalModelData/PredictingDataset.csv', sep=',')\n",
    "df"
   ]
  },
  {
   "cell_type": "code",
   "execution_count": null,
   "id": "5926515c",
   "metadata": {},
   "outputs": [],
   "source": [
    "#remove unique idenifier & geodata\n",
    "df = df.drop(['Unnamed: 0', 'Longitude', 'Latitude'], axis=1)\n",
    "#replace NaN's with 0's\n",
    "df = df.fillna(0)\n",
    "\n",
    "y = df['mean_value_NO2']#specify target\n",
    "x = df.drop(['mean_value_NO2'], axis=1)#predictors\n",
    "feature_list = list(x.columns)\n",
    "\n",
    "##GENERATING CROSS VALIDATION (75% TRAINING OF MODEL; 25% TESTING OF MODEL;EVALUATING MODEL PERFORMANCE)\n",
    "\n",
    "X_train, X_test, Y_train, Y_test = train_test_split(x, y, test_size=0.25, random_state=20)\n",
    "#random state is needed to ensure that same results are generated each time.\n",
    "\n",
    "##ENSURING THAT X- AND Y-TRAINING SET CONTAIN SAME AMOUNT OF ROWS. SAME FOR TESTING.\n",
    "print('Training Features Shape:',X_train.shape)\n",
    "print('Training Labels Shape:', Y_train.shape)\n",
    "print('Testing Features Shape:', X_test.shape)\n",
    "print('Testing Labels Shape:', Y_test.shape)"
   ]
  },
  {
   "cell_type": "code",
   "execution_count": 8,
   "id": "82f93b15",
   "metadata": {
    "execution": {
     "iopub.execute_input": "2022-05-05T12:44:56.023094Z",
     "iopub.status.busy": "2022-05-05T12:44:56.022392Z",
     "iopub.status.idle": "2022-05-05T12:44:56.030241Z",
     "shell.execute_reply": "2022-05-05T12:44:56.030809Z",
     "shell.execute_reply.started": "2022-05-05T12:36:55.447119Z"
    },
    "papermill": {
     "duration": 0.024034,
     "end_time": "2022-05-05T12:44:56.030986",
     "exception": false,
     "start_time": "2022-05-05T12:44:56.006952",
     "status": "completed"
    },
    "tags": []
   },
   "outputs": [],
   "source": [
    "## == FINETUNING ALPHA == ##\n",
    "\n",
    "o = []\n",
    "def alp(g):\n",
    "    model_ridge = Ridge(alpha=g, normalize=True)\n",
    "    model_ridge.fit(X_train, Y_train)\n",
    "    predtrain= model_ridge.predict(X_train)\n",
    "    prediction_adjusted_alpha= model_ridge.predict(X_test)\n",
    "    \n",
    "    ##RMSE\n",
    "    print(g)\n",
    "\n",
    "    def rmse(predictions, targets):\n",
    "        return np.sqrt(((predictions - targets) ** 2).mean())\n",
    "\n",
    "    print(\"testing rmse: \", rmse(prediction_adjusted_alpha, Y_test))\n",
    "\n",
    "    ##R2\n",
    "    print(\"R2 score testing data: \", r2_score(Y_test, prediction_adjusted_alpha))\n",
    "\n",
    "    ##MEAN ABSOLUTE ERROR \n",
    "    print(\"MAE testing data: \", mean_absolute_error(Y_test, prediction_adjusted_alpha))"
   ]
  },
  {
   "cell_type": "code",
   "execution_count": 9,
   "id": "e9dba1b4",
   "metadata": {
    "execution": {
     "iopub.execute_input": "2022-05-05T12:44:56.059927Z",
     "iopub.status.busy": "2022-05-05T12:44:56.059253Z",
     "iopub.status.idle": "2022-05-05T12:44:56.362178Z",
     "shell.execute_reply": "2022-05-05T12:44:56.363271Z",
     "shell.execute_reply.started": "2022-05-05T12:37:34.476896Z"
    },
    "papermill": {
     "duration": 0.320098,
     "end_time": "2022-05-05T12:44:56.363603",
     "exception": false,
     "start_time": "2022-05-05T12:44:56.043505",
     "status": "completed"
    },
    "tags": []
   },
   "outputs": [
    {
     "name": "stdout",
     "output_type": "stream",
     "text": [
      "0.1\n",
      "testing rmse:  8.872044979884354\n",
      "R2 score testing data:  0.5698366913178774\n",
      "MAE testing data:  6.311794742501619\n",
      "0.2\n",
      "testing rmse:  8.862510003844855\n",
      "R2 score testing data:  0.5707608058402517\n",
      "MAE testing data:  6.323732701131643\n",
      "0.30000000000000004\n",
      "testing rmse:  8.860960745890774\n",
      "R2 score testing data:  0.5709108635802935\n",
      "MAE testing data:  6.337150876981456\n",
      "0.4\n",
      "testing rmse:  8.86534853534544\n",
      "R2 score testing data:  0.5704858038165342\n",
      "MAE testing data:  6.3510386047340885\n",
      "0.5\n",
      "testing rmse:  8.874365009729964\n",
      "R2 score testing data:  0.5696116874537733\n",
      "MAE testing data:  6.373593062384671\n",
      "0.6\n",
      "testing rmse:  8.88708961946601\n",
      "R2 score testing data:  0.5683765681874638\n",
      "MAE testing data:  6.399741176508758\n",
      "0.7000000000000001\n",
      "testing rmse:  8.902846169469385\n",
      "R2 score testing data:  0.5668446999668264\n",
      "MAE testing data:  6.427109429156619\n",
      "0.8\n",
      "testing rmse:  8.921118826795539\n",
      "R2 score testing data:  0.5650648150430547\n",
      "MAE testing data:  6.456982343641791\n",
      "0.9\n",
      "testing rmse:  8.941501358088532\n",
      "R2 score testing data:  0.5630751078239451\n",
      "MAE testing data:  6.486788215594986\n",
      "1.0\n",
      "testing rmse:  8.963665461073887\n",
      "R2 score testing data:  0.5609063331899838\n",
      "MAE testing data:  6.517712880567438\n"
     ]
    }
   ],
   "source": [
    "#examine performance results per alpha parameter\n",
    "\n",
    "o = np.arange(0.1, 1.1, 0.1)\n",
    "store = []\n",
    "for i in o:\n",
    "    alp(i)"
   ]
  },
  {
   "cell_type": "code",
   "execution_count": 10,
   "id": "4a684c85",
   "metadata": {
    "execution": {
     "iopub.execute_input": "2022-05-05T12:44:56.405138Z",
     "iopub.status.busy": "2022-05-05T12:44:56.404060Z",
     "iopub.status.idle": "2022-05-05T12:44:56.414955Z",
     "shell.execute_reply": "2022-05-05T12:44:56.415436Z",
     "shell.execute_reply.started": "2022-05-05T12:39:09.237653Z"
    },
    "papermill": {
     "duration": 0.032783,
     "end_time": "2022-05-05T12:44:56.415650",
     "exception": false,
     "start_time": "2022-05-05T12:44:56.382867",
     "status": "completed"
    },
    "tags": []
   },
   "outputs": [
    {
     "name": "stdout",
     "output_type": "stream",
     "text": [
      "nightlight_450             0.066879\n",
      "nightlight_3150            0.069768\n",
      "population_1000            0.000287\n",
      "population_3000            0.000048\n",
      "road_class_2_100           0.006716\n",
      "road_class_2_25            0.032623\n",
      "road_class_2_50            0.019107\n",
      "road_class_3_3000          0.000011\n",
      "road_class_3_300           0.000689\n",
      "trop_mean_filt_2019    77874.183155\n",
      "BldDen100                  3.439256\n",
      "trafBuf100                 0.003522\n",
      "dtype: float64\n"
     ]
    }
   ],
   "source": [
    "ridge_adjusted_alpha = Ridge(alpha = 0.3, normalize = True)\n",
    "ridge_adjusted_alpha.fit(X_train, Y_train) # Fit a ridge regression on the training data\n",
    "predtrain = ridge_adjusted_alpha.predict(X_train)\n",
    "prediction_adjusted_alpha = ridge_adjusted_alpha.predict(X_test)           # Use this model to predict the test data\n",
    "print(pd.Series(ridge_adjusted_alpha.coef_, index = x.columns)) # Print coefficients\n"
   ]
  },
  {
   "cell_type": "code",
   "execution_count": 11,
   "id": "d30fc3bb",
   "metadata": {
    "execution": {
     "iopub.execute_input": "2022-05-05T12:44:56.450631Z",
     "iopub.status.busy": "2022-05-05T12:44:56.449044Z",
     "iopub.status.idle": "2022-05-05T12:44:56.455464Z",
     "shell.execute_reply": "2022-05-05T12:44:56.456012Z",
     "shell.execute_reply.started": "2022-05-05T12:39:32.535786Z"
    },
    "papermill": {
     "duration": 0.027095,
     "end_time": "2022-05-05T12:44:56.456218",
     "exception": false,
     "start_time": "2022-05-05T12:44:56.429123",
     "status": "completed"
    },
    "tags": []
   },
   "outputs": [
    {
     "name": "stdout",
     "output_type": "stream",
     "text": [
      "training rmse:  6.484889544439325\n",
      "testing rmse:  8.860960745890774\n"
     ]
    }
   ],
   "source": [
    "##RMSE \n",
    "def rmse(predictions, targets):\n",
    "    return np.sqrt(((predictions - targets) ** 2).mean())\n",
    "\n",
    "print(\"training rmse: \", rmse(predtrain, Y_train))\n",
    "print(\"testing rmse: \", rmse(prediction_adjusted_alpha, Y_test))\n",
    "##R2\n",
    "print(\"R2 score training data: \", r2_score(Y_train, predtrain))\n",
    "print(\"R2 score testing data: \", r2_score(Y_test, prediction_adjusted_alpha))\n",
    "##MEAN ABSOLUTE ERROR \n",
    "print(\"MAE training data: \", mean_absolute_error(Y_train, predtrain))\n",
    "print(\"MAE testing data: \", mean_absolute_error(Y_test, prediction_adjusted_alpha))"
   ]
  }
 ],
 "metadata": {
  "kernelspec": {
   "display_name": "Python 3",
   "language": "python",
   "name": "python3"
  },
  "language_info": {
   "codemirror_mode": {
    "name": "ipython",
    "version": 3
   },
   "file_extension": ".py",
   "mimetype": "text/x-python",
   "name": "python",
   "nbconvert_exporter": "python",
   "pygments_lexer": "ipython3",
   "version": "3.7.10"
  },
  "papermill": {
   "default_parameters": {},
   "duration": 11.862644,
   "end_time": "2022-05-05T12:44:57.918126",
   "environment_variables": {},
   "exception": null,
   "input_path": "__notebook__.ipynb",
   "output_path": "__notebook__.ipynb",
   "parameters": {},
   "start_time": "2022-05-05T12:44:46.055482",
   "version": "2.3.3"
  }
 },
 "nbformat": 4,
 "nbformat_minor": 5
}
