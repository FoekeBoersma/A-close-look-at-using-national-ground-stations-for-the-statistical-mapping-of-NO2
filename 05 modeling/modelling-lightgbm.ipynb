{
 "cells": [
  {
   "cell_type": "code",
   "execution_count": 1,
   "id": "a97218e1",
   "metadata": {
    "_cell_guid": "b1076dfc-b9ad-4769-8c92-a6c4dae69d19",
    "_uuid": "8f2839f25d086af736a60e9eeb907d3b93b6e0e5",
    "execution": {
     "iopub.execute_input": "2022-05-05T13:01:35.770417Z",
     "iopub.status.busy": "2022-05-05T13:01:35.769649Z",
     "iopub.status.idle": "2022-05-05T13:01:35.806457Z",
     "shell.execute_reply": "2022-05-05T13:01:35.806946Z",
     "shell.execute_reply.started": "2022-05-04T14:17:36.141366Z"
    },
    "papermill": {
     "duration": 0.077715,
     "end_time": "2022-05-05T13:01:35.807249",
     "exception": false,
     "start_time": "2022-05-05T13:01:35.729534",
     "status": "completed"
    },
    "tags": []
   },
   "outputs": [],
   "source": [
    "# import necessary modules\n",
    "import numpy as np # linear algebra\n",
    "import pandas as pd # data processing, CSV file I/O (e.g. pd.read_csv)\n",
    "from sklearn.model_selection import train_test_split\n",
    "import lightgbm as lgb\n",
    "from sklearn.model_selection import RepeatedKFold\n",
    "from sklearn.metrics import r2_score\n",
    "from sklearn.metrics import mean_absolute_error\n",
    "from sklearn.model_selection import RandomizedSearchCV\n",
    "from pprint import pprint\n",
    "\n",
    "#files\n",
    "import os\n",
    "for dirname, _, filenames in os.walk('/kaggle/input'):\n",
    "    for filename in filenames:\n",
    "        print(os.path.join(dirname, filename))\n"
   ]
  },
  {
   "cell_type": "code",
   "execution_count": 2,
   "id": "9393b942",
   "metadata": {},
   "outputs": [
    {
     "data": {
      "text/html": [
       "<div>\n",
       "<style scoped>\n",
       "    .dataframe tbody tr th:only-of-type {\n",
       "        vertical-align: middle;\n",
       "    }\n",
       "\n",
       "    .dataframe tbody tr th {\n",
       "        vertical-align: top;\n",
       "    }\n",
       "\n",
       "    .dataframe thead th {\n",
       "        text-align: right;\n",
       "    }\n",
       "</style>\n",
       "<table border=\"1\" class=\"dataframe\">\n",
       "  <thead>\n",
       "    <tr style=\"text-align: right;\">\n",
       "      <th></th>\n",
       "      <th>Unnamed: 0</th>\n",
       "      <th>Longitude</th>\n",
       "      <th>Latitude</th>\n",
       "      <th>mean_value_NO2</th>\n",
       "      <th>nightlight_450</th>\n",
       "      <th>nightlight_3150</th>\n",
       "      <th>population_1000</th>\n",
       "      <th>population_3000</th>\n",
       "      <th>road_class_2_25</th>\n",
       "      <th>road_class_3_3000</th>\n",
       "      <th>road_class_3_300</th>\n",
       "      <th>trop_mean_filt_2019</th>\n",
       "      <th>BldDen100</th>\n",
       "      <th>NDVI</th>\n",
       "      <th>trafBuf25</th>\n",
       "      <th>trafBuf50</th>\n",
       "    </tr>\n",
       "  </thead>\n",
       "  <tbody>\n",
       "    <tr>\n",
       "      <th>0</th>\n",
       "      <td>0</td>\n",
       "      <td>10.008293</td>\n",
       "      <td>48.397079</td>\n",
       "      <td>29.250500</td>\n",
       "      <td>22.585377</td>\n",
       "      <td>13.402575</td>\n",
       "      <td>8123.319336</td>\n",
       "      <td>54316.64453</td>\n",
       "      <td>0.000000</td>\n",
       "      <td>203502.42190</td>\n",
       "      <td>4167.064941</td>\n",
       "      <td>0.000058</td>\n",
       "      <td>1.000663</td>\n",
       "      <td>2310.0</td>\n",
       "      <td>0.000000</td>\n",
       "      <td>0.000000</td>\n",
       "    </tr>\n",
       "    <tr>\n",
       "      <th>1</th>\n",
       "      <td>1</td>\n",
       "      <td>10.021227</td>\n",
       "      <td>53.523262</td>\n",
       "      <td>32.098936</td>\n",
       "      <td>23.546194</td>\n",
       "      <td>22.862799</td>\n",
       "      <td>9558.207031</td>\n",
       "      <td>76786.28125</td>\n",
       "      <td>0.000000</td>\n",
       "      <td>99596.04688</td>\n",
       "      <td>1850.278076</td>\n",
       "      <td>0.000081</td>\n",
       "      <td>0.978245</td>\n",
       "      <td>2518.0</td>\n",
       "      <td>0.000000</td>\n",
       "      <td>0.000000</td>\n",
       "    </tr>\n",
       "    <tr>\n",
       "      <th>2</th>\n",
       "      <td>2</td>\n",
       "      <td>10.053859</td>\n",
       "      <td>53.592301</td>\n",
       "      <td>58.703744</td>\n",
       "      <td>18.290140</td>\n",
       "      <td>16.493486</td>\n",
       "      <td>10471.541020</td>\n",
       "      <td>88439.60938</td>\n",
       "      <td>46.359188</td>\n",
       "      <td>265563.71880</td>\n",
       "      <td>2016.838379</td>\n",
       "      <td>0.000076</td>\n",
       "      <td>0.914638</td>\n",
       "      <td>3216.0</td>\n",
       "      <td>674.791667</td>\n",
       "      <td>674.791667</td>\n",
       "    </tr>\n",
       "    <tr>\n",
       "      <th>3</th>\n",
       "      <td>3</td>\n",
       "      <td>10.081685</td>\n",
       "      <td>53.529020</td>\n",
       "      <td>24.249276</td>\n",
       "      <td>23.645823</td>\n",
       "      <td>18.248226</td>\n",
       "      <td>11165.945310</td>\n",
       "      <td>76961.00000</td>\n",
       "      <td>0.000000</td>\n",
       "      <td>97921.56250</td>\n",
       "      <td>478.363281</td>\n",
       "      <td>0.000074</td>\n",
       "      <td>0.712983</td>\n",
       "      <td>1052.0</td>\n",
       "      <td>0.000000</td>\n",
       "      <td>0.000000</td>\n",
       "    </tr>\n",
       "    <tr>\n",
       "      <th>4</th>\n",
       "      <td>4</td>\n",
       "      <td>10.096292</td>\n",
       "      <td>48.847917</td>\n",
       "      <td>19.912116</td>\n",
       "      <td>14.026642</td>\n",
       "      <td>5.514785</td>\n",
       "      <td>6017.511230</td>\n",
       "      <td>30814.58984</td>\n",
       "      <td>0.000000</td>\n",
       "      <td>176265.68750</td>\n",
       "      <td>3338.221191</td>\n",
       "      <td>0.000047</td>\n",
       "      <td>1.000641</td>\n",
       "      <td>3240.0</td>\n",
       "      <td>0.000000</td>\n",
       "      <td>0.000000</td>\n",
       "    </tr>\n",
       "    <tr>\n",
       "      <th>...</th>\n",
       "      <td>...</td>\n",
       "      <td>...</td>\n",
       "      <td>...</td>\n",
       "      <td>...</td>\n",
       "      <td>...</td>\n",
       "      <td>...</td>\n",
       "      <td>...</td>\n",
       "      <td>...</td>\n",
       "      <td>...</td>\n",
       "      <td>...</td>\n",
       "      <td>...</td>\n",
       "      <td>...</td>\n",
       "      <td>...</td>\n",
       "      <td>...</td>\n",
       "      <td>...</td>\n",
       "      <td>...</td>\n",
       "    </tr>\n",
       "    <tr>\n",
       "      <th>477</th>\n",
       "      <td>477</td>\n",
       "      <td>9.979031</td>\n",
       "      <td>48.396836</td>\n",
       "      <td>27.221808</td>\n",
       "      <td>29.130899</td>\n",
       "      <td>12.865678</td>\n",
       "      <td>10829.854490</td>\n",
       "      <td>54732.38281</td>\n",
       "      <td>0.000000</td>\n",
       "      <td>198280.70310</td>\n",
       "      <td>3127.346436</td>\n",
       "      <td>0.000058</td>\n",
       "      <td>0.964609</td>\n",
       "      <td>2607.0</td>\n",
       "      <td>0.000000</td>\n",
       "      <td>0.000000</td>\n",
       "    </tr>\n",
       "    <tr>\n",
       "      <th>478</th>\n",
       "      <td>478</td>\n",
       "      <td>9.981599</td>\n",
       "      <td>53.529158</td>\n",
       "      <td>32.763475</td>\n",
       "      <td>33.719387</td>\n",
       "      <td>36.813637</td>\n",
       "      <td>9855.304688</td>\n",
       "      <td>83610.52344</td>\n",
       "      <td>0.000000</td>\n",
       "      <td>117941.50000</td>\n",
       "      <td>1480.759766</td>\n",
       "      <td>0.000088</td>\n",
       "      <td>1.000696</td>\n",
       "      <td>NaN</td>\n",
       "      <td>0.000000</td>\n",
       "      <td>0.000000</td>\n",
       "    </tr>\n",
       "    <tr>\n",
       "      <th>479</th>\n",
       "      <td>479</td>\n",
       "      <td>9.990569</td>\n",
       "      <td>53.507930</td>\n",
       "      <td>24.966811</td>\n",
       "      <td>17.919800</td>\n",
       "      <td>25.516184</td>\n",
       "      <td>9541.226562</td>\n",
       "      <td>76877.67188</td>\n",
       "      <td>0.000000</td>\n",
       "      <td>94117.64063</td>\n",
       "      <td>2670.007568</td>\n",
       "      <td>0.000082</td>\n",
       "      <td>0.485096</td>\n",
       "      <td>4338.0</td>\n",
       "      <td>0.000000</td>\n",
       "      <td>0.000000</td>\n",
       "    </tr>\n",
       "    <tr>\n",
       "      <th>480</th>\n",
       "      <td>480</td>\n",
       "      <td>9.997256</td>\n",
       "      <td>53.681993</td>\n",
       "      <td>39.256824</td>\n",
       "      <td>13.382681</td>\n",
       "      <td>7.228415</td>\n",
       "      <td>7302.048828</td>\n",
       "      <td>44593.98438</td>\n",
       "      <td>54.294807</td>\n",
       "      <td>171093.43750</td>\n",
       "      <td>2462.917969</td>\n",
       "      <td>0.000063</td>\n",
       "      <td>1.000694</td>\n",
       "      <td>4006.0</td>\n",
       "      <td>674.791667</td>\n",
       "      <td>674.791667</td>\n",
       "    </tr>\n",
       "    <tr>\n",
       "      <th>481</th>\n",
       "      <td>481</td>\n",
       "      <td>9.998009</td>\n",
       "      <td>53.638291</td>\n",
       "      <td>21.186826</td>\n",
       "      <td>29.135727</td>\n",
       "      <td>16.283918</td>\n",
       "      <td>5944.749023</td>\n",
       "      <td>59050.46094</td>\n",
       "      <td>0.000000</td>\n",
       "      <td>152820.17190</td>\n",
       "      <td>808.816833</td>\n",
       "      <td>0.000069</td>\n",
       "      <td>0.491190</td>\n",
       "      <td>3738.0</td>\n",
       "      <td>0.000000</td>\n",
       "      <td>0.000000</td>\n",
       "    </tr>\n",
       "  </tbody>\n",
       "</table>\n",
       "<p>482 rows × 16 columns</p>\n",
       "</div>"
      ],
      "text/plain": [
       "     Unnamed: 0  Longitude   Latitude  mean_value_NO2  nightlight_450   \n",
       "0             0  10.008293  48.397079       29.250500       22.585377  \\\n",
       "1             1  10.021227  53.523262       32.098936       23.546194   \n",
       "2             2  10.053859  53.592301       58.703744       18.290140   \n",
       "3             3  10.081685  53.529020       24.249276       23.645823   \n",
       "4             4  10.096292  48.847917       19.912116       14.026642   \n",
       "..          ...        ...        ...             ...             ...   \n",
       "477         477   9.979031  48.396836       27.221808       29.130899   \n",
       "478         478   9.981599  53.529158       32.763475       33.719387   \n",
       "479         479   9.990569  53.507930       24.966811       17.919800   \n",
       "480         480   9.997256  53.681993       39.256824       13.382681   \n",
       "481         481   9.998009  53.638291       21.186826       29.135727   \n",
       "\n",
       "     nightlight_3150  population_1000  population_3000  road_class_2_25   \n",
       "0          13.402575      8123.319336      54316.64453         0.000000  \\\n",
       "1          22.862799      9558.207031      76786.28125         0.000000   \n",
       "2          16.493486     10471.541020      88439.60938        46.359188   \n",
       "3          18.248226     11165.945310      76961.00000         0.000000   \n",
       "4           5.514785      6017.511230      30814.58984         0.000000   \n",
       "..               ...              ...              ...              ...   \n",
       "477        12.865678     10829.854490      54732.38281         0.000000   \n",
       "478        36.813637      9855.304688      83610.52344         0.000000   \n",
       "479        25.516184      9541.226562      76877.67188         0.000000   \n",
       "480         7.228415      7302.048828      44593.98438        54.294807   \n",
       "481        16.283918      5944.749023      59050.46094         0.000000   \n",
       "\n",
       "     road_class_3_3000  road_class_3_300  trop_mean_filt_2019  BldDen100   \n",
       "0         203502.42190       4167.064941             0.000058   1.000663  \\\n",
       "1          99596.04688       1850.278076             0.000081   0.978245   \n",
       "2         265563.71880       2016.838379             0.000076   0.914638   \n",
       "3          97921.56250        478.363281             0.000074   0.712983   \n",
       "4         176265.68750       3338.221191             0.000047   1.000641   \n",
       "..                 ...               ...                  ...        ...   \n",
       "477       198280.70310       3127.346436             0.000058   0.964609   \n",
       "478       117941.50000       1480.759766             0.000088   1.000696   \n",
       "479        94117.64063       2670.007568             0.000082   0.485096   \n",
       "480       171093.43750       2462.917969             0.000063   1.000694   \n",
       "481       152820.17190        808.816833             0.000069   0.491190   \n",
       "\n",
       "       NDVI   trafBuf25   trafBuf50  \n",
       "0    2310.0    0.000000    0.000000  \n",
       "1    2518.0    0.000000    0.000000  \n",
       "2    3216.0  674.791667  674.791667  \n",
       "3    1052.0    0.000000    0.000000  \n",
       "4    3240.0    0.000000    0.000000  \n",
       "..      ...         ...         ...  \n",
       "477  2607.0    0.000000    0.000000  \n",
       "478     NaN    0.000000    0.000000  \n",
       "479  4338.0    0.000000    0.000000  \n",
       "480  4006.0  674.791667  674.791667  \n",
       "481  3738.0    0.000000    0.000000  \n",
       "\n",
       "[482 rows x 16 columns]"
      ]
     },
     "execution_count": 2,
     "metadata": {},
     "output_type": "execute_result"
    }
   ],
   "source": [
    "#import dataset for modeling\n",
    "df = pd.read_csv(r'C:/Users/foeke/OneDrive/Documenten/submitting paper/All scripts - paper/data/GlobalModelData/PredictingDataset.csv', sep=',')\n",
    "df"
   ]
  },
  {
   "cell_type": "code",
   "execution_count": 3,
   "id": "3c665f56",
   "metadata": {
    "execution": {
     "iopub.execute_input": "2022-05-05T13:01:35.870338Z",
     "iopub.status.busy": "2022-05-05T13:01:35.869568Z",
     "iopub.status.idle": "2022-05-05T13:01:35.974829Z",
     "shell.execute_reply": "2022-05-05T13:01:35.975313Z",
     "shell.execute_reply.started": "2022-05-04T14:17:38.808068Z"
    },
    "papermill": {
     "duration": 0.138948,
     "end_time": "2022-05-05T13:01:35.975498",
     "exception": false,
     "start_time": "2022-05-05T13:01:35.836550",
     "status": "completed"
    },
    "tags": []
   },
   "outputs": [
    {
     "name": "stdout",
     "output_type": "stream",
     "text": [
      "Training Features Shape: (361, 12)\n",
      "Training Labels Shape: (361,)\n",
      "Testing Features Shape: (121, 12)\n",
      "Testing Labels Shape: (121,)\n"
     ]
    }
   ],
   "source": [
    "#remove unique idenifier & geodata\n",
    "df = df.drop(['Unnamed: 0', 'Longitude', 'Latitude'], axis=1)\n",
    "#replace NaN's with 0's\n",
    "df = df.fillna(0)\n",
    "\n",
    "#initialize response- and predictor variables\n",
    "y = df['mean_value_NO2']\n",
    "x = df.drop(['mean_value_NO2'], axis=1)\n",
    "feature_list = list(x.columns)\n",
    "\n",
    "## == CONSTRUCTING LightGBM == ##\n",
    "# Import the model we are using\n",
    "\n",
    "##STEP GENERATING CROSS VALIDATION (75% TRAINING OF MODEL; \n",
    "        ##25% TESTING OF MODEL;EVALUATING MODEL PERFORMANCE)\n",
    "\n",
    "X_train, X_test, Y_train, Y_test = train_test_split(x, y, test_size=0.25, random_state=20)\n",
    "#random state is needed to ensure that same results are generated each time.\n",
    "\n",
    "## ENSURING THAT X- AND Y-TRAINING SET CONTAIN SAME AMOUNT OF ROWS. SAME FOR TESTING.\n",
    "print('Training Features Shape:',X_train.shape)\n",
    "print('Training Labels Shape:', Y_train.shape)\n",
    "print('Testing Features Shape:', X_test.shape)\n",
    "print('Testing Labels Shape:', Y_test.shape)"
   ]
  },
  {
   "cell_type": "code",
   "execution_count": 4,
   "id": "653aa186",
   "metadata": {
    "execution": {
     "iopub.execute_input": "2022-05-05T13:01:38.403573Z",
     "iopub.status.busy": "2022-05-05T13:01:38.402915Z",
     "iopub.status.idle": "2022-05-05T13:01:38.502963Z",
     "shell.execute_reply": "2022-05-05T13:01:38.503999Z",
     "shell.execute_reply.started": "2022-05-04T14:17:52.661514Z"
    },
    "papermill": {
     "duration": 0.137941,
     "end_time": "2022-05-05T13:01:38.504218",
     "exception": false,
     "start_time": "2022-05-05T13:01:38.366277",
     "status": "completed"
    },
    "tags": []
   },
   "outputs": [
    {
     "data": {
      "text/html": [
       "<style>#sk-container-id-1 {color: black;background-color: white;}#sk-container-id-1 pre{padding: 0;}#sk-container-id-1 div.sk-toggleable {background-color: white;}#sk-container-id-1 label.sk-toggleable__label {cursor: pointer;display: block;width: 100%;margin-bottom: 0;padding: 0.3em;box-sizing: border-box;text-align: center;}#sk-container-id-1 label.sk-toggleable__label-arrow:before {content: \"▸\";float: left;margin-right: 0.25em;color: #696969;}#sk-container-id-1 label.sk-toggleable__label-arrow:hover:before {color: black;}#sk-container-id-1 div.sk-estimator:hover label.sk-toggleable__label-arrow:before {color: black;}#sk-container-id-1 div.sk-toggleable__content {max-height: 0;max-width: 0;overflow: hidden;text-align: left;background-color: #f0f8ff;}#sk-container-id-1 div.sk-toggleable__content pre {margin: 0.2em;color: black;border-radius: 0.25em;background-color: #f0f8ff;}#sk-container-id-1 input.sk-toggleable__control:checked~div.sk-toggleable__content {max-height: 200px;max-width: 100%;overflow: auto;}#sk-container-id-1 input.sk-toggleable__control:checked~label.sk-toggleable__label-arrow:before {content: \"▾\";}#sk-container-id-1 div.sk-estimator input.sk-toggleable__control:checked~label.sk-toggleable__label {background-color: #d4ebff;}#sk-container-id-1 div.sk-label input.sk-toggleable__control:checked~label.sk-toggleable__label {background-color: #d4ebff;}#sk-container-id-1 input.sk-hidden--visually {border: 0;clip: rect(1px 1px 1px 1px);clip: rect(1px, 1px, 1px, 1px);height: 1px;margin: -1px;overflow: hidden;padding: 0;position: absolute;width: 1px;}#sk-container-id-1 div.sk-estimator {font-family: monospace;background-color: #f0f8ff;border: 1px dotted black;border-radius: 0.25em;box-sizing: border-box;margin-bottom: 0.5em;}#sk-container-id-1 div.sk-estimator:hover {background-color: #d4ebff;}#sk-container-id-1 div.sk-parallel-item::after {content: \"\";width: 100%;border-bottom: 1px solid gray;flex-grow: 1;}#sk-container-id-1 div.sk-label:hover label.sk-toggleable__label {background-color: #d4ebff;}#sk-container-id-1 div.sk-serial::before {content: \"\";position: absolute;border-left: 1px solid gray;box-sizing: border-box;top: 0;bottom: 0;left: 50%;z-index: 0;}#sk-container-id-1 div.sk-serial {display: flex;flex-direction: column;align-items: center;background-color: white;padding-right: 0.2em;padding-left: 0.2em;position: relative;}#sk-container-id-1 div.sk-item {position: relative;z-index: 1;}#sk-container-id-1 div.sk-parallel {display: flex;align-items: stretch;justify-content: center;background-color: white;position: relative;}#sk-container-id-1 div.sk-item::before, #sk-container-id-1 div.sk-parallel-item::before {content: \"\";position: absolute;border-left: 1px solid gray;box-sizing: border-box;top: 0;bottom: 0;left: 50%;z-index: -1;}#sk-container-id-1 div.sk-parallel-item {display: flex;flex-direction: column;z-index: 1;position: relative;background-color: white;}#sk-container-id-1 div.sk-parallel-item:first-child::after {align-self: flex-end;width: 50%;}#sk-container-id-1 div.sk-parallel-item:last-child::after {align-self: flex-start;width: 50%;}#sk-container-id-1 div.sk-parallel-item:only-child::after {width: 0;}#sk-container-id-1 div.sk-dashed-wrapped {border: 1px dashed gray;margin: 0 0.4em 0.5em 0.4em;box-sizing: border-box;padding-bottom: 0.4em;background-color: white;}#sk-container-id-1 div.sk-label label {font-family: monospace;font-weight: bold;display: inline-block;line-height: 1.2em;}#sk-container-id-1 div.sk-label-container {text-align: center;}#sk-container-id-1 div.sk-container {/* jupyter's `normalize.less` sets `[hidden] { display: none; }` but bootstrap.min.css set `[hidden] { display: none !important; }` so we also need the `!important` here to be able to override the default hidden behavior on the sphinx rendered scikit-learn.org. See: https://github.com/scikit-learn/scikit-learn/issues/21755 */display: inline-block !important;position: relative;}#sk-container-id-1 div.sk-text-repr-fallback {display: none;}</style><div id=\"sk-container-id-1\" class=\"sk-top-container\"><div class=\"sk-text-repr-fallback\"><pre>LGBMRegressor(random_state=42)</pre><b>In a Jupyter environment, please rerun this cell to show the HTML representation or trust the notebook. <br />On GitHub, the HTML representation is unable to render, please try loading this page with nbviewer.org.</b></div><div class=\"sk-container\" hidden><div class=\"sk-item\"><div class=\"sk-estimator sk-toggleable\"><input class=\"sk-toggleable__control sk-hidden--visually\" id=\"sk-estimator-id-1\" type=\"checkbox\" checked><label for=\"sk-estimator-id-1\" class=\"sk-toggleable__label sk-toggleable__label-arrow\">LGBMRegressor</label><div class=\"sk-toggleable__content\"><pre>LGBMRegressor(random_state=42)</pre></div></div></div></div></div>"
      ],
      "text/plain": [
       "LGBMRegressor(random_state=42)"
      ]
     },
     "execution_count": 4,
     "metadata": {},
     "output_type": "execute_result"
    }
   ],
   "source": [
    "\n",
    "## PARAMETERS FOR MODEL\n",
    "model = lgb.LGBMRegressor(random_state=42)\n",
    "model.fit(X_train, Y_train)"
   ]
  },
  {
   "cell_type": "code",
   "execution_count": 5,
   "id": "588452f6",
   "metadata": {
    "execution": {
     "iopub.execute_input": "2022-05-05T13:01:38.566115Z",
     "iopub.status.busy": "2022-05-05T13:01:38.565432Z",
     "iopub.status.idle": "2022-05-05T13:01:38.568403Z",
     "shell.execute_reply": "2022-05-05T13:01:38.568900Z",
     "shell.execute_reply.started": "2021-10-20T18:48:03.460695Z"
    },
    "papermill": {
     "duration": 0.03463,
     "end_time": "2022-05-05T13:01:38.569094",
     "exception": false,
     "start_time": "2022-05-05T13:01:38.534464",
     "status": "completed"
    },
    "tags": []
   },
   "outputs": [],
   "source": [
    "# ## PARAMETERS FOR MODEL\n",
    "# model = lgb.LGBMRegressor(reg_alpha =2, reg_lambda = 0, max_depth = 5, learning_rate = 0.002, n_estimators =2000, random_state=42)\n",
    "# model.fit(X_train, Y_train)"
   ]
  },
  {
   "cell_type": "code",
   "execution_count": 6,
   "id": "d2cf8390",
   "metadata": {
    "execution": {
     "iopub.execute_input": "2022-05-05T13:01:38.631194Z",
     "iopub.status.busy": "2022-05-05T13:01:38.630517Z",
     "iopub.status.idle": "2022-05-05T13:01:38.643164Z",
     "shell.execute_reply": "2022-05-05T13:01:38.643722Z",
     "shell.execute_reply.started": "2022-05-04T14:17:56.16389Z"
    },
    "papermill": {
     "duration": 0.044885,
     "end_time": "2022-05-05T13:01:38.643952",
     "exception": false,
     "start_time": "2022-05-05T13:01:38.599067",
     "status": "completed"
    },
    "tags": []
   },
   "outputs": [],
   "source": [
    "##DEFINING ORIGINAL Y-VALUES AND PREDICTED Y-VALUES\n",
    "expected_y  = Y_test\n",
    "predicted_y = model.predict(X_test)"
   ]
  },
  {
   "cell_type": "code",
   "execution_count": 7,
   "id": "00574b91",
   "metadata": {
    "execution": {
     "iopub.execute_input": "2022-05-05T13:01:38.709229Z",
     "iopub.status.busy": "2022-05-05T13:01:38.708579Z",
     "iopub.status.idle": "2022-05-05T13:01:38.715822Z",
     "shell.execute_reply": "2022-05-05T13:01:38.716507Z",
     "shell.execute_reply.started": "2022-05-04T14:17:57.808289Z"
    },
    "papermill": {
     "duration": 0.042287,
     "end_time": "2022-05-05T13:01:38.716730",
     "exception": false,
     "start_time": "2022-05-05T13:01:38.674443",
     "status": "completed"
    },
    "tags": []
   },
   "outputs": [],
   "source": [
    "expected_y_tr  = Y_train\n",
    "predicted_y_tr = model.predict(X_train)"
   ]
  },
  {
   "cell_type": "code",
   "execution_count": 8,
   "id": "007e9f54",
   "metadata": {
    "execution": {
     "iopub.execute_input": "2022-05-05T13:01:38.849242Z",
     "iopub.status.busy": "2022-05-05T13:01:38.848623Z",
     "iopub.status.idle": "2022-05-05T13:01:38.852257Z",
     "shell.execute_reply": "2022-05-05T13:01:38.852835Z",
     "shell.execute_reply.started": "2022-05-04T14:18:00.748237Z"
    },
    "papermill": {
     "duration": 0.038904,
     "end_time": "2022-05-05T13:01:38.852990",
     "exception": false,
     "start_time": "2022-05-05T13:01:38.814086",
     "status": "completed"
    },
    "tags": []
   },
   "outputs": [
    {
     "name": "stdout",
     "output_type": "stream",
     "text": [
      "RMSE training:  2.81478763743841\n",
      "RMSE testing:  7.628827143988592\n",
      "R2 score training:  0.950020347809771\n",
      "R2 score testing:  0.6819455741514758\n",
      "MAE training:  1.7822547276506615\n",
      "MAE testing:  5.493023883745601\n"
     ]
    }
   ],
   "source": [
    "## == EVALUATING PERFORMANCE OF LIGHTGBM MODEL == ##\n",
    "\n",
    "##RMSE\n",
    "\n",
    "def rmse(predictions, targets):\n",
    "    return np.sqrt(((predictions - targets) ** 2).mean())\n",
    "\n",
    "print('RMSE training: ',rmse(predicted_y_tr, expected_y_tr))\n",
    "print('RMSE testing: ', rmse(predicted_y, expected_y))\n",
    "\n",
    "## R2\n",
    "\n",
    "from sklearn.metrics import r2_score\n",
    "print('R2 score training: ', r2_score(expected_y_tr, predicted_y_tr))\n",
    "print('R2 score testing: ', r2_score(expected_y, predicted_y))\n",
    "\n",
    "##MEAN ABSOLUTE ERROR \n",
    "from sklearn.metrics import mean_absolute_error\n",
    "print('MAE training: ', mean_absolute_error(expected_y_tr, predicted_y_tr))\n",
    "print('MAE testing: ', mean_absolute_error(expected_y, predicted_y))"
   ]
  },
  {
   "cell_type": "code",
   "execution_count": 9,
   "id": "c753de0c",
   "metadata": {
    "execution": {
     "iopub.execute_input": "2022-05-05T13:01:39.057141Z",
     "iopub.status.busy": "2022-05-05T13:01:39.056125Z",
     "iopub.status.idle": "2022-05-05T13:01:39.060316Z",
     "shell.execute_reply": "2022-05-05T13:01:39.064051Z",
     "shell.execute_reply.started": "2022-05-04T14:18:44.290598Z"
    },
    "papermill": {
     "duration": 0.043616,
     "end_time": "2022-05-05T13:01:39.064228",
     "exception": false,
     "start_time": "2022-05-05T13:01:39.020612",
     "status": "completed"
    },
    "tags": []
   },
   "outputs": [
    {
     "name": "stdout",
     "output_type": "stream",
     "text": [
      "Parameters currently in use:\n",
      "\n",
      "{'boosting_type': 'gbdt',\n",
      " 'class_weight': None,\n",
      " 'colsample_bytree': 1.0,\n",
      " 'importance_type': 'split',\n",
      " 'learning_rate': 0.1,\n",
      " 'max_depth': -1,\n",
      " 'min_child_samples': 20,\n",
      " 'min_child_weight': 0.001,\n",
      " 'min_split_gain': 0.0,\n",
      " 'n_estimators': 100,\n",
      " 'n_jobs': -1,\n",
      " 'num_leaves': 31,\n",
      " 'objective': None,\n",
      " 'random_state': 42,\n",
      " 'reg_alpha': 0.0,\n",
      " 'reg_lambda': 0.0,\n",
      " 'silent': 'warn',\n",
      " 'subsample': 1.0,\n",
      " 'subsample_for_bin': 200000,\n",
      " 'subsample_freq': 0}\n"
     ]
    }
   ],
   "source": [
    "#HYPERPARAMETER TUNING\n",
    "#VERIFYING CURRENT RANDOM FOREST HYPERPARAMETERS \n",
    "\n",
    "\n",
    "# Look at parameters used by our current forest\n",
    "print('Parameters currently in use:\\n')\n",
    "pprint(model.get_params())"
   ]
  },
  {
   "cell_type": "code",
   "execution_count": 10,
   "id": "4694323f",
   "metadata": {
    "execution": {
     "iopub.execute_input": "2022-05-05T13:01:39.127089Z",
     "iopub.status.busy": "2022-05-05T13:01:39.126393Z",
     "iopub.status.idle": "2022-05-05T13:01:39.142481Z",
     "shell.execute_reply": "2022-05-05T13:01:39.141957Z",
     "shell.execute_reply.started": "2022-05-04T14:18:53.275217Z"
    },
    "papermill": {
     "duration": 0.048534,
     "end_time": "2022-05-05T13:01:39.142614",
     "exception": false,
     "start_time": "2022-05-05T13:01:39.094080",
     "status": "completed"
    },
    "tags": []
   },
   "outputs": [
    {
     "name": "stdout",
     "output_type": "stream",
     "text": [
      "{'bootstrap': [True, False],\n",
      " 'max_depth': [10, 20, 30, 40, 50, 60, 70, 80, 90, 100, 110, None],\n",
      " 'max_features': ['auto', 'sqrt'],\n",
      " 'min_samples_leaf': [1, 2, 4],\n",
      " 'min_samples_split': [2, 5, 10],\n",
      " 'n_estimators': [200, 400, 600, 800, 1000, 1200, 1400, 1600, 1800, 2000]}\n"
     ]
    },
    {
     "data": {
      "text/plain": [
       "{'bootstrap': [True, False],\n",
       " 'max_depth': [10, 20, 30, 40, 50, 60, 70, 80, 90, 100, None],\n",
       " 'max_features': ['auto', 'sqrt'],\n",
       " 'min_samples_leaf': [1, 2, 4],\n",
       " 'min_samples_split': [2, 5, 10],\n",
       " 'n_estimators': [200, 400, 600, 800, 1000, 1200, 1400, 1600, 1800, 2000]}"
      ]
     },
     "execution_count": 10,
     "metadata": {},
     "output_type": "execute_result"
    }
   ],
   "source": [
    "#CREATE PARAMETER GRID\n",
    "\n",
    "# Number of trees in random forest\n",
    "n_estimators = [int(x) for x in np.linspace(start = 200, stop = 2000, num = 10)]\n",
    "# Number of features to consider at every split\n",
    "max_features = ['auto', 'sqrt']\n",
    "# Maximum number of levels in tree\n",
    "max_depth = [int(x) for x in np.linspace(10, 110, num = 11)]\n",
    "max_depth.append(None)\n",
    "# Minimum number of samples required to split a node\n",
    "min_samples_split = [2, 5, 10]\n",
    "# Minimum number of samples required at each leaf node\n",
    "min_samples_leaf = [1, 2, 4]\n",
    "# Method of selecting samples for training each tree\n",
    "bootstrap = [True, False]\n",
    "# Create the random grid\n",
    "random_grid = {'n_estimators': n_estimators,\n",
    "               'max_features': max_features,\n",
    "               'max_depth': max_depth,\n",
    "               'min_samples_split': min_samples_split,\n",
    "               'min_samples_leaf': min_samples_leaf,\n",
    "               'bootstrap': bootstrap}\n",
    "pprint(random_grid)\n",
    "{'bootstrap': [True, False],\n",
    " 'max_depth': [10, 20, 30, 40, 50, 60, 70, 80, 90, 100, None],\n",
    " 'max_features': ['auto', 'sqrt'],\n",
    " 'min_samples_leaf': [1, 2, 4],\n",
    " 'min_samples_split': [2, 5, 10],\n",
    " 'n_estimators': [200, 400, 600, 800, 1000, 1200, 1400, 1600, 1800, 2000]}"
   ]
  },
  {
   "cell_type": "code",
   "execution_count": 11,
   "id": "7a307318",
   "metadata": {
    "execution": {
     "iopub.execute_input": "2022-05-05T13:01:39.207152Z",
     "iopub.status.busy": "2022-05-05T13:01:39.206488Z",
     "iopub.status.idle": "2022-05-05T13:02:25.622544Z",
     "shell.execute_reply": "2022-05-05T13:02:25.620232Z",
     "shell.execute_reply.started": "2022-05-04T14:18:58.277265Z"
    },
    "papermill": {
     "duration": 46.449471,
     "end_time": "2022-05-05T13:02:25.622768",
     "exception": false,
     "start_time": "2022-05-05T13:01:39.173297",
     "status": "completed"
    },
    "tags": []
   },
   "outputs": [
    {
     "name": "stdout",
     "output_type": "stream",
     "text": [
      "Fitting 3 folds for each of 100 candidates, totalling 300 fits\n",
      "[LightGBM] [Warning] Unknown parameter: min_samples_split\n",
      "[LightGBM] [Warning] min_data_in_leaf is set with min_child_samples=20, will be overridden by min_samples_leaf=2. Current value: min_data_in_leaf=2\n",
      "[LightGBM] [Warning] Unknown parameter: max_features\n",
      "[LightGBM] [Warning] Unknown parameter: bootstrap\n"
     ]
    },
    {
     "data": {
      "text/html": [
       "<style>#sk-container-id-2 {color: black;background-color: white;}#sk-container-id-2 pre{padding: 0;}#sk-container-id-2 div.sk-toggleable {background-color: white;}#sk-container-id-2 label.sk-toggleable__label {cursor: pointer;display: block;width: 100%;margin-bottom: 0;padding: 0.3em;box-sizing: border-box;text-align: center;}#sk-container-id-2 label.sk-toggleable__label-arrow:before {content: \"▸\";float: left;margin-right: 0.25em;color: #696969;}#sk-container-id-2 label.sk-toggleable__label-arrow:hover:before {color: black;}#sk-container-id-2 div.sk-estimator:hover label.sk-toggleable__label-arrow:before {color: black;}#sk-container-id-2 div.sk-toggleable__content {max-height: 0;max-width: 0;overflow: hidden;text-align: left;background-color: #f0f8ff;}#sk-container-id-2 div.sk-toggleable__content pre {margin: 0.2em;color: black;border-radius: 0.25em;background-color: #f0f8ff;}#sk-container-id-2 input.sk-toggleable__control:checked~div.sk-toggleable__content {max-height: 200px;max-width: 100%;overflow: auto;}#sk-container-id-2 input.sk-toggleable__control:checked~label.sk-toggleable__label-arrow:before {content: \"▾\";}#sk-container-id-2 div.sk-estimator input.sk-toggleable__control:checked~label.sk-toggleable__label {background-color: #d4ebff;}#sk-container-id-2 div.sk-label input.sk-toggleable__control:checked~label.sk-toggleable__label {background-color: #d4ebff;}#sk-container-id-2 input.sk-hidden--visually {border: 0;clip: rect(1px 1px 1px 1px);clip: rect(1px, 1px, 1px, 1px);height: 1px;margin: -1px;overflow: hidden;padding: 0;position: absolute;width: 1px;}#sk-container-id-2 div.sk-estimator {font-family: monospace;background-color: #f0f8ff;border: 1px dotted black;border-radius: 0.25em;box-sizing: border-box;margin-bottom: 0.5em;}#sk-container-id-2 div.sk-estimator:hover {background-color: #d4ebff;}#sk-container-id-2 div.sk-parallel-item::after {content: \"\";width: 100%;border-bottom: 1px solid gray;flex-grow: 1;}#sk-container-id-2 div.sk-label:hover label.sk-toggleable__label {background-color: #d4ebff;}#sk-container-id-2 div.sk-serial::before {content: \"\";position: absolute;border-left: 1px solid gray;box-sizing: border-box;top: 0;bottom: 0;left: 50%;z-index: 0;}#sk-container-id-2 div.sk-serial {display: flex;flex-direction: column;align-items: center;background-color: white;padding-right: 0.2em;padding-left: 0.2em;position: relative;}#sk-container-id-2 div.sk-item {position: relative;z-index: 1;}#sk-container-id-2 div.sk-parallel {display: flex;align-items: stretch;justify-content: center;background-color: white;position: relative;}#sk-container-id-2 div.sk-item::before, #sk-container-id-2 div.sk-parallel-item::before {content: \"\";position: absolute;border-left: 1px solid gray;box-sizing: border-box;top: 0;bottom: 0;left: 50%;z-index: -1;}#sk-container-id-2 div.sk-parallel-item {display: flex;flex-direction: column;z-index: 1;position: relative;background-color: white;}#sk-container-id-2 div.sk-parallel-item:first-child::after {align-self: flex-end;width: 50%;}#sk-container-id-2 div.sk-parallel-item:last-child::after {align-self: flex-start;width: 50%;}#sk-container-id-2 div.sk-parallel-item:only-child::after {width: 0;}#sk-container-id-2 div.sk-dashed-wrapped {border: 1px dashed gray;margin: 0 0.4em 0.5em 0.4em;box-sizing: border-box;padding-bottom: 0.4em;background-color: white;}#sk-container-id-2 div.sk-label label {font-family: monospace;font-weight: bold;display: inline-block;line-height: 1.2em;}#sk-container-id-2 div.sk-label-container {text-align: center;}#sk-container-id-2 div.sk-container {/* jupyter's `normalize.less` sets `[hidden] { display: none; }` but bootstrap.min.css set `[hidden] { display: none !important; }` so we also need the `!important` here to be able to override the default hidden behavior on the sphinx rendered scikit-learn.org. See: https://github.com/scikit-learn/scikit-learn/issues/21755 */display: inline-block !important;position: relative;}#sk-container-id-2 div.sk-text-repr-fallback {display: none;}</style><div id=\"sk-container-id-2\" class=\"sk-top-container\"><div class=\"sk-text-repr-fallback\"><pre>RandomizedSearchCV(cv=3, estimator=LGBMRegressor(random_state=42), n_iter=100,\n",
       "                   n_jobs=-1,\n",
       "                   param_distributions={&#x27;bootstrap&#x27;: [True, False],\n",
       "                                        &#x27;max_depth&#x27;: [10, 20, 30, 40, 50, 60,\n",
       "                                                      70, 80, 90, 100, 110,\n",
       "                                                      None],\n",
       "                                        &#x27;max_features&#x27;: [&#x27;auto&#x27;, &#x27;sqrt&#x27;],\n",
       "                                        &#x27;min_samples_leaf&#x27;: [1, 2, 4],\n",
       "                                        &#x27;min_samples_split&#x27;: [2, 5, 10],\n",
       "                                        &#x27;n_estimators&#x27;: [200, 400, 600, 800,\n",
       "                                                         1000, 1200, 1400, 1600,\n",
       "                                                         1800, 2000]},\n",
       "                   random_state=42, verbose=2)</pre><b>In a Jupyter environment, please rerun this cell to show the HTML representation or trust the notebook. <br />On GitHub, the HTML representation is unable to render, please try loading this page with nbviewer.org.</b></div><div class=\"sk-container\" hidden><div class=\"sk-item sk-dashed-wrapped\"><div class=\"sk-label-container\"><div class=\"sk-label sk-toggleable\"><input class=\"sk-toggleable__control sk-hidden--visually\" id=\"sk-estimator-id-2\" type=\"checkbox\" ><label for=\"sk-estimator-id-2\" class=\"sk-toggleable__label sk-toggleable__label-arrow\">RandomizedSearchCV</label><div class=\"sk-toggleable__content\"><pre>RandomizedSearchCV(cv=3, estimator=LGBMRegressor(random_state=42), n_iter=100,\n",
       "                   n_jobs=-1,\n",
       "                   param_distributions={&#x27;bootstrap&#x27;: [True, False],\n",
       "                                        &#x27;max_depth&#x27;: [10, 20, 30, 40, 50, 60,\n",
       "                                                      70, 80, 90, 100, 110,\n",
       "                                                      None],\n",
       "                                        &#x27;max_features&#x27;: [&#x27;auto&#x27;, &#x27;sqrt&#x27;],\n",
       "                                        &#x27;min_samples_leaf&#x27;: [1, 2, 4],\n",
       "                                        &#x27;min_samples_split&#x27;: [2, 5, 10],\n",
       "                                        &#x27;n_estimators&#x27;: [200, 400, 600, 800,\n",
       "                                                         1000, 1200, 1400, 1600,\n",
       "                                                         1800, 2000]},\n",
       "                   random_state=42, verbose=2)</pre></div></div></div><div class=\"sk-parallel\"><div class=\"sk-parallel-item\"><div class=\"sk-item\"><div class=\"sk-label-container\"><div class=\"sk-label sk-toggleable\"><input class=\"sk-toggleable__control sk-hidden--visually\" id=\"sk-estimator-id-3\" type=\"checkbox\" ><label for=\"sk-estimator-id-3\" class=\"sk-toggleable__label sk-toggleable__label-arrow\">estimator: LGBMRegressor</label><div class=\"sk-toggleable__content\"><pre>LGBMRegressor(random_state=42)</pre></div></div></div><div class=\"sk-serial\"><div class=\"sk-item\"><div class=\"sk-estimator sk-toggleable\"><input class=\"sk-toggleable__control sk-hidden--visually\" id=\"sk-estimator-id-4\" type=\"checkbox\" ><label for=\"sk-estimator-id-4\" class=\"sk-toggleable__label sk-toggleable__label-arrow\">LGBMRegressor</label><div class=\"sk-toggleable__content\"><pre>LGBMRegressor(random_state=42)</pre></div></div></div></div></div></div></div></div></div></div>"
      ],
      "text/plain": [
       "RandomizedSearchCV(cv=3, estimator=LGBMRegressor(random_state=42), n_iter=100,\n",
       "                   n_jobs=-1,\n",
       "                   param_distributions={'bootstrap': [True, False],\n",
       "                                        'max_depth': [10, 20, 30, 40, 50, 60,\n",
       "                                                      70, 80, 90, 100, 110,\n",
       "                                                      None],\n",
       "                                        'max_features': ['auto', 'sqrt'],\n",
       "                                        'min_samples_leaf': [1, 2, 4],\n",
       "                                        'min_samples_split': [2, 5, 10],\n",
       "                                        'n_estimators': [200, 400, 600, 800,\n",
       "                                                         1000, 1200, 1400, 1600,\n",
       "                                                         1800, 2000]},\n",
       "                   random_state=42, verbose=2)"
      ]
     },
     "execution_count": 11,
     "metadata": {},
     "output_type": "execute_result"
    }
   ],
   "source": [
    "##RANDOM SEARCH TRAINING (https://towardsdatascience.com/hyperparameter-tuning-the-random-forest-in-python-using-scikit-learn-28d2aa77dd74)\n",
    "\n",
    "# Use the random grid to search for best hyperparameters\n",
    "# First create the base model to tune\n",
    "\n",
    "model = lgb.LGBMRegressor(random_state=42)\n",
    "# Random search of parameters, using 3 fold cross validation, \n",
    "# search across 100 different combinations, and use all available cores\n",
    "model_random = RandomizedSearchCV(estimator = model, param_distributions = random_grid, n_iter = 100, cv = 3, verbose=2, random_state=42, n_jobs = -1)\n",
    "# Fit the random search model\n",
    "model_random.fit(X_train, Y_train)"
   ]
  },
  {
   "cell_type": "code",
   "execution_count": 12,
   "id": "31634850",
   "metadata": {
    "execution": {
     "iopub.execute_input": "2022-05-05T13:02:25.691329Z",
     "iopub.status.busy": "2022-05-05T13:02:25.690728Z",
     "iopub.status.idle": "2022-05-05T13:02:25.696052Z",
     "shell.execute_reply": "2022-05-05T13:02:25.696597Z",
     "shell.execute_reply.started": "2022-05-04T14:22:20.101613Z"
    },
    "papermill": {
     "duration": 0.040953,
     "end_time": "2022-05-05T13:02:25.696802",
     "exception": false,
     "start_time": "2022-05-05T13:02:25.655849",
     "status": "completed"
    },
    "tags": []
   },
   "outputs": [
    {
     "data": {
      "text/plain": [
       "{'n_estimators': 200,\n",
       " 'min_samples_split': 5,\n",
       " 'min_samples_leaf': 2,\n",
       " 'max_features': 'auto',\n",
       " 'max_depth': 90,\n",
       " 'bootstrap': False}"
      ]
     },
     "execution_count": 12,
     "metadata": {},
     "output_type": "execute_result"
    }
   ],
   "source": [
    "model_random.best_params_"
   ]
  },
  {
   "cell_type": "code",
   "execution_count": 13,
   "id": "85f9e37d",
   "metadata": {
    "execution": {
     "iopub.execute_input": "2022-05-05T13:02:25.765588Z",
     "iopub.status.busy": "2022-05-05T13:02:25.764959Z",
     "iopub.status.idle": "2022-05-05T13:02:25.858056Z",
     "shell.execute_reply": "2022-05-05T13:02:25.858907Z",
     "shell.execute_reply.started": "2022-05-04T14:23:28.18374Z"
    },
    "papermill": {
     "duration": 0.12936,
     "end_time": "2022-05-05T13:02:25.859125",
     "exception": false,
     "start_time": "2022-05-05T13:02:25.729765",
     "status": "completed"
    },
    "tags": []
   },
   "outputs": [
    {
     "data": {
      "text/html": [
       "<style>#sk-container-id-3 {color: black;background-color: white;}#sk-container-id-3 pre{padding: 0;}#sk-container-id-3 div.sk-toggleable {background-color: white;}#sk-container-id-3 label.sk-toggleable__label {cursor: pointer;display: block;width: 100%;margin-bottom: 0;padding: 0.3em;box-sizing: border-box;text-align: center;}#sk-container-id-3 label.sk-toggleable__label-arrow:before {content: \"▸\";float: left;margin-right: 0.25em;color: #696969;}#sk-container-id-3 label.sk-toggleable__label-arrow:hover:before {color: black;}#sk-container-id-3 div.sk-estimator:hover label.sk-toggleable__label-arrow:before {color: black;}#sk-container-id-3 div.sk-toggleable__content {max-height: 0;max-width: 0;overflow: hidden;text-align: left;background-color: #f0f8ff;}#sk-container-id-3 div.sk-toggleable__content pre {margin: 0.2em;color: black;border-radius: 0.25em;background-color: #f0f8ff;}#sk-container-id-3 input.sk-toggleable__control:checked~div.sk-toggleable__content {max-height: 200px;max-width: 100%;overflow: auto;}#sk-container-id-3 input.sk-toggleable__control:checked~label.sk-toggleable__label-arrow:before {content: \"▾\";}#sk-container-id-3 div.sk-estimator input.sk-toggleable__control:checked~label.sk-toggleable__label {background-color: #d4ebff;}#sk-container-id-3 div.sk-label input.sk-toggleable__control:checked~label.sk-toggleable__label {background-color: #d4ebff;}#sk-container-id-3 input.sk-hidden--visually {border: 0;clip: rect(1px 1px 1px 1px);clip: rect(1px, 1px, 1px, 1px);height: 1px;margin: -1px;overflow: hidden;padding: 0;position: absolute;width: 1px;}#sk-container-id-3 div.sk-estimator {font-family: monospace;background-color: #f0f8ff;border: 1px dotted black;border-radius: 0.25em;box-sizing: border-box;margin-bottom: 0.5em;}#sk-container-id-3 div.sk-estimator:hover {background-color: #d4ebff;}#sk-container-id-3 div.sk-parallel-item::after {content: \"\";width: 100%;border-bottom: 1px solid gray;flex-grow: 1;}#sk-container-id-3 div.sk-label:hover label.sk-toggleable__label {background-color: #d4ebff;}#sk-container-id-3 div.sk-serial::before {content: \"\";position: absolute;border-left: 1px solid gray;box-sizing: border-box;top: 0;bottom: 0;left: 50%;z-index: 0;}#sk-container-id-3 div.sk-serial {display: flex;flex-direction: column;align-items: center;background-color: white;padding-right: 0.2em;padding-left: 0.2em;position: relative;}#sk-container-id-3 div.sk-item {position: relative;z-index: 1;}#sk-container-id-3 div.sk-parallel {display: flex;align-items: stretch;justify-content: center;background-color: white;position: relative;}#sk-container-id-3 div.sk-item::before, #sk-container-id-3 div.sk-parallel-item::before {content: \"\";position: absolute;border-left: 1px solid gray;box-sizing: border-box;top: 0;bottom: 0;left: 50%;z-index: -1;}#sk-container-id-3 div.sk-parallel-item {display: flex;flex-direction: column;z-index: 1;position: relative;background-color: white;}#sk-container-id-3 div.sk-parallel-item:first-child::after {align-self: flex-end;width: 50%;}#sk-container-id-3 div.sk-parallel-item:last-child::after {align-self: flex-start;width: 50%;}#sk-container-id-3 div.sk-parallel-item:only-child::after {width: 0;}#sk-container-id-3 div.sk-dashed-wrapped {border: 1px dashed gray;margin: 0 0.4em 0.5em 0.4em;box-sizing: border-box;padding-bottom: 0.4em;background-color: white;}#sk-container-id-3 div.sk-label label {font-family: monospace;font-weight: bold;display: inline-block;line-height: 1.2em;}#sk-container-id-3 div.sk-label-container {text-align: center;}#sk-container-id-3 div.sk-container {/* jupyter's `normalize.less` sets `[hidden] { display: none; }` but bootstrap.min.css set `[hidden] { display: none !important; }` so we also need the `!important` here to be able to override the default hidden behavior on the sphinx rendered scikit-learn.org. See: https://github.com/scikit-learn/scikit-learn/issues/21755 */display: inline-block !important;position: relative;}#sk-container-id-3 div.sk-text-repr-fallback {display: none;}</style><div id=\"sk-container-id-3\" class=\"sk-top-container\"><div class=\"sk-text-repr-fallback\"><pre>LGBMRegressor(bootstrap=True, max_depth=10, max_features=&#x27;auto&#x27;,\n",
       "              min_samples_leaf=4, min_samples_split=5, n_estimators=200)</pre><b>In a Jupyter environment, please rerun this cell to show the HTML representation or trust the notebook. <br />On GitHub, the HTML representation is unable to render, please try loading this page with nbviewer.org.</b></div><div class=\"sk-container\" hidden><div class=\"sk-item\"><div class=\"sk-estimator sk-toggleable\"><input class=\"sk-toggleable__control sk-hidden--visually\" id=\"sk-estimator-id-5\" type=\"checkbox\" checked><label for=\"sk-estimator-id-5\" class=\"sk-toggleable__label sk-toggleable__label-arrow\">LGBMRegressor</label><div class=\"sk-toggleable__content\"><pre>LGBMRegressor(bootstrap=True, max_depth=10, max_features=&#x27;auto&#x27;,\n",
       "              min_samples_leaf=4, min_samples_split=5, n_estimators=200)</pre></div></div></div></div></div>"
      ],
      "text/plain": [
       "LGBMRegressor(bootstrap=True, max_depth=10, max_features='auto',\n",
       "              min_samples_leaf=4, min_samples_split=5, n_estimators=200)"
      ]
     },
     "execution_count": 13,
     "metadata": {},
     "output_type": "execute_result"
    }
   ],
   "source": [
    "model_hyper = lgb.LGBMRegressor(n_estimators=200, min_samples_split=5, \n",
    "                                 min_samples_leaf=4, max_features='auto',\n",
    "                                max_depth=10, bootstrap=True)\n",
    "\n",
    "# Train the model on training data\n",
    "model_hyper.fit(X_train, Y_train)"
   ]
  },
  {
   "cell_type": "code",
   "execution_count": 14,
   "id": "eeefb12d",
   "metadata": {
    "execution": {
     "iopub.execute_input": "2022-05-05T13:02:25.929759Z",
     "iopub.status.busy": "2022-05-05T13:02:25.929124Z",
     "iopub.status.idle": "2022-05-05T13:02:25.944708Z",
     "shell.execute_reply": "2022-05-05T13:02:25.945352Z",
     "shell.execute_reply.started": "2022-05-04T14:23:32.86341Z"
    },
    "papermill": {
     "duration": 0.051917,
     "end_time": "2022-05-05T13:02:25.945568",
     "exception": false,
     "start_time": "2022-05-05T13:02:25.893651",
     "status": "completed"
    },
    "tags": []
   },
   "outputs": [],
   "source": [
    "##DEFINING ORIGINAL Y-VALUES AND PREDICTED Y-VALUES\n",
    "expected_y_H  = Y_test\n",
    "predicted_y_H = model_hyper.predict(X_test)\n",
    "\n",
    "expected_y_tr_H = Y_train\n",
    "predicted_y_tr_H = model_hyper.predict(X_train)"
   ]
  },
  {
   "cell_type": "code",
   "execution_count": 15,
   "id": "ede303d6",
   "metadata": {
    "execution": {
     "iopub.execute_input": "2022-05-05T13:02:26.024991Z",
     "iopub.status.busy": "2022-05-05T13:02:26.024322Z",
     "iopub.status.idle": "2022-05-05T13:02:26.027891Z",
     "shell.execute_reply": "2022-05-05T13:02:26.028615Z",
     "shell.execute_reply.started": "2022-05-04T14:23:36.942469Z"
    },
    "papermill": {
     "duration": 0.04661,
     "end_time": "2022-05-05T13:02:26.028857",
     "exception": false,
     "start_time": "2022-05-05T13:02:25.982247",
     "status": "completed"
    },
    "tags": []
   },
   "outputs": [
    {
     "name": "stdout",
     "output_type": "stream",
     "text": [
      "RMSE training dataset with hypertuning:  0.08320350821675997\n",
      "RMSE testing dataset with hypertuning:  8.189190420588128\n"
     ]
    }
   ],
   "source": [
    "##RMSE\n",
    "\n",
    "def rmse(predictions, targets):\n",
    "    return np.sqrt(((predictions - targets) ** 2).mean())\n",
    "\n",
    "print('RMSE training dataset with hypertuning: ', rmse(predicted_y_tr_H, expected_y_tr_H))\n",
    "print('RMSE testing dataset with hypertuning: ', rmse(predicted_y_H, expected_y_H))"
   ]
  },
  {
   "cell_type": "code",
   "execution_count": 16,
   "id": "5a377d99",
   "metadata": {
    "execution": {
     "iopub.execute_input": "2022-05-05T13:02:26.102176Z",
     "iopub.status.busy": "2022-05-05T13:02:26.101544Z",
     "iopub.status.idle": "2022-05-05T13:02:26.108343Z",
     "shell.execute_reply": "2022-05-05T13:02:26.108943Z",
     "shell.execute_reply.started": "2022-05-04T14:23:41.520364Z"
    },
    "papermill": {
     "duration": 0.044886,
     "end_time": "2022-05-05T13:02:26.109120",
     "exception": false,
     "start_time": "2022-05-05T13:02:26.064234",
     "status": "completed"
    },
    "tags": []
   },
   "outputs": [
    {
     "name": "stdout",
     "output_type": "stream",
     "text": [
      "R2 score training dataset with hypertuning:  0.9999563297944141\n",
      "R2 score testing dataset with hypertuning:  0.633505186102966\n"
     ]
    }
   ],
   "source": [
    "##R2\n",
    "\n",
    "from sklearn.metrics import r2_score\n",
    "print('R2 score training dataset with hypertuning: ', r2_score(expected_y_tr_H, predicted_y_tr_H))\n",
    "print('R2 score testing dataset with hypertuning: ', r2_score(expected_y_H, predicted_y_H))"
   ]
  },
  {
   "cell_type": "code",
   "execution_count": 17,
   "id": "b520f62e",
   "metadata": {
    "execution": {
     "iopub.execute_input": "2022-05-05T13:02:26.180425Z",
     "iopub.status.busy": "2022-05-05T13:02:26.179768Z",
     "iopub.status.idle": "2022-05-05T13:02:26.187049Z",
     "shell.execute_reply": "2022-05-05T13:02:26.187639Z",
     "shell.execute_reply.started": "2022-05-04T14:24:06.937294Z"
    },
    "papermill": {
     "duration": 0.044636,
     "end_time": "2022-05-05T13:02:26.187842",
     "exception": false,
     "start_time": "2022-05-05T13:02:26.143206",
     "status": "completed"
    },
    "tags": []
   },
   "outputs": [
    {
     "name": "stdout",
     "output_type": "stream",
     "text": [
      "MAE training dataset with hypertuning:  0.05304068860180971\n",
      "MAE testing dataset with hypertuning:  5.681613298016954\n"
     ]
    }
   ],
   "source": [
    "##MEAN ABSOLUTE ERROR \n",
    "from sklearn.metrics import mean_absolute_error\n",
    "print('MAE training dataset with hypertuning: ', mean_absolute_error(expected_y_tr_H, predicted_y_tr_H))\n",
    "print('MAE testing dataset with hypertuning: ', mean_absolute_error(expected_y_H, predicted_y_H))"
   ]
  },
  {
   "cell_type": "code",
   "execution_count": 18,
   "id": "b06c14bc",
   "metadata": {
    "execution": {
     "iopub.execute_input": "2022-05-05T13:02:26.259868Z",
     "iopub.status.busy": "2022-05-05T13:02:26.259211Z",
     "iopub.status.idle": "2022-05-05T13:02:26.264592Z",
     "shell.execute_reply": "2022-05-05T13:02:26.265186Z",
     "shell.execute_reply.started": "2022-05-04T14:24:49.055632Z"
    },
    "papermill": {
     "duration": 0.043151,
     "end_time": "2022-05-05T13:02:26.265359",
     "exception": false,
     "start_time": "2022-05-05T13:02:26.222208",
     "status": "completed"
    },
    "tags": []
   },
   "outputs": [],
   "source": [
    "from sklearn.model_selection import GridSearchCV\n",
    "# Create the parameter grid based on the results of random search \n",
    "param_grid = {\n",
    "    'bootstrap': [True],\n",
    "    'max_depth': [80, 90, 100, 110],\n",
    "    'max_features': [2, 3],\n",
    "    'min_samples_leaf': [3, 4, 5],\n",
    "    'min_samples_split': [8, 10, 12],\n",
    "    'n_estimators': [100, 200, 300, 1000]\n",
    "}\n",
    "# Create a based model\n",
    "model = lgb.LGBMRegressor(random_state=42)\n",
    "# Instantiate the grid search model\n",
    "grid_search = GridSearchCV(estimator = model, param_grid = param_grid, \n",
    "                          cv = 3, n_jobs = -1, verbose = 2)"
   ]
  },
  {
   "cell_type": "code",
   "execution_count": 19,
   "id": "118eddb1",
   "metadata": {
    "execution": {
     "iopub.execute_input": "2022-05-05T13:02:26.336683Z",
     "iopub.status.busy": "2022-05-05T13:02:26.336028Z",
     "iopub.status.idle": "2022-05-05T13:03:06.737813Z",
     "shell.execute_reply": "2022-05-05T13:03:06.738936Z",
     "shell.execute_reply.started": "2022-05-04T14:24:53.2019Z"
    },
    "papermill": {
     "duration": 40.439527,
     "end_time": "2022-05-05T13:03:06.739175",
     "exception": false,
     "start_time": "2022-05-05T13:02:26.299648",
     "status": "completed"
    },
    "tags": []
   },
   "outputs": [
    {
     "name": "stdout",
     "output_type": "stream",
     "text": [
      "Fitting 3 folds for each of 288 candidates, totalling 864 fits\n",
      "[LightGBM] [Warning] Unknown parameter: bootstrap\n",
      "[LightGBM] [Warning] Unknown parameter: max_features\n",
      "[LightGBM] [Warning] min_data_in_leaf is set with min_child_samples=20, will be overridden by min_samples_leaf=4. Current value: min_data_in_leaf=4\n",
      "[LightGBM] [Warning] Unknown parameter: min_samples_split\n"
     ]
    },
    {
     "data": {
      "text/plain": [
       "{'bootstrap': True,\n",
       " 'max_depth': 80,\n",
       " 'max_features': 2,\n",
       " 'min_samples_leaf': 4,\n",
       " 'min_samples_split': 8,\n",
       " 'n_estimators': 100}"
      ]
     },
     "execution_count": 19,
     "metadata": {},
     "output_type": "execute_result"
    }
   ],
   "source": [
    "# Fit the grid search to the data\n",
    "grid_search.fit(X_train, Y_train)\n",
    "grid_search.best_params_"
   ]
  },
  {
   "cell_type": "code",
   "execution_count": 20,
   "id": "0c2107fc",
   "metadata": {
    "execution": {
     "iopub.execute_input": "2022-05-05T13:03:06.816634Z",
     "iopub.status.busy": "2022-05-05T13:03:06.816006Z",
     "iopub.status.idle": "2022-05-05T13:03:06.873079Z",
     "shell.execute_reply": "2022-05-05T13:03:06.873985Z",
     "shell.execute_reply.started": "2022-05-04T14:28:07.271735Z"
    },
    "papermill": {
     "duration": 0.096979,
     "end_time": "2022-05-05T13:03:06.874189",
     "exception": false,
     "start_time": "2022-05-05T13:03:06.777210",
     "status": "completed"
    },
    "tags": []
   },
   "outputs": [
    {
     "data": {
      "text/html": [
       "<style>#sk-container-id-4 {color: black;background-color: white;}#sk-container-id-4 pre{padding: 0;}#sk-container-id-4 div.sk-toggleable {background-color: white;}#sk-container-id-4 label.sk-toggleable__label {cursor: pointer;display: block;width: 100%;margin-bottom: 0;padding: 0.3em;box-sizing: border-box;text-align: center;}#sk-container-id-4 label.sk-toggleable__label-arrow:before {content: \"▸\";float: left;margin-right: 0.25em;color: #696969;}#sk-container-id-4 label.sk-toggleable__label-arrow:hover:before {color: black;}#sk-container-id-4 div.sk-estimator:hover label.sk-toggleable__label-arrow:before {color: black;}#sk-container-id-4 div.sk-toggleable__content {max-height: 0;max-width: 0;overflow: hidden;text-align: left;background-color: #f0f8ff;}#sk-container-id-4 div.sk-toggleable__content pre {margin: 0.2em;color: black;border-radius: 0.25em;background-color: #f0f8ff;}#sk-container-id-4 input.sk-toggleable__control:checked~div.sk-toggleable__content {max-height: 200px;max-width: 100%;overflow: auto;}#sk-container-id-4 input.sk-toggleable__control:checked~label.sk-toggleable__label-arrow:before {content: \"▾\";}#sk-container-id-4 div.sk-estimator input.sk-toggleable__control:checked~label.sk-toggleable__label {background-color: #d4ebff;}#sk-container-id-4 div.sk-label input.sk-toggleable__control:checked~label.sk-toggleable__label {background-color: #d4ebff;}#sk-container-id-4 input.sk-hidden--visually {border: 0;clip: rect(1px 1px 1px 1px);clip: rect(1px, 1px, 1px, 1px);height: 1px;margin: -1px;overflow: hidden;padding: 0;position: absolute;width: 1px;}#sk-container-id-4 div.sk-estimator {font-family: monospace;background-color: #f0f8ff;border: 1px dotted black;border-radius: 0.25em;box-sizing: border-box;margin-bottom: 0.5em;}#sk-container-id-4 div.sk-estimator:hover {background-color: #d4ebff;}#sk-container-id-4 div.sk-parallel-item::after {content: \"\";width: 100%;border-bottom: 1px solid gray;flex-grow: 1;}#sk-container-id-4 div.sk-label:hover label.sk-toggleable__label {background-color: #d4ebff;}#sk-container-id-4 div.sk-serial::before {content: \"\";position: absolute;border-left: 1px solid gray;box-sizing: border-box;top: 0;bottom: 0;left: 50%;z-index: 0;}#sk-container-id-4 div.sk-serial {display: flex;flex-direction: column;align-items: center;background-color: white;padding-right: 0.2em;padding-left: 0.2em;position: relative;}#sk-container-id-4 div.sk-item {position: relative;z-index: 1;}#sk-container-id-4 div.sk-parallel {display: flex;align-items: stretch;justify-content: center;background-color: white;position: relative;}#sk-container-id-4 div.sk-item::before, #sk-container-id-4 div.sk-parallel-item::before {content: \"\";position: absolute;border-left: 1px solid gray;box-sizing: border-box;top: 0;bottom: 0;left: 50%;z-index: -1;}#sk-container-id-4 div.sk-parallel-item {display: flex;flex-direction: column;z-index: 1;position: relative;background-color: white;}#sk-container-id-4 div.sk-parallel-item:first-child::after {align-self: flex-end;width: 50%;}#sk-container-id-4 div.sk-parallel-item:last-child::after {align-self: flex-start;width: 50%;}#sk-container-id-4 div.sk-parallel-item:only-child::after {width: 0;}#sk-container-id-4 div.sk-dashed-wrapped {border: 1px dashed gray;margin: 0 0.4em 0.5em 0.4em;box-sizing: border-box;padding-bottom: 0.4em;background-color: white;}#sk-container-id-4 div.sk-label label {font-family: monospace;font-weight: bold;display: inline-block;line-height: 1.2em;}#sk-container-id-4 div.sk-label-container {text-align: center;}#sk-container-id-4 div.sk-container {/* jupyter's `normalize.less` sets `[hidden] { display: none; }` but bootstrap.min.css set `[hidden] { display: none !important; }` so we also need the `!important` here to be able to override the default hidden behavior on the sphinx rendered scikit-learn.org. See: https://github.com/scikit-learn/scikit-learn/issues/21755 */display: inline-block !important;position: relative;}#sk-container-id-4 div.sk-text-repr-fallback {display: none;}</style><div id=\"sk-container-id-4\" class=\"sk-top-container\"><div class=\"sk-text-repr-fallback\"><pre>LGBMRegressor(bootstrap=True, max_depth=80, max_features=2, min_samples_leaf=3,\n",
       "              min_samples_split=8, random_state=42)</pre><b>In a Jupyter environment, please rerun this cell to show the HTML representation or trust the notebook. <br />On GitHub, the HTML representation is unable to render, please try loading this page with nbviewer.org.</b></div><div class=\"sk-container\" hidden><div class=\"sk-item\"><div class=\"sk-estimator sk-toggleable\"><input class=\"sk-toggleable__control sk-hidden--visually\" id=\"sk-estimator-id-6\" type=\"checkbox\" checked><label for=\"sk-estimator-id-6\" class=\"sk-toggleable__label sk-toggleable__label-arrow\">LGBMRegressor</label><div class=\"sk-toggleable__content\"><pre>LGBMRegressor(bootstrap=True, max_depth=80, max_features=2, min_samples_leaf=3,\n",
       "              min_samples_split=8, random_state=42)</pre></div></div></div></div></div>"
      ],
      "text/plain": [
       "LGBMRegressor(bootstrap=True, max_depth=80, max_features=2, min_samples_leaf=3,\n",
       "              min_samples_split=8, random_state=42)"
      ]
     },
     "execution_count": 20,
     "metadata": {},
     "output_type": "execute_result"
    }
   ],
   "source": [
    "from sklearn.model_selection import GridSearchCV\n",
    "\n",
    "\n",
    "# Create best grid model\n",
    "model_grid = lgb.LGBMRegressor(random_state=42, bootstrap=True, max_depth=80, max_features=2, \n",
    "                         min_samples_leaf=3, min_samples_split=8, n_estimators=100)\n",
    "model_grid.fit(X_train, Y_train)"
   ]
  },
  {
   "cell_type": "code",
   "execution_count": 21,
   "id": "fee94d5e",
   "metadata": {
    "execution": {
     "iopub.execute_input": "2022-05-05T13:03:06.952489Z",
     "iopub.status.busy": "2022-05-05T13:03:06.951882Z",
     "iopub.status.idle": "2022-05-05T13:03:06.962852Z",
     "shell.execute_reply": "2022-05-05T13:03:06.963474Z",
     "shell.execute_reply.started": "2022-05-04T14:28:10.101208Z"
    },
    "papermill": {
     "duration": 0.051312,
     "end_time": "2022-05-05T13:03:06.963695",
     "exception": false,
     "start_time": "2022-05-05T13:03:06.912383",
     "status": "completed"
    },
    "tags": []
   },
   "outputs": [],
   "source": [
    "##DEFINING ORIGINAL Y-VALUES AND PREDICTED Y-VALUES (FOR TESTING DATASET)\n",
    "expected_ygrid  = Y_test\n",
    "predicted_ygrid = model_grid.predict(X_test) #Predicting the test set results using the random forest regressor model"
   ]
  },
  {
   "cell_type": "code",
   "execution_count": 22,
   "id": "7e79606c",
   "metadata": {
    "execution": {
     "iopub.execute_input": "2022-05-05T13:03:07.047956Z",
     "iopub.status.busy": "2022-05-05T13:03:07.047070Z",
     "iopub.status.idle": "2022-05-05T13:03:07.052852Z",
     "shell.execute_reply": "2022-05-05T13:03:07.053502Z",
     "shell.execute_reply.started": "2022-05-04T14:28:12.380957Z"
    },
    "papermill": {
     "duration": 0.049899,
     "end_time": "2022-05-05T13:03:07.053736",
     "exception": false,
     "start_time": "2022-05-05T13:03:07.003837",
     "status": "completed"
    },
    "tags": []
   },
   "outputs": [],
   "source": [
    "##DEFINING ORIGINAL Y-VALUES AND PREDICTED Y-VALUES (FOR TRAINING DATASET)\n",
    "\n",
    "expected_y_tr_grid = Y_train\n",
    "predicted_y_tr_grid = model_grid.predict(X_train)\n",
    "# print(expected_y_tr, predicted_y_tr)"
   ]
  },
  {
   "cell_type": "code",
   "execution_count": 23,
   "id": "69240854",
   "metadata": {
    "execution": {
     "iopub.execute_input": "2022-05-05T13:03:07.139540Z",
     "iopub.status.busy": "2022-05-05T13:03:07.138839Z",
     "iopub.status.idle": "2022-05-05T13:03:07.143514Z",
     "shell.execute_reply": "2022-05-05T13:03:07.144388Z",
     "shell.execute_reply.started": "2022-05-04T14:28:14.166646Z"
    },
    "papermill": {
     "duration": 0.04941,
     "end_time": "2022-05-05T13:03:07.144630",
     "exception": false,
     "start_time": "2022-05-05T13:03:07.095220",
     "status": "completed"
    },
    "tags": []
   },
   "outputs": [
    {
     "name": "stdout",
     "output_type": "stream",
     "text": [
      "training rmse:  0.24104046526847886\n",
      "testing rmse:  8.245471519179588\n"
     ]
    }
   ],
   "source": [
    "##RMSE - TRAIN\n",
    "\n",
    "def rmse(predictions, targets):\n",
    "    return np.sqrt(((predictions - targets) ** 2).mean())\n",
    "\n",
    "print(\"training rmse: \", rmse(predicted_y_tr_grid, expected_y_tr_grid))\n",
    "print(\"testing rmse: \", rmse(predicted_ygrid, Y_test))"
   ]
  },
  {
   "cell_type": "code",
   "execution_count": 24,
   "id": "7c755fd4",
   "metadata": {
    "execution": {
     "iopub.execute_input": "2022-05-05T13:03:07.223040Z",
     "iopub.status.busy": "2022-05-05T13:03:07.222380Z",
     "iopub.status.idle": "2022-05-05T13:03:07.230964Z",
     "shell.execute_reply": "2022-05-05T13:03:07.230429Z",
     "shell.execute_reply.started": "2022-05-04T14:28:24.467984Z"
    },
    "papermill": {
     "duration": 0.048569,
     "end_time": "2022-05-05T13:03:07.231106",
     "exception": false,
     "start_time": "2022-05-05T13:03:07.182537",
     "status": "completed"
    },
    "tags": []
   },
   "outputs": [
    {
     "name": "stdout",
     "output_type": "stream",
     "text": [
      "R2 score training data:  0.9996334933376974\n",
      "R2 score testing data:  0.628450324898779\n"
     ]
    }
   ],
   "source": [
    "##R2\n",
    "\n",
    "from sklearn.metrics import r2_score\n",
    "print(\"R2 score training data: \", r2_score(expected_y_tr_grid, predicted_y_tr_grid))\n",
    "print(\"R2 score testing data: \", r2_score(Y_test, predicted_ygrid))"
   ]
  },
  {
   "cell_type": "code",
   "execution_count": 25,
   "id": "c8ca923a",
   "metadata": {
    "execution": {
     "iopub.execute_input": "2022-05-05T13:03:07.309321Z",
     "iopub.status.busy": "2022-05-05T13:03:07.308712Z",
     "iopub.status.idle": "2022-05-05T13:03:07.316261Z",
     "shell.execute_reply": "2022-05-05T13:03:07.315596Z",
     "shell.execute_reply.started": "2022-05-04T14:28:34.980478Z"
    },
    "papermill": {
     "duration": 0.047843,
     "end_time": "2022-05-05T13:03:07.316400",
     "exception": false,
     "start_time": "2022-05-05T13:03:07.268557",
     "status": "completed"
    },
    "tags": []
   },
   "outputs": [
    {
     "name": "stdout",
     "output_type": "stream",
     "text": [
      "MAE training data:  0.18001229666706053\n",
      "MAE testing data:  5.58636134407224\n"
     ]
    }
   ],
   "source": [
    "##MEAN ABSOLUTE ERROR \n",
    "from sklearn.metrics import mean_absolute_error\n",
    "print(\"MAE training data: \", mean_absolute_error(expected_y_tr_grid, predicted_y_tr_grid))\n",
    "print(\"MAE testing data: \", mean_absolute_error(expected_ygrid, predicted_ygrid))"
   ]
  }
 ],
 "metadata": {
  "kernelspec": {
   "display_name": "python testing environment",
   "language": "python",
   "name": "venv"
  },
  "language_info": {
   "codemirror_mode": {
    "name": "ipython",
    "version": 3
   },
   "file_extension": ".py",
   "mimetype": "text/x-python",
   "name": "python",
   "nbconvert_exporter": "python",
   "pygments_lexer": "ipython3",
   "version": "3.9.13"
  },
  "papermill": {
   "default_parameters": {},
   "duration": 101.905458,
   "end_time": "2022-05-05T13:03:09.089954",
   "environment_variables": {},
   "exception": null,
   "input_path": "__notebook__.ipynb",
   "output_path": "__notebook__.ipynb",
   "parameters": {},
   "start_time": "2022-05-05T13:01:27.184496",
   "version": "2.3.3"
  }
 },
 "nbformat": 4,
 "nbformat_minor": 5
}
